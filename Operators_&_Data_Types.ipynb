{
  "cells": [
    {
      "cell_type": "markdown",
      "metadata": {
        "id": "view-in-github",
        "colab_type": "text"
      },
      "source": [
        "<a href=\"https://colab.research.google.com/github/Prathima-tr/Problem-Solving-and-Programming/blob/main/Operators_%26_Data_Types.ipynb\" target=\"_parent\"><img src=\"https://colab.research.google.com/assets/colab-badge.svg\" alt=\"Open In Colab\"/></a>"
      ]
    },
    {
      "cell_type": "markdown",
      "source": [
        "Yashwanth Kanetkar, \"Let us python\", 3rd Edition, BPB Publication"
      ],
      "metadata": {
        "id": "hYQyVoYMbw40"
      }
    },
    {
      "cell_type": "code",
      "source": [
        "#arithmetic operators\n",
        "a=5\n",
        "b=2\n",
        "print(\"Addition: \", a+b)\n",
        "print(\"Subtraction: \", a-b)\n",
        "print(\"Multiplication: \", a*b)\n",
        "print(\"Division \", a/b)\n",
        "print(\"Mod \", a%b)                 #Operation a % b is evaluated as a - (b * (a // b))\n",
        "print(\"Floor division\", a//b)\n",
        "print(\"exponentiation\", a**b)"
      ],
      "metadata": {
        "colab": {
          "base_uri": "https://localhost:8080/"
        },
        "id": "RKFSyJRIQUgH",
        "outputId": "adacd23e-8d44-4547-d6f4-307f766d0d4e"
      },
      "execution_count": null,
      "outputs": [
        {
          "output_type": "stream",
          "name": "stdout",
          "text": [
            "Addition:  7\n",
            "Subtraction:  3\n",
            "Multiplication:  10\n",
            "Division  2.5\n",
            "Mod  1\n",
            "Floor division 2\n",
            "exponentiation 25\n"
          ]
        }
      ]
    },
    {
      "cell_type": "code",
      "source": [
        "-10//3"
      ],
      "metadata": {
        "colab": {
          "base_uri": "https://localhost:8080/"
        },
        "id": "Lt9-_eQnWJkp",
        "outputId": "604e5df2-8a01-445f-88a8-b3405970515a"
      },
      "execution_count": null,
      "outputs": [
        {
          "output_type": "execute_result",
          "data": {
            "text/plain": [
              "-4"
            ]
          },
          "metadata": {},
          "execution_count": 1
        }
      ]
    },
    {
      "cell_type": "code",
      "source": [
        "#a % b is evaluated as a - (b * (a // b)),\n",
        "print(-10 % 3) #is evaluated as -10 - (3 * (-10 // 3)), which yields 2\n",
        "print(10 % -3) #is evaluated as 10 - (-3 * (10 // -3)), which yields -2\n",
        "print(-10 % -3) #is evaluated as -10 - (-3 * (-10 // -3)), which yields -1\n"
      ],
      "metadata": {
        "colab": {
          "base_uri": "https://localhost:8080/"
        },
        "id": "ZEpKVwxqd0Ad",
        "outputId": "3cd1952b-2eec-4cbe-98fc-100d614fc1a1"
      },
      "execution_count": null,
      "outputs": [
        {
          "output_type": "stream",
          "name": "stdout",
          "text": [
            "2\n",
            "-2\n",
            "-1\n"
          ]
        }
      ]
    },
    {
      "cell_type": "code",
      "source": [
        "#True is 1 and False is 0, they can be added.\n",
        "a = True + True\n",
        "b = True + False\n",
        "print(\"a is \",a)\n",
        "print(\"b is \",b)"
      ],
      "metadata": {
        "colab": {
          "base_uri": "https://localhost:8080/"
        },
        "id": "MAGbwjY4eIHH",
        "outputId": "91db9ce3-3cff-4583-b324-7f0115c4e97c"
      },
      "execution_count": null,
      "outputs": [
        {
          "output_type": "stream",
          "name": "stdout",
          "text": [
            "a is  2\n",
            "b is  1\n"
          ]
        }
      ]
    },
    {
      "cell_type": "code",
      "source": [
        "#In-place assignment operators offer a good shortcut for arithmetic operations.\n",
        "#These include += -= *= /= %= //= **=.\n",
        "a **= 3             #similar to a = a**3\n",
        "b %= 10             #similar to b = b%3\n"
      ],
      "metadata": {
        "id": "qs3FKBBmdNFa"
      },
      "execution_count": null,
      "outputs": []
    },
    {
      "cell_type": "code",
      "source": [
        "#On performing floor division a // b, result is the largest integer which is\n",
        "#less than or equal to the quotient. // is called floor division operator.\n",
        "print(10 // 3)\t# yields 3\n",
        "print(-10 // 3)\t# yields -4\n",
        "print(10 // -3)\t# yields -4\n",
        "print(-10 // -3)\t# yields 3\n",
        "print(3 // 10)\t# yields 0\n",
        "print(3 // -10)\t# yields -1\n",
        "print(-3 // 10)\t# yields -1\n",
        "print(-3 // -10)\t# yields 0"
      ],
      "metadata": {
        "colab": {
          "base_uri": "https://localhost:8080/"
        },
        "id": "gD_b_SGLddE1",
        "outputId": "3b9f2d12-e4b5-44bd-a5bb-46b162405c05"
      },
      "execution_count": null,
      "outputs": [
        {
          "output_type": "stream",
          "name": "stdout",
          "text": [
            "3\n",
            "-4\n",
            "-4\n",
            "3\n",
            "0\n",
            "-1\n",
            "-1\n",
            "0\n"
          ]
        }
      ]
    },
    {
      "cell_type": "code",
      "source": [
        "#Python is a case sensitive language.\n",
        "#Python identifier is a name used to identify a variable, function, class, module, or other object.\n",
        "# Rules for creating identifiers:\n",
        "#- Starts with alphabet or an underscore.\n",
        "#- Followed by zero or more letters, _, and digits.\n",
        "#- keyword cannot be used as identifier.\n",
        "\n",
        "#You can print a list of Python keywords through the statements:\n",
        "import keyword\n",
        "#makes the module 'keyword' available\n",
        "print(keyword.kwlist)\n",
        "# syntax - modulename.object/function\n",
        "#Keywords are in lowercase"
      ],
      "metadata": {
        "colab": {
          "base_uri": "https://localhost:8080/"
        },
        "id": "41msgrFvUBbj",
        "outputId": "b07264e4-9335-427d-f7e0-da2ae1b9785f"
      },
      "execution_count": null,
      "outputs": [
        {
          "output_type": "stream",
          "name": "stdout",
          "text": [
            "['False', 'None', 'True', 'and', 'as', 'assert', 'async', 'await', 'break', 'class', 'continue', 'def', 'del', 'elif', 'else', 'except', 'finally', 'for', 'from', 'global', 'if', 'import', 'in', 'is', 'lambda', 'nonlocal', 'not', 'or', 'pass', 'raise', 'return', 'try', 'while', 'with', 'yield']\n"
          ]
        }
      ]
    },
    {
      "cell_type": "code",
      "source": [
        "#Relational operators - Outcome of applying relational expression is always Boolean\n",
        "print (\"Greater than - \", 10>10)\n",
        "print (\"Less than - \", 10<2)\n",
        "print (\"Greater than or equal to  \", 10>=10)\n",
        "c = 90\n",
        "d=100\n",
        "print (\"Less than or equal to - \", c<=d)\n",
        "print (\"Not equal to - \", c!=d)\n",
        "print (\"equal to - \", \"CBIT\"==\"cbit\")\n",
        "\n",
        "#print (if 9%3 ==0 )\n",
        "\n",
        "t = 9%3 ==0\n",
        "print(t)"
      ],
      "metadata": {
        "colab": {
          "base_uri": "https://localhost:8080/"
        },
        "id": "G6WAsP9cQ3Y3",
        "outputId": "682effca-3dcc-45ce-973b-e04361cf0c81"
      },
      "execution_count": null,
      "outputs": [
        {
          "output_type": "stream",
          "name": "stdout",
          "text": [
            "Greater than -  False\n",
            "Less than -  False\n",
            "Greater than or equal to   True\n",
            "Less than or equal to -  True\n",
            "Not equal to -  True\n",
            "equal to -  False\n"
          ]
        }
      ]
    },
    {
      "cell_type": "code",
      "source": [
        "#Logical Operators\n",
        "#More complex decision making can be done using logical operators and, or and not.\n",
        "#Conditions can be combined using and and or as shown below:\n",
        "#cond1 and cond2 - returns True if both are True, otherwise False cond1 or cond2\n",
        "#- returns True if one of them is True, otherwise False\n",
        "#Strictly speaking, we need not always combine only conditions with and/or.\n",
        "#We can use any valid expression in place of conditions.\n",
        "#Hence when used with expressions we may not get True/False.\n",
        "#and operator evaluates ALL expressions. It returns last expression\n",
        "#if all expressions evaluate to True.\n",
        "#Otherwise it returns first value that evaluates to False.\n",
        "\n",
        "a = 40\n",
        "b = 30\n",
        "x = 75 and a >= 20 and b < 60 and 35              # assigns 35 to x\n",
        "\n",
        "print(x)\n",
        "\n",
        "y = -30 and a >= 20 and b < 15 and 35\n",
        "#-30 and True and False and 35\n",
        "z = -30 and a >= 20 and 0 and 35\n",
        "\n",
        "print(\"y=\", y, \"z=\", z)"
      ],
      "metadata": {
        "colab": {
          "base_uri": "https://localhost:8080/"
        },
        "id": "nj4wRdv9R64g",
        "outputId": "40f9d7ee-adf0-4cbe-e4ee-40fa66bac3e0"
      },
      "execution_count": null,
      "outputs": [
        {
          "output_type": "stream",
          "name": "stdout",
          "text": [
            "35\n",
            "y= False z= 0\n"
          ]
        }
      ]
    },
    {
      "cell_type": "code",
      "source": [
        "0 and \"CBIT\""
      ],
      "metadata": {
        "colab": {
          "base_uri": "https://localhost:8080/"
        },
        "id": "ZJdB72oNcGz4",
        "outputId": "cf93ad90-3950-4a78-b196-b4fc576179b9"
      },
      "execution_count": null,
      "outputs": [
        {
          "output_type": "execute_result",
          "data": {
            "text/plain": [
              "0"
            ]
          },
          "metadata": {},
          "execution_count": 8
        }
      ]
    },
    {
      "cell_type": "code",
      "source": [
        "#or operator evaluates ALL expressions and returns the first value that evaluates to True.\n",
        "#Otherwise it returns last value that evaluates to False.\n",
        "a = 40\n",
        "b = 30\n",
        "x = 75 or a >= 20 or 60\n",
        "y = a >= 20 or 75 or 60\n",
        "z = a < 20 or 0 or 35\n",
        "\n",
        "print(\"x=\",x,\"y=\", y, \"z=\", z)"
      ],
      "metadata": {
        "colab": {
          "base_uri": "https://localhost:8080/"
        },
        "id": "JET1SX9Nfb-D",
        "outputId": "39db64ad-9af8-413f-d625-27c717aa6969"
      },
      "execution_count": null,
      "outputs": [
        {
          "output_type": "stream",
          "name": "stdout",
          "text": [
            "x= 75 y= True z= 35\n"
          ]
        }
      ]
    },
    {
      "cell_type": "code",
      "source": [
        "#all( ) and any( )\n",
        "#Instead of using the and and or logical operators, we can use the built-in functions\n",
        "#all( ) and any( ) to get the same effect. Their usage is shown in the following program:\n",
        "\n",
        "a, b, c = 10, 20, 30\n",
        "res = all((a > 5, b > 20, c > 15))\n",
        "print(res)\t# prints False, as second condition is False\n",
        "res = any((a > 5, b > 20, c > 15))\n",
        "print(res)\t# prints True since one of the condition is True\n",
        "\n",
        "#Note that all( ) and any( ) both receive a single parameter of the type string, list, tuple, set or dictionary.\n",
        "#We have passed a tuple of 3 conditions to them. If argument is a dictionary it is checked whether the keys are true or not.\n",
        "#any( ) function returns True if at least one element of its parameter is True.\n",
        "#all( ) function returns True if all elements of its parameter are True"
      ],
      "metadata": {
        "colab": {
          "base_uri": "https://localhost:8080/"
        },
        "id": "UtiX4ZpUhEv3",
        "outputId": "e8693bf7-b951-4477-cce3-d94b5bb92ef3"
      },
      "execution_count": null,
      "outputs": [
        {
          "output_type": "stream",
          "name": "stdout",
          "text": [
            "False\n",
            "True\n"
          ]
        }
      ]
    },
    {
      "cell_type": "code",
      "source": [
        "#Condition’s result can be negated using not.\n",
        "a = 10\n",
        "b = 20\n",
        "print(not (a <= b) )\n",
        "print(not (a >= b))\n",
        "\n",
        "a = input('Enter 0 or 1')\n",
        "a = not a                ## set a to 0 if it is 1, and set it to 1 if it is 0\n",
        "print(a)\n",
        "\n",
        "a = not b                #does not change value of b.\n",
        "\n",
        "#If an operator needs only 1 operand it is known as Unary operator.\n",
        "#If it needs two, then it is a binary operator.\n",
        "#not - needs only 1 operand, so unary operator\n",
        "#+, -, <, >, and, or, etc. - need 2 operands, so binary operators\n",
        "\n"
      ],
      "metadata": {
        "colab": {
          "base_uri": "https://localhost:8080/"
        },
        "id": "jFdILY3XfooC",
        "outputId": "eca32468-7952-4910-9177-e95986e8e7e0"
      },
      "execution_count": null,
      "outputs": [
        {
          "output_type": "stream",
          "name": "stdout",
          "text": [
            "False\n",
            "True\n"
          ]
        }
      ]
    },
    {
      "cell_type": "code",
      "source": [
        "a = 10\n",
        "b = 20\n",
        "print(not (a <= b) )"
      ],
      "metadata": {
        "id": "fyGwTnIXkR5Q",
        "outputId": "4b9e645d-c704-4e19-c08f-bb219c99d5e6",
        "colab": {
          "base_uri": "https://localhost:8080/"
        }
      },
      "execution_count": null,
      "outputs": [
        {
          "output_type": "stream",
          "name": "stdout",
          "text": [
            "False\n"
          ]
        }
      ]
    },
    {
      "cell_type": "code",
      "source": [
        "#Conditional Expressions\n",
        "#Python supports one additional decision-making entity called a conditional expression.\n",
        "\n",
        "#<expr1> if <conditional expression> else <expr2>\n",
        "\n",
        "#<conditional expression> is evaluated first. If it is true, the expression evaluates to <expr1>.\n",
        "#If it is false, the expression evaluates to <expr2>.\n",
        "\n",
        "#\tExamples of condition expressions:\n",
        "\n",
        "age = 15\n",
        "status = 'minor' if age < 18 else 'adult'\t# sets minor\n",
        "sunny = False\n",
        "print('Lets go to the', 'beach'if sunny else 'room')\n",
        "humidity = 76.8\n",
        "setting = 25 if humidity > 75 else 28\t# sets 25\n",
        "\n"
      ],
      "metadata": {
        "colab": {
          "base_uri": "https://localhost:8080/"
        },
        "id": "_YneI2N3gP08",
        "outputId": "e3f85417-2037-420b-a93a-b4a26cfcc17e"
      },
      "execution_count": null,
      "outputs": [
        {
          "output_type": "stream",
          "name": "stdout",
          "text": [
            "Lets go to the room\n"
          ]
        }
      ]
    },
    {
      "cell_type": "code",
      "source": [
        "#Conditional expressions can be nested\n",
        "# assigns Prim\n",
        "wt = 55\n",
        "msg = 'Obese' if wt > 85 else 'Hefty' if wt > 60 else 'Prim'\n",
        "print(msg)"
      ],
      "metadata": {
        "colab": {
          "base_uri": "https://localhost:8080/"
        },
        "id": "IEQbu2ZugxHl",
        "outputId": "a09b86db-7581-4da1-9f46-f562f73128b9"
      },
      "execution_count": null,
      "outputs": [
        {
          "output_type": "stream",
          "name": "stdout",
          "text": [
            "Prim\n"
          ]
        }
      ]
    },
    {
      "cell_type": "code",
      "source": [
        "#Python supports 3 categories of data types:\n",
        "#Basic types - int, float, complex, bool, string, bytes Container types - list, tuple, set, dict\n",
        "#User-defined types - class"
      ],
      "metadata": {
        "id": "ETyoXkAXVEmz"
      },
      "execution_count": null,
      "outputs": []
    },
    {
      "cell_type": "code",
      "source": [
        "#Basic Types\n",
        "# int can be expressed in binary, decimal, octal, hexadecimal\n",
        "# binary starts with 0b/0B, octal with 0o/0O, hex with 0x/0X 0b10111, 156, 0o432, 0x4A3\n",
        "# float can be expressed in fractional or exponential form - 314.1528, 3.141528e2, 3.141528E2\n",
        "# complex contains real and imaginary part 3 + 2j, 1 + 4J\n",
        "# bool can take any of the two Boolean values both starting in caps True, False\n",
        "# string is an immutable collection of Unicode characters enclosed\n",
        "# within ' ', \" \" or \"\"\" \"\"\" - 'Razzmatazz', \"Razzmatazz\", \"\"\"Razzmatazz\"\"\"\n"
      ],
      "metadata": {
        "id": "Lqjkui0rVcEm"
      },
      "execution_count": null,
      "outputs": []
    },
    {
      "cell_type": "code",
      "source": [
        "#\tint can be of any arbitrary size\n",
        "a = 123\n",
        "b = 1234567890\n",
        "c = 123456789012345678901234567890\n",
        "#Python has arbitrary precision integers. Hence you can create as big integers as you want.\n",
        "#Moreover, arithmetic operations can be performed on integers without worrying about overflow/underflow\n",
        "print(\"a=\",a, \"b=\", b, \"c=\",c)\n",
        "\n"
      ],
      "metadata": {
        "id": "R4lNrF_Kb1jF"
      },
      "execution_count": null,
      "outputs": []
    },
    {
      "cell_type": "code",
      "source": [
        "#Variable Type and Assignment\n",
        "#There is no need to define type of a variable.\n",
        "#During execution the type of the variable is inferred from the context in which\n",
        "#it is being used. Hence Python is called dynamically-typed language.\n",
        "a = 320\n",
        "print(\"type of a is \", type(a))\n",
        "\n",
        "a = 231.45\n",
        "print(\"type of a is \", type(a))\n",
        "\n",
        "a=\"CBIT\"\n",
        "print(\"type of a is \", type(a))"
      ],
      "metadata": {
        "id": "Cyj7pQ9DcQlj"
      },
      "execution_count": null,
      "outputs": []
    },
    {
      "cell_type": "code",
      "source": [
        "#Multiple variable assignment:\n",
        "a = 10 ; pi = 3.14 ; name = 'CBIT' # use ; as statement separator\n",
        "print(\"a=\",a, \"pi=\", pi, \"college name=\",name)\n",
        "\n",
        "a, pi, name = 10, 3.14, 'CBIT'\n",
        "print(\"a=\",a, \"pi=\", pi, \"college name=\",name)\n",
        "\n",
        "u = v = x = y = 5\n",
        "print(\"u=\",u, \"v=\", v, \"x=\",x, \"y=\", y)\n",
        "\n",
        "\n"
      ],
      "metadata": {
        "colab": {
          "base_uri": "https://localhost:8080/"
        },
        "id": "zAWMgoOBcmhZ",
        "outputId": "35d42700-541e-440d-8faf-c314027416e7"
      },
      "execution_count": null,
      "outputs": [
        {
          "output_type": "stream",
          "name": "stdout",
          "text": [
            "a= 10 pi= 3.14 college name= CBIT\n",
            "a= 10 pi= 3.14 college name= CBIT\n",
            "u= 5 v= 5 x= 5 y= 5\n"
          ]
        }
      ]
    },
    {
      "cell_type": "code",
      "source": [
        "#Conversions\n",
        "#\tMixed mode operations:\n",
        "#-\tOperation between int and float will yield float.\n",
        "#-\tOperation between int and complex will yield complex.\n",
        "#-\tOperation between float and complex will yield complex.\n",
        "#\tWe can convert one numeric type to another using built-in functions\n",
        "#int( ), float( ), complex( ) and bool( ).\n",
        "#\tType conversions:\n",
        "#int(float/numeric string)\t# from float/numeric string to int int(numeric string, base)\t# from numeric string to int in base\n",
        "#float(int/numeric string)\t# from int/numeric string to float float(int)\t# from int to float\n",
        "#complex(int/float) # convert to complex with imaginary part 0 complex(int/float, int/float) # convert to complex\n",
        "#bool(int/float)\t# from int/float to True/False (1/0) str(int/float/bool)\t# converts to string\n",
        "#chr(int)\t# yields character corresponding to int\n",
        "\n",
        "#\tint( ) removes the decimal portion from the quotient, so always rounds towards zero.\n",
        "print(int(3.33))\t# yields 3\n",
        "print(int(-3.33))\t# yields -3\n"
      ],
      "metadata": {
        "colab": {
          "base_uri": "https://localhost:8080/"
        },
        "id": "AcXRqgoqeZsT",
        "outputId": "89eb3f89-d2f4-4034-e747-3dc956969db6"
      },
      "execution_count": null,
      "outputs": [
        {
          "output_type": "stream",
          "name": "stdout",
          "text": [
            "3\n",
            "-3\n"
          ]
        }
      ]
    },
    {
      "cell_type": "code",
      "source": [
        "#Bitwise Operators\n",
        "#\tBitwise operators permit us to work with individual bits of a byte. There are many bitwise operators available:\n",
        "#~ - not (also called complement operator)\n",
        "#<< - left shift, >> - right shift & - and, | - or, ^ - xor\n",
        "ch = 32\n",
        "dh = ~ch                         # toggles 0s to 1s and 1s to 0s\n",
        "eh = ch << 3                     # << shifts bits in ch 3 positions to left\n",
        "fh = ch >> 2                     # >> shifts bits in ch 2 positions to right\n",
        "a = 10 & 4                      # and bits of 45 and 32\n",
        "b = 10 | 4                      # or bits of 45 and 32\n",
        "c = 10 ^ 4                      # xor bits of 45 and 32\n",
        "\n",
        "print(\"dh=\", dh, \"eh=\", eh, 'fh=',fh,'a=',a,'b=',b,'c=',c)"
      ],
      "metadata": {
        "colab": {
          "base_uri": "https://localhost:8080/"
        },
        "id": "vc1M89D7hpts",
        "outputId": "0be3c096-6f2f-4e72-87e4-6143790ab028"
      },
      "execution_count": null,
      "outputs": [
        {
          "output_type": "stream",
          "name": "stdout",
          "text": [
            "dh= -33 eh= 256 fh= 8 a= 0 b= 14 c= 13\n"
          ]
        }
      ]
    },
    {
      "cell_type": "code",
      "source": [
        "#Above content is taken from\n",
        "#Yashavant Kanetkar Aditya Kanetkar, \"Let us python\", 3rd Edition, BPB Publication"
      ],
      "metadata": {
        "id": "q0mS8UGrj_Wd"
      },
      "execution_count": null,
      "outputs": []
    },
    {
      "cell_type": "code",
      "source": [
        "#Bitwise not operator: Returns one’s complement of the number.\n",
        "\n",
        "#Example:\n",
        "\n",
        "#a = 10 = 1010 (Binary)\n",
        "\n",
        "#In computers we usually represent numbers using 32 bits,\n",
        "#so binary representation of 10 is (....0000 1010)[32 bits]\n",
        "\n",
        "#~a is basically 1's complement of a\n",
        "#i.e ~a should be ~10 = ~(....0000 1010) = (....1111 0101) = intermediate-result\n",
        "\n",
        "#Since bitwise negation inverts the sign bit,\n",
        "#we now have a negative number. And we represent a negative number using 2's complement.\n",
        "\n",
        "#2's complement of intermediate-result is:\n",
        "#intermediate-res =  0101      //....1111 0101\n",
        "#                     1010      //....0000 1010 -(1's complement)\n",
        "#                         +1\n",
        "#                 -----------\n",
        "#                   =  1011      //....0000 1011\n",
        "#                  -----------\n",
        "#                   =   -11 (Decimal)\n",
        "#thus ~a = -11\n",
        "\n",
        "#https://www.geeksforgeeks.org/python-bitwise-operators/"
      ],
      "metadata": {
        "id": "UVscipEEjILj"
      },
      "execution_count": null,
      "outputs": []
    },
    {
      "cell_type": "code",
      "source": [
        "'''\n",
        "Bitwise xor operator: Returns 1 if one of the bits is 1 and the other is 0 else returns false.\n",
        "\n",
        "Example:\n",
        "\n",
        "a = 10 = 1010 (Binary)\n",
        "b = 4 =  0100 (Binary)\n",
        "\n",
        "a ^ b = 1010\n",
        "         ^\n",
        "        0100\n",
        "      = 1110\n",
        "      = 14 (Decimal)\n",
        "'''\n",
        "#https://www.geeksforgeeks.org/python-bitwise-operators/"
      ],
      "metadata": {
        "id": "DeBGnJHFjV_z"
      },
      "execution_count": null,
      "outputs": []
    },
    {
      "cell_type": "code",
      "source": [
        "# Python program to show bitwise operators\n",
        "\n",
        "a = 10\n",
        "b = 4\n",
        "\n",
        "# Print bitwise AND operation\n",
        "print(\"a & b =\", a & b)\n",
        "\n",
        "# Print bitwise OR operation\n",
        "print(\"a | b =\", a | b)\n",
        "\n",
        "# Print bitwise NOT operation\n",
        "print(\"~a =\", ~a)\n",
        "\n",
        "# print bitwise XOR operation\n",
        "print(\"a ^ b =\", a ^ b)\n",
        "#https://www.geeksforgeeks.org/python-bitwise-operators/"
      ],
      "metadata": {
        "colab": {
          "base_uri": "https://localhost:8080/"
        },
        "id": "Pjp35zC3jaCv",
        "outputId": "600b84c1-efa7-4822-a674-33a1e0932cea"
      },
      "execution_count": null,
      "outputs": [
        {
          "output_type": "stream",
          "name": "stdout",
          "text": [
            "a & b = 0\n",
            "a | b = 14\n",
            "~a = -11\n",
            "a ^ b = 14\n"
          ]
        }
      ]
    },
    {
      "cell_type": "code",
      "source": [
        "'''\n",
        "Shift Operators\n",
        "These operators are used to shift the bits of a number left or right thereby multiplying or dividing the number by two respectively. They can be used when we have to multiply or divide a number by two.\n",
        "Bitwise right shift: Shifts the bits of the number to the right and fills 0 on voids left( fills 1 in the case of a negative number) as a result. Similar effect as of dividing the number with some power of two.\n",
        "Example:\n",
        "\n",
        "Example 1:\n",
        "a = 10 = 0000 1010 (Binary)\n",
        "a >> 1 = 0000 0101 = 5\n",
        "\n",
        "Example 2:\n",
        "a = -10 = 1111 0110 (Binary)\n",
        "a >> 1 = 1111 1011 = -5\n",
        "Bitwise left shift: Shifts the bits of the number to the left and fills 0 on voids right as a result. Similar effect as of multiplying the number with some power of two.\n",
        "Example:\n",
        "\n",
        "Example 1:\n",
        "a = 5 = 0000 0101 (Binary)\n",
        "a << 1 = 0000 1010 = 10\n",
        "a << 2 = 0001 0100 = 20\n",
        "\n",
        "Example 2:\n",
        "b = -10 = 1111 0110 (Binary)\n",
        "b << 1 = 1110 1100 = -20\n",
        "b << 2 = 1101 1000 = -40\n",
        "'''\n",
        "#https://www.geeksforgeeks.org/python-bitwise-operators/"
      ],
      "metadata": {
        "id": "Tt-T5Y4QjjZP"
      },
      "execution_count": null,
      "outputs": []
    },
    {
      "cell_type": "code",
      "source": [
        "# Python program to show shift operators\n",
        "\n",
        "a = 10\n",
        "b = -10\n",
        "\n",
        "# print bitwise right shift operator\n",
        "print(\"a >> 1 =\", a >> 1)\n",
        "print(\"b >> 1 =\", b >> 1)\n",
        "\n",
        "a = 5\n",
        "b = -10\n",
        "\n",
        "# print bitwise left shift operator\n",
        "print(\"a << 1 =\", a << 1)\n",
        "print(\"b << 1 =\", b << 1)\n",
        "#https://www.geeksforgeeks.org/python-bitwise-operators/"
      ],
      "metadata": {
        "id": "viVw31yrjfNj"
      },
      "execution_count": null,
      "outputs": []
    },
    {
      "cell_type": "code",
      "source": [
        "# Anything ANDed with 0 is 0.\n",
        "# Anything ORed with 1 is 1.\n",
        "# 1 XORed with 1 is 0.\n",
        "# << - As bits are shifted from left, zeros are pushed from right.\n",
        "# >> - As bits are shifted from right, left-most bit is copied from left.\n",
        "\n",
        "#Purpose of each bitwise operator is given below:\n",
        "# ~\t- Convert 0 to 1 and 1 to 0\n",
        "# << >> - Shift out desired number of bits from left or right\n",
        "# &\t- Check whether a bit is on / off. Put off a particular bit\n",
        "# |\t- Put on a particular bit\n",
        "# ^\t- Toggle a bit\n",
        "\n",
        "#\tBitwise in-place operators: <<= >>= &= |= ^=\n",
        "#a = a << 5 is same as a <<= 5\n",
        "#b = b & 2 is same as b &= 2\n",
        "\n",
        "#\tExcept ~ all other bitwise operators are binary operators.\n"
      ],
      "metadata": {
        "id": "JbrTRJ5OiMeq"
      },
      "execution_count": null,
      "outputs": []
    },
    {
      "cell_type": "markdown",
      "source": [
        "Shared by Ms I Srujana Mam, CSE Dept. CBIT"
      ],
      "metadata": {
        "id": "pPnZJnp0q9Ck"
      }
    },
    {
      "cell_type": "code",
      "source": [
        "#Python Type Jargon\n",
        "#Often following terms are used while describing Python types:\n",
        "#Collection - a generic term for container types.\n",
        "#Iterable - means a collection that can be iterated over using a loop.\n",
        "#Ordered collection - elements are stored in the same order in which they are inserted. Hence its elements can be accessed using an index, i.e. its position in the collection.\n",
        "#Unordered collection - elements are not stored in the same order in which they are inserted. So we cannot predict at which position a particular element is present. So we cannot access its elements using a position based index.\n"
      ],
      "metadata": {
        "id": "mzgp4T_Tjpbr"
      },
      "execution_count": null,
      "outputs": []
    },
    {
      "cell_type": "markdown",
      "metadata": {
        "id": "eKpZKmBHOFwn"
      },
      "source": [
        "Python Special operators\n",
        "\n",
        "Python language offers some special types of operators like the identity operator and the membership operator.\n",
        "\n",
        "# Identity operators\n",
        "In Python, is and is not are used to check if two values are located on the same part of the memory."
      ]
    },
    {
      "cell_type": "code",
      "execution_count": null,
      "metadata": {
        "colab": {
          "base_uri": "https://localhost:8080/"
        },
        "id": "Lu9s0da1OFwq",
        "outputId": "b2170ca6-2336-404b-f14e-19e83a4c22e7"
      },
      "outputs": [
        {
          "output_type": "stream",
          "name": "stdout",
          "text": [
            "True\n",
            "True\n",
            "False\n",
            "140305779112320\n",
            "140305779113024\n"
          ]
        }
      ],
      "source": [
        "x1 = 5\n",
        "y1 = 6\n",
        "x2 = 'Hello'\n",
        "y2 = 'Hello'\n",
        "x3 = [1,2,3]\n",
        "y3 = [1,2,3]\n",
        "#print(id(x1),id(y1))\n",
        "print(x1 is not y1)\n",
        "\n",
        "print(x2 is y2)\n",
        "\n",
        "print(x3 is y3)\n",
        "print(id(x3))\n",
        "print(id(y3))"
      ]
    },
    {
      "cell_type": "markdown",
      "metadata": {
        "id": "IvFIkbLrOFwv"
      },
      "source": [
        "# Membership operators\n",
        "In Python, in and not in are the membership operators. They are used to test whether a value or variable is found in a sequence (string, list, tuple, set and dictionary)."
      ]
    },
    {
      "cell_type": "code",
      "execution_count": null,
      "metadata": {
        "id": "L0Nz0cuSOFww",
        "outputId": "bedbb56c-243f-49dc-d7b2-2635b48f94c0",
        "colab": {
          "base_uri": "https://localhost:8080/"
        }
      },
      "outputs": [
        {
          "output_type": "stream",
          "name": "stdout",
          "text": [
            "True\n"
          ]
        }
      ],
      "source": [
        "\n",
        "list_1 = ['sita', 'ram', 'laxman']\n",
        "print('bharath' not in list_1)"
      ]
    },
    {
      "cell_type": "code",
      "execution_count": null,
      "metadata": {
        "id": "I-Vi0eZgOFwx",
        "outputId": "b0d52486-1bfb-466f-9f40-f6896b11ebf3",
        "colab": {
          "base_uri": "https://localhost:8080/"
        }
      },
      "outputs": [
        {
          "output_type": "stream",
          "name": "stdout",
          "text": [
            "False\n"
          ]
        }
      ],
      "source": [
        "item = 45\n",
        "list_1 = list(range(1, 30))\n",
        "print(item in list_1)"
      ]
    },
    {
      "cell_type": "code",
      "execution_count": null,
      "metadata": {
        "id": "IGrM2c-GOFwy",
        "outputId": "93861880-cc7d-4e93-b115-4ea521fc8c5b",
        "colab": {
          "base_uri": "https://localhost:8080/"
        }
      },
      "outputs": [
        {
          "output_type": "stream",
          "name": "stdout",
          "text": [
            "True\n"
          ]
        }
      ],
      "source": [
        "a = 'ravana'\n",
        "list_1 = ['sita', 'ram', 'laxman']\n",
        "print(a not in list_1)"
      ]
    },
    {
      "cell_type": "code",
      "execution_count": null,
      "metadata": {
        "id": "WUza86ejOFwz",
        "outputId": "aeebc6de-d0a8-4734-fdc5-179174513217",
        "colab": {
          "base_uri": "https://localhost:8080/"
        }
      },
      "outputs": [
        {
          "output_type": "stream",
          "name": "stdout",
          "text": [
            "W\n"
          ]
        }
      ],
      "source": [
        "s=\"Welcome\"\n",
        "print(s[-7])"
      ]
    },
    {
      "cell_type": "markdown",
      "metadata": {
        "id": "I5EmUz5ROFw0"
      },
      "source": [
        "# Slice Operator\n",
        "\n",
        "The Slice Operator\n",
        "\n",
        "A substring of a string is called a slice. Selecting a slice is similar to selecting a character:\n",
        "\n",
        "The slice operator [n:m] returns the part of the string starting with the character at index n and go up to but not including the character at index m. Or with normal counting from 1, this is the (n+1)st character up to and including the mth character.\n",
        "\n",
        "If you omit the first index (before the colon), the slice starts at the beginning of the string/List/Tuple. If you omit the second index, the slice goes to the end of the string."
      ]
    },
    {
      "cell_type": "code",
      "execution_count": null,
      "metadata": {
        "id": "zw5lVmIWOFw1",
        "outputId": "22ce387a-76f5-4822-ee6a-63d4d3f181df",
        "colab": {
          "base_uri": "https://localhost:8080/"
        }
      },
      "outputs": [
        {
          "output_type": "stream",
          "name": "stdout",
          "text": [
            "['b', 'c']\n",
            "['a', 'b', 'c', 'd']\n",
            "['d', 'e', 'f']\n",
            "['a', 'b', 'c', 'd', 'e', 'f']\n"
          ]
        }
      ],
      "source": [
        "a_list = ['a', 'b', 'c', 'd', 'e', 'f']\n",
        "print(a_list[1:3])\n",
        "print(a_list[:4])\n",
        "print(a_list[3:])\n",
        "print(a_list[:])"
      ]
    },
    {
      "cell_type": "markdown",
      "metadata": {
        "id": "T-IijphsOFw2"
      },
      "source": [
        "myStr[start:stop:step]\n",
        "\n",
        "myStr[:stop]  # By using one colon and leaving the first argument blank we automatically start at index 0, stepping by 1\n",
        "\n",
        "myStr[start:]  # By using one colon and leaving the last argument blank we automatically go to the end, stepping by 1\n",
        "\n",
        "myStr[::step]  # by using two colons and leaving the first two arguments blank we start at index 0, go to the end and step by 1"
      ]
    },
    {
      "cell_type": "code",
      "execution_count": null,
      "metadata": {
        "id": "jrPZGobhOFw2",
        "colab": {
          "base_uri": "https://localhost:8080/"
        },
        "outputId": "dce91d05-9fe3-43ff-95f2-3bd62e941306"
      },
      "outputs": [
        {
          "output_type": "stream",
          "name": "stdout",
          "text": [
            "['c', 'd', 'e', 'f', 'g']\n"
          ]
        }
      ],
      "source": [
        "L = ['a', 'b', 'c', 'd', 'e', 'f', 'g', 'h', 'i']\n",
        "print(L[2:7])\n"
      ]
    },
    {
      "cell_type": "code",
      "execution_count": null,
      "metadata": {
        "id": "jiChuhVKOFw4",
        "colab": {
          "base_uri": "https://localhost:8080/"
        },
        "outputId": "68a6d81a-c62b-44cf-eda5-2d54b18ee99f"
      },
      "outputs": [
        {
          "output_type": "stream",
          "name": "stdout",
          "text": [
            "['c', 'd', 'e', 'f', 'g']\n"
          ]
        }
      ],
      "source": [
        "L = ['a', 'b', 'c', 'd', 'e', 'f', 'g', 'h', 'i']\n",
        "print(L[-7:-2])"
      ]
    },
    {
      "cell_type": "code",
      "execution_count": null,
      "metadata": {
        "id": "US991eM5OFw4",
        "colab": {
          "base_uri": "https://localhost:8080/"
        },
        "outputId": "393ec0c7-0b12-4afc-c30e-af7e258bac80"
      },
      "outputs": [
        {
          "output_type": "stream",
          "name": "stdout",
          "text": [
            "['c', 'd']\n"
          ]
        }
      ],
      "source": [
        "L = ['a', 'b', 'c', 'd', 'e', 'f', 'g', 'h', 'i']\n",
        "print(L[2:-5])"
      ]
    },
    {
      "cell_type": "code",
      "execution_count": null,
      "metadata": {
        "id": "b4jYnSH9OFw5",
        "colab": {
          "base_uri": "https://localhost:8080/"
        },
        "outputId": "98ca5527-aaa3-4ee9-8408-3c719447c707"
      },
      "outputs": [
        {
          "output_type": "stream",
          "name": "stdout",
          "text": [
            "['c', 'e', 'g']\n"
          ]
        }
      ],
      "source": [
        "# Return every 2nd item between position 2 to 7\n",
        "L = ['a', 'b', 'c', 'd', 'e', 'f', 'g', 'h', 'i']\n",
        "print(L[2:7:2])"
      ]
    },
    {
      "cell_type": "code",
      "execution_count": null,
      "metadata": {
        "id": "MnrdsrT6OFw6",
        "colab": {
          "base_uri": "https://localhost:8080/"
        },
        "outputId": "5cc27ef9-0e5d-4239-c063-f963d51bbb6d"
      },
      "outputs": [
        {
          "output_type": "stream",
          "name": "stdout",
          "text": [
            "['g', 'e', 'c']\n"
          ]
        }
      ],
      "source": [
        "L = ['a', 'b', 'c', 'd', 'e', 'f', 'g', 'h', 'i']\n",
        "print(L[6:1:-2])\n"
      ]
    },
    {
      "cell_type": "code",
      "execution_count": null,
      "metadata": {
        "id": "magCCybFOFw7",
        "colab": {
          "base_uri": "https://localhost:8080/"
        },
        "outputId": "bdf6fd9c-fd08-466e-9e64-621608a14b06"
      },
      "outputs": [
        {
          "output_type": "stream",
          "name": "stdout",
          "text": [
            "['a', 'b', 'c']\n"
          ]
        }
      ],
      "source": [
        "# Slice the first three items from the list\n",
        "L = ['a', 'b', 'c', 'd', 'e', 'f', 'g', 'h', 'i']\n",
        "print(L[:3])\n"
      ]
    },
    {
      "cell_type": "code",
      "execution_count": null,
      "metadata": {
        "id": "prAtXk-UOFw7",
        "colab": {
          "base_uri": "https://localhost:8080/"
        },
        "outputId": "a4d7f573-b160-4933-8698-54b229eea825"
      },
      "outputs": [
        {
          "output_type": "stream",
          "name": "stdout",
          "text": [
            "['g', 'h', 'i']\n"
          ]
        }
      ],
      "source": [
        "# Slice the last three items from the list\n",
        "L = ['a', 'b', 'c', 'd', 'e', 'f', 'g', 'h', 'i']\n",
        "print(L[6:])"
      ]
    },
    {
      "cell_type": "code",
      "execution_count": null,
      "metadata": {
        "id": "vQtBJ5BNOFw8",
        "colab": {
          "base_uri": "https://localhost:8080/"
        },
        "outputId": "21ef93db-dd96-4eda-907c-0bf9e59a0884"
      },
      "outputs": [
        {
          "output_type": "stream",
          "name": "stdout",
          "text": [
            "['e', 'd', 'c', 'b', 'a']\n"
          ]
        }
      ],
      "source": [
        "L = ['a', 'b', 'c', 'd', 'e']\n",
        "print(L[::-1])"
      ]
    },
    {
      "cell_type": "markdown",
      "metadata": {
        "id": "4ldwZi9jOFw8"
      },
      "source": [
        "# Ellipsis Operator\n",
        "An Ellipsis Is a Placeholder for Unwritten Code\n",
        "\n",
        "When designing a new module, we usually define some functions or classes but won’t implement them immediately. Because we only want to determine what we need to write in future and don’t care too much about the implementation details at this early stage. In this scenario, the ellipsis is our best friend:"
      ]
    },
    {
      "cell_type": "code",
      "execution_count": null,
      "metadata": {
        "id": "UP4Ok4nqOFw8"
      },
      "outputs": [],
      "source": [
        "def write_an_article():\n",
        "    ...\n"
      ]
    },
    {
      "cell_type": "code",
      "execution_count": null,
      "metadata": {
        "id": "krqbjgfyOFw9"
      },
      "outputs": [],
      "source": [
        "def write_an_article():\n",
        "    pass"
      ]
    },
    {
      "cell_type": "markdown",
      "metadata": {
        "id": "AuY_zQAKOFw9"
      },
      "source": [
        "# Sequence mutation and accumulating patterns\n",
        "\n",
        "The Accumulator Pattern:\n",
        "\n",
        "One common programming “pattern” is to traverse a sequence, accumulating a value as we go, such as the sum-so-far or the maximum-so-far. That way, at the end of the traversal we have accumulated a single value, such as the sum total of all the items or the largest item.\n",
        "\n",
        "The anatomy of the accumulation pattern includes:\n",
        "\n",
        "•\tinitializing an “accumulator” variable to an initial value (such as 0 if accumulating a sum)\n",
        "\n",
        "•\titerating (e.g., traversing the items in a sequence)\n",
        "\n",
        "•\tupdating the accumulator variable on each iteration (i.e., when processing each item in the sequence)\n"
      ]
    },
    {
      "cell_type": "code",
      "execution_count": null,
      "metadata": {
        "id": "LuN99ZISOFw9",
        "outputId": "6bfe8f07-a0dd-4f82-9e08-55afdf01654e",
        "colab": {
          "base_uri": "https://localhost:8080/"
        }
      },
      "outputs": [
        {
          "output_type": "stream",
          "name": "stdout",
          "text": [
            "55\n"
          ]
        }
      ],
      "source": [
        "nums = [1, 2, 3, 4, 5, 6, 7, 8, 9, 10]\n",
        "\n",
        "accum = 0\n",
        "\n",
        "for w in nums:\n",
        "\n",
        "    accum = accum + w\n",
        "\n",
        "print(accum)"
      ]
    },
    {
      "cell_type": "markdown",
      "metadata": {
        "id": "DCoGdQO7OFw-"
      },
      "source": [
        "In the program above, notice that the variable accum starts out with a value of 0. Next, the iteration is performed 10 times. Inside the for loop, the update occurs. w has the value of current item (1 the first time, then 2, then 3, etc.). accum is reassigned a new value which is the old value plus the current value of w.\n",
        "\n",
        "This pattern of iterating the updating of a variable is commonly referred to as the accumulator pattern. We refer to the variable as the accumulator. This pattern will come up over and over again. Remember that the key to making it work successfully is to be sure to initialize the variable before you start the iteration. Once inside the iteration, it is required that you update the accumulator."
      ]
    },
    {
      "cell_type": "markdown",
      "metadata": {
        "id": "t1CPSikDOFw-"
      },
      "source": [
        "# Sequence mutation:"
      ]
    },
    {
      "cell_type": "markdown",
      "metadata": {
        "id": "w8smAS_0OFw-"
      },
      "source": [
        "Mutation is change in the object after object is created"
      ]
    },
    {
      "cell_type": "code",
      "execution_count": null,
      "metadata": {
        "id": "qribY1-OOFw_",
        "outputId": "d4eb4e36-372d-41d6-f6cd-5163e881c148",
        "colab": {
          "base_uri": "https://localhost:8080/"
        }
      },
      "outputs": [
        {
          "output_type": "execute_result",
          "data": {
            "text/plain": [
              "[1, 2, 'kkk', 'jjj', 5]"
            ]
          },
          "metadata": {},
          "execution_count": 20
        }
      ],
      "source": [
        "lt=[1,2,'kkk','jjj',5]\n",
        "lt\n"
      ]
    },
    {
      "cell_type": "code",
      "execution_count": null,
      "metadata": {
        "id": "SgAi-5nDOFw_",
        "outputId": "feb1e298-a9f0-4c0a-d577-91b2b35b5bd8",
        "colab": {
          "base_uri": "https://localhost:8080/"
        }
      },
      "outputs": [
        {
          "output_type": "execute_result",
          "data": {
            "text/plain": [
              "[23, 2, 'kkk', 'jjj', 5]"
            ]
          },
          "metadata": {},
          "execution_count": 21
        }
      ],
      "source": [
        "lt[0]=23\n",
        "lt"
      ]
    },
    {
      "cell_type": "markdown",
      "metadata": {
        "id": "9QC4WMP1OFw_"
      },
      "source": [
        "#List is mutable, hence changes in object is permitted after its creation, check the above example\n",
        "\n",
        "Mutation is also possible through methods, check below example using pop(), remove(), etc\n",
        "\n"
      ]
    },
    {
      "cell_type": "code",
      "execution_count": null,
      "metadata": {
        "id": "9rh7NLZ9OFxA",
        "outputId": "25d437d8-f6b2-41e7-979b-e5bb00cefa53",
        "colab": {
          "base_uri": "https://localhost:8080/"
        }
      },
      "outputs": [
        {
          "output_type": "execute_result",
          "data": {
            "text/plain": [
              "2"
            ]
          },
          "metadata": {},
          "execution_count": 22
        }
      ],
      "source": [
        "a=[1, 2, 3, 'ppp', 4, 'kkk', [6, 7], 6, 7, 2]\n",
        "a.pop()"
      ]
    },
    {
      "cell_type": "code",
      "execution_count": null,
      "metadata": {
        "id": "M8BTLRN9OFxA",
        "outputId": "2a9ba4bc-9ce2-4395-c8d8-25cd35eedc7f",
        "colab": {
          "base_uri": "https://localhost:8080/"
        }
      },
      "outputs": [
        {
          "output_type": "execute_result",
          "data": {
            "text/plain": [
              "7"
            ]
          },
          "metadata": {},
          "execution_count": 23
        }
      ],
      "source": [
        "a.pop()\n"
      ]
    },
    {
      "cell_type": "code",
      "execution_count": null,
      "metadata": {
        "id": "JRhCvTVhOFxB",
        "outputId": "5b290e59-03bd-404d-fcc1-633b46bdfb5a",
        "colab": {
          "base_uri": "https://localhost:8080/"
        }
      },
      "outputs": [
        {
          "output_type": "execute_result",
          "data": {
            "text/plain": [
              "[1, 2, 3, 'ppp', 4, 'kkk', [6, 7], 6]"
            ]
          },
          "metadata": {},
          "execution_count": 24
        }
      ],
      "source": [
        "a"
      ]
    },
    {
      "cell_type": "code",
      "execution_count": null,
      "metadata": {
        "id": "siJS0vSMOFxC"
      },
      "outputs": [],
      "source": [
        "a.remove('ppp')"
      ]
    },
    {
      "cell_type": "code",
      "execution_count": null,
      "metadata": {
        "id": "UJj_MD7VOFxD",
        "outputId": "8bfacf10-02bf-4d48-d3c4-941a72c0116a",
        "colab": {
          "base_uri": "https://localhost:8080/"
        }
      },
      "outputs": [
        {
          "output_type": "execute_result",
          "data": {
            "text/plain": [
              "[1, 2, 3, 4, 'kkk', [6, 7], 6]"
            ]
          },
          "metadata": {},
          "execution_count": 26
        }
      ],
      "source": [
        "a"
      ]
    },
    {
      "cell_type": "code",
      "source": [
        "2**3**3"
      ],
      "metadata": {
        "colab": {
          "base_uri": "https://localhost:8080/"
        },
        "id": "6nVYGy6kjSqq",
        "outputId": "9da9d8c3-74b5-4d2a-93e8-f169079808cd"
      },
      "execution_count": null,
      "outputs": [
        {
          "output_type": "execute_result",
          "data": {
            "text/plain": [
              "134217728"
            ]
          },
          "metadata": {},
          "execution_count": 1
        }
      ]
    },
    {
      "cell_type": "code",
      "source": [
        "2**3**2"
      ],
      "metadata": {
        "colab": {
          "base_uri": "https://localhost:8080/"
        },
        "id": "YGi_i3gkjT3V",
        "outputId": "fe2f61cc-c324-4468-81a1-061cf13cc03b"
      },
      "execution_count": null,
      "outputs": [
        {
          "output_type": "execute_result",
          "data": {
            "text/plain": [
              "512"
            ]
          },
          "metadata": {},
          "execution_count": 2
        }
      ]
    },
    {
      "cell_type": "code",
      "source": [],
      "metadata": {
        "id": "F3eZb06NjX7C"
      },
      "execution_count": null,
      "outputs": []
    }
  ],
  "metadata": {
    "kernelspec": {
      "display_name": "Python 3",
      "language": "python",
      "name": "python3"
    },
    "language_info": {
      "codemirror_mode": {
        "name": "ipython",
        "version": 3
      },
      "file_extension": ".py",
      "mimetype": "text/x-python",
      "name": "python",
      "nbconvert_exporter": "python",
      "pygments_lexer": "ipython3",
      "version": "3.7.7"
    },
    "colab": {
      "provenance": [],
      "include_colab_link": true
    }
  },
  "nbformat": 4,
  "nbformat_minor": 0
}