{
  "cells": [
    {
      "cell_type": "markdown",
      "metadata": {
        "id": "view-in-github",
        "colab_type": "text"
      },
      "source": [
        "<a href=\"https://colab.research.google.com/github/Prathima-tr/Problem-Solving-and-Programming/blob/main/Miscellaneous_Operators.ipynb\" target=\"_parent\"><img src=\"https://colab.research.google.com/assets/colab-badge.svg\" alt=\"Open In Colab\"/></a>"
      ]
    },
    {
      "cell_type": "markdown",
      "source": [
        "Shared by Ms I Srujana Mam, CSE Dept. CBIT"
      ],
      "metadata": {
        "id": "pPnZJnp0q9Ck"
      }
    },
    {
      "cell_type": "markdown",
      "metadata": {
        "id": "eKpZKmBHOFwn"
      },
      "source": [
        "Python Special operators\n",
        "\n",
        "Python language offers some special types of operators like the identity operator and the membership operator.\n",
        "\n",
        "# Identity operators\n",
        "In Python, is and is not are used to check if two values are located on the same part of the memory. "
      ]
    },
    {
      "cell_type": "code",
      "execution_count": 3,
      "metadata": {
        "colab": {
          "base_uri": "https://localhost:8080/"
        },
        "id": "Lu9s0da1OFwq",
        "outputId": "b2170ca6-2336-404b-f14e-19e83a4c22e7"
      },
      "outputs": [
        {
          "output_type": "stream",
          "name": "stdout",
          "text": [
            "True\n",
            "True\n",
            "False\n",
            "140305779112320\n",
            "140305779113024\n"
          ]
        }
      ],
      "source": [
        "x1 = 5\n",
        "y1 = 6\n",
        "x2 = 'Hello'\n",
        "y2 = 'Hello'\n",
        "x3 = [1,2,3]\n",
        "y3 = [1,2,3]\n",
        "#print(id(x1),id(y1))\n",
        "print(x1 is not y1) \n",
        "\n",
        "print(x2 is y2)  \n",
        "\n",
        "print(x3 is y3)  \n",
        "print(id(x3))\n",
        "print(id(y3))"
      ]
    },
    {
      "cell_type": "markdown",
      "metadata": {
        "id": "IvFIkbLrOFwv"
      },
      "source": [
        "# Membership operators\n",
        "In Python, in and not in are the membership operators. They are used to test whether a value or variable is found in a sequence (string, list, tuple, set and dictionary)."
      ]
    },
    {
      "cell_type": "code",
      "execution_count": 4,
      "metadata": {
        "id": "L0Nz0cuSOFww",
        "outputId": "bedbb56c-243f-49dc-d7b2-2635b48f94c0",
        "colab": {
          "base_uri": "https://localhost:8080/"
        }
      },
      "outputs": [
        {
          "output_type": "stream",
          "name": "stdout",
          "text": [
            "True\n"
          ]
        }
      ],
      "source": [
        "\n",
        "list_1 = ['sita', 'ram', 'laxman']\n",
        "print('bharath' not in list_1)"
      ]
    },
    {
      "cell_type": "code",
      "execution_count": 5,
      "metadata": {
        "id": "I-Vi0eZgOFwx",
        "outputId": "b0d52486-1bfb-466f-9f40-f6896b11ebf3",
        "colab": {
          "base_uri": "https://localhost:8080/"
        }
      },
      "outputs": [
        {
          "output_type": "stream",
          "name": "stdout",
          "text": [
            "False\n"
          ]
        }
      ],
      "source": [
        "item = 45\n",
        "list_1 = list(range(1, 30))\n",
        "print(item in list_1)"
      ]
    },
    {
      "cell_type": "code",
      "execution_count": 6,
      "metadata": {
        "id": "IGrM2c-GOFwy",
        "outputId": "93861880-cc7d-4e93-b115-4ea521fc8c5b",
        "colab": {
          "base_uri": "https://localhost:8080/"
        }
      },
      "outputs": [
        {
          "output_type": "stream",
          "name": "stdout",
          "text": [
            "True\n"
          ]
        }
      ],
      "source": [
        "a = 'ravana'\n",
        "list_1 = ['sita', 'ram', 'laxman']\n",
        "print(a not in list_1)"
      ]
    },
    {
      "cell_type": "code",
      "execution_count": 7,
      "metadata": {
        "id": "WUza86ejOFwz",
        "outputId": "aeebc6de-d0a8-4734-fdc5-179174513217",
        "colab": {
          "base_uri": "https://localhost:8080/"
        }
      },
      "outputs": [
        {
          "output_type": "stream",
          "name": "stdout",
          "text": [
            "W\n"
          ]
        }
      ],
      "source": [
        "s=\"Welcome\"\n",
        "print(s[-7])"
      ]
    },
    {
      "cell_type": "markdown",
      "metadata": {
        "id": "I5EmUz5ROFw0"
      },
      "source": [
        "# Slice Operator\n",
        "\n",
        "The Slice Operator\n",
        "\n",
        "A substring of a string is called a slice. Selecting a slice is similar to selecting a character:\n",
        "\n",
        "The slice operator [n:m] returns the part of the string starting with the character at index n and go up to but not including the character at index m. Or with normal counting from 1, this is the (n+1)st character up to and including the mth character.\n",
        "\n",
        "If you omit the first index (before the colon), the slice starts at the beginning of the string/List/Tuple. If you omit the second index, the slice goes to the end of the string."
      ]
    },
    {
      "cell_type": "code",
      "execution_count": 8,
      "metadata": {
        "id": "zw5lVmIWOFw1",
        "outputId": "22ce387a-76f5-4822-ee6a-63d4d3f181df",
        "colab": {
          "base_uri": "https://localhost:8080/"
        }
      },
      "outputs": [
        {
          "output_type": "stream",
          "name": "stdout",
          "text": [
            "['b', 'c']\n",
            "['a', 'b', 'c', 'd']\n",
            "['d', 'e', 'f']\n",
            "['a', 'b', 'c', 'd', 'e', 'f']\n"
          ]
        }
      ],
      "source": [
        "a_list = ['a', 'b', 'c', 'd', 'e', 'f']\n",
        "print(a_list[1:3])\n",
        "print(a_list[:4])\n",
        "print(a_list[3:])\n",
        "print(a_list[:])"
      ]
    },
    {
      "cell_type": "markdown",
      "metadata": {
        "id": "T-IijphsOFw2"
      },
      "source": [
        "myStr[start:stop:step]\n",
        "\n",
        "myStr[:stop]  # By using one colon and leaving the first argument blank we automatically start at index 0, stepping by 1\n",
        "\n",
        "myStr[start:]  # By using one colon and leaving the last argument blank we automatically go to the end, stepping by 1\n",
        "\n",
        "myStr[::step]  # by using two colons and leaving the first two arguments blank we start at index 0, go to the end and step by 1"
      ]
    },
    {
      "cell_type": "code",
      "execution_count": 9,
      "metadata": {
        "id": "jrPZGobhOFw2",
        "colab": {
          "base_uri": "https://localhost:8080/"
        },
        "outputId": "dce91d05-9fe3-43ff-95f2-3bd62e941306"
      },
      "outputs": [
        {
          "output_type": "stream",
          "name": "stdout",
          "text": [
            "['c', 'd', 'e', 'f', 'g']\n"
          ]
        }
      ],
      "source": [
        "L = ['a', 'b', 'c', 'd', 'e', 'f', 'g', 'h', 'i']\n",
        "print(L[2:7])\n"
      ]
    },
    {
      "cell_type": "code",
      "execution_count": 10,
      "metadata": {
        "id": "jiChuhVKOFw4",
        "colab": {
          "base_uri": "https://localhost:8080/"
        },
        "outputId": "68a6d81a-c62b-44cf-eda5-2d54b18ee99f"
      },
      "outputs": [
        {
          "output_type": "stream",
          "name": "stdout",
          "text": [
            "['c', 'd', 'e', 'f', 'g']\n"
          ]
        }
      ],
      "source": [
        "L = ['a', 'b', 'c', 'd', 'e', 'f', 'g', 'h', 'i']\n",
        "print(L[-7:-2])"
      ]
    },
    {
      "cell_type": "code",
      "execution_count": 11,
      "metadata": {
        "id": "US991eM5OFw4",
        "colab": {
          "base_uri": "https://localhost:8080/"
        },
        "outputId": "393ec0c7-0b12-4afc-c30e-af7e258bac80"
      },
      "outputs": [
        {
          "output_type": "stream",
          "name": "stdout",
          "text": [
            "['c', 'd']\n"
          ]
        }
      ],
      "source": [
        "L = ['a', 'b', 'c', 'd', 'e', 'f', 'g', 'h', 'i']\n",
        "print(L[2:-5])"
      ]
    },
    {
      "cell_type": "code",
      "execution_count": 12,
      "metadata": {
        "id": "b4jYnSH9OFw5",
        "colab": {
          "base_uri": "https://localhost:8080/"
        },
        "outputId": "98ca5527-aaa3-4ee9-8408-3c719447c707"
      },
      "outputs": [
        {
          "output_type": "stream",
          "name": "stdout",
          "text": [
            "['c', 'e', 'g']\n"
          ]
        }
      ],
      "source": [
        "# Return every 2nd item between position 2 to 7\n",
        "L = ['a', 'b', 'c', 'd', 'e', 'f', 'g', 'h', 'i']\n",
        "print(L[2:7:2])"
      ]
    },
    {
      "cell_type": "code",
      "execution_count": 13,
      "metadata": {
        "id": "MnrdsrT6OFw6",
        "colab": {
          "base_uri": "https://localhost:8080/"
        },
        "outputId": "5cc27ef9-0e5d-4239-c063-f963d51bbb6d"
      },
      "outputs": [
        {
          "output_type": "stream",
          "name": "stdout",
          "text": [
            "['g', 'e', 'c']\n"
          ]
        }
      ],
      "source": [
        "L = ['a', 'b', 'c', 'd', 'e', 'f', 'g', 'h', 'i']\n",
        "print(L[6:1:-2])\n"
      ]
    },
    {
      "cell_type": "code",
      "execution_count": 14,
      "metadata": {
        "id": "magCCybFOFw7",
        "colab": {
          "base_uri": "https://localhost:8080/"
        },
        "outputId": "bdf6fd9c-fd08-466e-9e64-621608a14b06"
      },
      "outputs": [
        {
          "output_type": "stream",
          "name": "stdout",
          "text": [
            "['a', 'b', 'c']\n"
          ]
        }
      ],
      "source": [
        "# Slice the first three items from the list\n",
        "L = ['a', 'b', 'c', 'd', 'e', 'f', 'g', 'h', 'i']\n",
        "print(L[:3])\n"
      ]
    },
    {
      "cell_type": "code",
      "execution_count": 15,
      "metadata": {
        "id": "prAtXk-UOFw7",
        "colab": {
          "base_uri": "https://localhost:8080/"
        },
        "outputId": "a4d7f573-b160-4933-8698-54b229eea825"
      },
      "outputs": [
        {
          "output_type": "stream",
          "name": "stdout",
          "text": [
            "['g', 'h', 'i']\n"
          ]
        }
      ],
      "source": [
        "# Slice the last three items from the list\n",
        "L = ['a', 'b', 'c', 'd', 'e', 'f', 'g', 'h', 'i']\n",
        "print(L[6:])"
      ]
    },
    {
      "cell_type": "code",
      "execution_count": 16,
      "metadata": {
        "id": "vQtBJ5BNOFw8",
        "colab": {
          "base_uri": "https://localhost:8080/"
        },
        "outputId": "21ef93db-dd96-4eda-907c-0bf9e59a0884"
      },
      "outputs": [
        {
          "output_type": "stream",
          "name": "stdout",
          "text": [
            "['e', 'd', 'c', 'b', 'a']\n"
          ]
        }
      ],
      "source": [
        "L = ['a', 'b', 'c', 'd', 'e']\n",
        "print(L[::-1])"
      ]
    },
    {
      "cell_type": "markdown",
      "metadata": {
        "id": "4ldwZi9jOFw8"
      },
      "source": [
        "# Ellipsis Operator\n",
        "An Ellipsis Is a Placeholder for Unwritten Code\n",
        "\n",
        "When designing a new module, we usually define some functions or classes but won’t implement them immediately. Because we only want to determine what we need to write in future and don’t care too much about the implementation details at this early stage. In this scenario, the ellipsis is our best friend:"
      ]
    },
    {
      "cell_type": "code",
      "execution_count": 17,
      "metadata": {
        "id": "UP4Ok4nqOFw8"
      },
      "outputs": [],
      "source": [
        "def write_an_article():\n",
        "    ...\n"
      ]
    },
    {
      "cell_type": "code",
      "execution_count": 18,
      "metadata": {
        "id": "krqbjgfyOFw9"
      },
      "outputs": [],
      "source": [
        "def write_an_article():\n",
        "    pass"
      ]
    },
    {
      "cell_type": "markdown",
      "metadata": {
        "id": "AuY_zQAKOFw9"
      },
      "source": [
        "# Sequence mutation and accumulating patterns\n",
        "\n",
        "The Accumulator Pattern:\n",
        "\n",
        "One common programming “pattern” is to traverse a sequence, accumulating a value as we go, such as the sum-so-far or the maximum-so-far. That way, at the end of the traversal we have accumulated a single value, such as the sum total of all the items or the largest item.\n",
        "\n",
        "The anatomy of the accumulation pattern includes:\n",
        "\n",
        "•\tinitializing an “accumulator” variable to an initial value (such as 0 if accumulating a sum)\n",
        "\n",
        "•\titerating (e.g., traversing the items in a sequence)\n",
        "\n",
        "•\tupdating the accumulator variable on each iteration (i.e., when processing each item in the sequence)\n"
      ]
    },
    {
      "cell_type": "code",
      "execution_count": 19,
      "metadata": {
        "id": "LuN99ZISOFw9",
        "outputId": "6bfe8f07-a0dd-4f82-9e08-55afdf01654e",
        "colab": {
          "base_uri": "https://localhost:8080/"
        }
      },
      "outputs": [
        {
          "output_type": "stream",
          "name": "stdout",
          "text": [
            "55\n"
          ]
        }
      ],
      "source": [
        "nums = [1, 2, 3, 4, 5, 6, 7, 8, 9, 10]\n",
        "\n",
        "accum = 0\n",
        "\n",
        "for w in nums:\n",
        "\n",
        "    accum = accum + w\n",
        "\n",
        "print(accum)"
      ]
    },
    {
      "cell_type": "markdown",
      "metadata": {
        "id": "DCoGdQO7OFw-"
      },
      "source": [
        "In the program above, notice that the variable accum starts out with a value of 0. Next, the iteration is performed 10 times. Inside the for loop, the update occurs. w has the value of current item (1 the first time, then 2, then 3, etc.). accum is reassigned a new value which is the old value plus the current value of w.\n",
        "\n",
        "This pattern of iterating the updating of a variable is commonly referred to as the accumulator pattern. We refer to the variable as the accumulator. This pattern will come up over and over again. Remember that the key to making it work successfully is to be sure to initialize the variable before you start the iteration. Once inside the iteration, it is required that you update the accumulator."
      ]
    },
    {
      "cell_type": "markdown",
      "metadata": {
        "id": "t1CPSikDOFw-"
      },
      "source": [
        "# Sequence mutation:"
      ]
    },
    {
      "cell_type": "markdown",
      "metadata": {
        "id": "w8smAS_0OFw-"
      },
      "source": [
        "Mutation is change in the object after object is created"
      ]
    },
    {
      "cell_type": "code",
      "execution_count": 20,
      "metadata": {
        "id": "qribY1-OOFw_",
        "outputId": "d4eb4e36-372d-41d6-f6cd-5163e881c148",
        "colab": {
          "base_uri": "https://localhost:8080/"
        }
      },
      "outputs": [
        {
          "output_type": "execute_result",
          "data": {
            "text/plain": [
              "[1, 2, 'kkk', 'jjj', 5]"
            ]
          },
          "metadata": {},
          "execution_count": 20
        }
      ],
      "source": [
        "lt=[1,2,'kkk','jjj',5]\n",
        "lt\n"
      ]
    },
    {
      "cell_type": "code",
      "execution_count": 21,
      "metadata": {
        "id": "SgAi-5nDOFw_",
        "outputId": "feb1e298-a9f0-4c0a-d577-91b2b35b5bd8",
        "colab": {
          "base_uri": "https://localhost:8080/"
        }
      },
      "outputs": [
        {
          "output_type": "execute_result",
          "data": {
            "text/plain": [
              "[23, 2, 'kkk', 'jjj', 5]"
            ]
          },
          "metadata": {},
          "execution_count": 21
        }
      ],
      "source": [
        "lt[0]=23\n",
        "lt"
      ]
    },
    {
      "cell_type": "markdown",
      "metadata": {
        "id": "9QC4WMP1OFw_"
      },
      "source": [
        "#List is mutable, hence changes in object is permitted after its creation, check the above example\n",
        "\n",
        "Mutation is also possible through methods, check below example using pop(), remove(), etc\n",
        "\n"
      ]
    },
    {
      "cell_type": "code",
      "execution_count": 22,
      "metadata": {
        "id": "9rh7NLZ9OFxA",
        "outputId": "25d437d8-f6b2-41e7-979b-e5bb00cefa53",
        "colab": {
          "base_uri": "https://localhost:8080/"
        }
      },
      "outputs": [
        {
          "output_type": "execute_result",
          "data": {
            "text/plain": [
              "2"
            ]
          },
          "metadata": {},
          "execution_count": 22
        }
      ],
      "source": [
        "a=[1, 2, 3, 'ppp', 4, 'kkk', [6, 7], 6, 7, 2]\n",
        "a.pop()"
      ]
    },
    {
      "cell_type": "code",
      "execution_count": 23,
      "metadata": {
        "id": "M8BTLRN9OFxA",
        "outputId": "2a9ba4bc-9ce2-4395-c8d8-25cd35eedc7f",
        "colab": {
          "base_uri": "https://localhost:8080/"
        }
      },
      "outputs": [
        {
          "output_type": "execute_result",
          "data": {
            "text/plain": [
              "7"
            ]
          },
          "metadata": {},
          "execution_count": 23
        }
      ],
      "source": [
        "a.pop()\n"
      ]
    },
    {
      "cell_type": "code",
      "execution_count": 24,
      "metadata": {
        "id": "JRhCvTVhOFxB",
        "outputId": "5b290e59-03bd-404d-fcc1-633b46bdfb5a",
        "colab": {
          "base_uri": "https://localhost:8080/"
        }
      },
      "outputs": [
        {
          "output_type": "execute_result",
          "data": {
            "text/plain": [
              "[1, 2, 3, 'ppp', 4, 'kkk', [6, 7], 6]"
            ]
          },
          "metadata": {},
          "execution_count": 24
        }
      ],
      "source": [
        "a"
      ]
    },
    {
      "cell_type": "code",
      "execution_count": 25,
      "metadata": {
        "id": "siJS0vSMOFxC"
      },
      "outputs": [],
      "source": [
        "a.remove('ppp')"
      ]
    },
    {
      "cell_type": "code",
      "execution_count": 26,
      "metadata": {
        "id": "UJj_MD7VOFxD",
        "outputId": "8bfacf10-02bf-4d48-d3c4-941a72c0116a",
        "colab": {
          "base_uri": "https://localhost:8080/"
        }
      },
      "outputs": [
        {
          "output_type": "execute_result",
          "data": {
            "text/plain": [
              "[1, 2, 3, 4, 'kkk', [6, 7], 6]"
            ]
          },
          "metadata": {},
          "execution_count": 26
        }
      ],
      "source": [
        "a"
      ]
    }
  ],
  "metadata": {
    "kernelspec": {
      "display_name": "Python 3",
      "language": "python",
      "name": "python3"
    },
    "language_info": {
      "codemirror_mode": {
        "name": "ipython",
        "version": 3
      },
      "file_extension": ".py",
      "mimetype": "text/x-python",
      "name": "python",
      "nbconvert_exporter": "python",
      "pygments_lexer": "ipython3",
      "version": "3.7.7"
    },
    "colab": {
      "provenance": [],
      "include_colab_link": true
    }
  },
  "nbformat": 4,
  "nbformat_minor": 0
}