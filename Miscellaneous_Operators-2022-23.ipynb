{
  "cells": [
    {
      "cell_type": "markdown",
      "source": [
        "Shared by Srujana Mam, CSE Dept. CBIT"
      ],
      "metadata": {
        "id": "pPnZJnp0q9Ck"
      }
    },
    {
      "cell_type": "markdown",
      "metadata": {
        "id": "eKpZKmBHOFwn"
      },
      "source": [
        "Python Special operators\n",
        "\n",
        "Python language offers some special types of operators like the identity operator and the membership operator.\n",
        "\n",
        "# Identity operators\n",
        "In Python, is and is not are used to check if two values are located on the same part of the memory. "
      ]
    },
    {
      "cell_type": "code",
      "execution_count": null,
      "metadata": {
        "colab": {
          "base_uri": "https://localhost:8080/"
        },
        "id": "Lu9s0da1OFwq",
        "outputId": "8c7d6993-f811-4e43-b06d-7ad08063da7b"
      },
      "outputs": [
        {
          "output_type": "stream",
          "name": "stdout",
          "text": [
            "True\n",
            "True\n",
            "False\n",
            "140129859774272\n",
            "140129908077696\n"
          ]
        }
      ],
      "source": [
        "x1 = 5\n",
        "y1 = 6\n",
        "x2 = 'Hello'\n",
        "y2 = 'Hello'\n",
        "x3 = [1,2,3]\n",
        "y3 = [1,2,3]\n",
        "#print(id(x1),id(y1))\n",
        "print(x1 is not y1) \n",
        "\n",
        "print(x2 is y2)  \n",
        "\n",
        "print(x3 is y3)  \n",
        "print(id(x3))\n",
        "print(id(y3))"
      ]
    },
    {
      "cell_type": "markdown",
      "metadata": {
        "id": "IvFIkbLrOFwv"
      },
      "source": [
        "# Membership operators\n",
        "In Python, in and not in are the membership operators. They are used to test whether a value or variable is found in a sequence (string, list, tuple, set and dictionary)."
      ]
    },
    {
      "cell_type": "code",
      "execution_count": null,
      "metadata": {
        "id": "L0Nz0cuSOFww",
        "outputId": "0af56b1e-5bc6-4cc4-d326-c55245fd6d38"
      },
      "outputs": [
        {
          "name": "stdout",
          "output_type": "stream",
          "text": [
            "True\n"
          ]
        }
      ],
      "source": [
        "\n",
        "list_1 = ['sita', 'ram', 'laxman']\n",
        "print('bharath' not in list_1)"
      ]
    },
    {
      "cell_type": "code",
      "execution_count": null,
      "metadata": {
        "id": "I-Vi0eZgOFwx",
        "outputId": "67f4bd97-cdaa-4878-a54b-23ab3c3fbdfb"
      },
      "outputs": [
        {
          "name": "stdout",
          "output_type": "stream",
          "text": [
            "False\n"
          ]
        }
      ],
      "source": [
        "item = 45\n",
        "list_1 = list(range(1, 30))\n",
        "print(item in list_1)"
      ]
    },
    {
      "cell_type": "code",
      "execution_count": null,
      "metadata": {
        "id": "IGrM2c-GOFwy",
        "outputId": "137ae411-babd-454c-a72b-0d1aa5e59adc"
      },
      "outputs": [
        {
          "name": "stdout",
          "output_type": "stream",
          "text": [
            "True\n"
          ]
        }
      ],
      "source": [
        "a = 'ravana'\n",
        "list_1 = ['sita', 'ram', 'laxman']\n",
        "print(a not in list_1)"
      ]
    },
    {
      "cell_type": "markdown",
      "metadata": {
        "id": "wNglFcGWOFwz"
      },
      "source": [
        "![image.png](attachment:image.png)"
      ]
    },
    {
      "cell_type": "code",
      "execution_count": null,
      "metadata": {
        "id": "WUza86ejOFwz",
        "outputId": "37ab8d79-5828-4dd6-b595-a261c4e0f5d7"
      },
      "outputs": [
        {
          "name": "stdout",
          "output_type": "stream",
          "text": [
            "W\n"
          ]
        }
      ],
      "source": [
        "s=\"Welcome\"\n",
        "print(s[-7])"
      ]
    },
    {
      "cell_type": "markdown",
      "metadata": {
        "id": "I5EmUz5ROFw0"
      },
      "source": [
        "# Slice Operator\n",
        "\n",
        "The Slice Operator\n",
        "\n",
        "A substring of a string is called a slice. Selecting a slice is similar to selecting a character:\n",
        "\n",
        "The slice operator [n:m] returns the part of the string starting with the character at index n and go up to but not including the character at index m. Or with normal counting from 1, this is the (n+1)st character up to and including the mth character.\n",
        "\n",
        "If you omit the first index (before the colon), the slice starts at the beginning of the string/List/Tuple. If you omit the second index, the slice goes to the end of the string."
      ]
    },
    {
      "cell_type": "code",
      "execution_count": null,
      "metadata": {
        "id": "zw5lVmIWOFw1",
        "outputId": "ff65436d-5359-4751-ef09-e37e9bd6f7ec"
      },
      "outputs": [
        {
          "name": "stdout",
          "output_type": "stream",
          "text": [
            "['b', 'c']\n",
            "['a', 'b', 'c', 'd']\n",
            "['d', 'e', 'f']\n",
            "['a', 'b', 'c', 'd', 'e', 'f']\n"
          ]
        }
      ],
      "source": [
        "a_list = ['a', 'b', 'c', 'd', 'e', 'f']\n",
        "print(a_list[1:3])\n",
        "print(a_list[:4])\n",
        "print(a_list[3:])\n",
        "print(a_list[:])"
      ]
    },
    {
      "cell_type": "markdown",
      "metadata": {
        "id": "T-IijphsOFw2"
      },
      "source": [
        "myStr[start:stop:step]\n",
        "\n",
        "myStr[:stop]  # By using one colon and leaving the first argument blank we automatically start at index 0, stepping by 1\n",
        "\n",
        "myStr[start:]  # By using one colon and leaving the last argument blank we automatically go to the end, stepping by 1\n",
        "\n",
        "myStr[::step]  # by using two colons and leaving the first two arguments blank we start at index 0, go to the end and step by 1"
      ]
    },
    {
      "cell_type": "code",
      "execution_count": null,
      "metadata": {
        "id": "jrPZGobhOFw2"
      },
      "outputs": [],
      "source": [
        "L = ['a', 'b', 'c', 'd', 'e', 'f', 'g', 'h', 'i']\n",
        "print(L[2:7])\n"
      ]
    },
    {
      "cell_type": "code",
      "execution_count": null,
      "metadata": {
        "id": "jiChuhVKOFw4"
      },
      "outputs": [],
      "source": [
        "L = ['a', 'b', 'c', 'd', 'e', 'f', 'g', 'h', 'i']\n",
        "print(L[-7:-2])"
      ]
    },
    {
      "cell_type": "code",
      "execution_count": null,
      "metadata": {
        "id": "US991eM5OFw4"
      },
      "outputs": [],
      "source": [
        "L = ['a', 'b', 'c', 'd', 'e', 'f', 'g', 'h', 'i']\n",
        "print(L[2:-5])"
      ]
    },
    {
      "cell_type": "code",
      "execution_count": null,
      "metadata": {
        "id": "b4jYnSH9OFw5"
      },
      "outputs": [],
      "source": [
        "# Return every 2nd item between position 2 to 7\n",
        "L = ['a', 'b', 'c', 'd', 'e', 'f', 'g', 'h', 'i']\n",
        "print(L[2:7:2])"
      ]
    },
    {
      "cell_type": "code",
      "execution_count": null,
      "metadata": {
        "id": "MnrdsrT6OFw6"
      },
      "outputs": [],
      "source": [
        "L = ['a', 'b', 'c', 'd', 'e', 'f', 'g', 'h', 'i']\n",
        "print(L[6:1:-2])\n"
      ]
    },
    {
      "cell_type": "code",
      "execution_count": null,
      "metadata": {
        "id": "magCCybFOFw7"
      },
      "outputs": [],
      "source": [
        "# Slice the first three items from the list\n",
        "L = ['a', 'b', 'c', 'd', 'e', 'f', 'g', 'h', 'i']\n",
        "print(L[:3])\n"
      ]
    },
    {
      "cell_type": "code",
      "execution_count": null,
      "metadata": {
        "id": "prAtXk-UOFw7"
      },
      "outputs": [],
      "source": [
        "# Slice the last three items from the list\n",
        "L = ['a', 'b', 'c', 'd', 'e', 'f', 'g', 'h', 'i']\n",
        "print(L[6:])"
      ]
    },
    {
      "cell_type": "code",
      "execution_count": null,
      "metadata": {
        "id": "vQtBJ5BNOFw8"
      },
      "outputs": [],
      "source": [
        "L = ['a', 'b', 'c', 'd', 'e']\n",
        "print(L[::-1])"
      ]
    },
    {
      "cell_type": "markdown",
      "metadata": {
        "id": "4ldwZi9jOFw8"
      },
      "source": [
        "# Ellipsis Operator\n",
        "An Ellipsis Is a Placeholder for Unwritten Code\n",
        "\n",
        "When designing a new module, we usually define some functions or classes but won’t implement them immediately. Because we only want to determine what we need to write in future and don’t care too much about the implementation details at this early stage. In this scenario, the ellipsis is our best friend:"
      ]
    },
    {
      "cell_type": "code",
      "execution_count": null,
      "metadata": {
        "id": "UP4Ok4nqOFw8"
      },
      "outputs": [],
      "source": [
        "def write_an_article():\n",
        "    ...\n"
      ]
    },
    {
      "cell_type": "code",
      "execution_count": null,
      "metadata": {
        "id": "krqbjgfyOFw9"
      },
      "outputs": [],
      "source": [
        "def write_an_article():\n",
        "    pass"
      ]
    },
    {
      "cell_type": "markdown",
      "metadata": {
        "id": "AuY_zQAKOFw9"
      },
      "source": [
        "# Sequence mutation and accumulating patterns\n",
        "\n",
        "The Accumulator Pattern:\n",
        "\n",
        "One common programming “pattern” is to traverse a sequence, accumulating a value as we go, such as the sum-so-far or the maximum-so-far. That way, at the end of the traversal we have accumulated a single value, such as the sum total of all the items or the largest item.\n",
        "\n",
        "The anatomy of the accumulation pattern includes:\n",
        "\n",
        "•\tinitializing an “accumulator” variable to an initial value (such as 0 if accumulating a sum)\n",
        "\n",
        "•\titerating (e.g., traversing the items in a sequence)\n",
        "\n",
        "•\tupdating the accumulator variable on each iteration (i.e., when processing each item in the sequence)\n"
      ]
    },
    {
      "cell_type": "code",
      "execution_count": null,
      "metadata": {
        "id": "LuN99ZISOFw9",
        "outputId": "05cd05fa-b4d3-4659-97e6-5e1d7a7246fb"
      },
      "outputs": [
        {
          "name": "stdout",
          "output_type": "stream",
          "text": [
            "55\n"
          ]
        }
      ],
      "source": [
        "nums = [1, 2, 3, 4, 5, 6, 7, 8, 9, 10]\n",
        "\n",
        "accum = 0\n",
        "\n",
        "for w in nums:\n",
        "\n",
        "    accum = accum + w\n",
        "\n",
        "print(accum)"
      ]
    },
    {
      "cell_type": "markdown",
      "metadata": {
        "id": "DCoGdQO7OFw-"
      },
      "source": [
        "In the program above, notice that the variable accum starts out with a value of 0. Next, the iteration is performed 10 times. Inside the for loop, the update occurs. w has the value of current item (1 the first time, then 2, then 3, etc.). accum is reassigned a new value which is the old value plus the current value of w.\n",
        "\n",
        "This pattern of iterating the updating of a variable is commonly referred to as the accumulator pattern. We refer to the variable as the accumulator. This pattern will come up over and over again. Remember that the key to making it work successfully is to be sure to initialize the variable before you start the iteration. Once inside the iteration, it is required that you update the accumulator."
      ]
    },
    {
      "cell_type": "markdown",
      "metadata": {
        "id": "t1CPSikDOFw-"
      },
      "source": [
        "# Sequence mutation:"
      ]
    },
    {
      "cell_type": "markdown",
      "metadata": {
        "id": "w8smAS_0OFw-"
      },
      "source": [
        "Mutation is change in the object after object is created"
      ]
    },
    {
      "cell_type": "code",
      "execution_count": null,
      "metadata": {
        "id": "qribY1-OOFw_",
        "outputId": "17cb1bf0-0660-45ea-fdc3-54845bf449b6"
      },
      "outputs": [
        {
          "data": {
            "text/plain": [
              "[1, 2, 'kkk', 'jjj', 5]"
            ]
          },
          "execution_count": 16,
          "metadata": {},
          "output_type": "execute_result"
        }
      ],
      "source": [
        "lt=[1,2,'kkk','jjj',5]\n",
        "lt\n"
      ]
    },
    {
      "cell_type": "code",
      "execution_count": null,
      "metadata": {
        "id": "SgAi-5nDOFw_",
        "outputId": "243132e7-525b-446b-9a56-612d43ea52cf"
      },
      "outputs": [
        {
          "data": {
            "text/plain": [
              "[23, 2, 'kkk', 'jjj', 5]"
            ]
          },
          "execution_count": 18,
          "metadata": {},
          "output_type": "execute_result"
        }
      ],
      "source": [
        "lt[0]=23\n",
        "lt"
      ]
    },
    {
      "cell_type": "markdown",
      "metadata": {
        "id": "9QC4WMP1OFw_"
      },
      "source": [
        "#List is mutable, hence changes in object is permitted after its creation, check the above example\n",
        "\n",
        "Mutation is also possible through methods, check below example using pop(), remove(), etc\n",
        "\n"
      ]
    },
    {
      "cell_type": "code",
      "execution_count": null,
      "metadata": {
        "id": "9rh7NLZ9OFxA",
        "outputId": "5c1cd46f-f3a2-4ce8-8df3-fbcc389a8430"
      },
      "outputs": [
        {
          "data": {
            "text/plain": [
              "2"
            ]
          },
          "execution_count": 19,
          "metadata": {},
          "output_type": "execute_result"
        }
      ],
      "source": [
        "a=[1, 2, 3, 'ppp', 4, 'kkk', [6, 7], 6, 7, 2]\n",
        "a.pop()"
      ]
    },
    {
      "cell_type": "code",
      "execution_count": null,
      "metadata": {
        "id": "M8BTLRN9OFxA",
        "outputId": "01968c8b-52a2-40ad-d824-3c72591552fc"
      },
      "outputs": [
        {
          "data": {
            "text/plain": [
              "7"
            ]
          },
          "execution_count": 20,
          "metadata": {},
          "output_type": "execute_result"
        }
      ],
      "source": [
        "a.pop()\n"
      ]
    },
    {
      "cell_type": "code",
      "execution_count": null,
      "metadata": {
        "id": "JRhCvTVhOFxB",
        "outputId": "8be34d5b-389c-431f-9fbd-bb783447c100"
      },
      "outputs": [
        {
          "data": {
            "text/plain": [
              "[1, 2, 3, 'ppp', 4, 'kkk', [6, 7], 6]"
            ]
          },
          "execution_count": 21,
          "metadata": {},
          "output_type": "execute_result"
        }
      ],
      "source": [
        "a"
      ]
    },
    {
      "cell_type": "code",
      "execution_count": null,
      "metadata": {
        "id": "siJS0vSMOFxC"
      },
      "outputs": [],
      "source": [
        "a.remove('ppp')"
      ]
    },
    {
      "cell_type": "code",
      "execution_count": null,
      "metadata": {
        "id": "UJj_MD7VOFxD",
        "outputId": "a42d608c-158c-4d0e-991b-82c5e8de6b23"
      },
      "outputs": [
        {
          "data": {
            "text/plain": [
              "[1, 2, 3, 4, 'kkk', [6, 7], 6]"
            ]
          },
          "execution_count": 23,
          "metadata": {},
          "output_type": "execute_result"
        }
      ],
      "source": [
        "a"
      ]
    }
  ],
  "metadata": {
    "kernelspec": {
      "display_name": "Python 3",
      "language": "python",
      "name": "python3"
    },
    "language_info": {
      "codemirror_mode": {
        "name": "ipython",
        "version": 3
      },
      "file_extension": ".py",
      "mimetype": "text/x-python",
      "name": "python",
      "nbconvert_exporter": "python",
      "pygments_lexer": "ipython3",
      "version": "3.7.7"
    },
    "colab": {
      "provenance": []
    }
  },
  "nbformat": 4,
  "nbformat_minor": 0
}