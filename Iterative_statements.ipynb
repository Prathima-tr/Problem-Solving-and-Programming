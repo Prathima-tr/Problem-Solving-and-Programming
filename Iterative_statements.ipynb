{
  "cells": [
    {
      "cell_type": "markdown",
      "metadata": {
        "id": "plE_BEz6q5jy"
      },
      "source": [
        "#Python Iterative Statements"
      ]
    },
    {
      "cell_type": "markdown",
      "metadata": {
        "id": "Y5NL-Z0Sq5j3"
      },
      "source": [
        "Type of Iteration Statements In Python 3\n",
        "\n",
        "In Python Iteration (Loops) statements are of three types :-\n",
        "\n",
        "1. While Loop\n",
        "\n",
        "2. For Loop\n",
        "\n",
        "3. Nested For Loops"
      ]
    },
    {
      "cell_type": "markdown",
      "source": [
        "Shared by Srujana Mam, CSE Dept. CBIT"
      ],
      "metadata": {
        "id": "trJGYRD8rH_T"
      }
    },
    {
      "cell_type": "markdown",
      "metadata": {
        "id": "lm68zzAgq5j8"
      },
      "source": [
        "# Range Function\n",
        "The range() function returns a sequence of numbers, starting from 0 by default, and increments by 1 (by default), and stops before a specified number."
      ]
    },
    {
      "cell_type": "markdown",
      "metadata": {
        "id": "_lvZPWCgq5j-"
      },
      "source": [
        "Syntax\n",
        "\n",
        "range(start, stop, step)\n",
        "\n",
        "\n",
        "Parameter Values\n",
        "\n",
        "    Parameter\t    Description\n",
        "\n",
        "    start\t        Optional. An integer number specifying at which                             position to start.Default is 0\n",
        "                \n",
        "                \n",
        "    stop\t        Required. An integer number specifying at which                             position to stop (not included).\n",
        "\n",
        "    step\t        Optional. An integer number specifying the                                 incrementation.  Default is 1\n"
      ]
    },
    {
      "cell_type": "code",
      "execution_count": null,
      "metadata": {
        "id": "mNMgjYl6q5j_",
        "outputId": "e8ed5c52-c07f-4d06-d54f-2163fb61979c"
      },
      "outputs": [
        {
          "name": "stdout",
          "output_type": "stream",
          "text": [
            "1\n",
            "2\n",
            "3\n",
            "4\n",
            "5\n",
            "6\n",
            "7\n",
            "8\n",
            "9\n",
            "10\n"
          ]
        }
      ],
      "source": [
        "x=range(1,11)\n",
        "for i in x:\n",
        "    print(i)\n"
      ]
    },
    {
      "cell_type": "code",
      "execution_count": null,
      "metadata": {
        "id": "eLz6o5Wfq5kA",
        "outputId": "6afccd7a-8623-4fba-c771-943fd51885c4"
      },
      "outputs": [
        {
          "data": {
            "text/plain": [
              "range(0, 10)"
            ]
          },
          "execution_count": 9,
          "metadata": {},
          "output_type": "execute_result"
        }
      ],
      "source": [
        "range(1,11,2)\n",
        "range(10,5,2)\n",
        "range(5,0)\n",
        "range(10,0,-1)\n",
        "range(5,10,-1)\n",
        "range(10)"
      ]
    },
    {
      "cell_type": "markdown",
      "metadata": {
        "id": "GnJ5yF1sq5kB"
      },
      "source": [
        "For loop\n",
        "Syntax\n",
        "\n",
        "![image.png](attachment:image.png)"
      ]
    },
    {
      "cell_type": "markdown",
      "metadata": {
        "id": "m2NmQFKcq5kB"
      },
      "source": [
        "![image.png](attachment:image.png)"
      ]
    },
    {
      "cell_type": "code",
      "execution_count": null,
      "metadata": {
        "id": "SF30Qfg2q5kC",
        "outputId": "33f496c6-5d32-4d77-cdfb-04df04dc4e5c"
      },
      "outputs": [
        {
          "name": "stdout",
          "output_type": "stream",
          "text": [
            "1\n",
            "3\n",
            "5\n",
            "7\n",
            "9\n"
          ]
        }
      ],
      "source": [
        "for i in range(1,10,2):\n",
        "    print(i)"
      ]
    },
    {
      "cell_type": "code",
      "execution_count": null,
      "metadata": {
        "id": "aT13GTDTq5kD"
      },
      "outputs": [],
      "source": [
        "for i in range(0,5):\n",
        "    print(i)"
      ]
    },
    {
      "cell_type": "markdown",
      "metadata": {
        "id": "-6CdcFNLq5kF"
      },
      "source": [
        "1. Program to find sum of first n natural numbers\n"
      ]
    },
    {
      "cell_type": "code",
      "execution_count": null,
      "metadata": {
        "id": "9fyRTkvmq5kF",
        "outputId": "398de015-f50c-4c90-de25-c7eaf2b677e5"
      },
      "outputs": [
        {
          "name": "stdout",
          "output_type": "stream",
          "text": [
            "enter num50\n",
            "sum of first  50 is 1275\n"
          ]
        }
      ],
      "source": [
        "n=int(input(\"enter num\"))\n",
        "sum=0\n",
        "for i in range(1,n+1):\n",
        "    sum=sum+i\n",
        "print(\"sum of first \",n,\"is\",sum)"
      ]
    },
    {
      "cell_type": "markdown",
      "metadata": {
        "id": "EAmLvscoq5kG"
      },
      "source": [
        "# 2. Program to find sum of first 100 even and odd numbers "
      ]
    },
    {
      "cell_type": "code",
      "execution_count": null,
      "metadata": {
        "id": "8f0iTZiaq5kH",
        "outputId": "165deefa-7c38-4f28-d983-c553b00b2535"
      },
      "outputs": [
        {
          "name": "stdout",
          "output_type": "stream",
          "text": [
            "even sum 2550 odd sum 2500\n"
          ]
        }
      ],
      "source": [
        "sume=0\n",
        "sumo=0\n",
        "for i in range(0,101):\n",
        "    if i%2==0:\n",
        "        sume=sume+i\n",
        "    else:\n",
        "        sumo=sumo+i\n",
        "print(\"even sum\",sume,\"odd sum\",sumo)"
      ]
    },
    {
      "cell_type": "markdown",
      "metadata": {
        "id": "X1oL9FF9q5kI"
      },
      "source": [
        "#3.Program to find factorial of a given number"
      ]
    },
    {
      "cell_type": "code",
      "execution_count": null,
      "metadata": {
        "id": "rdYVhlL_q5kI",
        "outputId": "ad9df63f-e430-4634-b7b6-c34cdf77ff43"
      },
      "outputs": [
        {
          "name": "stdout",
          "output_type": "stream",
          "text": [
            "enter a num5\n",
            "factorial of  5 is 120\n"
          ]
        }
      ],
      "source": [
        "f=1\n",
        "n=int(input(\"enter a num\"))\n",
        "for i in range(n,0,-1):\n",
        "    f=f*i\n",
        "print(\"factorial of \",n,\"is\",f)\n"
      ]
    },
    {
      "cell_type": "markdown",
      "metadata": {
        "id": "GNBpu7P_q5kJ"
      },
      "source": [
        "# While Loop"
      ]
    },
    {
      "cell_type": "markdown",
      "metadata": {
        "id": "vh13dXWCq5kL"
      },
      "source": [
        "Syntax:"
      ]
    },
    {
      "cell_type": "markdown",
      "metadata": {
        "id": "yx77QSj2q5kM"
      },
      "source": [
        "![image.png](attachment:image.png)"
      ]
    },
    {
      "cell_type": "markdown",
      "metadata": {
        "id": "6lfvJlKmq5kN"
      },
      "source": [
        "![image.png](attachment:image.png)"
      ]
    },
    {
      "cell_type": "markdown",
      "metadata": {
        "id": "xbcrVpmOq5kO"
      },
      "source": [
        "![image.png](attachment:image.png)"
      ]
    },
    {
      "cell_type": "markdown",
      "metadata": {
        "id": "NQOLyYGgq5kO"
      },
      "source": [
        "![image.png](attachment:image.png)"
      ]
    },
    {
      "cell_type": "markdown",
      "metadata": {
        "id": "1IN2mMfQq5kO"
      },
      "source": [
        "# 4. Sum of first 50 natural numbers"
      ]
    },
    {
      "cell_type": "code",
      "execution_count": null,
      "metadata": {
        "id": "haqv34D5q5kP",
        "outputId": "19ae1507-a8b5-4ca4-f456-6fe0681f8600"
      },
      "outputs": [
        {
          "name": "stdout",
          "output_type": "stream",
          "text": [
            "1275\n"
          ]
        }
      ],
      "source": [
        "sum=0\n",
        "i=1\n",
        "while i<=50:\n",
        "    sum=sum+i\n",
        "    i=i+1\n",
        "print(sum)"
      ]
    },
    {
      "cell_type": "markdown",
      "metadata": {
        "id": "DVmFA5Veq5kP"
      },
      "source": [
        "# 5 .program to find factorial of a number"
      ]
    },
    {
      "cell_type": "code",
      "execution_count": null,
      "metadata": {
        "id": "-1x8VY7zq5kP",
        "outputId": "4cacf0c3-2193-4df0-82ac-f2be61611c33"
      },
      "outputs": [
        {
          "name": "stdout",
          "output_type": "stream",
          "text": [
            "720\n"
          ]
        }
      ],
      "source": [
        "i=1\n",
        "f=1\n",
        "n=6\n",
        "while i<=n:\n",
        "    f=f*i\n",
        "    i=i+1\n",
        "print(f)\n"
      ]
    },
    {
      "cell_type": "markdown",
      "metadata": {
        "id": "gsbyxg-Uq5kP"
      },
      "source": [
        "# 6.program to find sum of digits of a number:"
      ]
    },
    {
      "cell_type": "code",
      "execution_count": null,
      "metadata": {
        "id": "LZcmr9T9q5kR"
      },
      "outputs": [],
      "source": []
    },
    {
      "cell_type": "markdown",
      "metadata": {
        "id": "uzfhSq6Tq5kR"
      },
      "source": [
        "# 7. Program to Reverse the given number:"
      ]
    },
    {
      "cell_type": "code",
      "execution_count": null,
      "metadata": {
        "id": "IKHQqjRJq5kR",
        "outputId": "1a5f4ab3-1596-412c-a305-75205e805043"
      },
      "outputs": [
        {
          "name": "stdout",
          "output_type": "stream",
          "text": [
            "Enter the value of n: 2345\n",
            "Given number is: 2345\n",
            "5432"
          ]
        }
      ],
      "source": [
        "#script to print the given number in reverse order\n",
        "n=int(input(\"Enter the value of n: \"))\n",
        "print(\"Given number is:\",n)\n",
        "while n:                   #looping construct\n",
        "    d=n%10\n",
        "    print(d,end=\"\")\n",
        "    n=n//10"
      ]
    },
    {
      "cell_type": "markdown",
      "metadata": {
        "id": "fBiy0X8Hq5kR"
      },
      "source": [
        "# 8. Program to find number is Armstrong number or not (153)"
      ]
    },
    {
      "cell_type": "code",
      "execution_count": null,
      "metadata": {
        "id": "iRpMEWdMq5kR"
      },
      "outputs": [],
      "source": []
    },
    {
      "cell_type": "markdown",
      "metadata": {
        "id": "2WnTuDo5q5kR"
      },
      "source": [
        "# 9.Program to check the number is palindrome or not"
      ]
    },
    {
      "cell_type": "code",
      "execution_count": null,
      "metadata": {
        "id": "aPmLazFWq5kS"
      },
      "outputs": [],
      "source": []
    },
    {
      "cell_type": "markdown",
      "metadata": {
        "id": "O8FCwjqTq5kS"
      },
      "source": [
        "# 10.Python program to count the total number of digits in a number."
      ]
    },
    {
      "cell_type": "code",
      "execution_count": null,
      "metadata": {
        "id": "QqTCwoJSq5kS"
      },
      "outputs": [],
      "source": []
    },
    {
      "cell_type": "markdown",
      "metadata": {
        "id": "0dU3CZezq5kT"
      },
      "source": [
        "# 11. Write a python script to convert binary number to decimal\n",
        "![image.png](attachment:image.png)"
      ]
    },
    {
      "cell_type": "code",
      "execution_count": null,
      "metadata": {
        "id": "ZV3-V3Xhq5kT"
      },
      "outputs": [],
      "source": []
    },
    {
      "cell_type": "markdown",
      "metadata": {
        "id": "lQ5GPGzWq5kT"
      },
      "source": [
        "# 12 .Write a python script to find largest digit in a given number . Example n=136294 Output=9\n"
      ]
    },
    {
      "cell_type": "code",
      "execution_count": null,
      "metadata": {
        "id": "P74IWGH4q5kT"
      },
      "outputs": [],
      "source": []
    },
    {
      "cell_type": "markdown",
      "metadata": {
        "id": "BK5kpIp1q5kV"
      },
      "source": [
        "# 13. Suppose we have a number n. We have to find the super digit of this number. The super digit of a single digit number is the digit itself but for multi-digit numbers super digit is the sum of all digits repeatedly until the sum is a single digit number.\n",
        "So, if the input is like n = 513682, then the output will be 7 because (5+1+3+6+8+2) = 25, (2 + 5) = 7.\n"
      ]
    },
    {
      "cell_type": "code",
      "execution_count": null,
      "metadata": {
        "id": "2SOTRkY8q5kV"
      },
      "outputs": [],
      "source": []
    },
    {
      "cell_type": "markdown",
      "metadata": {
        "id": "-sGGR7Beq5kW"
      },
      "source": [
        "# 14.Write a python script to find factors of a given number"
      ]
    },
    {
      "cell_type": "code",
      "execution_count": null,
      "metadata": {
        "id": "qnZZqebRq5kW"
      },
      "outputs": [],
      "source": []
    },
    {
      "cell_type": "markdown",
      "metadata": {
        "id": "qB1SmtSxq5kX"
      },
      "source": [
        "# 15. Write a python script to find sum of factors of a given number"
      ]
    },
    {
      "cell_type": "code",
      "execution_count": null,
      "metadata": {
        "id": "hapnlI57q5kX"
      },
      "outputs": [],
      "source": []
    },
    {
      "cell_type": "markdown",
      "metadata": {
        "id": "JAtCNMWEq5kX"
      },
      "source": [
        "# 16. Write a python script to check a given number is perfect number or not"
      ]
    },
    {
      "cell_type": "code",
      "execution_count": null,
      "metadata": {
        "id": "FdDT8Tg6q5kY"
      },
      "outputs": [],
      "source": []
    },
    {
      "cell_type": "markdown",
      "metadata": {
        "id": "vVO6h5Yvq5kY"
      },
      "source": [
        "# 17. Write a python script to check a given number is prime or not"
      ]
    },
    {
      "cell_type": "code",
      "execution_count": null,
      "metadata": {
        "id": "nYAjdIIkq5kY"
      },
      "outputs": [],
      "source": []
    },
    {
      "cell_type": "markdown",
      "metadata": {
        "id": "7bcz42fbq5kZ"
      },
      "source": [
        "# 18Write a python script to print multiplication table"
      ]
    },
    {
      "cell_type": "code",
      "execution_count": null,
      "metadata": {
        "id": "JDROxA78q5kZ"
      },
      "outputs": [],
      "source": []
    },
    {
      "cell_type": "markdown",
      "metadata": {
        "id": "gMyR7cGVq5kZ"
      },
      "source": [
        "Break and Continue\n",
        "Break: We use break when we like to get out of or stop the loop.\n",
        "# syntax\n",
        "while condition:\n",
        "\n",
        "    code goes here\n",
        "    \n",
        "    if another_condition:\n",
        "    \n",
        "        break\n"
      ]
    },
    {
      "cell_type": "code",
      "execution_count": null,
      "metadata": {
        "id": "TR1ZFGcSq5ka",
        "outputId": "425d5628-0edd-4878-e66e-df1728a075cf"
      },
      "outputs": [
        {
          "name": "stdout",
          "output_type": "stream",
          "text": [
            "0\n",
            "1\n",
            "2\n"
          ]
        }
      ],
      "source": [
        "count = 0\n",
        "while count < 5:\n",
        "    print(count)\n",
        "    count = count + 1\n",
        "    if count == 3:\n",
        "        break\n"
      ]
    },
    {
      "cell_type": "markdown",
      "metadata": {
        "id": "s4V798wCq5kc"
      },
      "source": [
        "Continue: With the continue statement we can skip the current iteration, and continue with the next: \n",
        "  # syntax\n",
        "while condition:\n",
        "\n",
        "    code goes here\n",
        "    \n",
        "    if another_condition:\n",
        "    \n",
        "        continue\n"
      ]
    },
    {
      "cell_type": "code",
      "execution_count": null,
      "metadata": {
        "id": "zp8zSbFOq5kd",
        "outputId": "772c6846-5a31-479f-d54b-e7c53234442c"
      },
      "outputs": [
        {
          "name": "stdout",
          "output_type": "stream",
          "text": [
            "0\n",
            "1\n",
            "2\n"
          ]
        }
      ],
      "source": [
        "count = 0\n",
        "while count < 5:\n",
        "    if count == 3:\n",
        "        continue\n",
        "    print(count)\n",
        "    count = count + 1\n"
      ]
    },
    {
      "cell_type": "markdown",
      "metadata": {
        "id": "5ypAhPMaq5kf"
      },
      "source": [
        "![image.png](attachment:image.png)"
      ]
    },
    {
      "cell_type": "markdown",
      "metadata": {
        "id": "bNe4mWF3q5kg"
      },
      "source": [
        "# 19 . script to print Fibocacci series upto 'n'\n",
        "\n"
      ]
    },
    {
      "cell_type": "code",
      "execution_count": null,
      "metadata": {
        "id": "yrB3ql9Vq5kg",
        "outputId": "38e539e5-2c76-43e0-daef-42f701998821"
      },
      "outputs": [
        {
          "name": "stdout",
          "output_type": "stream",
          "text": [
            "Enter the value of n: 8\n",
            "0 1 1 2 3 5 8 13 "
          ]
        }
      ],
      "source": [
        "#script to print Fibocacci series upto 'n'\n",
        "n=int(input(\"Enter the value of n: \"))\n",
        "a = 0; b = 1\n",
        "for i in range(n):\n",
        "    print(a, end=\" \")\n",
        "    c = a + b\n",
        "    a = b; b= c"
      ]
    },
    {
      "cell_type": "markdown",
      "metadata": {
        "id": "DTwpcvKyq5kg"
      },
      "source": [
        "# 20.Modify the above script to print Fibonacci numbers up to 'n'\n",
        "1. create a list object that contains all the fibonacci numbers\n",
        "\n",
        "2. print the numbers and also should print a particular number and its position in the list. "
      ]
    },
    {
      "cell_type": "code",
      "execution_count": null,
      "metadata": {
        "id": "eGV-UBGaq5kh"
      },
      "outputs": [],
      "source": []
    },
    {
      "cell_type": "markdown",
      "metadata": {
        "id": "3Ol2ldDjq5kh"
      },
      "source": [
        "# 21. WAP to print all the prime numbers of a certain range given by the user"
      ]
    },
    {
      "cell_type": "code",
      "execution_count": null,
      "metadata": {
        "id": "GgM0QLP8q5kh"
      },
      "outputs": [],
      "source": []
    },
    {
      "cell_type": "code",
      "execution_count": null,
      "metadata": {
        "id": "yfxt-mqKq5kh",
        "outputId": "a293b9f8-c180-4969-e487-bac1b794d2a6"
      },
      "outputs": [
        {
          "ename": "KeyboardInterrupt",
          "evalue": "Interrupted by user",
          "output_type": "error",
          "traceback": [
            "\u001b[1;31m---------------------------------------------------------------------------\u001b[0m",
            "\u001b[1;31mKeyboardInterrupt\u001b[0m                         Traceback (most recent call last)",
            "\u001b[1;32m<ipython-input-8-2d75c8b9e2dc>\u001b[0m in \u001b[0;36m<module>\u001b[1;34m\u001b[0m\n\u001b[0;32m      1\u001b[0m \u001b[1;36m22.\u001b[0m\u001b[1;31m# Script to count the number of vowels from a given text\u001b[0m\u001b[1;33m\u001b[0m\u001b[1;33m\u001b[0m\u001b[0m\n\u001b[0;32m      2\u001b[0m \u001b[0mvowels\u001b[0m\u001b[1;33m=\u001b[0m\u001b[1;33m{\u001b[0m\u001b[1;34m'a'\u001b[0m\u001b[1;33m,\u001b[0m\u001b[1;34m'e'\u001b[0m\u001b[1;33m,\u001b[0m\u001b[1;34m'i'\u001b[0m\u001b[1;33m,\u001b[0m\u001b[1;34m'o'\u001b[0m\u001b[1;33m,\u001b[0m\u001b[1;34m'u'\u001b[0m\u001b[1;33m}\u001b[0m\u001b[1;33m\u001b[0m\u001b[1;33m\u001b[0m\u001b[0m\n\u001b[1;32m----> 3\u001b[1;33m \u001b[0mstr\u001b[0m \u001b[1;33m=\u001b[0m \u001b[0minput\u001b[0m\u001b[1;33m(\u001b[0m\u001b[1;34m\"Enter the text: \"\u001b[0m\u001b[1;33m)\u001b[0m\u001b[1;33m\u001b[0m\u001b[1;33m\u001b[0m\u001b[0m\n\u001b[0m\u001b[0;32m      4\u001b[0m \u001b[0mvc\u001b[0m \u001b[1;33m=\u001b[0m \u001b[1;36m0\u001b[0m\u001b[1;33m\u001b[0m\u001b[1;33m\u001b[0m\u001b[0m\n\u001b[0;32m      5\u001b[0m \u001b[1;32mfor\u001b[0m \u001b[0mch\u001b[0m \u001b[1;32min\u001b[0m \u001b[0mstr\u001b[0m\u001b[1;33m:\u001b[0m\u001b[1;33m\u001b[0m\u001b[1;33m\u001b[0m\u001b[0m\n",
            "\u001b[1;32m~\\Anaconda3\\lib\\site-packages\\ipykernel\\kernelbase.py\u001b[0m in \u001b[0;36mraw_input\u001b[1;34m(self, prompt)\u001b[0m\n\u001b[0;32m    861\u001b[0m             \u001b[0mself\u001b[0m\u001b[1;33m.\u001b[0m\u001b[0m_parent_ident\u001b[0m\u001b[1;33m,\u001b[0m\u001b[1;33m\u001b[0m\u001b[1;33m\u001b[0m\u001b[0m\n\u001b[0;32m    862\u001b[0m             \u001b[0mself\u001b[0m\u001b[1;33m.\u001b[0m\u001b[0m_parent_header\u001b[0m\u001b[1;33m,\u001b[0m\u001b[1;33m\u001b[0m\u001b[1;33m\u001b[0m\u001b[0m\n\u001b[1;32m--> 863\u001b[1;33m             \u001b[0mpassword\u001b[0m\u001b[1;33m=\u001b[0m\u001b[1;32mFalse\u001b[0m\u001b[1;33m,\u001b[0m\u001b[1;33m\u001b[0m\u001b[1;33m\u001b[0m\u001b[0m\n\u001b[0m\u001b[0;32m    864\u001b[0m         )\n\u001b[0;32m    865\u001b[0m \u001b[1;33m\u001b[0m\u001b[0m\n",
            "\u001b[1;32m~\\Anaconda3\\lib\\site-packages\\ipykernel\\kernelbase.py\u001b[0m in \u001b[0;36m_input_request\u001b[1;34m(self, prompt, ident, parent, password)\u001b[0m\n\u001b[0;32m    902\u001b[0m             \u001b[1;32mexcept\u001b[0m \u001b[0mKeyboardInterrupt\u001b[0m\u001b[1;33m:\u001b[0m\u001b[1;33m\u001b[0m\u001b[1;33m\u001b[0m\u001b[0m\n\u001b[0;32m    903\u001b[0m                 \u001b[1;31m# re-raise KeyboardInterrupt, to truncate traceback\u001b[0m\u001b[1;33m\u001b[0m\u001b[1;33m\u001b[0m\u001b[1;33m\u001b[0m\u001b[0m\n\u001b[1;32m--> 904\u001b[1;33m                 \u001b[1;32mraise\u001b[0m \u001b[0mKeyboardInterrupt\u001b[0m\u001b[1;33m(\u001b[0m\u001b[1;34m\"Interrupted by user\"\u001b[0m\u001b[1;33m)\u001b[0m \u001b[1;32mfrom\u001b[0m \u001b[1;32mNone\u001b[0m\u001b[1;33m\u001b[0m\u001b[1;33m\u001b[0m\u001b[0m\n\u001b[0m\u001b[0;32m    905\u001b[0m             \u001b[1;32mexcept\u001b[0m \u001b[0mException\u001b[0m \u001b[1;32mas\u001b[0m \u001b[0me\u001b[0m\u001b[1;33m:\u001b[0m\u001b[1;33m\u001b[0m\u001b[1;33m\u001b[0m\u001b[0m\n\u001b[0;32m    906\u001b[0m                 \u001b[0mself\u001b[0m\u001b[1;33m.\u001b[0m\u001b[0mlog\u001b[0m\u001b[1;33m.\u001b[0m\u001b[0mwarning\u001b[0m\u001b[1;33m(\u001b[0m\u001b[1;34m\"Invalid Message:\"\u001b[0m\u001b[1;33m,\u001b[0m \u001b[0mexc_info\u001b[0m\u001b[1;33m=\u001b[0m\u001b[1;32mTrue\u001b[0m\u001b[1;33m)\u001b[0m\u001b[1;33m\u001b[0m\u001b[1;33m\u001b[0m\u001b[0m\n",
            "\u001b[1;31mKeyboardInterrupt\u001b[0m: Interrupted by user"
          ]
        }
      ],
      "source": [
        "22.# Script to count the number of vowels from a given text\n",
        "vowels={'a','e','i','o','u'}\n",
        "str = input(\"Enter the text: \")\n",
        "vc = 0\n",
        "for ch in str:\n",
        "    if ch in vowels:\n",
        "        vc = vc + 1\n",
        "print(\"Number of vowels in the given text \\'\",str,\"\\' is: \",vc)\n"
      ]
    },
    {
      "cell_type": "markdown",
      "metadata": {
        "id": "527tZU4jq5ki"
      },
      "source": [
        "# 23.*Modify the above script *\n",
        "\n",
        "to count digits, consonants and other characteers (other than voels, consnents and digits\n",
        "\n",
        "also modify to consider capital letters\n",
        "\n",
        "also modify to count the number of sentences"
      ]
    },
    {
      "cell_type": "markdown",
      "metadata": {
        "id": "zhSshezzq5ki"
      },
      "source": [
        "# 24. Write a program to find primefactors of a number"
      ]
    },
    {
      "cell_type": "code",
      "execution_count": null,
      "metadata": {
        "id": "XnaCNk7Qq5ki"
      },
      "outputs": [],
      "source": []
    },
    {
      "cell_type": "markdown",
      "metadata": {
        "id": "BxB03tuTq5kj"
      },
      "source": [
        "# 25.Write a program to find power\n",
        "\n",
        "Example\n",
        "\n",
        "Enter mantissa and exponent value : 2 3\n",
        "The power of 2 and 3 is 8\n"
      ]
    },
    {
      "cell_type": "code",
      "execution_count": null,
      "metadata": {
        "id": "OVDOcLnoq5kk"
      },
      "outputs": [],
      "source": []
    },
    {
      "cell_type": "markdown",
      "metadata": {
        "id": "JcqToG-Wq5kk"
      },
      "source": [
        "# 26. Write a program that reads integers until the user wants to stop.When the user stops entering numbers , display the largest of all the numbers entered"
      ]
    },
    {
      "cell_type": "code",
      "execution_count": null,
      "metadata": {
        "id": "a7dskvEEq5kl"
      },
      "outputs": [],
      "source": []
    }
  ],
  "metadata": {
    "kernelspec": {
      "display_name": "Python 3",
      "language": "python",
      "name": "python3"
    },
    "language_info": {
      "codemirror_mode": {
        "name": "ipython",
        "version": 3
      },
      "file_extension": ".py",
      "mimetype": "text/x-python",
      "name": "python",
      "nbconvert_exporter": "python",
      "pygments_lexer": "ipython3",
      "version": "3.7.7"
    },
    "colab": {
      "provenance": []
    }
  },
  "nbformat": 4,
  "nbformat_minor": 0
}