{
  "nbformat": 4,
  "nbformat_minor": 0,
  "metadata": {
    "colab": {
      "provenance": [],
      "authorship_tag": "ABX9TyObPzyGHbg5ATlQW4xyHbtL",
      "include_colab_link": true
    },
    "kernelspec": {
      "name": "python3",
      "display_name": "Python 3"
    },
    "language_info": {
      "name": "python"
    }
  },
  "cells": [
    {
      "cell_type": "markdown",
      "metadata": {
        "id": "view-in-github",
        "colab_type": "text"
      },
      "source": [
        "<a href=\"https://colab.research.google.com/github/Prathima-tr/Problem-Solving-and-Programming/blob/main/Library_Functions.ipynb\" target=\"_parent\"><img src=\"https://colab.research.google.com/assets/colab-badge.svg\" alt=\"Open In Colab\"/></a>"
      ]
    },
    {
      "cell_type": "markdown",
      "source": [
        "Library functions from\n",
        "R.S. Salaria, Khanna , “Programming for Problem Solving”, Book Publishing Co., Delhi."
      ],
      "metadata": {
        "id": "nB5cEWLdVWqH"
      }
    },
    {
      "cell_type": "code",
      "execution_count": 2,
      "metadata": {
        "colab": {
          "base_uri": "https://localhost:8080/"
        },
        "id": "-Lb3t5zbVUx-",
        "outputId": "773cd41d-2ec9-4eb7-e360-5bb488ff4242"
      },
      "outputs": [
        {
          "output_type": "stream",
          "name": "stdout",
          "text": [
            "4.0\n",
            "11.0\n",
            "11.489125293076057\n"
          ]
        }
      ],
      "source": [
        "#math module\n",
        "#The math module provides access to mathematical functions\n",
        "\n",
        "#command to import math module\n",
        "import math\n",
        "\n",
        "#sqrt(x) fn - Returns the square root of x for x>=0\n",
        "print(math.sqrt(16))\n",
        "\n",
        "x=math.sqrt(121)\n",
        "print(x)\n",
        "print(math.sqrt(132))"
      ]
    },
    {
      "cell_type": "code",
      "source": [
        "#ceil(x) - returns the ceiling value of x, i.e., smallest integer not less than x\n",
        "print(math.ceil(4.5))\n",
        "print(math.ceil(-12.5))"
      ],
      "metadata": {
        "colab": {
          "base_uri": "https://localhost:8080/"
        },
        "id": "tVPlCqNgWEC0",
        "outputId": "2cdbaced-725e-4cc1-91a8-f4ce8701e058"
      },
      "execution_count": 3,
      "outputs": [
        {
          "output_type": "stream",
          "name": "stdout",
          "text": [
            "5\n",
            "-12\n"
          ]
        }
      ]
    },
    {
      "cell_type": "code",
      "source": [
        "#floor(x) - returns the floor of x, i.e., the largest integer not greater than x\n",
        "print(math.floor(4.5))\n",
        "print(math.floor(-12.5))"
      ],
      "metadata": {
        "colab": {
          "base_uri": "https://localhost:8080/"
        },
        "id": "2UFPyjgZWWg6",
        "outputId": "01e4b25d-2e01-44a8-c1d5-cbc7543b3459"
      },
      "execution_count": 4,
      "outputs": [
        {
          "output_type": "stream",
          "name": "stdout",
          "text": [
            "4\n",
            "-13\n"
          ]
        }
      ]
    },
    {
      "cell_type": "code",
      "source": [
        "#pow(x,y) - returns the value of x raised to the power of y\n",
        "print(math.pow(5,3))\n",
        "\n",
        "print(math.pow(-12,-2))\n"
      ],
      "metadata": {
        "colab": {
          "base_uri": "https://localhost:8080/"
        },
        "id": "9aM01xuzWhu9",
        "outputId": "7a94c6c5-a45b-4448-bbaa-d54a60f12d03"
      },
      "execution_count": 5,
      "outputs": [
        {
          "output_type": "stream",
          "name": "stdout",
          "text": [
            "125.0\n",
            "0.006944444444444444\n"
          ]
        }
      ]
    },
    {
      "cell_type": "code",
      "source": [
        "#fabs(x) -  returns the absolute value of x\n",
        "\n",
        "print(math.fabs(-5.75))\n",
        "\n",
        "print(math.fabs(15.25))\n"
      ],
      "metadata": {
        "colab": {
          "base_uri": "https://localhost:8080/"
        },
        "id": "jkEngoFlnTNW",
        "outputId": "886bdc70-89d1-4232-e998-9f54c80b7e90"
      },
      "execution_count": 8,
      "outputs": [
        {
          "output_type": "stream",
          "name": "stdout",
          "text": [
            "5.75\n",
            "15.25\n"
          ]
        }
      ]
    },
    {
      "cell_type": "code",
      "source": [
        "#sin(x) - returns the sine of x radians\n",
        "#if the given angle is in degrees, it must be converted into radians 30 degrees = pi/180*30 radians\n",
        "print(math.sin(math.pi/180*45))\n",
        "\n",
        "print(math.sin(math.pi/180*30))"
      ],
      "metadata": {
        "colab": {
          "base_uri": "https://localhost:8080/"
        },
        "id": "wP4khvntnbAV",
        "outputId": "604a56b5-5569-4dd2-aba4-7cdb9e8d1c1e"
      },
      "execution_count": 9,
      "outputs": [
        {
          "output_type": "stream",
          "name": "stdout",
          "text": [
            "0.7071067811865475\n",
            "0.49999999999999994\n"
          ]
        }
      ]
    },
    {
      "cell_type": "code",
      "source": [
        "#cos(x)-returns cosine of x radians\n",
        "print(math.cos(math.pi/180*45))\n",
        "print(math.cos(math.pi/180*0))"
      ],
      "metadata": {
        "colab": {
          "base_uri": "https://localhost:8080/"
        },
        "id": "Ww_YUaZpn6EB",
        "outputId": "3c20b81f-08c7-4ce0-ef2b-95a390ea3a41"
      },
      "execution_count": 11,
      "outputs": [
        {
          "output_type": "stream",
          "name": "stdout",
          "text": [
            "0.7071067811865476\n",
            "1.0\n"
          ]
        }
      ]
    },
    {
      "cell_type": "code",
      "source": [
        "#tan(x) - returns tangent of x radians\n",
        "print(math.tan(math.pi/180*45))\n",
        "print(math.tan(math.pi/180*0))\n",
        "                "
      ],
      "metadata": {
        "colab": {
          "base_uri": "https://localhost:8080/"
        },
        "id": "HavH1kBboF-P",
        "outputId": "be110973-0a62-4e9c-b71a-26d269a3a2b2"
      },
      "execution_count": 12,
      "outputs": [
        {
          "output_type": "stream",
          "name": "stdout",
          "text": [
            "0.9999999999999999\n",
            "0.0\n"
          ]
        }
      ]
    },
    {
      "cell_type": "code",
      "source": [
        "#                Math Constants\n",
        "#Constant               #Description\n",
        "# math.e                Returns Euler's number (2.7182...)\n",
        "# math.inf              Returns a floating-point positive infinity\n",
        "# math.nan              Returns a floating-point NaN (Not a Number) value\n",
        "# math.pi               Returns PI (3.1415...)\n",
        "# math.tau\t            Returns tau (6.2831...)"
      ],
      "metadata": {
        "id": "HuLu2tF7oxhw"
      },
      "execution_count": null,
      "outputs": []
    },
    {
      "cell_type": "code",
      "source": [
        "#functions from math module\n",
        "#https://www.w3schools.com/python/module_math.asp\n",
        "#Method\t                 Description\n",
        "math.acos() - Returns the arc cosine of a number\n",
        "math.acosh() - Returns the inverse hyperbolic cosine of a number\n",
        "math.asin() - Returns the arc sine of a number\n",
        "math.asinh() - Returns the inverse hyperbolic sine of a number\n",
        "math.atan() - Returns the arc tangent of a number in radians\n",
        "math.atan2() - Returns the arc tangent of y/x in radians\n",
        "math.atanh() - Returns the inverse hyperbolic tangent of a number\n",
        "math.ceil() - Rounds a number up to the nearest integer\n",
        "math.comb() - Returns the number of ways to choose k items from n items without repetition and order\n",
        "math.copysign() - Returns a float consisting of the value of the first parameter and the sign of the second parameter\n",
        "math.cos() - Returns the cosine of a number\n",
        "math.cosh() - Returns the hyperbolic cosine of a number\n",
        "math.degrees() - Converts an angle from radians to degrees\n",
        "math.dist() - Returns the Euclidean distance between two points (p and q), where p and q are the coordinates of that point\n",
        "math.erf() - Returns the error function of a number\n",
        "math.erfc() - Returns the complementary error function of a number\n",
        "math.exp() - Returns E raised to the power of x\n",
        "math.expm1() - Returns Ex - 1\n",
        "math.fabs() - Returns the absolute value of a number\n",
        "math.factorial() - Returns the factorial of a number\n",
        "math.floor() - Rounds a number down to the nearest integer\n",
        "math.fmod() - Returns the remainder of x/y\n",
        "math.frexp() - Returns the mantissa and the exponent, of a specified number\n",
        "math.fsum() - Returns the sum of all items in any iterable (tuples, arrays, lists, etc.)\n",
        "math.gamma() - Returns the gamma function at x\n",
        "math.gcd() - Returns the greatest common divisor of two integers\n",
        "math.hypot() - Returns the Euclidean norm\n",
        "math.isclose() - Checks whether two values are close to each other, or not\n",
        "math.isfinite() - Checks whether a number is finite or not\n",
        "math.isinf() - Checks whether a number is infinite or not\n",
        "math.isnan() - Checks whether a value is NaN (not a number) or not\n",
        "math.isqrt() - Rounds a square root number downwards to the nearest integer\n",
        "math.ldexp() - Returns the inverse of math.frexp() which is x * (2**i) of the given numbers x and i\n",
        "math.lgamma() - Returns the log gamma value of x\n",
        "math.log() - Returns the natural logarithm of a number, or the logarithm of number to base\n",
        "math.log10() - Returns the base-10 logarithm of x\n",
        "math.log1p() - Returns the natural logarithm of 1+x\n",
        "math.log2() - Returns the base-2 logarithm of x\n",
        "math.perm() - Returns the number of ways to choose k items from n items with order and without repetition\n",
        "math.pow() - Returns the value of x to the power of y\n",
        "math.prod() - Returns the product of all the elements in an iterable\n",
        "math.radians() - Converts a degree value into radians\n",
        "math.remainder() - Returns the closest value that can make numerator completely divisible by the denominator\n",
        "math.sin() - Returns the sine of a number\n",
        "math.sinh() - Returns the hyperbolic sine of a number\n",
        "math.sqrt() - Returns the square root of a number\n",
        "math.tan() - Returns the tangent of a number\n",
        "math.tanh() - Returns the hyperbolic tangent of a number\n",
        "math.trunc() - Returns the truncated integer parts of a number"
      ],
      "metadata": {
        "id": "7-cSCRxWqK_R"
      },
      "execution_count": null,
      "outputs": []
    },
    {
      "cell_type": "code",
      "source": [
        "#random module - provides access to functions that are used to generate or manipulate random numbers\n",
        "#import random module using below stmt\n",
        "\n",
        "import random\n",
        "\n",
        "#random() - returns the next random floating point number in the range[0.0, 1.0)\n",
        "#The smallest number from the interval is written first.\n",
        "#The largest number in the interval is written second, following a comma.\n",
        "#Parentheses, ( or ), are used to signify that an endpoint value is not included, called exclusive.\n",
        "#Brackets, [ or ], are used to indicate that an endpoint value is included, called inclusive.\n",
        "\n",
        "print(random.random())\n",
        "print(random.random())\n",
        "\n",
        "\n",
        "#https://courses.lumenlearning.com/suny-osalgebratrig/chapter/domain-and-range/#:~:text=Parentheses%2C%20(%20or%20)%2C%20are,value%20is%20included%2C%20called%20inclusive."
      ],
      "metadata": {
        "colab": {
          "base_uri": "https://localhost:8080/"
        },
        "id": "uRPRtBS_oPHu",
        "outputId": "c62fdd34-bdd4-46e5-d854-ee8fc33ae5f3"
      },
      "execution_count": 13,
      "outputs": [
        {
          "output_type": "stream",
          "name": "stdout",
          "text": [
            "0.7166213368457162\n",
            "0.07124640090397827\n"
          ]
        }
      ]
    },
    {
      "cell_type": "code",
      "source": [
        "#randint() - Used as randint(a,b) and it returns a random integer n such that a<=n<=b\n",
        "print(random.randint(10,20))\n",
        "print(random.randint(10,20))"
      ],
      "metadata": {
        "colab": {
          "base_uri": "https://localhost:8080/"
        },
        "id": "xNMv9IRRrV2S",
        "outputId": "68263118-ba8c-4b6d-d5f4-bcd04f34926f"
      },
      "execution_count": 14,
      "outputs": [
        {
          "output_type": "stream",
          "name": "stdout",
          "text": [
            "10\n",
            "14\n"
          ]
        }
      ]
    },
    {
      "cell_type": "code",
      "source": [
        "#randrange() - used as randint(start, stop, [,step]), and it returns randomly selected element from range (start, stop, step)\n",
        "print(random.randrange(10,20,5))\n",
        "print(random.randrange(100,1000,10))"
      ],
      "metadata": {
        "colab": {
          "base_uri": "https://localhost:8080/"
        },
        "id": "bep82HmLr-hK",
        "outputId": "4369a5e2-3a6c-4b42-8c3f-a2c213ffe6a1"
      },
      "execution_count": 15,
      "outputs": [
        {
          "output_type": "stream",
          "name": "stdout",
          "text": [
            "15\n",
            "260\n"
          ]
        }
      ]
    },
    {
      "cell_type": "code",
      "source": [
        "#functions from random module\n",
        "#https://www.w3schools.com/python/module_random.asp\n",
        "#Method\t                 Description\n",
        "seed()\t- Initialize the random number generator\n",
        "getstate()\t- Returns the current internal state of the random number generator\n",
        "setstate()\t- Restores the internal state of the random number generator\n",
        "getrandbits()\t- Returns a number representing the random bits\n",
        "randrange()\t- Returns a random number between the given range\n",
        "randint()\t- Returns a random number between the given range\n",
        "choice()\t- Returns a random element from the given sequence\n",
        "choices()\t- Returns a list with a random selection from the given sequence\n",
        "shuffle()\t- Takes a sequence and returns the sequence in a random order\n",
        "sample()\t- Returns a given sample of a sequence\n",
        "random()\t- Returns a random float number between 0 and 1\n",
        "uniform()\t- Returns a random float number between two given parameters\n",
        "triangular()\t- Returns a random float number between two given parameters, you can also set a mode parameter to specify the midpoint between the two other parameters\n",
        "betavariate()\t- Returns a random float number between 0 and 1 based on the Beta distribution (used in statistics)\n",
        "expovariate()\t- Returns a random float number based on the Exponential distribution (used in statistics)\n",
        "gammavariate()\t- Returns a random float number based on the Gamma distribution (used in statistics)\n",
        "gauss()\t- Returns a random float number based on the Gaussian distribution (used in probability theories)\n",
        "lognormvariate()\t- Returns a random float number based on a log-normal distribution (used in probability theories)\n",
        "normalvariate()\t- Returns a random float number based on the normal distribution (used in probability theories)\n",
        "vonmisesvariate()\t- Returns a random float number based on the von Mises distribution (used in directional statistics)\n",
        "paretovariate()\t- Returns a random float number based on the Pareto distribution (used in probability theories)\n",
        "weibullvariate()\t- Returns a random float number based on the Weibull distribution (used in statistics)"
      ],
      "metadata": {
        "id": "rEz0a4Xiq1rM"
      },
      "execution_count": null,
      "outputs": []
    },
    {
      "cell_type": "code",
      "source": [
        "#statistics module - this module provides functions for calculating mathematical statistics of numeric (real - valued) data\n",
        "\n",
        "#to import stastics module \n",
        "import statistics as st\n",
        "\n",
        "#Functions to compute measures of central tendency\n",
        "#These functions calculate an average or typical value from a population or sample\n",
        "\n",
        "#mean() - arithmetic mean average of data\n",
        "#median() - median (middle value) of data\n",
        "#mode() - mode (most common value) of discrete data\n",
        "\n",
        "m=st.mean([1,2,3,3,4,4,4,4,4,5,6,7,8,9,19,90])\n",
        "med = st.median([100,20,13,3,4,4,4,4,4,5,6,7,8,9,19,90])\n",
        "mod=st.mode([1,2,3,3,4,4,4,4,4,5,6,7,8,9,19,90])\n",
        "\n",
        "print(\"Mean is \", m)\n",
        "print(\"Median is \", med)\n",
        "print(\"Mode is \", mod)"
      ],
      "metadata": {
        "colab": {
          "base_uri": "https://localhost:8080/"
        },
        "id": "be7vmJvLsQeF",
        "outputId": "96dd4dc3-04ab-4a37-c74f-f007493fc275"
      },
      "execution_count": 16,
      "outputs": [
        {
          "output_type": "stream",
          "name": "stdout",
          "text": [
            "Mean is  10.8125\n",
            "Median is  6.5\n",
            "Mode is  4\n"
          ]
        }
      ]
    },
    {
      "cell_type": "code",
      "source": [
        "#functions from random module\n",
        "#https://www.w3schools.com/python/module_statistics.asp\n",
        "#Method\t                 Description\n",
        "statistics.harmonic_mean()\t- Calculates the harmonic mean (central location) of the given data\n",
        "statistics.mean()\t- Calculates the mean (average) of the given data\n",
        "statistics.median()\t- Calculates the median (middle value) of the given data\n",
        "statistics.median_grouped()\t- Calculates the median of grouped continuous data\n",
        "statistics.median_high()\t- Calculates the high median of the given data\n",
        "statistics.median_low()\t- Calculates the low median of the given data\n",
        "statistics.mode()\t- Calculates the mode (central tendency) of the given numeric or nominal data\n",
        "statistics.pstdev()\t- Calculates the standard deviation from an entire population\n",
        "statistics.stdev()\t- Calculates the standard deviation from a sample of data\n",
        "statistics.pvariance()\t- Calculates the variance of an entire population\n",
        "statistics.variance()\t- Calculates the variance from a sample of data"
      ],
      "metadata": {
        "id": "od_8r7ODtKUJ"
      },
      "execution_count": null,
      "outputs": []
    }
  ]
}