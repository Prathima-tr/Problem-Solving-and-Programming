{
  "nbformat": 4,
  "nbformat_minor": 0,
  "metadata": {
    "colab": {
      "provenance": [],
      "authorship_tag": "ABX9TyN8iszge7FXsKhD6P5zilYq",
      "include_colab_link": true
    },
    "kernelspec": {
      "name": "python3",
      "display_name": "Python 3"
    },
    "language_info": {
      "name": "python"
    }
  },
  "cells": [
    {
      "cell_type": "markdown",
      "metadata": {
        "id": "view-in-github",
        "colab_type": "text"
      },
      "source": [
        "<a href=\"https://colab.research.google.com/github/Prathima-tr/Problem-Solving-and-Programming/blob/main/Tuple_2022_23.ipynb\" target=\"_parent\"><img src=\"https://colab.research.google.com/assets/colab-badge.svg\" alt=\"Open In Colab\"/></a>"
      ]
    },
    {
      "cell_type": "markdown",
      "source": [
        "R.S. Salaria, Khanna , “Programming for Problem Solving”, Book Publishing Co., Delhi."
      ],
      "metadata": {
        "id": "Ak8tQ7r5pFsH"
      }
    },
    {
      "cell_type": "code",
      "execution_count": null,
      "metadata": {
        "id": "JJ8sJnzkPukV"
      },
      "outputs": [],
      "source": [
        "#A tuple is an ordered sequence of items enclosed in brackets ().\n",
        "#Like a tuple, the elements in a tuple can be of different data types\n",
        "#Major difference in a typle than a tuple is that a typel is immutable whereas a tuple is mutable\n",
        "#Means elements of a tuple cannot be changed in place"
      ]
    },
    {
      "cell_type": "code",
      "source": [
        "#Important characteristics\n",
        "#Tuples are ordered sequences\n",
        "#Tuples can contain any arbitrary objects\n",
        "#Tuples can be accessed by index\n",
        "#Tuples are mutable\n",
        "#Tuples are static"
      ],
      "metadata": {
        "id": "z8cH4FJSQAJj"
      },
      "execution_count": null,
      "outputs": []
    },
    {
      "cell_type": "code",
      "source": [
        "#Creating a tuple\n",
        "#Empty tuple\n",
        "#Tuple with a given set of elements and\n",
        "#Tuple constructed from another sequence, such as string, tuple or another tuple"
      ],
      "metadata": {
        "id": "cSyTUcInQJgr"
      },
      "execution_count": null,
      "outputs": []
    },
    {
      "cell_type": "code",
      "source": [
        "#Creating empty tuple\n",
        "a=()\n",
        "print(type(a))"
      ],
      "metadata": {
        "id": "elZ-UvT8QXwa"
      },
      "execution_count": null,
      "outputs": []
    },
    {
      "cell_type": "code",
      "source": [
        "#Creating tuple with given elements\n",
        "#enclose comma separated tuple of elements in parentheses\n",
        "b=(1,2,3,4,5,6)\n",
        "print(type(b))\n",
        "print(b)\n",
        "\n",
        "c=(1,'one',2,'two',True,3.14,22/7)\n",
        "print(c)"
      ],
      "metadata": {
        "colab": {
          "base_uri": "https://localhost:8080/"
        },
        "id": "-2tCGghvQa35",
        "outputId": "4b5c70e0-34c7-446f-8246-acb46d3dc923"
      },
      "execution_count": null,
      "outputs": [
        {
          "output_type": "stream",
          "name": "stdout",
          "text": [
            "<class 'tuple'>\n",
            "(1, 2, 3, 4, 5, 6)\n",
            "(1, 'one', 2, 'two', True, 3.14, 3.142857142857143)\n"
          ]
        }
      ]
    },
    {
      "cell_type": "code",
      "source": [
        "#creating a tuple from another sequence\n",
        "#tuple() - is a constructor of tuple class with sequence as its argument\n",
        "a=tuple('Python')\n",
        "print(a)\n",
        "\n",
        "b=[1,2,3,4,5]\n",
        "c=tuple(b)\n",
        "print(c)"
      ],
      "metadata": {
        "colab": {
          "base_uri": "https://localhost:8080/"
        },
        "id": "YY0aPej-Qa_q",
        "outputId": "4be3a49b-84dd-43e2-a03e-bfcd119dacd2"
      },
      "execution_count": null,
      "outputs": [
        {
          "output_type": "stream",
          "name": "stdout",
          "text": [
            "('P', 'y', 't', 'h', 'o', 'n')\n",
            "(1, 2, 3, 4, 5)\n"
          ]
        }
      ]
    },
    {
      "cell_type": "code",
      "source": [
        "#Accessing elements of a tuple\n",
        "#Use index in square brackets\n",
        "#This is analogous to accessing individual characters in astring or individual elements in a tuple\n",
        "print(a[1])\n",
        "\n",
        "print(a[3])\n",
        "\n",
        "print(a[-1])\n",
        "\n",
        "print(a[-6])\n",
        "\n",
        "#If we try to access index out of the range or use float number as index, we will get errors"
      ],
      "metadata": {
        "id": "Mg07rau-QbD2"
      },
      "execution_count": null,
      "outputs": []
    },
    {
      "cell_type": "code",
      "source": [
        "#Traversing a tuple\n",
        "#Traversing a typle means accessing each element exactly once ir order to process it\n",
        "#We also call traversal as looping over a sequence\n",
        "#For loop makes it easy to traverse or loop over the elements of a typle using the following syntax\n",
        "\n",
        "#for <var> in <tuple>:\n",
        "#    process each item here\n",
        "#var - is a valid python identifier\n",
        "#tuple is a tuple object to be traversed\n",
        "\n",
        "mt = ('p','y','t','h','o','n')\n",
        "for a in mt:\n",
        "  print(a)\n",
        "\n",
        "n=len(mt)\n",
        "for i in range(n):\n",
        "  print(mt[i])\n",
        "  "
      ],
      "metadata": {
        "id": "QkGoyjdVSSBr"
      },
      "execution_count": null,
      "outputs": []
    },
    {
      "cell_type": "code",
      "source": [
        "#Modifying and deleting element of a typle\n",
        "#Tuples are immutable, which means individual elements as well as the entire tuple cannot be modified (changed) once it has been created\n",
        "mt1=('w','e','l','c','o','m','e')\n",
        "mt1[4]='x'\n"
      ],
      "metadata": {
        "id": "_f80QabdQbK6"
      },
      "execution_count": null,
      "outputs": []
    },
    {
      "cell_type": "code",
      "source": [
        "del mt1[4]"
      ],
      "metadata": {
        "id": "RinpAiSWQbN_"
      },
      "execution_count": null,
      "outputs": []
    },
    {
      "cell_type": "code",
      "source": [
        "#Deleting a tuple\n",
        "#using del\n",
        "del mt1"
      ],
      "metadata": {
        "id": "5bML9K75QbTc"
      },
      "execution_count": null,
      "outputs": []
    },
    {
      "cell_type": "code",
      "source": [
        "#Operations on tuples\n",
        "#Concatenation of two or more tuples\n",
        "a=(1,2,3,4,5)\n",
        "b=('w','e','l','c','o','m','e')\n",
        "c=(1,22/7,\"True\",False)\n",
        "d=a+b\n",
        "\n",
        "e=a+b+c\n",
        "\n",
        "print(d)\n",
        "\n",
        "print(e)"
      ],
      "metadata": {
        "id": "0Iq9PAwoWHvf"
      },
      "execution_count": null,
      "outputs": []
    },
    {
      "cell_type": "code",
      "source": [
        "#Repetition of a tuple\n",
        "#The * operator can be used to repeat the elements of a tuple for a given no. of times\n",
        "x=('a','b','c')\n",
        "y=x*3\n",
        "print(y)"
      ],
      "metadata": {
        "colab": {
          "base_uri": "https://localhost:8080/"
        },
        "id": "2GOqPiEQQbWr",
        "outputId": "c1458c45-dcf7-4631-c456-2910d939212e"
      },
      "execution_count": null,
      "outputs": [
        {
          "output_type": "stream",
          "name": "stdout",
          "text": [
            "('a', 'b', 'c', 'a', 'b', 'c', 'a', 'b', 'c')\n"
          ]
        }
      ]
    },
    {
      "cell_type": "code",
      "source": [
        "#Slicing the Tuple\n",
        "#Tuple slices are the sub part of a tuple extracted out\n",
        "#t[start:stop:step]\n",
        "\n",
        "#The abvoe statement will create a tuple slice having elements of tuple x on indexes \n",
        "#from start to stop-1, in steps of step\n",
        "\n",
        "#Note\n",
        "#if start is omitted, it is taken as beginning of the tuple\n",
        "#if stop is omitted it is taken as end of the tuple\n",
        "#if step is omitted, it is taken as +1 by default\n",
        "\n",
        "x = (0,1,2,3,4,5,6,7,8,9)\n",
        "print(x)\n",
        "\n",
        "print(x[::])\n",
        "\n",
        "print(x[:3])\n",
        "\n",
        "print(x[3:])\n",
        "\n",
        "print(x[::2])\n",
        "\n",
        "print(x[-2:-7:-2])\n",
        "\n",
        "print(x::-1)\n"
      ],
      "metadata": {
        "id": "ulYTWgNjrRhs"
      },
      "execution_count": null,
      "outputs": []
    },
    {
      "cell_type": "code",
      "source": [
        "#Program to extract two tuple-slices, one at even indexed and another at odd indexed. \n",
        "#Program also prints the sum of these elements\n",
        "\n",
        "my_tuple=(1,2,3,4,5,6,7,8,9,10,11,12,13,14)\n",
        "\n",
        "eSlice=my_tuple[0::2]\n",
        "oSlice=my_tuple[1::2]\n",
        "\n",
        "sEven=sOdd=0\n",
        "\n",
        "for i in eSlice:\n",
        "  sEven+=i\n",
        "\n",
        "for i in oSlice:\n",
        "  sOdd+=i\n",
        "\n",
        "print(\"Given tuple:\",my_tuple)\n",
        "print(\"tuple of even indexed element in tuple\",eSlice)\n",
        "print(\"tuple of odd indexed element in tuple\",oSlice)\n",
        "\n",
        "print(\"Sum of even indexed element in tuple\",sEven)\n",
        "print(\"Sum of odd indexed element in tuple\",sOdd)"
      ],
      "metadata": {
        "colab": {
          "base_uri": "https://localhost:8080/"
        },
        "id": "9Bvkzo6lsINi",
        "outputId": "45cbf718-e853-40ae-85f5-fa0277f34686"
      },
      "execution_count": null,
      "outputs": [
        {
          "output_type": "stream",
          "name": "stdout",
          "text": [
            "Given tuple: [1, 2, 3, 4, 5, 6, 7, 8, 9, 10, 11, 12, 13, 14]\n",
            "tuple of even indexed element in tuple [1, 3, 5, 7, 9, 11, 13]\n",
            "tuple of odd indexed element in tuple [2, 4, 6, 8, 10, 12, 14]\n",
            "Sum of even indexed element in tuple 49\n",
            "Sum of odd indexed element in tuple 56\n"
          ]
        }
      ]
    },
    {
      "cell_type": "code",
      "source": [
        "#Membership test on tuples\n",
        "#We can test whether an element exists in a given tuple or not using membership operator in and not in\n",
        "\n",
        "fruits = (\"banana\",\"apple\",\"mango\",\"grapes\",\"guava\")\n",
        "\n",
        "#print(\"Apple\" in fruits)\n",
        "#print(\"Apple\" not in fruits)\n",
        "print('p' in fruits)\n",
        "print('p' in fruits[1])\n",
        "#print(\"grapes\" in fruits)\n",
        "#print(\"gava\" not in fruits)"
      ],
      "metadata": {
        "colab": {
          "base_uri": "https://localhost:8080/"
        },
        "id": "c2CntEdIspeA",
        "outputId": "968c739d-d80f-46dc-9882-3b556fb53cbb"
      },
      "execution_count": null,
      "outputs": [
        {
          "output_type": "stream",
          "name": "stdout",
          "text": [
            "False\n",
            "True\n"
          ]
        }
      ]
    },
    {
      "cell_type": "code",
      "source": [
        "#Tuple methods and functions\n",
        "#Tuple in python is immutable\n",
        "#Python provides few methods for tuple class and another set of functions taht take tuple as its arguments and operated on them\n",
        "\n",
        "#Tuple methods\n",
        "#index() - returns the position of the first occurrence of the given item in the tuple\n",
        "#raises a ValueError exception if there is no such item in the typle\n",
        "fruits = (\"banana\",\"apple\",\"mango\",\"grapes\",\"guava\", \"mango\")\n",
        "print(fruits.index(\"apple\"))\n",
        "\n",
        "#count() - method returns the no. of times a given item appears in the tuple\n",
        "print(fruits.count(\"mango\"))\n",
        "\n",
        "print(fruits.count(\"orange\"))\n"
      ],
      "metadata": {
        "colab": {
          "base_uri": "https://localhost:8080/"
        },
        "id": "yZrTvhc-rRog",
        "outputId": "4b2fe064-b1ef-43e9-b517-bc9b688b34cb"
      },
      "execution_count": null,
      "outputs": [
        {
          "output_type": "stream",
          "name": "stdout",
          "text": [
            "1\n",
            "2\n"
          ]
        },
        {
          "output_type": "execute_result",
          "data": {
            "text/plain": [
              "<function tuple.count(value, /)>"
            ]
          },
          "metadata": {},
          "execution_count": 7
        }
      ]
    },
    {
      "cell_type": "code",
      "source": [
        "#Tuple methods\n",
        "#tuple() - is a constructor of tuple class that returns an immutable sequence tuple of elements\n",
        "#it can take an optional iterable object, which can be sequence or collection such as a string, list, tuple, etc\n",
        "#if no argument is suupplied, an empty tuple is returned\n",
        "\n",
        "t1=tuple()\n",
        "\n",
        "t2=tuple([1,3,4])\n",
        "t3=tuple(\"Python\")\n",
        "l=[\"I\",\"am\",\"practicing\",\"Python\"]\n",
        "t4=tuple(l)\n",
        "\n",
        "print(t1,t2,t3,t4)"
      ],
      "metadata": {
        "id": "ONT8qhTLrRrO"
      },
      "execution_count": null,
      "outputs": []
    },
    {
      "cell_type": "code",
      "source": [
        "#len() - returns the no. of items in the tuple\n",
        "#max() - returns largest item in a tuple\n",
        "#min() - returns smallest item in a tuple\n",
        "#sum() - returns the sum of all the items in a typle\n",
        "#range() - represents an imutable sequence of nos and is commonly used for looping a specific no. of times in for loops\n",
        "\n",
        "print(tuple(range(10)))\n",
        "t1=tuple(range(10))\n",
        "t2=tuple(range(1,11))\n",
        "t3=tuple(range(1,11,2))\n",
        "print(t1,t2,t3)"
      ],
      "metadata": {
        "id": "7XGFkwzDuNS8"
      },
      "execution_count": null,
      "outputs": []
    },
    {
      "cell_type": "code",
      "source": [
        "tt=(10, 8,23,33,14,25)\n",
        "print(\"Length of tuple is\", len(tt))\n",
        "print(\"Maximum element is\", max(tt))\n",
        "print(\"Minimum element is\", min(tt))\n",
        "print(\"Sum of  elements is\", sum(tt))\n",
        "\n",
        "t10=tuple(range(10))\n",
        "print(t10)"
      ],
      "metadata": {
        "colab": {
          "base_uri": "https://localhost:8080/"
        },
        "id": "VqVnMlBVRcne",
        "outputId": "7e1c14a4-eb32-43fc-f490-0b9531bf76ee"
      },
      "execution_count": null,
      "outputs": [
        {
          "output_type": "stream",
          "name": "stdout",
          "text": [
            "Maximum element is 33\n",
            "Minimum element is 8\n",
            "Sum of  elements is 113\n",
            "(0, 1, 2, 3, 4, 5, 6, 7, 8, 9)\n"
          ]
        }
      ]
    },
    {
      "cell_type": "code",
      "source": [
        "t1=(\"Crr\",2,True,False,22/7,('a','b','c'),['p','q','r'])\n",
        "print(t)\n",
        "print(t1[0][0])"
      ],
      "metadata": {
        "colab": {
          "base_uri": "https://localhost:8080/"
        },
        "id": "bwvVtosGrRtr",
        "outputId": "e3e02eec-e54f-4244-975e-a03456989ecb"
      },
      "execution_count": null,
      "outputs": [
        {
          "output_type": "stream",
          "name": "stdout",
          "text": [
            "('Crr', 2, True, False, 3.142857142857143, ('a', 'b', 'c'), ['p', 'q', 'r'])\n",
            "C\n"
          ]
        }
      ]
    },
    {
      "cell_type": "code",
      "source": [
        "t1[4]=3.14"
      ],
      "metadata": {
        "colab": {
          "base_uri": "https://localhost:8080/",
          "height": 166
        },
        "id": "oqLRrbdFrRv4",
        "outputId": "b3b993e1-ecac-4a24-d944-ac5c07bb3234"
      },
      "execution_count": null,
      "outputs": [
        {
          "output_type": "error",
          "ename": "TypeError",
          "evalue": "ignored",
          "traceback": [
            "\u001b[0;31m---------------------------------------------------------------------------\u001b[0m",
            "\u001b[0;31mTypeError\u001b[0m                                 Traceback (most recent call last)",
            "\u001b[0;32m<ipython-input-11-fdd6dd3157ee>\u001b[0m in \u001b[0;36m<module>\u001b[0;34m\u001b[0m\n\u001b[0;32m----> 1\u001b[0;31m \u001b[0mt1\u001b[0m\u001b[0;34m[\u001b[0m\u001b[0;36m4\u001b[0m\u001b[0;34m]\u001b[0m\u001b[0;34m=\u001b[0m\u001b[0;36m3.14\u001b[0m\u001b[0;34m\u001b[0m\u001b[0;34m\u001b[0m\u001b[0m\n\u001b[0m",
            "\u001b[0;31mTypeError\u001b[0m: 'tuple' object does not support item assignment"
          ]
        }
      ]
    },
    {
      "cell_type": "code",
      "source": [
        "t1=(\"Crr\",2,True,False,22/7,('a','b','c'),['p','q','r'])\n",
        "#t1[5][0]='x'     #error\n",
        "#t1[6]=\"Red\"      #error\n",
        "print(\"id of t1: \",id(t1))\n",
        "t1[6][0]='y'\n",
        "print(\"id of t1: \",id(t1))\n",
        "print(t1)\n",
        "\n",
        "t1[6].append('s')\n",
        "print(t1)"
      ],
      "metadata": {
        "colab": {
          "base_uri": "https://localhost:8080/"
        },
        "id": "BBHnIhynzUHW",
        "outputId": "cf3ad8fa-4f88-4be2-c7cf-6408b0278e34"
      },
      "execution_count": null,
      "outputs": [
        {
          "output_type": "stream",
          "name": "stdout",
          "text": [
            "id of t1:  140599195005280\n",
            "id of t1:  140599195005280\n",
            "('Crr', 2, True, False, 3.142857142857143, ('a', 'b', 'c'), ['y', 'q', 'r'])\n",
            "('Crr', 2, True, False, 3.142857142857143, ('a', 'b', 'c'), ['y', 'q', 'r', 's'])\n"
          ]
        }
      ]
    },
    {
      "cell_type": "code",
      "source": [
        "t2=(1,2,3)\n",
        "t3=t2\n",
        "print(\"id of t2\",id(t2))\n",
        "print(\"id of t3\",id(t3))"
      ],
      "metadata": {
        "colab": {
          "base_uri": "https://localhost:8080/"
        },
        "id": "OQDjNYhlrRyr",
        "outputId": "7399fd83-95c9-4dd4-a216-29792ec2b752"
      },
      "execution_count": null,
      "outputs": [
        {
          "output_type": "stream",
          "name": "stdout",
          "text": [
            "id of t2 140599243275776\n",
            "id of t3 140599243275776\n"
          ]
        }
      ]
    },
    {
      "cell_type": "code",
      "source": [
        "t2=(1,2,3,\"red\")\n",
        "print(\"id of t2\",id(t2))\n",
        "print(\"id of t3\",id(t3))"
      ],
      "metadata": {
        "colab": {
          "base_uri": "https://localhost:8080/"
        },
        "id": "R64n8MqmzDha",
        "outputId": "7db69c5b-2f68-4c8c-ac04-29adb249fb79"
      },
      "execution_count": null,
      "outputs": [
        {
          "output_type": "stream",
          "name": "stdout",
          "text": [
            "id of t2 140599243358672\n",
            "id of t3 140599243275776\n"
          ]
        }
      ]
    },
    {
      "cell_type": "code",
      "source": [
        "#Illustrative Examples\n",
        "#Program to print day of week when the input is day of week as number\n",
        "day=('sunday','monday','tuesday','wednesday','thursday','friday','saturday')\n",
        "\n",
        "n=int(input(\"Enter day of week as no: \"))\n",
        "if n < 0 or n>6:\n",
        "  print(\"Invalid input\")\n",
        "else:\n",
        "  print(\"Day of week is: \", day[n])"
      ],
      "metadata": {
        "id": "6sAFCR5nzK-a"
      },
      "execution_count": null,
      "outputs": []
    },
    {
      "cell_type": "code",
      "source": [
        "#Program takes no. as input and prints it in words\n",
        "#input - 235; output- two three five\n",
        "\n",
        "name=(\"zero\",'one','two','three','four','five','six','seven','eight','nine')\n",
        "\n",
        "i=int(input(\"Enter a whole no\"))\n",
        "t=n;\n",
        "digit=list()\n",
        "while t>0:\n",
        "  d=t%10\n",
        "  t=int(t/10)\n",
        "  digit.append(d)\n",
        "\n",
        "digit.reverse()\n",
        "\n",
        "for d in digit:\n",
        "  print(name[d],end='')"
      ],
      "metadata": {
        "id": "V22eG0M3SUCO"
      },
      "execution_count": null,
      "outputs": []
    },
    {
      "cell_type": "code",
      "source": [],
      "metadata": {
        "id": "tKfJTe3lS1da"
      },
      "execution_count": null,
      "outputs": []
    }
  ]
}