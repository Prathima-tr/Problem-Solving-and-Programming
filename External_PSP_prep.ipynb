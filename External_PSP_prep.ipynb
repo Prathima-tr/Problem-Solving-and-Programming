{
  "nbformat": 4,
  "nbformat_minor": 0,
  "metadata": {
    "colab": {
      "provenance": []
    },
    "kernelspec": {
      "name": "python3",
      "display_name": "Python 3"
    },
    "language_info": {
      "name": "python"
    }
  },
  "cells": [
    {
      "cell_type": "markdown",
      "source": [
        "Done by Umadevi (RNo:16) 2022-23 Batch, AI&DS, Section-1\n",
        "Course: PSP Lab (22csc02)\n",
        "\n",
        "> Indented block\n",
        "\n"
      ],
      "metadata": {
        "id": "G4cnwVPLcxpv"
      }
    },
    {
      "cell_type": "markdown",
      "source": [
        "NOT DONE YET: Q21(a),Q22(a),Q26(a)\n",
        "\n",
        "\n",
        "\n",
        "\n",
        "\n"
      ],
      "metadata": {
        "id": "QZJSY2qRP9Sg"
      }
    },
    {
      "cell_type": "code",
      "source": [
        "# Q1 Write a python program to explain the scope of local and global variables using functions\n",
        "\n",
        "global_var=23\n",
        "def fun1():\n",
        "  global_var=15\n",
        "  print('The value of global_var in fun1 :',global_var)\n",
        "\n",
        "def fun2():\n",
        "  local_var=19\n",
        "  print('The value of local_var in fun2 :',local_var)\n",
        "\n",
        "print('THe value of global_var defined outside : ',global_var)\n",
        "(fun1())\n",
        "fun2()\n",
        "#print(local_var)           # throws an error as local_var is not defined outside the fun2.....not globally defined"
      ],
      "metadata": {
        "colab": {
          "base_uri": "https://localhost:8080/"
        },
        "id": "ZnyeZMvzoC15",
        "outputId": "34eeb9a9-ba81-45b3-ceaa-185c9981e817"
      },
      "execution_count": null,
      "outputs": [
        {
          "output_type": "stream",
          "name": "stdout",
          "text": [
            "THe value of global_var defined outside :  23\n",
            "The value of global_var in fun1 : 15\n",
            "The value of local_var in fun2 : 19\n"
          ]
        }
      ]
    },
    {
      "cell_type": "code",
      "source": [
        "# Write a python program to merge the contents of two files into one file\n",
        "# 1st file\n",
        "f1=open('my_file1','wt')\n",
        "f1.write('This is my first file\\n')\n",
        "f1.write('2nd ine of my 1st file\\n')\n",
        "\n",
        "\n",
        "#2nd file\n",
        "\n",
        "f2=open('my_file2','wt')\n",
        "f2.write('This is second file\\n')\n",
        "f2.write('2nd line of my 2nd file\\n')\n",
        "\n",
        "\n",
        "\n",
        "#new file\n",
        "# copying file 1 and2 into 3\n",
        "f3=open('newfile','wt')\n",
        "f1=open('my_file1','rt')\n",
        "f2=open('my_file2','rt')\n",
        "a=f1.read()\n",
        "b=f2.read()\n",
        "f3.write(a)\n",
        "f3.write(b)\n",
        "\n",
        "## reading the contents of3rd file i.e merged file\n",
        "f3=open('newfile','rt')\n",
        "r3=f3.read()\n",
        "\n",
        "print('first file----- : ',a)\n",
        "print('second file----- : ',b)\n",
        "print('3rd file------ : ',r3)"
      ],
      "metadata": {
        "colab": {
          "base_uri": "https://localhost:8080/"
        },
        "id": "Nn5z4r6xsKy9",
        "outputId": "03f3761c-393b-4c5d-c32a-5fc88c467d68"
      },
      "execution_count": null,
      "outputs": [
        {
          "output_type": "stream",
          "name": "stdout",
          "text": [
            "first file----- :  This is my first file\n",
            "2nd ine of my 1st file\n",
            "\n",
            "second file----- :  This is second file\n",
            "2nd line of my 2nd file\n",
            "\n",
            "3rd file------ :  This is my first file\n",
            "2nd ine of my 1st file\n",
            "This is second file\n",
            "2nd line of my 2nd file\n",
            "\n"
          ]
        }
      ]
    },
    {
      "cell_type": "code",
      "source": [
        "##  Q2. Illustrate different read functions available in files\n",
        "\n",
        "f11=open('my_files','wt')\n",
        "f11.write('Hi this is Umadevi\\n')\n",
        "f11.write('Nice to meet you\\n')\n",
        "f11.write('lets catch up later\\n')\n",
        "f11.close()\n",
        "\n",
        "fo=open('my_files','rt')\n",
        "# .read()\n",
        "a=fo.read()\n",
        "print('WIth read()------:',a)\n",
        "\n",
        "fo=open('my_files','rt')\n",
        "#readline()\n",
        "b=fo.readline(100)\n",
        "b1=fo.readline(200000000)\n",
        "print('With readline---: ',b,'next line     : ',b1)\n",
        "\n",
        "fo=open('my_files','rt')\n",
        "# readlines()\n",
        "c=fo.readlines()\n",
        "print('with readlines-----: ',c)\n",
        "fo.close()\n",
        "print()\n",
        "\n",
        "fo.closed"
      ],
      "metadata": {
        "colab": {
          "base_uri": "https://localhost:8080/"
        },
        "id": "TMfjsquwwcu3",
        "outputId": "9b7c27fa-1571-4721-914b-015c7ec4983c"
      },
      "execution_count": null,
      "outputs": [
        {
          "output_type": "stream",
          "name": "stdout",
          "text": [
            "WIth read()------: Hi this is Umadevi\n",
            "Nice to meet you\n",
            "lets catch up later\n",
            "\n",
            "With readline---:  Hi this is Umadevi\n",
            " next line     :  Nice to meet you\n",
            "\n",
            "with readlines-----:  ['Hi this is Umadevi\\n', 'Nice to meet you\\n', 'lets catch up later\\n']\n",
            "\n"
          ]
        },
        {
          "output_type": "execute_result",
          "data": {
            "text/plain": [
              "True"
            ]
          },
          "metadata": {},
          "execution_count": 31
        }
      ]
    },
    {
      "cell_type": "code",
      "source": [
        "# Find the sum of odd factors of a given number\n",
        "\n",
        "n=int(input())\n",
        "i=1\n",
        "sum=0\n",
        "while i<=n:\n",
        "  if n%i==0 and i%2!=0:\n",
        "    sum+=i\n",
        "  i+=1\n",
        "print('sum of odd factors is :',sum)\n"
      ],
      "metadata": {
        "colab": {
          "base_uri": "https://localhost:8080/"
        },
        "id": "qiSSkfE9zyp5",
        "outputId": "75727176-6f25-496c-86a1-c528d9d46406"
      },
      "execution_count": null,
      "outputs": [
        {
          "output_type": "stream",
          "name": "stdout",
          "text": [
            "20\n",
            "sum of odd factors is : 6\n"
          ]
        }
      ]
    },
    {
      "cell_type": "code",
      "source": [
        "# 3. Illustrate different write functions available in files\n",
        "\n",
        "fo=open('my_file','wt')\n",
        "# .write(str): a single line is written\n",
        "fo.write('HI all\\n ')\n",
        "# writelines(list): write multiple lines into a file. each string of the list is a new line\n",
        "fo.writelines(['Goodmorning\\n','Good afternoon\\n','Good evening\\n'])\n",
        "fo.close()\n",
        "\n",
        "fo1=open('my_file','rt')\n",
        "a=fo1.read()\n",
        "print(a) "
      ],
      "metadata": {
        "colab": {
          "base_uri": "https://localhost:8080/"
        },
        "id": "j1Sc0UJ8ve_S",
        "outputId": "87156969-7403-4d00-eb5e-0dc1425207e3"
      },
      "execution_count": null,
      "outputs": [
        {
          "output_type": "stream",
          "name": "stdout",
          "text": [
            "HI all\n",
            " Goodmorning\n",
            "Good afternoon\n",
            "Good evening\n",
            "\n"
          ]
        }
      ]
    },
    {
      "cell_type": "code",
      "source": [
        "#Find the sum of all elements of a 2D array\n",
        "\n",
        "a=[[1,2,3],\n",
        "   [4,6],\n",
        "   [7,8,9]]\n",
        "\n",
        "sum=0\n",
        "for i in range(len(a)):\n",
        "  for j in range(len(a[i])):\n",
        "    sum+=a[i][j]\n",
        "print(sum)"
      ],
      "metadata": {
        "colab": {
          "base_uri": "https://localhost:8080/"
        },
        "id": "CqkiSlxNzSzs",
        "outputId": "fc634419-a2d4-442e-d69e-85f8dd2a9447"
      },
      "execution_count": null,
      "outputs": [
        {
          "output_type": "stream",
          "name": "stdout",
          "text": [
            "40\n"
          ]
        }
      ]
    },
    {
      "cell_type": "code",
      "source": [
        "# 4. Find whether a number is Armstrong \n",
        "\n",
        "n=int(input())\n",
        "sum=0\n",
        "x=n\n",
        "while n>0:\n",
        "  rem=0\n",
        "  rem=n%10\n",
        "  sum+=rem**3\n",
        "  n=n//10\n",
        "\n",
        "if sum==x:\n",
        "  print('The number' ,x, 'is amstrong number')\n",
        "else:\n",
        "  print('The number',x,'is not amstrong number')\n",
        "\n"
      ],
      "metadata": {
        "colab": {
          "base_uri": "https://localhost:8080/"
        },
        "id": "ogHEUbJo1UtO",
        "outputId": "9aeea952-e9f2-4a62-8102-a5d1b90a8a3f"
      },
      "execution_count": null,
      "outputs": [
        {
          "output_type": "stream",
          "name": "stdout",
          "text": [
            "123\n",
            "The number 123 is not amstrong number\n"
          ]
        }
      ]
    },
    {
      "cell_type": "code",
      "source": [
        "## Write a program to convert Celsius to Fahrenheit. F = (9/5) *C+32 using functions; C must be sent as argument \n",
        "#to function and inturn function should return the Fahrenheit to caller\n",
        "\n",
        "def f(c):\n",
        "  f=(9/5)*c+32\n",
        "  print(f,'F')\n",
        "\n",
        "c=float(input('Temperature in celsius '))\n",
        "f(c)"
      ],
      "metadata": {
        "colab": {
          "base_uri": "https://localhost:8080/"
        },
        "id": "DuOcTiGkOFIu",
        "outputId": "77d6a70f-ed29-4df3-dbab-861e40f19841"
      },
      "execution_count": null,
      "outputs": [
        {
          "output_type": "stream",
          "name": "stdout",
          "text": [
            "Temperature in celsius 100\n",
            "212.0 F\n"
          ]
        }
      ]
    },
    {
      "cell_type": "code",
      "source": [
        "# 5. Illustrate List: insertion, appending, removing, Indexing, Slicing, Mutability, predefined operations\n",
        "\n",
        "my_list=[1,2,4,5,6,7,8,9]\n",
        "# insertion\n",
        "my_list.insert(2,3)\n",
        "print('Inserted 3 at 2nd index:' ,my_list)\n",
        "# appending\n",
        "my_list.append(10)\n",
        "print('THe list after appending 10 :',my_list)\n",
        "# removing\n",
        "my_list.remove(8)\n",
        "print('The list after removing the elemnet 8:',my_list)\n",
        "#Indexing\n",
        "print('Indexing on list, element at 5th index :',my_list[5])\n",
        "# slicing\n",
        "print('slicing with step 3 from starting till end:',my_list[::3])\n",
        "#Mutability\n",
        "my_list[4]=20\n",
        "print('The list after updating ',my_list)\n",
        "### predefined operations\n",
        "print('Length of the list:',len(my_list))\n",
        "#repetion\n",
        "print('List after repeating:' ,my_list*2)\n",
        "my_list1=[11,12,13,14,15]\n",
        "# concatination\n",
        "print('concatination on lists:',my_list+my_list1)\n",
        "# membership\n",
        "print('Membership test:',14 in my_list)\n",
        "\n"
      ],
      "metadata": {
        "colab": {
          "base_uri": "https://localhost:8080/"
        },
        "id": "WjpF7tHUPlNg",
        "outputId": "341084e5-8441-4a7b-89bc-f082c90befe1"
      },
      "execution_count": null,
      "outputs": [
        {
          "output_type": "stream",
          "name": "stdout",
          "text": [
            "Inserted 3 at 2nd index: [1, 2, 3, 4, 5, 6, 7, 8, 9]\n",
            "THe list after appending 10 : [1, 2, 3, 4, 5, 6, 7, 8, 9, 10]\n",
            "The list after removing the elemnet 8: [1, 2, 3, 4, 5, 6, 7, 9, 10]\n",
            "Indexing on list, element at 5th index : 6\n",
            "slicing with step 3 from starting till end: [1, 4, 7]\n",
            "The list after updating  [1, 2, 3, 4, 20, 6, 7, 9, 10]\n",
            "Length of the list: 9\n",
            "List after repeating: [1, 2, 3, 4, 20, 6, 7, 9, 10, 1, 2, 3, 4, 20, 6, 7, 9, 10]\n",
            "concatination on lists: [1, 2, 3, 4, 20, 6, 7, 9, 10, 11, 12, 13, 14, 15]\n",
            "Membership test: False\n"
          ]
        }
      ]
    },
    {
      "cell_type": "code",
      "source": [
        "#Write a program in Python to compute GCD of given numbers using recursion\n",
        "\n",
        "def gcd(a,b):\n",
        "  if a%b==0:\n",
        "    return b\n",
        "  else:\n",
        "    return gcd(b,a%b)\n",
        "a=int(input())\n",
        "b=int(input())\n",
        "print('The gcd of',a,'and',b,'is:',gcd(a,b))\n"
      ],
      "metadata": {
        "colab": {
          "base_uri": "https://localhost:8080/"
        },
        "id": "ZifzuaAISw8_",
        "outputId": "784cd2a3-a81b-4c5f-b5b1-5715c243acc0"
      },
      "execution_count": null,
      "outputs": [
        {
          "output_type": "stream",
          "name": "stdout",
          "text": [
            "2\n",
            "9\n",
            "The gcd of 2 and 9 is: 1\n"
          ]
        }
      ]
    },
    {
      "cell_type": "code",
      "source": [
        "# 6. Illustrate Tuple: Indexing, Slicing, Immutability, predefined operations\n",
        "\n",
        "t=(2,4,6,8,10)\n",
        "# indexing\n",
        "print('Indexing: ',t[3])\n",
        "#slicing \n",
        "print('slicing: ',t[2:4])\n",
        "# immutability\n",
        "# tuple elements cannot be updated, order cannot be change\n",
        "# predefined operations\n",
        "# concatenation\n",
        "t1=(1,2,3,4,5,6,7,8)\n",
        "print('concatenation on tuples: ',t+t1)\n",
        "# membership\n",
        "print('membership test on tupe: ',4 in t)\n",
        "# repeator\n",
        "print('repetetion on tuples: ',t1*2)"
      ],
      "metadata": {
        "colab": {
          "base_uri": "https://localhost:8080/"
        },
        "id": "1HBcTcRI1Tt0",
        "outputId": "4fae874b-a6aa-4202-addf-864b310af7c2"
      },
      "execution_count": null,
      "outputs": [
        {
          "output_type": "stream",
          "name": "stdout",
          "text": [
            "Indexing:  8\n",
            "slicing:  (6, 8)\n",
            "concatenation on tuples:  (2, 4, 6, 8, 10, 1, 2, 3, 4, 5, 6, 7, 8)\n",
            "membership test on tupe:  True\n",
            "repetetion on tuples:  (1, 2, 3, 4, 5, 6, 7, 8, 1, 2, 3, 4, 5, 6, 7, 8)\n"
          ]
        }
      ]
    },
    {
      "cell_type": "code",
      "source": [
        "# Q6 Write a program in Python to compute LCM of given numbers using recursion\n",
        "\n",
        "def lcm(a,b):\n",
        "  t=a%b\n",
        "  if a%b==0:\n",
        "    return a\n",
        "  else:\n",
        "    return a*lcm(b,a%b)/(a%b)\n",
        "\n",
        "a=int(input())\n",
        "b=int(input())\n",
        "print(\"LCM of \",a,'and',b,'is:',lcm(a,b))"
      ],
      "metadata": {
        "colab": {
          "base_uri": "https://localhost:8080/"
        },
        "id": "vCwyV8upTWvt",
        "outputId": "cbc7615f-9ef7-4530-a23d-b7b0dce36bcb"
      },
      "execution_count": null,
      "outputs": [
        {
          "output_type": "stream",
          "name": "stdout",
          "text": [
            "6\n",
            "2\n",
            "LCM of  6 and 2 is: 6\n"
          ]
        }
      ]
    },
    {
      "cell_type": "code",
      "source": [
        "# Q7 Illustrate Dictionary: insertion, appending, removing, Key, values, retrieving, predefined operations\n",
        "d={1:'a',2:'b',3:'c',4:'d',5:'e'}\n",
        "# insertion  appending\n",
        "d[6]='f'\n",
        "print('Dict after inserting new key value pair:',d)\n",
        "# removing\n",
        "d.pop(3)\n",
        "print('THe dict after removing a key:',d)\n",
        "# keys\n",
        "print('Keys of the dict:',d.keys())\n",
        "#values\n",
        "print('Values of the dict:',d.values())\n",
        "#retriving\n",
        "print('Retriving:',d[2])\n",
        "print('Keys and values of dict:',d.items())"
      ],
      "metadata": {
        "colab": {
          "base_uri": "https://localhost:8080/"
        },
        "id": "ukLL-MUqV1FR",
        "outputId": "81bd07ca-9622-4dd1-8300-93edbf41c364"
      },
      "execution_count": null,
      "outputs": [
        {
          "output_type": "stream",
          "name": "stdout",
          "text": [
            "Dict after inserting new key value pair: {1: 'a', 2: 'b', 3: 'c', 4: 'd', 5: 'e', 6: 'f'}\n",
            "THe dict after removing a key: {1: 'a', 2: 'b', 4: 'd', 5: 'e', 6: 'f'}\n",
            "Keys of the dict: dict_keys([1, 2, 4, 5, 6])\n",
            "Values of the dict: dict_values(['a', 'b', 'd', 'e', 'f'])\n",
            "Retriving: b\n",
            "Keys and values of dict: dict_items([(1, 'a'), (2, 'b'), (4, 'd'), (5, 'e'), (6, 'f')])\n"
          ]
        }
      ]
    },
    {
      "cell_type": "code",
      "source": [
        "#Find the factorial of a given number using iteration, return both no and the factorial to the caller\n",
        "\n",
        "def fact(n):\n",
        "  i=1\n",
        "  nfact=1\n",
        "  while i<=n:\n",
        "    nfact*=i\n",
        "    i+=1\n",
        "  return nfact\n",
        "\n",
        "n=int(input())\n",
        "print('The factorial of',n,'is:',fact(n))"
      ],
      "metadata": {
        "colab": {
          "base_uri": "https://localhost:8080/"
        },
        "id": "qdMjvtRabLwg",
        "outputId": "d4ff6cc1-371e-4334-e750-80d7bc20b14f"
      },
      "execution_count": null,
      "outputs": [
        {
          "output_type": "stream",
          "name": "stdout",
          "text": [
            "5\n",
            "The factorial of 5 is: 120\n"
          ]
        }
      ]
    },
    {
      "cell_type": "code",
      "source": [
        "# 8. Illustrate String: Indexing, Slicing, Immutability, predefined operations\n",
        "\n",
        "s='Umadeeevi'\n",
        "print('indexing on string: ',s[4])\n",
        "print('slicing on strings: ',s[1:6:2])\n",
        "s2='Putta'\n",
        "print('concatenation on strings: ',s+s2)\n",
        "print('Membership test: ','e' in s)\n",
        "print('repetetion on strings: ',s2*2)\n",
        "\n",
        "\n",
        "\n",
        "#Find factorial of a given number using recursion\n",
        "\n",
        "def rfact(n):\n",
        "  if n<0:\n",
        "    return None\n",
        "  elif 0<=n<=1:\n",
        "    return 1\n",
        "  else:\n",
        "    return n*rfact(n-1)\n",
        "\n",
        "n=int(input())\n",
        "print('The factorial of',n,'is :',rfact(n))"
      ],
      "metadata": {
        "id": "5Ohxj_GEbsAQ",
        "colab": {
          "base_uri": "https://localhost:8080/"
        },
        "outputId": "0c64fb79-e9ff-445b-f0d2-bfd0f48d47ba"
      },
      "execution_count": null,
      "outputs": [
        {
          "output_type": "stream",
          "name": "stdout",
          "text": [
            "indexing on string:  e\n",
            "slicing on strings:  mde\n",
            "concatenation on strings:  UmadeeeviPutta\n",
            "Membership test:  True\n",
            "repetetion on strings:  PuttaPutta\n",
            "5\n",
            "The factorial of 5 is : 120\n"
          ]
        }
      ]
    },
    {
      "cell_type": "code",
      "source": [
        "#9. Write a program to find whether a string is palindrome\n",
        "\n",
        "# false means the string is not palindrome\n",
        "def p(s):\n",
        "  l=0\n",
        "  h=len(s)-1\n",
        "  while l<h:\n",
        "    if s[l]!=s[h]:\n",
        "      return False\n",
        "    l+=1\n",
        "    h-=1\n",
        "  return True\n",
        "\n",
        "print(p('Telugu'))\n",
        "print(p('malayalam'))"
      ],
      "metadata": {
        "colab": {
          "base_uri": "https://localhost:8080/"
        },
        "id": "irh-no_Ur6oS",
        "outputId": "55f89bc9-05e5-467c-f9dd-92028e00bb97"
      },
      "execution_count": null,
      "outputs": [
        {
          "output_type": "stream",
          "name": "stdout",
          "text": [
            "False\n",
            "True\n"
          ]
        }
      ]
    },
    {
      "cell_type": "code",
      "source": [
        "# Demonstrate accumulation on a list\n",
        "\n",
        "list1=[]\n",
        "n=int(input('No. of elements to be appended in a list: '))\n",
        "for i in range(n):\n",
        "  i=int(input())\n",
        "  list1.append(i)\n",
        "sum=0\n",
        "for j in list1:\n",
        "  sum+=j\n",
        "print('List accumulation: ',sum)"
      ],
      "metadata": {
        "colab": {
          "base_uri": "https://localhost:8080/"
        },
        "id": "GlNpp0etvKk8",
        "outputId": "a785634c-5229-49ba-b9c6-f19defb0a57a"
      },
      "execution_count": null,
      "outputs": [
        {
          "output_type": "stream",
          "name": "stdout",
          "text": [
            "No. of elements to be appended in a list: 5\n",
            "1\n",
            "2\n",
            "3\n",
            "4\n",
            "5\n",
            "List accumulation:  15\n"
          ]
        }
      ]
    },
    {
      "cell_type": "code",
      "source": [
        "#10. Implement recursive Linear Search\n",
        "\n",
        "def recursive_linear(arr,low,high,x):\n",
        "  if low>high:\n",
        "    return 'Not found'\n",
        "  elif arr[low]==x:\n",
        "    return low\n",
        "  elif arr[high]==x:\n",
        "    return  high\n",
        "  else:\n",
        "    return recursive_linear(arr,low+1,high-1,x)\n",
        "\n",
        "arr=[2,3,5,6,72,34,5,688]\n",
        "x=int(input('The elemnet to be searched : '))\n",
        "print(recursive_linear(arr,0,len(arr)-1,x))"
      ],
      "metadata": {
        "colab": {
          "base_uri": "https://localhost:8080/"
        },
        "id": "u83XQ5ofv4L5",
        "outputId": "56dcdb1c-94aa-470f-843f-5405f5443c70"
      },
      "execution_count": null,
      "outputs": [
        {
          "output_type": "stream",
          "name": "stdout",
          "text": [
            "The elemnet to be searched : 654\n",
            "Not found\n"
          ]
        }
      ]
    },
    {
      "cell_type": "code",
      "source": [
        "#Implement Matrix Addition create matrices using nested lists\n",
        "\n",
        "m1=[[1,1,1],\n",
        "    [2,2,2],\n",
        "    [3,3,3]]\n",
        "\n",
        "m2=[[3,3,3],\n",
        "    [2,2,2],\n",
        "    [1,1,1]]\n",
        "\n",
        "result=[[0,0,0],\n",
        "        [0,0,0],\n",
        "        [0,0,0]]\n",
        "\n",
        "for i in range(len(m1)):          # no. of rows of 1st matrix 1 or 2\n",
        "  for j in range(len(m1[0])):     # no. of columns of matrix 1 or 2\n",
        "    result[i][j]+=m1[i][j]+m2[i][j]\n",
        "\n",
        "for row in result:\n",
        "  print(row)"
      ],
      "metadata": {
        "colab": {
          "base_uri": "https://localhost:8080/"
        },
        "id": "OXkBFUmHxVHE",
        "outputId": "960af2ac-8693-450a-d345-703013f09c1a"
      },
      "execution_count": null,
      "outputs": [
        {
          "output_type": "stream",
          "name": "stdout",
          "text": [
            "[4, 4, 4]\n",
            "[4, 4, 4]\n",
            "[4, 4, 4]\n"
          ]
        }
      ]
    },
    {
      "cell_type": "code",
      "source": [
        "# 11. Implement iterative Linear Search\n",
        "\n",
        "def iterative_linear(arr,x):\n",
        "  c=0\n",
        "  for i in arr:\n",
        "    if i==x:\n",
        "      print('THe element is found ') \n",
        "      c+=1\n",
        "  if c==0:\n",
        "    print('The element is NOT FOUND')\n",
        "\n",
        "arr=[2,3,5,6,7,8,21,3,43,4,5]\n",
        "x=456\n",
        "(iterative_linear(arr,x))"
      ],
      "metadata": {
        "colab": {
          "base_uri": "https://localhost:8080/"
        },
        "id": "1FLLiFu4yy6g",
        "outputId": "ad33b16a-fb57-4528-9f05-15fa62a48a2d"
      },
      "execution_count": null,
      "outputs": [
        {
          "output_type": "stream",
          "name": "stdout",
          "text": [
            "The element is NOT FOUND\n"
          ]
        }
      ]
    },
    {
      "cell_type": "code",
      "source": [
        "#Implement Matrix Multiplication\n",
        "\n",
        "m1=[[1,1,1],\n",
        "    [2,2,2],\n",
        "    [3,3,3]]\n",
        "\n",
        "m2=[[3,3,3],\n",
        "    [2,2,2],\n",
        "    [1,1,1]]\n",
        "\n",
        "result=[[0,0,0],\n",
        "        [0,0,0],\n",
        "        [0,0,0]]\n",
        "\n",
        "if len(m1[0])==len(m2):\n",
        "  for i in range(len(m1)):\n",
        "    for j in range(len(m2[i])):\n",
        "      for k in range(len(m2)):\n",
        "        result[i][j]+=m1[i][k]*m2[k][j]\n",
        "else:\n",
        "  print('matrix multiplication is not possible')\n",
        "\n",
        "for row in result:\n",
        "  print(row)"
      ],
      "metadata": {
        "colab": {
          "base_uri": "https://localhost:8080/"
        },
        "id": "ieZWvu7B0ukb",
        "outputId": "1aaa1a04-5738-4ca3-83ad-6c2a27d41152"
      },
      "execution_count": null,
      "outputs": [
        {
          "output_type": "stream",
          "name": "stdout",
          "text": [
            "[6, 6, 6]\n",
            "[12, 12, 12]\n",
            "[18, 18, 18]\n"
          ]
        }
      ]
    },
    {
      "cell_type": "code",
      "source": [
        "# 12. Implement recursive Binary Search \n",
        "\n",
        "def recursive_binary(arr,low,high,x):\n",
        "  if low>high:\n",
        "    return 'Not found'\n",
        "  else:\n",
        "    mid=(low+high)//2\n",
        "    if arr[mid]==x:\n",
        "      return 'The element is found at index:',mid\n",
        "    elif arr[mid]>x:\n",
        "      return recursive_binary(arr,low,mid-1,x)\n",
        "    else:\n",
        "      return recursive_binary(arr,mid+1,high,x)\n",
        "\n",
        "l=[2,4,6,7,8,9,12]\n",
        "x=int(input())\n",
        "print(recursive_binary(l,0,len(l)-1,x))"
      ],
      "metadata": {
        "colab": {
          "base_uri": "https://localhost:8080/"
        },
        "id": "_mWnZwaI1wqD",
        "outputId": "a9f5ef84-4a8a-494f-8738-9dcd7ceaf74c"
      },
      "execution_count": null,
      "outputs": [
        {
          "output_type": "stream",
          "name": "stdout",
          "text": [
            "5\n",
            "Not found\n"
          ]
        }
      ]
    },
    {
      "cell_type": "code",
      "source": [
        "#Illustrate the usage of tell() and seek() functions\n",
        "\n",
        "f1=open('my_file1','wt')\n",
        "f1.write('This is my first file\\n')\n",
        "f1.write('2nd ine of my 1st file\\n')\n",
        "f1.close()\n",
        "f2=open('my_file1','r')\n",
        "f2.read(10)\n",
        "a=f2.tell()\n",
        "print(a)\n",
        "f2.seek(0,2)                 #By default from_what argument is set to 0. Note: Reference point at current position / end of file cannot be set in text mode except when offset is equal to 0.\n",
        "b=f2.tell()\n",
        "print(b)"
      ],
      "metadata": {
        "colab": {
          "base_uri": "https://localhost:8080/"
        },
        "id": "Xyeh4ptk4TYH",
        "outputId": "f9936410-bf53-4b85-eafb-44ac4697d38f"
      },
      "execution_count": null,
      "outputs": [
        {
          "output_type": "stream",
          "name": "stdout",
          "text": [
            "10\n",
            "45\n"
          ]
        }
      ]
    },
    {
      "cell_type": "code",
      "source": [
        "#13. Implement iterative Binary Search using functions\n",
        "\n",
        "def iterative_binary(arr,x):\n",
        "  low=0\n",
        "  high=len(arr)-1\n",
        "  mid=0\n",
        "  while low<=high:\n",
        "    mid=(low+high)//2\n",
        "    if arr[mid]==x:\n",
        "      return mid\n",
        "    elif arr[mid]>x:\n",
        "      high=mid-1\n",
        "    else:\n",
        "      low=mid+1\n",
        "  return 'not found'\n",
        "l=[2,4,6,7,8,9,12]\n",
        "x=int(input())\n",
        "print(iterative_binary(l,x))\n",
        "\n",
        "\n"
      ],
      "metadata": {
        "colab": {
          "base_uri": "https://localhost:8080/"
        },
        "id": "I9Z1VWN29DWy",
        "outputId": "7ab1252b-df8c-4437-ee50-78ceb9783f6f"
      },
      "execution_count": null,
      "outputs": [
        {
          "output_type": "stream",
          "name": "stdout",
          "text": [
            "12\n",
            "6\n"
          ]
        }
      ]
    },
    {
      "cell_type": "code",
      "source": [
        "# Find nth Fibonacci number using recursion\n",
        "\n",
        "def fib(n):\n",
        "  if n<=0:\n",
        "    return None\n",
        "  elif 0<n<=2:\n",
        "    return n-1\n",
        "  else:\n",
        "    return fib(n-1)+fib(n-2)\n",
        "\n",
        "n=int(input())\n",
        "print('The ',n,'fibinacci number is:',fib(n))"
      ],
      "metadata": {
        "colab": {
          "base_uri": "https://localhost:8080/"
        },
        "id": "mqEJlO55AFdP",
        "outputId": "1b3c1c04-557b-42de-a4e4-63123f424f0f"
      },
      "execution_count": null,
      "outputs": [
        {
          "output_type": "stream",
          "name": "stdout",
          "text": [
            "5\n",
            "The  5 fibinacci number is: 3\n"
          ]
        }
      ]
    },
    {
      "cell_type": "code",
      "source": [
        "# 14. Implement Bubble Sort using functions\n",
        "\n",
        "L=[10,8,4,12,6,16,2]\n",
        "for i in range(len(L)-1):\n",
        "  for j in range(len(L)-1-i):\n",
        "    if L[j]>L[j+1]:\n",
        "      L[j],L[j+1]=L[j+1],L[j]\n",
        "\n",
        "print(L)"
      ],
      "metadata": {
        "id": "Q1kUgKEcAxo_",
        "colab": {
          "base_uri": "https://localhost:8080/"
        },
        "outputId": "e630363c-cccd-45bf-80ef-b975c4f3ba7f"
      },
      "execution_count": null,
      "outputs": [
        {
          "output_type": "stream",
          "name": "stdout",
          "text": [
            "[2, 4, 6, 8, 10, 12, 16]\n"
          ]
        }
      ]
    },
    {
      "cell_type": "code",
      "source": [
        "def bubble_sort(arr):\n",
        "  n=len(arr)\n",
        "  for i in range(n-1):\n",
        "    for j in range(n-1-i):\n",
        "      if arr[j]>arr[j+1]:\n",
        "        arr[j],arr[j+1]=arr[j+1],arr[j]\n",
        "  return L\n",
        "  \n",
        "\n",
        "L=[10,8,4,12,6,16,2]\n",
        "print('List that has been sort by bubble sort:',bubble_sort(L))"
      ],
      "metadata": {
        "colab": {
          "base_uri": "https://localhost:8080/"
        },
        "id": "qktUCHgqM-eg",
        "outputId": "156d3566-dea2-453b-9349-cef50afa4aa6"
      },
      "execution_count": null,
      "outputs": [
        {
          "output_type": "stream",
          "name": "stdout",
          "text": [
            "List that has been sort by bubble sort: [2, 4, 6, 8, 10, 12, 16]\n"
          ]
        }
      ]
    },
    {
      "cell_type": "code",
      "source": [
        "# Write a program in python to determine the unique words and their frequency in a given string\n",
        "\n",
        "s=input('Given string : ')\n",
        "d={}\n",
        "s1=s.split()\n",
        "for i in s1:\n",
        "  if i not in d:\n",
        "    d[i]=1\n",
        "  else:\n",
        "    d[i]+=1\n",
        "\n",
        "print(d)"
      ],
      "metadata": {
        "colab": {
          "base_uri": "https://localhost:8080/"
        },
        "id": "8_uep54yLOPm",
        "outputId": "14e5cdf0-4de9-4e00-d6da-a63a4cbbc678"
      },
      "execution_count": null,
      "outputs": [
        {
          "output_type": "stream",
          "name": "stdout",
          "text": [
            "Given string : THis is great adn great and awesome\n",
            "{'THis': 1, 'is': 1, 'great': 2, 'adn': 1, 'and': 1, 'awesome': 1}\n"
          ]
        }
      ]
    },
    {
      "cell_type": "code",
      "source": [
        "#15. Write a program to find the size of a text file\n",
        "\n",
        "fn=input()\n",
        "fo=open(fn,'rt')\n",
        "fo.seek(-0,2)\n",
        "a=fo.tell()\n",
        "print('The size of the given text file is ',a,'bytes')"
      ],
      "metadata": {
        "colab": {
          "base_uri": "https://localhost:8080/"
        },
        "id": "5DSCGmgnLvTa",
        "outputId": "f22ccbd1-ba00-4207-9406-d29703e835b2"
      },
      "execution_count": null,
      "outputs": [
        {
          "output_type": "stream",
          "name": "stdout",
          "text": [
            "/content/umafile1.txt\n",
            "The size of the given text file is  31 bytes\n"
          ]
        }
      ]
    },
    {
      "cell_type": "code",
      "source": [
        "# Implement Selection Sort using functions\n",
        "\n",
        "def selection_sort(arr):\n",
        "  n=len(arr)\n",
        "  for i in range(n-1):\n",
        "    for j in range(i+1,n):\n",
        "      if arr[i]>arr[j]:\n",
        "        arr[i],arr[j]=arr[j],arr[i]\n",
        "  return L\n",
        "L=[10,8,4,12,6,16,2]\n",
        "print('List that has been sort by selection sort:',selection_sort(L))"
      ],
      "metadata": {
        "colab": {
          "base_uri": "https://localhost:8080/"
        },
        "id": "8iB8bIp3M0HV",
        "outputId": "9c79e34d-5859-4f1f-c2fd-562730fc2055"
      },
      "execution_count": null,
      "outputs": [
        {
          "output_type": "stream",
          "name": "stdout",
          "text": [
            "List that has been sort by selection sort: [4, 6, 8, 10, 12, 16, 2]\n"
          ]
        }
      ]
    },
    {
      "cell_type": "code",
      "source": [
        "# 16. Write a program to read the contents of a file and count the unique characters\n",
        "\n",
        "fn=input('File name : ')\n",
        "fileObj=open(fn,'rt')\n",
        "a=fileObj.read()\n",
        "d={}\n",
        "for i in a:\n",
        "  if i not in d:\n",
        "    d[i]=1\n",
        "  else:\n",
        "    d[i]+=1\n",
        "\n",
        "print(\"The count of unique characters: \",d)"
      ],
      "metadata": {
        "colab": {
          "base_uri": "https://localhost:8080/"
        },
        "id": "HnShLNApQs29",
        "outputId": "e6ebbda4-2f63-432e-a820-14efd54925da"
      },
      "execution_count": null,
      "outputs": [
        {
          "output_type": "stream",
          "name": "stdout",
          "text": [
            "File name : /content/umafile1.txt\n",
            "the count of unique characters:  {'T': 1, 'H': 1, 'I': 1, 'S': 1, ' ': 5, 'i': 3, 's': 1, 'u': 2, 'm': 2, 'a': 1, 'd': 1, 'e': 4, 'v': 1, '\\n': 1, 'n': 1, 'c': 1, 't': 2, 'o': 1}\n"
          ]
        }
      ]
    },
    {
      "cell_type": "code",
      "source": [
        "# list accumulation\n",
        "#refer above"
      ],
      "metadata": {
        "id": "2mNkvUqhRg4X"
      },
      "execution_count": null,
      "outputs": []
    },
    {
      "cell_type": "code",
      "source": [
        "#17. Write a program to copy the contents source file to destination file line by line\n",
        "\n",
        "fn1=input('Name of source file : ')\n",
        "fn2=input('Name of the destination file : ')\n",
        "fo1=open(fn1,'rt')\n",
        "fo2=open(fn2,'wt')\n",
        "a=fo1.readlines()\n",
        "for line in a :\n",
        "  fo2.write(line) \n",
        "\n",
        "fo1.close()\n",
        "fo2.close()\n",
        "\n",
        "## reading the destination file\n",
        "f2=open(fn2,'rt')\n",
        "b=f2.readlines()\n",
        "for line in b:\n",
        "  print(line)"
      ],
      "metadata": {
        "colab": {
          "base_uri": "https://localhost:8080/"
        },
        "id": "rrMClXtfRryw",
        "outputId": "104d48b0-1b75-467b-8812-8af3fd835277"
      },
      "execution_count": null,
      "outputs": [
        {
          "output_type": "stream",
          "name": "stdout",
          "text": [
            "Name of source file : /content/umafile1.txt\n",
            "Name of the destination file : myyy\n",
            "THIS is umadevi\n",
            "\n",
            "nice to meet u\n"
          ]
        }
      ]
    },
    {
      "cell_type": "code",
      "source": [
        "##Build a dictionary with name and phone nos. Search whether a given mobile no. is present in the dictionary, it is \n",
        "# present display the mobile no and name otherwise report entry missing\n",
        "\n",
        "d={}\n",
        "while True:\n",
        "  phone_number=int(input('Mobile number : '))\n",
        "  name=input('Name of the person : ')\n",
        "  d[phone_number]=name\n",
        "  choice=input('Enter Y or N : ')\n",
        "  if choice in ('Y','y'):\n",
        "    continue\n",
        "  else:\n",
        "    break\n",
        "\n",
        "search_number=int(input('Enter the number that has to be searched : '))\n",
        "c=0\n",
        "for key in d:\n",
        "  if key==search_number:\n",
        "    print(key,'      ',d[key])\n",
        "    c+=1\n",
        "if c==0:\n",
        "  print('The entry is missing ')\n"
      ],
      "metadata": {
        "colab": {
          "base_uri": "https://localhost:8080/"
        },
        "id": "1Kvk6DOxS7UV",
        "outputId": "bdb6768b-9a4c-4d47-9934-cb5b64324c78"
      },
      "execution_count": null,
      "outputs": [
        {
          "output_type": "stream",
          "name": "stdout",
          "text": [
            "Mobile number : 9876345678\n",
            "Name of the person : p1\n",
            "Enter Y or N : y\n",
            "Mobile number : 9876521345\n",
            "Name of the person : p2\n",
            "Enter Y or N : n\n",
            "Enter the number that has to be searched : 9876521345\n",
            "contact\n",
            "9876521345        p2\n"
          ]
        }
      ]
    },
    {
      "cell_type": "code",
      "source": [
        "# 18. Demonstrate positional arguments and key word arguments used in functions\n",
        "\n",
        "# positional arguments\n",
        "# no of parameters should be equal to no of arguments\n",
        "def triple_sum(a,b):\n",
        "  return (a+b)*3\n",
        "print('Positional arguments: ',triple_sum(4,2))\n",
        "\n",
        "# key word arguments:\n",
        "def logic_fun(a,b,c):\n",
        "  return a*3+b*2+c\n",
        "\n",
        "print('Keyword arguments: ',logic_fun(b=3,a=2,c=1))"
      ],
      "metadata": {
        "colab": {
          "base_uri": "https://localhost:8080/"
        },
        "id": "4FrUtCK43n2g",
        "outputId": "1911e516-39a5-4817-c5e8-c587cfb9dc83"
      },
      "execution_count": null,
      "outputs": [
        {
          "output_type": "stream",
          "name": "stdout",
          "text": [
            "Positional arguments:  18\n",
            "Keyword arguments:  13\n"
          ]
        }
      ]
    },
    {
      "cell_type": "code",
      "source": [
        "# Demonstrate Dictionary accumulation\n",
        "\n",
        "s='Hey there coming back to the code:'\n",
        "d={}\n",
        "for i in s:\n",
        "  if i in d:\n",
        "    d[i]+=1\n",
        "  else:\n",
        "    d[i]=1\n",
        "\n",
        "print(d)"
      ],
      "metadata": {
        "colab": {
          "base_uri": "https://localhost:8080/"
        },
        "id": "7oAJmJRt5An1",
        "outputId": "e0ea9ff8-5341-480f-9134-51821c6c45b1"
      },
      "execution_count": null,
      "outputs": [
        {
          "output_type": "stream",
          "name": "stdout",
          "text": [
            "{'H': 1, 'e': 5, 'y': 1, ' ': 6, 't': 3, 'h': 2, 'r': 1, 'c': 3, 'o': 3, 'm': 1, 'i': 1, 'n': 1, 'g': 1, 'b': 1, 'a': 1, 'k': 1, 'd': 1, ':': 1}\n"
          ]
        }
      ]
    },
    {
      "cell_type": "code",
      "source": [
        "# 19. Write the details of ‘n’ students into a .csv file. Details include RNo, Name, Branch, EAMCET rank\n",
        "\n",
        "header=['Roll.no','Name','Branch','Eamcet rank']\n",
        "import csv\n",
        "with open('my_csvfile','wt') as file:\n",
        "  csv_file=csv.writer(file)\n",
        "  csv_file.writerow(header)\n",
        "  n=int(input('No. of students details to be entered: '))\n",
        "  for i in range(n):\n",
        "    Roll=int(input('Roll.no of the student: '))\n",
        "    Name=input('Name of the student: ')\n",
        "    Branch=input('Branch,student belongs to: ')\n",
        "    Eamcetrank=int(input('RAnk of the student: '))\n",
        "    csv_file.writerow([Roll,Name,Branch,Eamcetrank])\n",
        "\n",
        "# reading the csv file\n",
        "with open('my_csvfile','rt') as rfile:\n",
        "  csv_rfile=csv.reader(rfile)\n",
        "  for row in csv_rfile:\n",
        "    print(row)\n",
        "9"
      ],
      "metadata": {
        "id": "TLWHjspIU1Yx",
        "colab": {
          "base_uri": "https://localhost:8080/"
        },
        "outputId": "e531c5b1-7569-4916-9b50-456941a79961"
      },
      "execution_count": null,
      "outputs": [
        {
          "output_type": "stream",
          "name": "stdout",
          "text": [
            "No. of students details to be entered: 2\n",
            "Roll.no of the student: 016\n",
            "Name of the student: Uma\n",
            "Branch,student belongs to: aids\n",
            "RAnk of the student: 4427\n",
            "Roll.no of the student: 017\n",
            "Name of the student: tej\n",
            "Branch,student belongs to: aids\n",
            "RAnk of the student: 2345\n",
            "['Roll.no', 'Name', 'Branch', 'Eamcet rank']\n",
            "['16', 'Uma', 'aids', '4427']\n",
            "['17', 'tej', 'aids', '2345']\n"
          ]
        }
      ]
    },
    {
      "cell_type": "code",
      "source": [
        "#Write a function to read ‘n’ elements and return minimum, maximum and average of the list of elements.\n",
        "\n",
        "L=[]\n",
        "n=int(input('No. of elements: '))\n",
        "for i in range(n):\n",
        "  i=int(input())\n",
        "  L.append(i)\n",
        "print('THe list: ',L)\n",
        "# sorting the list:\n",
        "for j in range(len(L)-1):\n",
        "  for k in range(j+1,len(L)):\n",
        "    if L[j]>L[k]:\n",
        "      L[j],L[k]=L[k],L[j]\n",
        "print('list L after sorting : ',L)\n",
        "print('The minimum is : ',L[0])\n",
        "print('The maximun is : ',L[len(L)-1])\n",
        "# finding average:\n",
        "sum=0\n",
        "for x in L:\n",
        "  sum+=x\n",
        "average=sum/len(L)\n",
        "print('Average of list elements is :',average)"
      ],
      "metadata": {
        "colab": {
          "base_uri": "https://localhost:8080/"
        },
        "id": "GOf-_7q50Tz2",
        "outputId": "745f3a06-a985-4d76-cc75-39c465d91863"
      },
      "execution_count": null,
      "outputs": [
        {
          "output_type": "stream",
          "name": "stdout",
          "text": [
            "No. of elements: 5\n",
            "2\n",
            "10\n",
            "8\n",
            "4\n",
            "6\n",
            "THe list:  [2, 10, 8, 4, 6]\n",
            "list L after sorting :  [2, 4, 6, 8, 10]\n",
            "The minimum is :  2\n",
            "The maximun is :  10\n",
            "Average of list elements is : 6.0\n"
          ]
        }
      ]
    },
    {
      "cell_type": "code",
      "source": [
        "##Write a function to read ‘n’ elements and return minimum, maximum and average of the list of elements.\n",
        "\n",
        "def min_max_avg(arr):\n",
        "  return ('min is: ',min(arr)),('Maximum is :',max(arr)),('Average is : ',sum(arr)/len(arr))\n",
        "\n",
        "L=[]\n",
        "n=int(input('NO of. elements to be added in list: '))\n",
        "for i in range(n):\n",
        "  i=int(input())\n",
        "  L.append(i)\n",
        "print(min_max_avg(L))"
      ],
      "metadata": {
        "colab": {
          "base_uri": "https://localhost:8080/"
        },
        "id": "lnd2h-uOsrtf",
        "outputId": "5f83f34a-dfb5-4318-94f9-36c10b1b4f79"
      },
      "execution_count": null,
      "outputs": [
        {
          "output_type": "stream",
          "name": "stdout",
          "text": [
            "NO of. elements to be added in list: 3\n",
            "23\n",
            "16\n",
            "6\n",
            "(('min is: ', 6), ('Maximum is :', 23), ('Average is : ', 15.0))\n"
          ]
        }
      ]
    },
    {
      "cell_type": "code",
      "source": [
        "# 20. Write a program to reverse the number using . Input: 123 output: 321; i/p:4534 o/p: 4354\n",
        "\n",
        "n=int(input('Enter the number: '))\n",
        "reverse=0\n",
        "while n>0:\n",
        "  rem=0 \n",
        "  rem=n%10\n",
        "  reverse=reverse*10+rem\n",
        "  n=n//10\n",
        "print('The reverse of the input is : ',reverse)\n",
        "  \n"
      ],
      "metadata": {
        "colab": {
          "base_uri": "https://localhost:8080/"
        },
        "id": "ONZg0phFz7K1",
        "outputId": "22953a5c-9e26-422b-93e3-60345e6a812e"
      },
      "execution_count": null,
      "outputs": [
        {
          "output_type": "stream",
          "name": "stdout",
          "text": [
            "Enter the number: 4534\n",
            "The reverse of the input is :  4354\n"
          ]
        }
      ]
    },
    {
      "cell_type": "code",
      "source": [
        "#Write a program to display the below pattern, for n=4:\n",
        "#1 2 3 4\n",
        "#1 2 3\n",
        "#1 2\n",
        "#1\n",
        "\n",
        "n=int(input())\n",
        "for i in range(1,n+1):\n",
        "  for j in range(1,n+2-i):\n",
        "    print(j,end='')\n",
        "  print()"
      ],
      "metadata": {
        "colab": {
          "base_uri": "https://localhost:8080/"
        },
        "id": "P-hLGDit4cd2",
        "outputId": "239084e9-e4b7-4a6a-9ac7-ac4303075e72"
      },
      "execution_count": null,
      "outputs": [
        {
          "output_type": "stream",
          "name": "stdout",
          "text": [
            "4\n",
            "1234\n",
            "123\n",
            "12\n",
            "1\n"
          ]
        }
      ]
    },
    {
      "cell_type": "code",
      "source": [
        "# 21 Illustrate math: sqrt(), ceil(), floor(), pow(), fabs(), sin(), cos(), tan()\n",
        "\n",
        "import math\n",
        "print('finding sqaure root: ',math.sqrt(81))\n",
        "print('ceiling of a float: ',math.ceil(4.5))\n",
        "print('floor of a real number: ',math.floor(4.5))\n",
        "print('power : ',math.pow(2,3))\n",
        "print('absolute of a number : ',math.fabs(-345))\n",
        "print('sine of an angle: ',math.sin(math.pi/180*30))\n",
        "print('cosine of an angle: ',math.cos(math.pi/180*30))\n",
        "print('tangent of an angle: ',math.tan(math.pi/180*45))"
      ],
      "metadata": {
        "colab": {
          "base_uri": "https://localhost:8080/"
        },
        "id": "XcSSOF7Y6QIn",
        "outputId": "737fd51e-0394-4ce1-9de9-928483a9962a"
      },
      "execution_count": null,
      "outputs": [
        {
          "output_type": "stream",
          "name": "stdout",
          "text": [
            "finding sqaure root:  9.0\n",
            "ceiling of a float:  5\n",
            "floor of a real number:  4\n",
            "power :  8.0\n",
            "absolute of a number :  345.0\n",
            "sine of an angle:  0.49999999999999994\n",
            "cosine of an angle:  0.8660254037844387\n",
            "tangent of an angle:  0.9999999999999999\n"
          ]
        }
      ]
    },
    {
      "cell_type": "code",
      "source": [
        "# 22 Illustrate Identity Operators\n",
        "\n",
        "a=20\n",
        "b=60\n",
        "c='Hi'\n",
        "d=20\n",
        "# is operator\n",
        "print('IS OPERATOR :')\n",
        "print(a is b)\n",
        "print(c is d)\n",
        "print(a is d)\n",
        "# is not operator\n",
        "print('IS NOT OPERATOR:')\n",
        "print(a is not b)\n",
        "print(d is not d)\n",
        "print(a is not d)"
      ],
      "metadata": {
        "colab": {
          "base_uri": "https://localhost:8080/"
        },
        "id": "f_CZdDxT7m3i",
        "outputId": "65c1bc14-4d70-4d01-86d9-dc8df24c2260"
      },
      "execution_count": null,
      "outputs": [
        {
          "output_type": "stream",
          "name": "stdout",
          "text": [
            "IS OPERATOR :\n",
            "False\n",
            "False\n",
            "True\n",
            "IS NOT OPERATOR:\n",
            "True\n",
            "False\n",
            "False\n"
          ]
        }
      ]
    },
    {
      "cell_type": "code",
      "source": [
        "#23. Write a Python Program to find sum of digits of a positive number\n",
        "\n",
        "n=int(input())\n",
        "sum=0\n",
        "while n>0:\n",
        "  rem=0\n",
        "  rem=n%10\n",
        "  sum+=rem\n",
        "  n=n//10\n",
        "print('The sum of the digits of the given number is : ',sum)"
      ],
      "metadata": {
        "colab": {
          "base_uri": "https://localhost:8080/"
        },
        "id": "XV-eEI2U9QDk",
        "outputId": "d67a3257-1dca-4cf3-a846-6e1926591809"
      },
      "execution_count": null,
      "outputs": [
        {
          "output_type": "stream",
          "name": "stdout",
          "text": [
            "1234\n",
            "The sum of the digits of the given number is :  10\n"
          ]
        }
      ]
    },
    {
      "cell_type": "code",
      "source": [
        "#Illustrate membership operators\n",
        "L=[2,3,4,1,23]\n",
        "t=(2,4,7,8,9)\n",
        "d={2:'a',4:'b',5:'c'}\n",
        "# member ship test\n",
        "# in operator\n",
        "print('in OPERATOR')\n",
        "print('for list: ',3 in L)\n",
        "print('For tuple :',4 in t)\n",
        "print('for dict: ',5 in d)\n",
        "# not in operator\n",
        "print('not in OPERATOR')\n",
        "print('for list: ',9 not in L)\n",
        "print('For tuple :',4 not in t)\n",
        "print('for dict: ',5 not in d)"
      ],
      "metadata": {
        "colab": {
          "base_uri": "https://localhost:8080/"
        },
        "id": "am1Wzjmo95LQ",
        "outputId": "c55f1bf6-33c0-418c-88be-19de4a609d02"
      },
      "execution_count": null,
      "outputs": [
        {
          "output_type": "stream",
          "name": "stdout",
          "text": [
            "in OPERATOR\n",
            "for list:  True\n",
            "For tuple : True\n",
            "for dict:  True\n",
            "not in OPERATOR\n",
            "for list:  True\n",
            "For tuple : False\n",
            "for dict:  False\n"
          ]
        }
      ]
    },
    {
      "cell_type": "code",
      "source": [
        "#24. Write a program to reverse the number. Input: 123 output: 321\n",
        "#REFER ABOVE"
      ],
      "metadata": {
        "id": "sE5oCHrh_Jhb"
      },
      "execution_count": null,
      "outputs": []
    },
    {
      "cell_type": "code",
      "source": [
        "#Write a program in Python to find smallest of three nos\n",
        "n1=int(input())\n",
        "n2=int(input())\n",
        "n3=int(input())\n",
        "if n1<n2 and n1<n3:\n",
        "  print(n1,'is the smallest ')\n",
        "elif n2<n3:\n",
        "  print(n2,'is the samllest')\n",
        "else:\n",
        "  print(n3,'is the smallest')\n"
      ],
      "metadata": {
        "colab": {
          "base_uri": "https://localhost:8080/"
        },
        "id": "BSgcvSAA_MWg",
        "outputId": "e7fb4d58-443a-4bf7-86ea-ad68f74950ad"
      },
      "execution_count": null,
      "outputs": [
        {
          "output_type": "stream",
          "name": "stdout",
          "text": [
            "6\n",
            "8\n",
            "2\n",
            "2 is the smallest\n"
          ]
        }
      ]
    },
    {
      "cell_type": "code",
      "source": [
        "#25. Write a program to find whether a no. is prime or not\n",
        "\n",
        "n=int(input())\n",
        "i=1\n",
        "nof=0\n",
        "while i<=n//2:\n",
        "  if n%i==0:\n",
        "    nof+=1\n",
        "  i+=1\n",
        "if nof<=1:\n",
        "  print(n,'is a prime number')\n",
        "else:\n",
        "  print(n,'is not a prime number')\n"
      ],
      "metadata": {
        "colab": {
          "base_uri": "https://localhost:8080/"
        },
        "id": "DYrXwmNg_yfa",
        "outputId": "3c66e400-eb09-47e1-a7f2-a4caa1a28cc9"
      },
      "execution_count": null,
      "outputs": [
        {
          "output_type": "stream",
          "name": "stdout",
          "text": [
            "101\n",
            "101 is a prime number\n"
          ]
        }
      ]
    },
    {
      "cell_type": "code",
      "source": [
        "#Illustrate statistics: mean(), median(), mode(), pstdev(), pvariabce(), stdev(), variance()\n",
        "\n",
        "import statistics \n",
        "# mean()\n",
        "print('Mean of the data: ',statistics.mean([9,8,7,6,5,4,3,2,1]))\n",
        "# median\n",
        "print('median of the data: ',statistics.median([2,4,6,8,10,14]))\n",
        "#mode\n",
        "print('Mode of the data: ',statistics.mode([2,3,4,5,6,7,8,2,3,3,2]))\n",
        "# pstdev() : popultion standard deviation of data\n",
        "print('popultion standard deviation of data: ',statistics.pstdev([4,6,1,3,8,9,10,10,90]))\n",
        "#pvariance\n",
        "print('population variance of the data: ',statistics.pvariance([2,9,8,9,70,60,5,0,50,40]))\n",
        "#stdev()\n",
        "print('sample standard deviation of data: ',statistics.stdev([10,20,30,40,50,60]))\n",
        "#variance()\n",
        "print('sample variance of data: ',statistics.variance([1,3,5,7,9,11,13,15,17,19,21]))"
      ],
      "metadata": {
        "colab": {
          "base_uri": "https://localhost:8080/"
        },
        "id": "x3BFQLjjAod3",
        "outputId": "9c66c8fc-37c8-40e0-8908-bc6f80e3e843"
      },
      "execution_count": null,
      "outputs": [
        {
          "output_type": "stream",
          "name": "stdout",
          "text": [
            "Mean of the data:  5\n",
            "median of the data:  7.0\n",
            "Mode of the data:  2\n",
            "popultion standard deviation of data:  26.453313172035326\n",
            "population variance of the data:  645.4100000000001\n",
            "sample standard deviation of data:  18.708286933869708\n",
            "sample variance of data:  44\n"
          ]
        }
      ]
    },
    {
      "cell_type": "code",
      "source": [
        "# 26 Illustrate random: random(), randint(), randrange()\n",
        "\n",
        "import random\n",
        "print('returns next random floating point in the range(0.0,1.0)',random.random())\n",
        "print('returns random itegers : ',random.randint(23,32))\n",
        "print('Random elemnt: ',random.randrange(200,1000,200))"
      ],
      "metadata": {
        "colab": {
          "base_uri": "https://localhost:8080/"
        },
        "id": "G_lv0U-D9G0W",
        "outputId": "1e04c762-6f27-48d5-86d6-f2befa60e820"
      },
      "execution_count": null,
      "outputs": [
        {
          "output_type": "stream",
          "name": "stdout",
          "text": [
            "returns next random floating point in the range(0.0,1.0) 0.5378870535114082\n",
            "returns random itegers :  26\n",
            "Random elemnt:  600\n"
          ]
        }
      ]
    },
    {
      "cell_type": "code",
      "source": [
        "#27. Write a program to find roots of a quadratic equation\n",
        "\n",
        "# quadratic equation of the form ax^2+bx+c\n",
        "import math\n",
        "a=int(input())\n",
        "b=int(input())\n",
        "c=int(input())\n",
        "d=b**2-4*a*c\n",
        "x1=(-b+math.sqrt(d))/(2*a)\n",
        "x2=(-b-math.sqrt(d))/(2*a)\n",
        "print('The roots of the quadratic equation are {} and {}'.format(x1,x2))"
      ],
      "metadata": {
        "colab": {
          "base_uri": "https://localhost:8080/"
        },
        "id": "KI_iUfHkENJW",
        "outputId": "3a89fd74-616c-451d-d913-734f366882a1"
      },
      "execution_count": null,
      "outputs": [
        {
          "output_type": "stream",
          "name": "stdout",
          "text": [
            "1\n",
            "-1\n",
            "-12\n",
            "The roots of the quadratic equation are 4.0 and -3.0\n"
          ]
        }
      ]
    },
    {
      "cell_type": "code",
      "source": [
        "#Write a program to display the below pattern, when n=4\n",
        "#4 3 2 1\n",
        "#4 3 2\n",
        "#4 3\n",
        "#4\n",
        "\n",
        "n=int(input())\n",
        "for i in range(1,n+1):\n",
        "  j=n\n",
        "  while j>=i:\n",
        "    print(j,end=' ')\n",
        "    j-=1\n",
        "  print()"
      ],
      "metadata": {
        "colab": {
          "base_uri": "https://localhost:8080/"
        },
        "id": "NAWI06LzHKnm",
        "outputId": "00fceb1f-9bde-4562-f4a4-d2b26c0f104a"
      },
      "execution_count": null,
      "outputs": [
        {
          "output_type": "stream",
          "name": "stdout",
          "text": [
            "4\n",
            "4 3 2 1 \n",
            "4 3 2 \n",
            "4 3 \n",
            "4 \n"
          ]
        }
      ]
    },
    {
      "cell_type": "code",
      "source": [
        "#28. Write a Python Program to find whether a number is Perfect Number\n",
        "\n",
        "n=int(input())\n",
        "i=1\n",
        "sum=0\n",
        "while i<=n/2:\n",
        "  if n%i==0:\n",
        "    sum+=i\n",
        "  i+=1\n",
        "print('The sum of factors: ',sum)\n",
        "if sum==n:\n",
        "  print(n,'is a perfect number')\n",
        "else:\n",
        "  print(n,'is not a perfect number')"
      ],
      "metadata": {
        "colab": {
          "base_uri": "https://localhost:8080/"
        },
        "id": "zjwjZImgIcVU",
        "outputId": "97513ef4-0f55-4418-cc17-3bb2869f0bb9"
      },
      "execution_count": null,
      "outputs": [
        {
          "output_type": "stream",
          "name": "stdout",
          "text": [
            "28\n",
            "The sum of factors:  28\n",
            "28 is a perfect number\n"
          ]
        }
      ]
    },
    {
      "cell_type": "code",
      "source": [
        "from six import binary_type\n",
        "#Illustrate relational and bitwise operators\n",
        "\n",
        "# relational operators\n",
        "print('Greater than: ',5>2)\n",
        "print('Greater than or equal to: ',20>=9)\n",
        "print('Less than:  ',54<0)\n",
        "print('less than or equal to: ',5<=6)\n",
        "print('Equal to: ',5==3)\n",
        "print('Not equal to:  ',2!=5)\n",
        "\n",
        "#bitwise operators\n",
        "x=6\n",
        "y=10\n",
        "print('bitwise AND: ',x&y)\n",
        "print('bitwise OR: ',x|y)\n",
        "print('bitwise XOR: ',x^y)\n",
        "print('bitwise NOT: ',~x)\n",
        "print('bitwise right shift :',x>>y)\n",
        "print('bitwise leftshift :',x<<y)"
      ],
      "metadata": {
        "colab": {
          "base_uri": "https://localhost:8080/"
        },
        "id": "2tmAQFovJUnn",
        "outputId": "9dc32326-4eb6-4bbb-b9eb-fc451a943b0d"
      },
      "execution_count": null,
      "outputs": [
        {
          "output_type": "stream",
          "name": "stdout",
          "text": [
            "Greater than:  True\n",
            "Greater than or equal to:  True\n",
            "Less than:   False\n",
            "less than or equal to:  True\n",
            "Equal to:  False\n",
            "Not equal to:   True\n",
            "bitwise AND:  2\n",
            "bitwise OR:  14\n",
            "bitwise XOR:  12\n",
            "bitwise NOT:  -7\n",
            "bitwise right shift : 0\n",
            "bitwise leftshift : 6144\n"
          ]
        }
      ]
    },
    {
      "cell_type": "code",
      "source": [
        "#29. The program should display a message indicating whether the person is an infant, a child, a teenager, or an adult. \n",
        "#Following are the guidelines: If the person is 1 year old or less, he or she is an infant; If the person is older than 1 \n",
        "#year, but younger than 13 years, he or she is a child; If the person is at least 13 years old, but less than 20 years \n",
        "#old, he or she is a teenager; If the person is at least 20 years old, he or she is an adult.\n",
        "\n",
        "\n",
        "age=int(input())\n",
        "if age>=20:\n",
        "  print('The person is adult')\n",
        "elif 13<=age<20:\n",
        "  print('The person is teenager')\n",
        "elif 1<age<13:\n",
        "  print('The person is child')\n",
        "else :\n",
        "  print('Its infant')\n"
      ],
      "metadata": {
        "colab": {
          "base_uri": "https://localhost:8080/"
        },
        "id": "fvOuL9-wPdAb",
        "outputId": "4894bf4f-4fa1-461d-f9fe-295df3fa5e03"
      },
      "execution_count": null,
      "outputs": [
        {
          "output_type": "stream",
          "name": "stdout",
          "text": [
            "6\n",
            "The person is child\n"
          ]
        }
      ]
    },
    {
      "cell_type": "code",
      "source": [
        "# 30. Write a Python Program to find whether year is a leap year or not\n",
        "y=int(input())\n",
        "if y%4==0 and y%100!=0:\n",
        "  print(y,'is a leap year')\n",
        "elif y%400==0:\n",
        "  print(y,'is a leap year')\n",
        "else:\n",
        "  print(y,'is not a leap year')"
      ],
      "metadata": {
        "colab": {
          "base_uri": "https://localhost:8080/"
        },
        "id": "U1o0g1aiRIHS",
        "outputId": "edd60e57-604e-454b-e830-d3af6509c356"
      },
      "execution_count": null,
      "outputs": [
        {
          "output_type": "stream",
          "name": "stdout",
          "text": [
            "2016\n",
            "2016 is a leap year\n"
          ]
        }
      ]
    },
    {
      "cell_type": "code",
      "source": [
        "#31. Write a program to print a multiplication table for a given ‘n’\n",
        "table=int(input())\n",
        "n=int(input())\n",
        "m=int(input())\n",
        "while n<m:\n",
        "  result=table*n\n",
        "  print(table,'* {} = {}'.format(n,result))\n",
        "  n+=1"
      ],
      "metadata": {
        "colab": {
          "base_uri": "https://localhost:8080/"
        },
        "id": "Te2ValYRSrnk",
        "outputId": "9fabf188-5c71-4542-8ae7-b9c1b180c58a"
      },
      "execution_count": null,
      "outputs": [
        {
          "output_type": "stream",
          "name": "stdout",
          "text": [
            "3\n",
            "2\n",
            "16\n",
            "3 * 2 = 6\n",
            "3 * 3 = 9\n",
            "3 * 4 = 12\n",
            "3 * 5 = 15\n",
            "3 * 6 = 18\n",
            "3 * 7 = 21\n",
            "3 * 8 = 24\n",
            "3 * 9 = 27\n",
            "3 * 10 = 30\n",
            "3 * 11 = 33\n",
            "3 * 12 = 36\n",
            "3 * 13 = 39\n",
            "3 * 14 = 42\n",
            "3 * 15 = 45\n"
          ]
        }
      ]
    },
    {
      "cell_type": "code",
      "source": [
        "# 32. Write a Python Program to find whether year is a leap year or not\n",
        "#Illustrate statistics: mean(), median(), mode(), pstdev(), pvariabce(), stdev(), variance()\n",
        "# check above"
      ],
      "metadata": {
        "id": "l68Fp1aZT7kW"
      },
      "execution_count": null,
      "outputs": []
    },
    {
      "cell_type": "code",
      "source": [
        "#33. Demonstrate the usage of break, continue and pass\n"
      ],
      "metadata": {
        "id": "6tjGA-dEU8Tm"
      },
      "execution_count": null,
      "outputs": []
    },
    {
      "cell_type": "code",
      "source": [
        "# 33Write a program to display the below pattern, for n=4:\n",
        "#1 \n",
        "#1 2 \n",
        "#1 2 3\n",
        "#1 2 3 4\n",
        "\n",
        "n=4\n",
        "for i in range(1,n+1):\n",
        "  for j in range(1,i+1):\n",
        "    print(j,end=' ')\n",
        "  print('\\n')"
      ],
      "metadata": {
        "colab": {
          "base_uri": "https://localhost:8080/"
        },
        "id": "GYJoNAEcUK3p",
        "outputId": "0dabb13c-2da5-4c80-997c-7ceca7c84b3b"
      },
      "execution_count": null,
      "outputs": [
        {
          "output_type": "stream",
          "name": "stdout",
          "text": [
            "1 \n",
            "\n",
            "1 2 \n",
            "\n",
            "1 2 3 \n",
            "\n",
            "1 2 3 4 \n",
            "\n"
          ]
        }
      ]
    },
    {
      "cell_type": "code",
      "source": [
        "# 34. Write a program to demonstrate + and * operators on top of sequences\n",
        "\n",
        "\n",
        "#You can concatenate sequences of the same type with the + operator.\n",
        " #You can multiply a sequence S by an integer n with the * operator.\n",
        " # S * n or n * S is the concatenation of n copies of S . \n",
        "\n",
        "L1=[3,5,2,6,7,4,3]\n",
        "L2=[2,3,4,8,0,1,8,2]\n",
        "print('concatenation of two lists: ',L1+L2)\n",
        "s='Uma'\n",
        "s1='Devi'\n",
        "print('concatenation on two strings: ',s+s1)\n",
        "\n",
        "print('Repeation on lits: ',L1*2)\n",
        "print('Repeation on strings: ',s*3)\n",
        "d={1:'a',2:'b',3:'c'}\n",
        "d2={4:'d',5:'e',2:'s'}\n",
        "print('concatenation on dictionaries: ',{**d,**d2})"
      ],
      "metadata": {
        "id": "PeyaGKGrU4PA",
        "colab": {
          "base_uri": "https://localhost:8080/"
        },
        "outputId": "724924af-5161-456c-f69f-0d36b58ab45d"
      },
      "execution_count": null,
      "outputs": [
        {
          "output_type": "stream",
          "name": "stdout",
          "text": [
            "concatenation of two lists:  [3, 5, 2, 6, 7, 4, 3, 2, 3, 4, 8, 0, 1, 8, 2]\n",
            "concatenation on two strings:  UmaDevi\n",
            "Repeation on lits:  [3, 5, 2, 6, 7, 4, 3, 3, 5, 2, 6, 7, 4, 3]\n",
            "Repeation on strings:  UmaUmaUma\n",
            "concatenation on dictionaries:  {1: 'a', 2: 's', 3: 'c', 4: 'd', 5: 'e'}\n"
          ]
        }
      ]
    },
    {
      "cell_type": "code",
      "source": [
        "# Perform 2D matrix addition; create matrices using functions of Numpy \n",
        "\n",
        "# Arrays are a fundamental data structure, and an important part of most programming languages.\n",
        "#In Python, they are containers which are able to store more than one item at the same time.\n",
        "import numpy as np\n",
        "# creating numpy arrays\n",
        "m1=np.array([1,3,5,7,9,11])     # enclose in a list\n",
        "print('1D array using numpy: ',m1)   \n",
        "## creating 2D arrays\n",
        "m2=np.array([[1,2,3],[4,5,6]])  # enclose in a list\n",
        "print('2D array(matrix) using numpy : ')\n",
        "print(m2)\n",
        "\n",
        "\n",
        "# addition of matrices\n",
        "mat1=np.array([[1,2,3],[6,5,4]])\n",
        "mat2=np.array([[4,5,6],[3,2,1]])\n",
        "print('ADDITION:')\n",
        "print(np.add(mat1,mat2))\n",
        "print('SUBTRACTION:')\n",
        "print(np.subtract(mat1,mat2))"
      ],
      "metadata": {
        "colab": {
          "base_uri": "https://localhost:8080/"
        },
        "id": "we3-prlNoq8r",
        "outputId": "46ec440e-7288-4b66-830b-cedc262c2d1b"
      },
      "execution_count": null,
      "outputs": [
        {
          "output_type": "stream",
          "name": "stdout",
          "text": [
            "1D array using numpy:  [ 1  3  5  7  9 11]\n",
            "2D array(matrix) using numpy : \n",
            "[[1 2 3]\n",
            " [4 5 6]]\n",
            "ADDITION:\n",
            "[[5 7 9]\n",
            " [9 7 5]]\n",
            "SUBTRACTION:\n",
            "[[-3 -3 -3]\n",
            " [ 3  3  3]]\n"
          ]
        }
      ]
    }
  ]
}