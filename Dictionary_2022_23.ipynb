{
  "nbformat": 4,
  "nbformat_minor": 0,
  "metadata": {
    "colab": {
      "provenance": []
    },
    "kernelspec": {
      "name": "python3",
      "display_name": "Python 3"
    },
    "language_info": {
      "name": "python"
    }
  },
  "cells": [
    {
      "cell_type": "markdown",
      "source": [
        "R.S. Salaria, Khanna , “Programming for Problem Solving”, Book Publishing Co., Delhi."
      ],
      "metadata": {
        "id": "f7wEcS11pAdz"
      }
    },
    {
      "cell_type": "markdown",
      "source": [
        "A Dictionary is an unordered collection items, used to store data values lika  a map. While lists adn tuypels ahave only one value as an element, a dictionary hjas a keyu:value pair. Key-value is provided to make it more optimised\n",
        "\n",
        "A Dictionary in python works very similar to the dictionary in the rela world. Keys of a dictionary must be unique and of immutable data types such as trings, integers and tuyples, but the key values can be repeated and be of any type"
      ],
      "metadata": {
        "id": "hXO3G1n8EDeX"
      }
    },
    {
      "cell_type": "code",
      "source": [
        "#Important characteristics of dictionaries in Python\n",
        "#Dictionaries are unordered\n",
        "#Dictionaries are index by keys and not by numbers\n",
        "#keys in dictionaries are unique\n",
        "#Dictionaries are internally stored as maps\n",
        "#Dictionaries are mutable\n",
        "#Dictionaries are dynamic"
      ],
      "metadata": {
        "id": "tXxdHc0kEc9N"
      },
      "execution_count": null,
      "outputs": []
    },
    {
      "cell_type": "code",
      "source": [
        "#Creating a Dictionary\n",
        "#Initial Dictionary is empty\n",
        "#Dictionary contains a given set of elements and\n",
        "#Dictionary is to be constructed from another dictionary"
      ],
      "metadata": {
        "id": "xv_BQSPQEu1o"
      },
      "execution_count": null,
      "outputs": []
    },
    {
      "cell_type": "code",
      "source": [
        "#Creating empty dictionary\n",
        "a={}\n",
        "print(type(a))\n"
      ],
      "metadata": {
        "id": "-225fU7QE5l4"
      },
      "execution_count": null,
      "outputs": []
    },
    {
      "cell_type": "code",
      "source": [
        "#Creating dictionary with given elements\n",
        "d={1:'one',2:'two',3:'three',4:'four',5:'five',6:'six'}\n",
        "print(d)"
      ],
      "metadata": {
        "colab": {
          "base_uri": "https://localhost:8080/"
        },
        "id": "48lpZabOE-r5",
        "outputId": "1f1c072e-74bc-42bc-d7db-41282d73b3f5"
      },
      "execution_count": null,
      "outputs": [
        {
          "output_type": "stream",
          "name": "stdout",
          "text": [
            "{1: 'one', 2: 'two', 3: 'three', 4: 'four', 5: 'five', 6: 'six'}\n"
          ]
        }
      ]
    },
    {
      "cell_type": "code",
      "source": [
        "#Creating dictionary from another sequence\n",
        "#To create a dictionary from another sequence, dict() function - constructor of the dict class with sequence as its argument\n",
        "d={1:'one',2:'two',3:'three',4:'four',5:'five',6:'six'}\n",
        "b=dict(d)"
      ],
      "metadata": {
        "id": "xhXh0T0yFIfv"
      },
      "execution_count": null,
      "outputs": []
    },
    {
      "cell_type": "code",
      "source": [
        "#Accessing elements of a dictionary\n",
        "#while indexing is used with other container types to access values, dictionary uses keys.\n",
        "#Key can be used either inside square brackets or with the get() method\n",
        "\n",
        "#The difference while usign get() is that it returns nothing (None) instead of KeyError, if the key is not found\n",
        "\n",
        "a={1:'one',2:'two',3:'three',4:'four',5:'five',6:'six'}\n",
        "\n",
        "print(a[2])\n",
        "\n",
        "#print(a[7])\n",
        "\n",
        "print(a.get(2))\n",
        "\n",
        "print(a.get(7))\n"
      ],
      "metadata": {
        "colab": {
          "base_uri": "https://localhost:8080/"
        },
        "id": "fv8zpll1Fa1U",
        "outputId": "a0265d12-01db-45cf-dc7c-75b33d784319"
      },
      "execution_count": null,
      "outputs": [
        {
          "output_type": "stream",
          "name": "stdout",
          "text": [
            "two\n",
            "two\n",
            "None\n"
          ]
        }
      ]
    },
    {
      "cell_type": "code",
      "source": [
        "#Traversing a dictionary\n",
        "#Traversing a dictionary means accessing each element exactly once in order to process it.\n",
        "#Traversal is looping over a sequence\n",
        "#For loop makes it easy to traverse or loop over elements of a dictionary using the below syntax\n",
        "#for <item> in <dictionary>:\n",
        "#    process each item here\n",
        "\n",
        "#item - valid Python identifier (variable)\n",
        "#dictionary - dictionary object to be traversed\n",
        "\n",
        "days={0:'Sun',1:'Mon',2:'Tue',3:'Wed',4:'Thur',5:'Fri',6:'Sat'}\n",
        "#for key in days:\n",
        "#  print(key, \":\", days[key])\n",
        "\n",
        "\n",
        "for key in days:\n",
        "  print(key, \":\", days[key], sep='***',end='\\t')"
      ],
      "metadata": {
        "colab": {
          "base_uri": "https://localhost:8080/"
        },
        "id": "PmO0YpVvGEvO",
        "outputId": "e3505cb7-354f-4a77-d722-61d5cdb4fb9c"
      },
      "execution_count": null,
      "outputs": [
        {
          "output_type": "stream",
          "name": "stdout",
          "text": [
            "0***:***Sun\t1***:***Mon\t2***:***Tue\t3***:***Wed\t4***:***Thur\t5***:***Fri\t6***:***Sat\t"
          ]
        }
      ]
    },
    {
      "cell_type": "code",
      "source": [
        "#Updating / Modifying an element of a dictionary\n",
        "e={'name':'amit','salary':35000, 'age':25,'mobile':9819000001}\n",
        "print(\"Given Dictionary\",e)\n",
        "e['mobile']=9000012345\n",
        "print(\"Updated Dictionary\",e)\n",
        "e['amobile']=9009999999\n",
        "print(\"Updated Dictionary\",e)"
      ],
      "metadata": {
        "colab": {
          "base_uri": "https://localhost:8080/"
        },
        "id": "qYJDhCeyHIZd",
        "outputId": "9d3fbfeb-268d-4d66-ffda-c2d81898ece1"
      },
      "execution_count": null,
      "outputs": [
        {
          "output_type": "stream",
          "name": "stdout",
          "text": [
            "Given Dictionary {'name': 'amit', 'salary': 35000, 'age': 25, 'mobile': 9819000001}\n",
            "Updated Dictionary {'name': 'amit', 'salary': 35000, 'age': 25, 'mobile': 9000012345}\n",
            "Updated Dictionary {'name': 'amit', 'salary': 35000, 'age': 25, 'mobile': 9000012345, 'amobile': 9009999999}\n"
          ]
        }
      ]
    },
    {
      "cell_type": "code",
      "source": [
        "#Adding new element in a dictionary\n",
        "a={1:'one',2:'two',3:'three',4:'four',5:'five',6:'six'}\n",
        "print(\"Given Dictionary:\\n\",a)\n",
        "a[7]='seven'\n",
        "print(\"Updated Dictionary:\\n\",a)"
      ],
      "metadata": {
        "id": "DlJLSbF3KFU0"
      },
      "execution_count": null,
      "outputs": []
    },
    {
      "cell_type": "code",
      "source": [
        "#Deleting an element from a dictionary\n",
        "#Using del command\n",
        "a={1:'one',2:'two',3:'three',4:'four',5:'five',6:'six'}\n",
        "print(\"Dictionary before deletion\",a)\n",
        "del a[2]\n",
        "print(\"Dictionary after deletion\",a)\n",
        "del a\n",
        "print(a)"
      ],
      "metadata": {
        "colab": {
          "base_uri": "https://localhost:8080/",
          "height": 235
        },
        "id": "K9qsJGNAKdNF",
        "outputId": "0aaf16b1-290a-4bf4-f0d1-f0825d390307"
      },
      "execution_count": null,
      "outputs": [
        {
          "output_type": "stream",
          "name": "stdout",
          "text": [
            "Dictionary before deletion {1: 'one', 2: 'two', 3: 'three', 4: 'four', 5: 'five', 6: 'six'}\n",
            "Dictionary after deletion {1: 'one', 3: 'three', 4: 'four', 5: 'five', 6: 'six'}\n"
          ]
        },
        {
          "output_type": "error",
          "ename": "NameError",
          "evalue": "ignored",
          "traceback": [
            "\u001b[0;31m---------------------------------------------------------------------------\u001b[0m",
            "\u001b[0;31mNameError\u001b[0m                                 Traceback (most recent call last)",
            "\u001b[0;32m<ipython-input-10-6032b1d9863d>\u001b[0m in \u001b[0;36m<module>\u001b[0;34m\u001b[0m\n\u001b[1;32m      6\u001b[0m \u001b[0mprint\u001b[0m\u001b[0;34m(\u001b[0m\u001b[0;34m\"Dictionary after deletion\"\u001b[0m\u001b[0;34m,\u001b[0m\u001b[0ma\u001b[0m\u001b[0;34m)\u001b[0m\u001b[0;34m\u001b[0m\u001b[0;34m\u001b[0m\u001b[0m\n\u001b[1;32m      7\u001b[0m \u001b[0;32mdel\u001b[0m \u001b[0ma\u001b[0m\u001b[0;34m\u001b[0m\u001b[0;34m\u001b[0m\u001b[0m\n\u001b[0;32m----> 8\u001b[0;31m \u001b[0mprint\u001b[0m\u001b[0;34m(\u001b[0m\u001b[0ma\u001b[0m\u001b[0;34m)\u001b[0m\u001b[0;34m\u001b[0m\u001b[0;34m\u001b[0m\u001b[0m\n\u001b[0m",
            "\u001b[0;31mNameError\u001b[0m: name 'a' is not defined"
          ]
        }
      ]
    },
    {
      "cell_type": "code",
      "source": [
        "#Operations on Dictionaries\n",
        "#Unlike strings, lists and tuples, operations of concatenation, repetition and slicing are not supported by dictionaries.\n",
        "#Only operation of testing for membership is supported\n",
        "\n",
        "#Membership test on a dictionary\n",
        "#We can test if an item (key:valiue) pair exists or not in a given dictionary, using the membership operator in and not in\n",
        "a={1:'one',2:'two',3:'three',4:'four',5:'five',6:'six'}\n",
        "print(a)\n",
        "key = 1\n",
        "print(key in a)\n",
        "print(key not in a)"
      ],
      "metadata": {
        "id": "O7nMRH8sK3c7"
      },
      "execution_count": null,
      "outputs": []
    },
    {
      "cell_type": "code",
      "source": [
        "#Dictionary methods and functions\n",
        "#get() - returns the value of the item with the given key in the dictionary - if key is not present, it returns nothing i.e., None\n",
        "e={'name':'amit','salary':35000, 'age':25,'mobile':9819000001}\n",
        "print(e.get('age'))\n",
        "\n",
        "print(e.get('salary')\n"
      ],
      "metadata": {
        "id": "relWNNJxLm3b"
      },
      "execution_count": null,
      "outputs": []
    },
    {
      "cell_type": "code",
      "source": [
        "#clear() - removes all the elements from the dictionary\n",
        "e.clear()\n",
        "print(a)"
      ],
      "metadata": {
        "id": "KqCkDJStM0MB"
      },
      "execution_count": null,
      "outputs": []
    },
    {
      "cell_type": "code",
      "source": [
        "#update() - merges key:value pairs from the given dictionary into the existing dictionary\n",
        "#The values values in the existing dictionary are replaced with the value given dictionary with the value given dictionary with the same keys\n",
        "a={1:'one',2:'two',3:'three',4:'four',5:'five',6:'six'}\n",
        "b={1:'abcd',20:'efgh',30:'ijkl'}\n",
        "a.update(b)\n",
        "print(a)"
      ],
      "metadata": {
        "colab": {
          "base_uri": "https://localhost:8080/"
        },
        "id": "pMkdiiBAM8da",
        "outputId": "0540c9c7-f319-4d92-8d7c-683d112ea3e5"
      },
      "execution_count": null,
      "outputs": [
        {
          "output_type": "stream",
          "name": "stdout",
          "text": [
            "{1: 'abcd', 2: 'two', 3: 'three', 4: 'four', 5: 'five', 6: 'six', 20: 'efgh', 30: 'ijkl'}\n"
          ]
        }
      ]
    },
    {
      "cell_type": "code",
      "source": [
        "#items() - returns all items of a dictionary as a sequence of (key, value) tuples\n",
        "a={1:'one',2:'two',3:'three',4:'four',5:'five',6:'six'}\n",
        "print(a.items())\n"
      ],
      "metadata": {
        "colab": {
          "base_uri": "https://localhost:8080/"
        },
        "id": "P70h0OEBNf_N",
        "outputId": "46ef2753-e362-44f6-cb81-b59cea89d944"
      },
      "execution_count": null,
      "outputs": [
        {
          "output_type": "stream",
          "name": "stdout",
          "text": [
            "dict_items([(1, 'one'), (2, 'two'), (3, 'three'), (4, 'four'), (5, 'five'), (6, 'six')])\n"
          ]
        }
      ]
    },
    {
      "cell_type": "code",
      "source": [
        "#keys() - returns all keys in a dictionary in the form of a list\n",
        "a={1:'one',2:'two',3:'three',4:'four',5:'five',6:'six'}\n",
        "print(a.keys())"
      ],
      "metadata": {
        "colab": {
          "base_uri": "https://localhost:8080/"
        },
        "id": "Uc5icN6WNrUM",
        "outputId": "3499e793-4631-4a7d-cd97-f9fdef99c265"
      },
      "execution_count": null,
      "outputs": [
        {
          "output_type": "stream",
          "name": "stdout",
          "text": [
            "dict_keys([1, 2, 3, 4, 5, 6])\n"
          ]
        }
      ]
    },
    {
      "cell_type": "code",
      "source": [
        "#values() - returns all the values in a dictionary in the form of a list\n",
        "a={1:'one',2:'two',3:'three',4:'four',5:'five',6:'six'}\n",
        "print(a.values())"
      ],
      "metadata": {
        "colab": {
          "base_uri": "https://localhost:8080/"
        },
        "id": "3I5eqq3nNxa1",
        "outputId": "94832de4-336a-4099-8e38-4a171c172d52"
      },
      "execution_count": null,
      "outputs": [
        {
          "output_type": "stream",
          "name": "stdout",
          "text": [
            "dict_values(['one', 'two', 'three', 'four', 'five', 'six'])\n"
          ]
        }
      ]
    },
    {
      "cell_type": "code",
      "source": [
        "#dict() - constructor of dictionary \n",
        "a={1:'one',2:'two',3:'three',4:'four',5:'five',6:'six'}\n",
        "b=dict(a)\n",
        "print(type(b))\n",
        "#len() - returns the no. of items i.e., key-valuie pairs in the dictionary\n",
        "print(len(a))\n",
        "\n",
        "#max() - returns largest key-value in a dictionary\n",
        "print(max(a))\n",
        "\n",
        "#min() - returns the smallest key value in a dictionary\n",
        "print(min(a))"
      ],
      "metadata": {
        "id": "p8hwN7SaN59G"
      },
      "execution_count": null,
      "outputs": []
    },
    {
      "cell_type": "code",
      "source": [
        "#Examples\n",
        "#Search whether the mobile of a given name is present in the dictionary, and if present then display the no\n",
        "md=dict()\n",
        "i=1\n",
        "while True:\n",
        "  print(\"Enter name of person\")\n",
        "  name=input()\n",
        "  print(\"Enter mobile number\")\n",
        "  mn=input()\n",
        "  md[name]=nm          #Add key:value pair to dictionary\n",
        "  ch=input(\"add one more [y/n\")\n",
        "  if ch in ['y', 'Y']:\n",
        "    i+=1\n",
        "    contrinue\n",
        "  else:\n",
        "    break\n",
        "print(\"Dictionary is\", md)\n",
        "while True:\n",
        "  txt=input(\"name to search and display mobile no\")\n",
        "  if txt in md:\n",
        "    print(\"Mobile no is \",md[txt])\n",
        "  else:\n",
        "    print(txt, \" not found in dictionary\")\n",
        "  ch=input(\"Search one more [y/n\")\n",
        "  if ch in ['y', 'Y']:\n",
        "    contrinue\n",
        "  else:\n",
        "    break"
      ],
      "metadata": {
        "id": "f3YXqCxVPdPF"
      },
      "execution_count": null,
      "outputs": []
    },
    {
      "cell_type": "code",
      "source": [
        "#Program to build a dictionary of months fo a a year and prints the days in a month for the month name given as input\n",
        "dom={\"Jan\":31,\"Feb\":28,\"Mar\":31,\"Apr\":30,\"May\":31, \"Jun\":30,\"Jul\":31,\"Aug\":31,\"Sep\":30,\"Oct\":31,\"Nov\":30,\"Dec\":31}\n",
        "print(dom)\n",
        "\n",
        "while True:\n",
        "  mon=input(\"Enter month\")\n",
        "  if mon in dom:\n",
        "    print(\"No. of days in \",mon, \" month are \", dom[mon])\n",
        "  else:\n",
        "    print(mon, \" Month not found\")\n",
        "    ch=input(\"add one more [y/n\")\n",
        "    if ch in ['y', 'Y']:\n",
        "      contrinue\n",
        "    else:\n",
        "      break"
      ],
      "metadata": {
        "id": "NMeg3InIaT-u",
        "colab": {
          "base_uri": "https://localhost:8080/"
        },
        "outputId": "07d662a9-576d-4cac-fdeb-d56dbe01a657"
      },
      "execution_count": null,
      "outputs": [
        {
          "output_type": "stream",
          "name": "stdout",
          "text": [
            "{'Jan': 31, 'Feb': 28, 'Mar': 31, 'Apr': 30, 'May': 31, 'Jun': 30, 'Jul': 31, 'Aug': 31, 'Sep': 30, 'Oct': 31, 'Nov': 30, 'Dec': 31}\n"
          ]
        }
      ]
    },
    {
      "cell_type": "code",
      "source": [
        "\"\""
      ],
      "metadata": {
        "id": "711VL8hdOmOd"
      },
      "execution_count": null,
      "outputs": []
    }
  ]
}