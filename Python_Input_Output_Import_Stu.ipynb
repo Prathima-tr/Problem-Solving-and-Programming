{
  "cells": [
    {
      "cell_type": "markdown",
      "metadata": {
        "id": "Y9gmvnhDdoE7"
      },
      "source": [
        "# Python Input, Output and Import\n",
        "\n",
        "This class focuses on two built-in functions **`print()`** and **`input()`** to perform I/O task in Python. \n",
        "\n",
        "Some of the functions like **`print()`** and **`input()`** are widely used for standard input and output operations respectively. Let us see the output section first."
      ]
    },
    {
      "cell_type": "markdown",
      "metadata": {
        "id": "zk-LN5uzdoE8"
      },
      "source": [
        "## 1. Python Output Using `print()` function\n",
        "\n",
        "We use the **`print()`** function to output data to the standard output device (screen).\n",
        "An example of its use is given below."
      ]
    },
    {
      "cell_type": "code",
      "execution_count": null,
      "metadata": {
        "ExecuteTime": {
          "end_time": "2021-10-02T08:38:42.903413Z",
          "start_time": "2021-10-02T08:38:42.882906Z"
        },
        "colab": {
          "base_uri": "https://localhost:8080/"
        },
        "id": "a45NwYNgdoE8",
        "outputId": "8a9ffe81-6c99-475c-eaaf-6e469bb782ce"
      },
      "outputs": [
        {
          "name": "stdout",
          "output_type": "stream",
          "text": [
            "Hello World\n"
          ]
        }
      ],
      "source": [
        "# Example 1:\n",
        "\n",
        "print('Hello World')"
      ]
    },
    {
      "cell_type": "code",
      "execution_count": null,
      "metadata": {
        "ExecuteTime": {
          "end_time": "2021-10-02T08:38:43.026458Z",
          "start_time": "2021-10-02T08:38:42.906342Z"
        },
        "colab": {
          "base_uri": "https://localhost:8080/"
        },
        "id": "8L0EN_cBdoE9",
        "outputId": "4064ae0d-2f2f-4010-cd2b-fb3248845421"
      },
      "outputs": [
        {
          "name": "stdout",
          "output_type": "stream",
          "text": [
            "The value of a is  9\n"
          ]
        }
      ],
      "source": [
        "# Example 2:\n",
        "\n",
        "a = 9\n",
        "print('The value of a is ',a)"
      ]
    },
    {
      "cell_type": "markdown",
      "metadata": {
        "id": "NTt-C0PxdoE-"
      },
      "source": [
        "In the second **`print()`** statement, we can notice that space was added between the string  and the value of variable **`a`**. This is by default, but we can change it."
      ]
    },
    {
      "cell_type": "markdown",
      "metadata": {
        "id": "9K-NQTjQdoE-"
      },
      "source": [
        "**Syntax** of the **`print()`** function is:\n",
        "\n",
        "```python\n",
        "print(*objects, sep=' ', end='\\n', file=sys.stdout, flush=False)\n",
        "```\n",
        "\n",
        "Here, objects is the value(s) to be printed.\n",
        "\n",
        "The **`sep`** separator is used between the values. It defaults into a space character.\n",
        "\n",
        "After all values are printed, **`end`** is printed. It defaults into a new line.\n",
        "\n",
        "The **`file`** is the object where the values are printed and its default value is **`sys.stdout`** (screen). Here is an example to illustrate this."
      ]
    },
    {
      "cell_type": "code",
      "execution_count": null,
      "metadata": {
        "ExecuteTime": {
          "end_time": "2021-10-02T08:38:43.200289Z",
          "start_time": "2021-10-02T08:38:43.030366Z"
        },
        "id": "_3Obc0hQdoE-",
        "outputId": "9c396f9f-235f-42b8-bfa2-ce7e0b9ca41d"
      },
      "outputs": [
        {
          "name": "stdout",
          "output_type": "stream",
          "text": [
            "1 2 3 4\n",
            "1   2   3   4\n",
            "1*2*3*4&"
          ]
        }
      ],
      "source": [
        "print(1, 2, 3, 4)\n",
        "print(1, 2, 3, 4, sep='   ')   # It will separate your elements with '#'\n",
        "print(1, 2, 3, 4, sep='*', end='&')  # It will separate your elements with '*' and end with '&'"
      ]
    },
    {
      "cell_type": "markdown",
      "metadata": {
        "id": "0-DdqkLPdoE-"
      },
      "source": [
        "## Output formatting\n",
        "\n",
        "Sometimes we would like to format our output to make it look attractive. This can be done by using the **`str.format()`** method. This method is visible to any string object."
      ]
    },
    {
      "cell_type": "code",
      "execution_count": null,
      "metadata": {
        "ExecuteTime": {
          "end_time": "2021-10-02T08:38:43.315521Z",
          "start_time": "2021-10-02T08:38:43.207124Z"
        },
        "colab": {
          "base_uri": "https://localhost:8080/"
        },
        "id": "YhiiCflUdoE-",
        "outputId": "59fe4989-f481-4228-bb4b-6ccf8a7b7e26"
      },
      "outputs": [
        {
          "name": "stdout",
          "output_type": "stream",
          "text": [
            "The value of x is 6 and y is 12\n",
            "The value of x is  6 and y is 12\n"
          ]
        }
      ],
      "source": [
        "x = 6; y = 12\n",
        "print('The value of x is {} and y is {}'.format(x,y))\n",
        "print(\"The value of x is \",x,\"and y is\",y)\n"
      ]
    },
    {
      "cell_type": "markdown",
      "metadata": {
        "id": "k8wjBMxudoE-"
      },
      "source": [
        "Here, the curly braces **`{}`** are used as placeholders. We can specify the order in which they are printed by using numbers (tuple index)."
      ]
    },
    {
      "cell_type": "markdown",
      "metadata": {
        "id": "tWHDNOnVdoE_"
      },
      "source": [
        "We can even use keyword arguments to format the string."
      ]
    },
    {
      "cell_type": "code",
      "execution_count": null,
      "metadata": {
        "ExecuteTime": {
          "end_time": "2021-10-02T08:38:43.575285Z",
          "start_time": "2021-10-02T08:38:43.472749Z"
        },
        "id": "0KjZbmDudoE_",
        "outputId": "c74f6cce-3198-4fc9-f788-c41fbca2d56d"
      },
      "outputs": [
        {
          "name": "stdout",
          "output_type": "stream",
          "text": [
            "Hello Mark, Good morning!\n"
          ]
        }
      ],
      "source": [
        "print('Hello {name}, {greeting}!'.format(greeting = 'Good morning', name = 'Mark'))"
      ]
    },
    {
      "cell_type": "markdown",
      "metadata": {
        "id": "AHr0Gn1RdoE_"
      },
      "source": [
        "We can also format strings like the old **`sprintf()`** style used in C programming language. We use the **`%`** operator to accomplish this."
      ]
    },
    {
      "cell_type": "code",
      "execution_count": null,
      "metadata": {
        "ExecuteTime": {
          "end_time": "2021-10-02T08:38:43.756437Z",
          "start_time": "2021-10-02T08:38:43.579194Z"
        },
        "id": "tnRGcEFAdoE_",
        "outputId": "12e5fd7b-b72b-4481-c011-b4ce3f571380"
      },
      "outputs": [
        {
          "name": "stdout",
          "output_type": "stream",
          "text": [
            "The value of x is 12.35\n",
            "The value of x is 12.346\n"
          ]
        }
      ],
      "source": [
        "x = 12.34567890\n",
        "print('The value of x is %0.2f' %x)  # \"%0.2\" means only 2 number after decimal\n",
        "\n",
        "print('The value of x is %0.3f' %x)  # \"%0.3\" means only 3 number after decimal"
      ]
    },
    {
      "cell_type": "markdown",
      "metadata": {
        "id": "5LDBK17sdoE_"
      },
      "source": [
        "## 2. Python Input Using `input()` function\n",
        "\n",
        "Up until now, our programs were static. The value of variables was defined or hard coded into the source code.\n",
        "\n",
        "To allow flexibility, we might want to take the input from the user. In Python, we have a built-in function **`input()`** to accept user input.\n",
        "\n",
        "**Syntax**:\n",
        "\n",
        "```python\n",
        "input([prompt])\n",
        "```\n",
        "\n",
        "where **`prompt`** is the string we wish to display on the screen. It is optional."
      ]
    },
    {
      "cell_type": "code",
      "execution_count": null,
      "metadata": {
        "ExecuteTime": {
          "end_time": "2021-10-02T08:38:49.322840Z",
          "start_time": "2021-10-02T08:38:43.764252Z"
        },
        "id": "6LZeHptudoFA",
        "outputId": "621a3636-5ef3-42b3-e880-9ef81d9bbef1",
        "scrolled": true
      },
      "outputs": [
        {
          "name": "stdout",
          "output_type": "stream",
          "text": [
            "Enter a number :344\n",
            "344\n"
          ]
        },
        {
          "data": {
            "text/plain": [
              "int"
            ]
          },
          "execution_count": 28,
          "metadata": {},
          "output_type": "execute_result"
        }
      ],
      "source": [
        "num = int(input('Enter a number :'))\n",
        "print(num)\n",
        "type(num)"
      ]
    },
    {
      "cell_type": "markdown",
      "metadata": {
        "id": "NTC3wzBzdoFA"
      },
      "source": [
        "Here, we can see that the entered value **`90`** is a string, not a number. To convert this into a number we can use **`int()`** or **`float()`** functions."
      ]
    },
    {
      "cell_type": "code",
      "execution_count": null,
      "metadata": {
        "ExecuteTime": {
          "end_time": "2021-10-02T08:38:49.356046Z",
          "start_time": "2021-10-02T08:38:49.325771Z"
        },
        "id": "LIJ_XYm5doFA",
        "outputId": "290a7ef4-af3b-4be2-eb0f-7df159d3bb87"
      },
      "outputs": [
        {
          "data": {
            "text/plain": [
              "90"
            ]
          },
          "execution_count": 8,
          "metadata": {},
          "output_type": "execute_result"
        }
      ],
      "source": [
        "int('90')  # converting string '90' to integer"
      ]
    },
    {
      "cell_type": "code",
      "execution_count": null,
      "metadata": {
        "ExecuteTime": {
          "end_time": "2021-10-02T08:38:49.447843Z",
          "start_time": "2021-10-02T08:38:49.367766Z"
        },
        "id": "muVqr4B6doFB",
        "outputId": "8e525bf4-f3ea-4ed9-a3aa-daade5bd9d0e"
      },
      "outputs": [
        {
          "data": {
            "text/plain": [
              "90.0"
            ]
          },
          "execution_count": 9,
          "metadata": {},
          "output_type": "execute_result"
        }
      ],
      "source": [
        "float('90')"
      ]
    },
    {
      "cell_type": "code",
      "execution_count": null,
      "metadata": {
        "ExecuteTime": {
          "end_time": "2021-10-02T08:38:49.575282Z",
          "start_time": "2021-10-02T08:38:49.451748Z"
        },
        "id": "pUv0MGDtdoFB",
        "outputId": "c19d7c36-1e14-4662-cdec-d66a8cbe2a27"
      },
      "outputs": [
        {
          "name": "stdout",
          "output_type": "stream",
          "text": [
            "6P\n"
          ]
        }
      ],
      "source": [
        "a = \"6\"  # Is this a STRING character\n",
        "b = \"P\"  # IS this a STRING chracter\n",
        "c = a + b\n",
        "print(c) "
      ]
    },
    {
      "cell_type": "code",
      "execution_count": null,
      "metadata": {
        "ExecuteTime": {
          "end_time": "2021-10-02T08:38:50.362880Z",
          "start_time": "2021-10-02T08:38:49.579190Z"
        },
        "id": "Uc9WSTHndoFB",
        "outputId": "dc6c57d9-90ef-4fa5-9fc3-9108748e139f",
        "scrolled": false
      },
      "outputs": [
        {
          "data": {
            "text/plain": [
              "9"
            ]
          },
          "execution_count": 29,
          "metadata": {},
          "output_type": "execute_result"
        }
      ],
      "source": [
        "int(6+3) # ERROR! cannot add numbers as string data type"
      ]
    },
    {
      "cell_type": "markdown",
      "metadata": {
        "id": "h9XgRytsdoFB"
      },
      "source": [
        "This same operation can be performed using the **`eval()`** function. But **`eval`** takes it further. It can evaluate even expressions, provided the input is a string."
      ]
    },
    {
      "cell_type": "code",
      "execution_count": null,
      "metadata": {
        "ExecuteTime": {
          "end_time": "2021-10-02T08:38:53.640709Z",
          "start_time": "2021-10-02T08:38:53.621182Z"
        },
        "id": "weB9q6CxdoFB",
        "outputId": "06230df2-1d96-4391-8c5c-49adbe6facaa"
      },
      "outputs": [
        {
          "data": {
            "text/plain": [
              "9"
            ]
          },
          "execution_count": 13,
          "metadata": {},
          "output_type": "execute_result"
        }
      ],
      "source": [
        "eval('6+3') # Eval function can add numbers in string data type"
      ]
    },
    {
      "cell_type": "code",
      "execution_count": null,
      "metadata": {
        "ExecuteTime": {
          "end_time": "2021-10-02T08:38:54.253017Z",
          "start_time": "2021-10-02T08:38:54.241296Z"
        },
        "id": "41P1T7QsdoFC",
        "outputId": "93798064-0d4b-411d-a1ac-06ace2f49da5"
      },
      "outputs": [
        {
          "data": {
            "text/plain": [
              "18"
            ]
          },
          "execution_count": 14,
          "metadata": {},
          "output_type": "execute_result"
        }
      ],
      "source": [
        "eval('3*6')"
      ]
    },
    {
      "cell_type": "markdown",
      "metadata": {
        "id": "60gdxSyEdoFD"
      },
      "source": [
        "### Practice Problem\n",
        "\n",
        "Accept one integer and one float number from the user and calculate the sum of both the numbers."
      ]
    },
    {
      "cell_type": "code",
      "execution_count": null,
      "metadata": {
        "ExecuteTime": {
          "end_time": "2021-10-02T08:40:36.154886Z",
          "start_time": "2021-10-02T08:40:22.103609Z"
        },
        "id": "PH8nMbKNdoFD",
        "outputId": "d636a93b-f6eb-4631-acc3-1ae866e8c1c3",
        "scrolled": false
      },
      "outputs": [
        {
          "name": "stdout",
          "output_type": "stream",
          "text": [
            "Enter first number: 12\n",
            "Enter second number: 23.98\n",
            "Final result is:  35.980000000000004\n"
          ]
        }
      ],
      "source": [
        "num1 = int(input(\"Enter first number: \"))  \n",
        "num2 = float(input(\"Enter second number: \"))  \n",
        "\n",
        "result=(num1+num2)\n",
        "print(\"Final result is: \", result)"
      ]
    },
    {
      "cell_type": "markdown",
      "metadata": {
        "id": "mqeonNkedoFK"
      },
      "source": [
        "### Get multiple input values from a user in one line\n",
        "\n",
        "In Python, It is possible to get multiple values from the user in one line. i.e., In Python, we can accept two or three values from the user in one **`input()`** call.\n",
        "\n",
        "For example, in a single execution of the **`input()`** function, we can ask the user his/her name, age, and phone number and store it in three different variables. Lets see how to do this."
      ]
    },
    {
      "cell_type": "code",
      "execution_count": null,
      "metadata": {
        "ExecuteTime": {
          "end_time": "2021-10-02T08:42:18.784825Z",
          "start_time": "2021-10-02T08:41:58.604150Z"
        },
        "id": "hzrkT3n1doFK",
        "outputId": "1898713c-6392-4bc1-eed2-722207b339a0"
      },
      "outputs": [
        {
          "name": "stdout",
          "output_type": "stream",
          "text": [
            "Enter your Name, Age, Phone_number separated by space: srujana 40 9837464466\n",
            "\n",
            "\n",
            "User Details:  srujana 40 9837464466\n"
          ]
        }
      ],
      "source": [
        "name, age, phone = input(\"Enter your Name, Age, Phone_number separated by space: \").split()\n",
        "print(\"\\n\")\n",
        "print(\"User Details: \", name, age, phone)"
      ]
    },
    {
      "cell_type": "markdown",
      "metadata": {
        "id": "vmqMPLLHdoFL"
      },
      "source": [
        "### Format output strings by its positions\n"
      ]
    },
    {
      "cell_type": "markdown",
      "metadata": {
        "id": "vAjXWRnAdoFO"
      },
      "source": [
        "## 3. Python `Import` function\n",
        "\n",
        "When our program grows bigger, it is a good idea to break it into different modules.\n",
        "\n",
        "A module is a file containing Python definitions and statements.\n",
        "\n",
        "Definitions inside a module can be imported to another module or the interactive interpreter in Python. We use the **`import`** keyword to do this.\n",
        "\n",
        "For example, we can import the **`math`** module by typing the following line:\n",
        "\n",
        "```python\n",
        ">import math\n",
        "```"
      ]
    },
    {
      "cell_type": "markdown",
      "metadata": {
        "id": "141gXueZdoFO"
      },
      "source": [
        "We can use the module in the following ways:"
      ]
    },
    {
      "cell_type": "code",
      "execution_count": null,
      "metadata": {
        "ExecuteTime": {
          "end_time": "2021-10-02T08:45:06.474816Z",
          "start_time": "2021-10-02T08:45:06.457245Z"
        },
        "id": "feduQ1vzdoFO",
        "outputId": "f221859f-2e57-41ef-dda6-a02c149ee89b"
      },
      "outputs": [
        {
          "name": "stdout",
          "output_type": "stream",
          "text": [
            "3.141592653589793\n",
            "2.0\n"
          ]
        }
      ],
      "source": [
        "import math\n",
        "print(math.pi) # do not have to make vairable for pi\n",
        "print(math.sqrt(abs(-4)))"
      ]
    },
    {
      "cell_type": "markdown",
      "metadata": {
        "id": "P-m9cHXjdoFO"
      },
      "source": [
        "Now all the definitions inside **`math`** module are available in our scope. We can also import some specific attributes and functions only, using the **`from`** keyword. For example:"
      ]
    },
    {
      "cell_type": "code",
      "execution_count": null,
      "metadata": {
        "ExecuteTime": {
          "end_time": "2021-10-02T08:45:09.349329Z",
          "start_time": "2021-10-02T08:45:09.328826Z"
        },
        "id": "bSrFYDvedoFO"
      },
      "outputs": [],
      "source": [
        "from math import pi\n",
        "pi"
      ]
    },
    {
      "cell_type": "markdown",
      "metadata": {
        "id": "g6gZS-N_doFP"
      },
      "source": [
        "While importing a module, Python looks at several places defined in **`sys.path`**. It is a list of directory locations."
      ]
    },
    {
      "cell_type": "code",
      "execution_count": null,
      "metadata": {
        "ExecuteTime": {
          "end_time": "2021-10-02T08:45:11.706263Z",
          "start_time": "2021-10-02T08:45:11.689668Z"
        },
        "id": "xpmJTkfQdoFP",
        "scrolled": true
      },
      "outputs": [],
      "source": [
        "import sys\n",
        "sys.path"
      ]
    },
    {
      "cell_type": "markdown",
      "metadata": {
        "id": "lVEIuDCpdoFQ"
      },
      "source": [
        "We can also add our own location to this list."
      ]
    },
    {
      "cell_type": "code",
      "execution_count": null,
      "metadata": {
        "id": "ijpok32udoFQ"
      },
      "outputs": [],
      "source": []
    }
  ],
  "metadata": {
    "colab": {
      "provenance": []
    },
    "hide_input": false,
    "kernelspec": {
      "display_name": "Python 3",
      "language": "python",
      "name": "python3"
    },
    "language_info": {
      "codemirror_mode": {
        "name": "ipython",
        "version": 3
      },
      "file_extension": ".py",
      "mimetype": "text/x-python",
      "name": "python",
      "nbconvert_exporter": "python",
      "pygments_lexer": "ipython3",
      "version": "3.7.7"
    },
    "toc": {
      "base_numbering": 1,
      "nav_menu": {},
      "number_sections": true,
      "sideBar": true,
      "skip_h1_title": false,
      "title_cell": "Table of Contents",
      "title_sidebar": "Contents",
      "toc_cell": false,
      "toc_position": {},
      "toc_section_display": true,
      "toc_window_display": false
    },
    "varInspector": {
      "cols": {
        "lenName": 16,
        "lenType": 16,
        "lenVar": 40
      },
      "kernels_config": {
        "python": {
          "delete_cmd_postfix": "",
          "delete_cmd_prefix": "del ",
          "library": "var_list.py",
          "varRefreshCmd": "print(var_dic_list())"
        },
        "r": {
          "delete_cmd_postfix": ") ",
          "delete_cmd_prefix": "rm(",
          "library": "var_list.r",
          "varRefreshCmd": "cat(var_dic_list()) "
        }
      },
      "types_to_exclude": [
        "module",
        "function",
        "builtin_function_or_method",
        "instance",
        "_Feature"
      ],
      "window_display": false
    }
  },
  "nbformat": 4,
  "nbformat_minor": 0
}