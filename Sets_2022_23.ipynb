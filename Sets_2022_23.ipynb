{
  "nbformat": 4,
  "nbformat_minor": 0,
  "metadata": {
    "colab": {
      "provenance": []
    },
    "kernelspec": {
      "name": "python3",
      "display_name": "Python 3"
    },
    "language_info": {
      "name": "python"
    }
  },
  "cells": [
    {
      "cell_type": "markdown",
      "source": [
        "R.S. Salaria, Khanna , “Programming for Problem Solving”, Book Publishing Co., Delhi."
      ],
      "metadata": {
        "id": "idRYH-g9pW4z"
      }
    },
    {
      "cell_type": "code",
      "source": [],
      "metadata": {
        "id": "1y_oqk9rpY8o"
      },
      "execution_count": null,
      "outputs": []
    },
    {
      "cell_type": "code",
      "execution_count": null,
      "metadata": {
        "id": "c85M3mGL7dh9"
      },
      "outputs": [],
      "source": [
        "#Mathematically, a set is a collection of unique elements that are not in any particular order\n",
        "#A Python set is similar to this definition with the following additional conditions:\n",
        "#a. The elements in the set are immutable (cannot be modified) but the set as a whole is mutable\n",
        "#b. There is no index attached to any element in a python set. So they do not support any indexing or slicing operation"
      ]
    },
    {
      "cell_type": "code",
      "source": [
        "#Learning Objectives\n",
        "#Define a set\n",
        "#Explain key characteristics of sets\n",
        "#Create sets in different ways\n",
        "#Demonstrate ways to add and remove elements to/from a set\n",
        "#Perform various operations on sets"
      ],
      "metadata": {
        "id": "L4vLc7eTCDZs"
      },
      "execution_count": null,
      "outputs": []
    },
    {
      "cell_type": "code",
      "source": [
        "# Set is created by using set() function or placing all the elements within a part of curcly braces. \n",
        "#They are defined as set class in Python"
      ],
      "metadata": {
        "id": "kDip3BSW7uTA"
      },
      "execution_count": null,
      "outputs": []
    },
    {
      "cell_type": "code",
      "source": [
        "#Creating a Set: \n",
        "#i. Empty Set \n",
        "#ii. Set with a given set of elements and \n",
        "#iii. Set constructed from another sequences, such as string, list, or another set"
      ],
      "metadata": {
        "id": "h3mXrtkw7-M1"
      },
      "execution_count": null,
      "outputs": []
    },
    {
      "cell_type": "code",
      "source": [
        "#Creating an empty set\n",
        "a = set([])\n",
        "print(type(a))"
      ],
      "metadata": {
        "id": "O6Sxk7L88J8c",
        "colab": {
          "base_uri": "https://localhost:8080/"
        },
        "outputId": "a3052d80-d545-4b89-ce1a-7fe2eb8a7ada"
      },
      "execution_count": null,
      "outputs": [
        {
          "output_type": "stream",
          "name": "stdout",
          "text": [
            "<class 'set'>\n"
          ]
        }
      ]
    },
    {
      "cell_type": "code",
      "source": [
        "#Creating set with given elements\n",
        "#To create a set with given elements, just enclose the comma separated list of elements in braces\n",
        "b = {1,2,3,4,5,6}\n",
        "print(b)\n",
        "c={1,'one',2,'two',3,'three'}\n",
        "print(c)"
      ],
      "metadata": {
        "colab": {
          "base_uri": "https://localhost:8080/"
        },
        "id": "AMsX9e-B8Nlg",
        "outputId": "7d6af498-5701-4c41-99a4-007f054fa4fe"
      },
      "execution_count": null,
      "outputs": [
        {
          "output_type": "stream",
          "name": "stdout",
          "text": [
            "{1, 2, 3, 4, 5, 6}\n",
            "{1, 2, 3, 'three', 'two', 'one'}\n"
          ]
        }
      ]
    },
    {
      "cell_type": "code",
      "source": [
        "#creating set from another set / sequence\n",
        "#To create a set from another sequence, we use set() method, which is a constructor of set class, with set/sequence as its argument\n",
        "a={1,2,3}\n",
        "b=set(a)\n",
        "print(b)\n",
        "\n",
        "c=set(\"abcdefgabchijk\")\n",
        "print(c)\n",
        "\n",
        "d=set([3,2,1,0,-1])\n",
        "print(d)\n",
        "\n",
        "e=set((3,6,9,12,15))\n",
        "print(e)"
      ],
      "metadata": {
        "colab": {
          "base_uri": "https://localhost:8080/"
        },
        "id": "TVzeo-YL8anV",
        "outputId": "0ff91be9-f806-4017-ccd2-814a3b2b7f34"
      },
      "execution_count": null,
      "outputs": [
        {
          "output_type": "stream",
          "name": "stdout",
          "text": [
            "{1, 2, 3}\n",
            "{'h', 'f', 'k', 'e', 'a', 'b', 'i', 'd', 'g', 'j', 'c'}\n",
            "{0, 1, 2, 3, -1}\n",
            "{3, 6, 9, 12, 15}\n"
          ]
        }
      ]
    },
    {
      "cell_type": "code",
      "source": [
        "#Accessing elements of a set\n",
        "#Individual elements of a set can be accessed\n",
        "\n",
        "days={\"Mon\", \"Tue\",\"Wed\",\"Thu\",\"Fri\",\"Sat\",\"Sun\"}\n",
        "for d in days:\n",
        "  print(d)\n",
        "  "
      ],
      "metadata": {
        "id": "9X8efkHv80gn"
      },
      "execution_count": null,
      "outputs": []
    },
    {
      "cell_type": "code",
      "source": [
        "#Adding elements to a set\n",
        "flowers={\"Rose\",\"Lotus\",\"Lilly\"}\n",
        "print(flowers)\n",
        "\n",
        "flowers.add(\"Tulip\")\n",
        "print(flowers)"
      ],
      "metadata": {
        "id": "RfBCCniq9EMn"
      },
      "execution_count": null,
      "outputs": []
    },
    {
      "cell_type": "code",
      "source": [
        "#Removing elements from a set\n",
        "flowers.discard(\"Lotus\")\n",
        "print(flowers)"
      ],
      "metadata": {
        "id": "fQ7D6Msn9M7_"
      },
      "execution_count": null,
      "outputs": []
    },
    {
      "cell_type": "code",
      "source": [
        "#Operations on Sets\n",
        "#The sets in Python are typically used for mathematical operations like union, intersection, difference and companisor, etc\n",
        "\n",
        "#Union of Sets\n",
        "#Union of two sets produces a new set containing all the distinct elements from both sets\n",
        "\n",
        "A = {0, 2, 3,5}\n",
        "B = {-1, 2, 3, 7, 9}\n",
        "AuB = A|B\n",
        "print(AuB)\n",
        "\n",
        "AuB = A.union(B)\n",
        "print(AuB)\n",
        "\n",
        "#Intersection of Sets\n",
        "#Produces a new set containing only the common elements from both the sets\n",
        "AiB = A & B\n",
        "print(AiB)\n",
        "\n",
        "AiB = A.intersection(B)\n",
        "print(AiB)\n",
        "\n",
        "#Difference of Sets\n",
        "#Produces a new set containing only the elemnets from teh first set and none from the second set\n",
        "\n",
        "AdB  =A - B\n",
        "print(AdB)\n",
        "\n",
        "AdB = A.difference(B)\n",
        "print(AdB)\n",
        "\n",
        "\n",
        "#Symmetric Difference of Sets\n",
        "#Produces a set that contains the elements that are not shared by the sets.\n",
        "AsdB = A^B\n",
        "print(AsdB)\n",
        "\n",
        "AsdB = A.symmetric_difference(B)\n",
        "print(AsdB)\n",
        "\n",
        "#Comparing Sets\n",
        "#\n",
        "set1 = set([1, 2, 3, 4])\n",
        "set2 = set([2, 3])\n",
        "\n",
        "print(set2.issubset(set1))\n",
        "print(set2 <= set1)\n",
        "\n",
        "print(set1.issuperset(set2))\n",
        "print(set1 >= set2)\n"
      ],
      "metadata": {
        "colab": {
          "base_uri": "https://localhost:8080/"
        },
        "id": "iq1Jdkgm9M-7",
        "outputId": "cb0c81a1-fd68-4b6e-a976-6dc1b09bf8c8"
      },
      "execution_count": null,
      "outputs": [
        {
          "output_type": "stream",
          "name": "stdout",
          "text": [
            "{0, 2, 3, 5, 7, 9, -1}\n",
            "{0, 2, 3, 5, 7, 9, -1}\n",
            "{2, 3}\n",
            "{2, 3}\n",
            "{0, 5}\n",
            "{0, 5}\n",
            "{0, 5, 7, 9, -1}\n",
            "{0, 5, 7, 9, -1}\n",
            "True\n",
            "True\n",
            "True\n",
            "True\n"
          ]
        }
      ]
    },
    {
      "cell_type": "code",
      "source": [
        "#Write a Python program to find the maximum and minimum values in a set. \n",
        "\n",
        "\n",
        "\n"
      ],
      "metadata": {
        "id": "kNz-yC9-9NBZ"
      },
      "execution_count": null,
      "outputs": []
    },
    {
      "cell_type": "code",
      "source": [
        "#Write a Python program to find the length of a set. \n",
        "\n",
        "\n",
        "\n"
      ],
      "metadata": {
        "id": "_LaP89qz9NEg"
      },
      "execution_count": null,
      "outputs": []
    },
    {
      "cell_type": "code",
      "source": [
        "#Write a Python program to check if a given value is present in a set or not. \n",
        "\n",
        "\n",
        "\n"
      ],
      "metadata": {
        "id": "aTA51oyLBjsV"
      },
      "execution_count": null,
      "outputs": []
    },
    {
      "cell_type": "code",
      "source": [
        "#Write a Python program to check if two given sets have no elements in common. \n",
        "\n",
        "\n",
        "\n"
      ],
      "metadata": {
        "id": "UZIrZO1DBjv4"
      },
      "execution_count": null,
      "outputs": []
    },
    {
      "cell_type": "code",
      "source": [
        "#Write a Python program to check if a given set is a superset of itself and a superset of another given set. \n",
        "\n",
        "\n",
        "\n"
      ],
      "metadata": {
        "id": "jCLRT-9lBjzG"
      },
      "execution_count": null,
      "outputs": []
    },
    {
      "cell_type": "code",
      "source": [
        "#Write a Python program to find elements in a given set that are not in another set. \n",
        "\n",
        "\n",
        "\n"
      ],
      "metadata": {
        "id": "szCyJDFeBj2r"
      },
      "execution_count": null,
      "outputs": []
    },
    {
      "cell_type": "code",
      "source": [
        "#Write a Python program to remove the intersection of a second set with a first set."
      ],
      "metadata": {
        "id": "Ce3ftgx4Bto4"
      },
      "execution_count": null,
      "outputs": []
    }
  ]
}