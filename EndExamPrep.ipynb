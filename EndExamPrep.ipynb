{
  "nbformat": 4,
  "nbformat_minor": 0,
  "metadata": {
    "colab": {
      "provenance": []
    },
    "kernelspec": {
      "name": "python3",
      "display_name": "Python 3"
    },
    "language_info": {
      "name": "python"
    }
  },
  "cells": [
    {
      "cell_type": "markdown",
      "source": [
        "Done by Kunal (RNo:31) 2022-23 Batch, AI&DS, Section-1\n",
        "Course: PSP Lab (22csc02)"
      ],
      "metadata": {
        "id": "tSqefaisdLqs"
      }
    },
    {
      "cell_type": "code",
      "source": [
        "Questions = '''\n",
        "1. Write a python program to explain the scope of local and global variables using functions\n",
        "Write a python program to merge the contents of two files into one file\n",
        "\n",
        "Concepts expected: advantages of functions, file handling in python\n",
        "\n",
        "2. Illustrate different read functions available in files\n",
        "Find the sum of odd factors of a given number\n",
        "\n",
        "Concepts expected: range(), loops, file handling in python: modes of opening files\n",
        "\n",
        "3. Illustrate different write functions available in files\n",
        "Find the sum of all elements of a 2D array\n",
        "\n",
        "Concepts expected: Concept of arrays, File handling in python\n",
        "\n",
        "4. Find whether a number is Armstrong\n",
        "Write a program to convert Celsius to Fahrenheit. F = (9/5) *C+32 using functions; C must be sent as argument\n",
        "to function and inturn function should return the Fahrenheit to caller\n",
        "\n",
        "Concepts expected: while and for loop in python and associativity of operators; parameters in function header line\n",
        "\n",
        "5. Illustrate List: insertion, appending, removing, Indexing, Slicing, Mutability, predefined operations\n",
        "Write a program in Python to compute GCD of given numbers using recursion\n",
        "\n",
        "Concepts expected: About list, recursion, compute GCD\n",
        "\n",
        "6. Illustrate Tuple: Indexing, Slicing, Immutability, predefined operations\n",
        "Write a program in Python to compute LCM of given numbers using recursion\n",
        "\n",
        "Concepts expected: About Tuple, recursion, compute LCM\n",
        "\n",
        "7. Illustrate Dictionary: insertion, appending, removing, Key, values, retrieving, predefined operations\n",
        "Find the factorial of a given number using iteration, return both no and the factorial to the caller\n",
        "\n",
        "Concepts expected: About Dictionary, function with arguments, compute factorial\n",
        "\n",
        "8. Illustrate String: Indexing, Slicing, Immutability, predefined operations\n",
        "Find factorial of a given number using recursion\n",
        "Concepts expected: About Python String, recursion, compute factorial\n",
        "\n",
        "9. Write a program to find whether a string is palindrome\n",
        "Demonstrate accumulation on a list\n",
        "\n",
        "Concepts expected: About Python String, List, concept of accumulation of a list\n",
        "\n",
        "10. Implement recursive Linear Search\n",
        "Implement Matrix Addition create matrices using nested lists\n",
        "\n",
        "Concepts expected: Representing matrices, recursion, Demonstration of Linear search given set of elements and\n",
        "key element\n",
        "\n",
        "11. Implement iterative Linear Search\n",
        "Implement Matrix Multiplication\n",
        "\n",
        "Concepts expected: About functions with arguments, representation of matrices, Demonstration of linear search\n",
        "given set of elements and key element\n",
        "\n",
        "12. Implement recursive Binary Search\n",
        "Illustrate the usage of tell() and seek() functions\n",
        "\n",
        "Concepts expected: Demonstration of Binary search given set of elements and key element, recursion, files in\n",
        "python\n",
        "\n",
        "13. Implement iterative Binary Search using functions\n",
        "Find nth Fibonacci number using recursion\n",
        "\n",
        "Concepts expected: About recursion, Demonstrate Binary Search algorithm given set of elements and key,\n",
        "compute Fibonacci term\n",
        "\n",
        "14. Implement Bubble Sort using functions\n",
        "Write a program in python to determine the unique words and their frequency in a given string\n",
        "\n",
        "Concepts expected: Demonstration of bubble sort on a set of 5 elements, immutability of strings in python\n",
        "\n",
        "15. Write a program to find the size of a text file\n",
        "Implement Selection Sort using functions\n",
        "\n",
        "Concepts expected: Demonstration of selection sort on a set of any 5 nos, concept of files in python\n",
        "\n",
        "16. Write a program to read the contents of a file and count the unique characters\n",
        "Demonstrate List accumulation.\n",
        "\n",
        "Concepts expected: concept of files in python, Dictionary and dictionary accumulation\n",
        "\n",
        "17. Write a program to copy the contents source file to destination file line by line\n",
        "Build a dictionary with name and phone nos. Search whether a given mobile no. is present in the dictionary, it is\n",
        "present display the mobile no and name otherwise report entry missing\n",
        "\n",
        "Concepts expected: concept of files in python, dictionary\n",
        "\n",
        "18. Demonstrate positional arguments and key word arguments used in functions\n",
        "Demonstrate Dictionary accumulation\n",
        "\n",
        "Concepts expected: About functions, positional arguments and keyword arguments, dictionary and dictionary\n",
        "accumulation\n",
        "\n",
        "19. Write the details of ‘n’ students into a .csv file. Details include RNo, Name, Branch, EAMCET rank\n",
        "Write a function to read ‘n’ elements and return minimum, maximum and average of the list of elements.\n",
        "\n",
        "Concepts expected: handling files in python, reading and writing into csv files, lists and predefined functions on\n",
        "lists\n",
        "\n",
        "20. Write a program to reverse the number using . Input: 123 output: 321; i/p:4534 o/p: 4354\n",
        "Write a program to display the below pattern, for n=4:\n",
        "1 2 3 4\n",
        "1 2 3\n",
        "1 2\n",
        "1\n",
        "\n",
        "Concepts expected: difference between while and for loop, range() function and different arguments it takes\n",
        "\n",
        "21. Implement stack and basic operations\n",
        "Illustrate math: sqrt(), ceil(), floor(), pow(), fabs(), sin(), cos(), tan()\n",
        "\n",
        "Concepts expected: About the basic working of stack and predefined operations on lists that are useful in\n",
        "implementing stack\n",
        "\n",
        "22. Implement queue and basic operations\n",
        "Illustrate Identity Operators\n",
        "\n",
        "Concepts expected: About the basic working of queue and predefined operations on lists that are useful in\n",
        "implementing queue\n",
        "\n",
        "23. Write a Python Program to find sum of digits of a positive number\n",
        "Illustrate membership operators\n",
        "\n",
        "Concepts expected: while and for loop, range() function\n",
        "\n",
        "24. Write a program to reverse the number. Input: 123 output: 321\n",
        "Write a program in Python to find smallest of three nos\n",
        "\n",
        "Concepts expected: while and for loop, range() function, continue and pass\n",
        "\n",
        "25. Write a program to find whether a no. is prime or not\n",
        "Illustrate statistics: mean(), median(), mode(), pstdev(), pvariabce(), stdev(), variance()\n",
        "\n",
        "Concepts expected: while loop, continue and break, range() function\n",
        "\n",
        "26. Implement linked list and basic operations.\n",
        "Illustrate random: random(), randint(), randrange()\n",
        "\n",
        "Concepts expected: List and its mutability, break and pass\n",
        "\n",
        "27. Write a program to find roots of a quadratic equation\n",
        "Write a program to display the below pattern, when n=4\n",
        "4 3 2 1\n",
        "4 3 2\n",
        "4 3\n",
        "4\n",
        "\n",
        "Concepts expected: different data types and their mutability or immutability nature, nested if ..else\n",
        "\n",
        "28. Write a Python Program to find whether a number is Perfect Number\n",
        "Illustrate relational and bitwise operators\n",
        "\n",
        "Concepts expected: Python Data types, Python is Dynamically typed nature of python\n",
        "\n",
        "29. The program should display a message indicating whether the person is an infant, a child, a teenager, or an adult.\n",
        "Following are the guidelines: If the person is 1 year old or less, he or she is an infant; If the person is older than 1\n",
        "year, but younger than 13 years, he or she is a child; If the person is at least 13 years old, but less than 20 years\n",
        "old, he or she is a teenager; If the person is at least 20 years old, he or she is an adult.\n",
        "Demonstrate List comprehension\n",
        "\n",
        "Concepts expected: chained if..else, mutability of lists\n",
        "\n",
        "30. Write a Python Program to find whether year is a leap year or not\n",
        "Illustrate associativity and Precedence of Operators\n",
        "\n",
        "Concepts expected: nested if ..else, bitwise operators\n",
        "\n",
        "31. Write a program to print a multiplication table for a given ‘n’\n",
        "Illustrate Arithmetic Operators and bitwise operators\n",
        "\n",
        "Concepts expected: escape sequences, end and sep arguments of print function\n",
        "\n",
        "32. Write a Python Program to find whether year is a leap year or not\n",
        "Illustrate statistics: mean(), median(), mode(), pstdev(), pvariabce(), stdev(), variance()\n",
        "\n",
        "Concepts expected: Short cut evaluation of logical operators; if else in python\n",
        "\n",
        "33. Demonstrate the usage of break, continue and pass\n",
        "Write a program to display the below pattern, for n=4:\n",
        "1\n",
        "1 2\n",
        "1 2 3\n",
        "1 2 3 4\n",
        "\n",
        "Concepts expected: nested loops; difference between while and for in python\n",
        "\n",
        "34. Write a program to demonstrate + and * operators on top of sequences\n",
        "Perform 2D matrix addition; create matrices using functions of Numpy\n",
        "\n",
        "Concepts expected: mutability and immutability of sequences; and numpy matrices\n",
        "\n",
        "'''"
      ],
      "metadata": {
        "id": "wfLku5MYoBeI"
      },
      "execution_count": null,
      "outputs": []
    },
    {
      "cell_type": "code",
      "source": [
        "\n",
        "# 1) (i) Write a python program to explain the scope of local and global variables using functions\n",
        "#     \n",
        "#     Concepts expected: advantages of functions, file handling in python\n",
        "\n",
        "\n",
        "glob_var = 3\n",
        "def func(var):                                        # Function header\n",
        "  print(\"Called varaible :\",var)\n",
        "  loc_var = 5                                \n",
        "  print(\"Local variable :\",loc_var)\n",
        "\n",
        "  global glob_var\n",
        "  print(\"Global variable :\",glob_var)\n",
        "  glob_var = 10\n",
        "\n",
        "print(\"Global variable before calling :\",glob_var)  \n",
        "func(9)                                                # Function calling\n",
        "print(\"Global variable after calling :\",glob_var)\n",
        "\n",
        "print(\"Local variable after calling :\",loc_var)        # Error :- NameError: name 'loc_var' is not defined\n",
        "\n"
      ],
      "metadata": {
        "id": "-ef_CbDRqHdI"
      },
      "execution_count": null,
      "outputs": []
    },
    {
      "cell_type": "code",
      "source": [
        "# 1) (ii) Write a python program to merge the contents of two files into one file\n",
        "\n",
        "file_1 = open(\"File1.txt\",\"w\")\n",
        "file_1.write(\"Hi everyone This is person 1\\n\")\n",
        "file_1.close()\n",
        "\n",
        "file_2 = open(\"File2.txt\",\"w\")\n",
        "file_2.write(\"Hello everyone This is person 2\")\n",
        "file_2.close()\n",
        "\n",
        "file_3 = open(\"File3.txt\",\"w\")\n",
        "file_1 = open(\"File1.txt\",\"r\")\n",
        "file_2 = open(\"File2.txt\",\"r\")\n",
        "a = file_1.read()\n",
        "b = file_2.read()\n",
        "file_3.write(a)\n",
        "file_3.write(b)\n",
        "\n",
        "file_1.close()\n",
        "file_2.close()\n",
        "file_3.close()\n",
        "\n",
        "file_1 = open(\"File1.txt\",\"r\")\n",
        "print(\"First file :\",file_1.read())\n",
        "\n",
        "file_2 = open(\"File2.txt\",\"r\")\n",
        "print(\"Second file :\",file_2.read(),\"\\n\")\n",
        "\n",
        "Merged = open(\"File3.txt\",\"r\")\n",
        "print(\"Merged file :\\n\"+Merged.read())\n",
        "\n",
        "file_1.close()\n",
        "file_2.close()\n",
        "file_3.close()"
      ],
      "metadata": {
        "colab": {
          "base_uri": "https://localhost:8080/"
        },
        "id": "Rw0hvN9NuJAo",
        "outputId": "278ea123-9831-403b-e4bf-b4caf37d8f7f"
      },
      "execution_count": null,
      "outputs": [
        {
          "output_type": "stream",
          "name": "stdout",
          "text": [
            "First file : Hi everyone This is person 1\n",
            "\n",
            "Second file : Hello everyone This is person 2 \n",
            "\n",
            "Merged file :\n",
            "Hi everyone This is person 1\n",
            "Hello everyone This is person 2\n"
          ]
        }
      ]
    },
    {
      "cell_type": "code",
      "source": [
        "#2) (i)Illustrate different read functions available in files\n",
        "\n",
        "a = open(\"File3.txt\",\"r\")\n",
        "print(\"read() :\\n\"+a.read(),\"\\n\")\n",
        "a.close()\n",
        "a = open(\"File3.txt\",\"r\")\n",
        "print(\"readline() :\",a.readline())\n",
        "a.close()\n",
        "a = open(\"File3.txt\",\"r\")\n",
        "print(\"readlines() :\",a.readlines())\n",
        "\n",
        "a.close()"
      ],
      "metadata": {
        "colab": {
          "base_uri": "https://localhost:8080/"
        },
        "id": "eQRl1Oxy0BQg",
        "outputId": "6d6a9814-a6a4-4e4f-f8b0-c3b854d69d90"
      },
      "execution_count": null,
      "outputs": [
        {
          "output_type": "stream",
          "name": "stdout",
          "text": [
            "read() :\n",
            "Hi everyone This is person 1\n",
            "Hello everyone This is person 2 \n",
            "\n",
            "readline() : Hi everyone This is person 1\n",
            "\n",
            "readlines() : ['Hi everyone This is person 1\\n', 'Hello everyone This is person 2']\n"
          ]
        }
      ]
    },
    {
      "cell_type": "code",
      "source": [
        "#2) (ii) Find the sum of odd factors of a given number\n",
        "\n",
        "number = int(input(\"Enter number : \"))\n",
        "i = 1\n",
        "sum = 0\n",
        "while i <= number :\n",
        "  if number % i == 0 :\n",
        "    if i % 2 != 0 :\n",
        "      sum += i\n",
        "  i += 1\n",
        "print(\"\\nUsing while loop :\")\n",
        "print(\"Sum of odd factors of\",number,\"is :\",sum)\n",
        "\n",
        "#                          ( Or )\n",
        "sum = 0\n",
        "for i in range(1,number+1):\n",
        "  if number % i == 0 :\n",
        "    if i % 2 != 0 :\n",
        "      sum += i\n",
        "print(\"\\nUsing for loop :\")\n",
        "print(\"Sum of odd factors of\",number,\"is :\",sum)      "
      ],
      "metadata": {
        "colab": {
          "base_uri": "https://localhost:8080/"
        },
        "id": "mKQe_zcj9T4a",
        "outputId": "7bdee71e-0611-4a7a-d163-b0af48ad713a"
      },
      "execution_count": null,
      "outputs": [
        {
          "output_type": "stream",
          "name": "stdout",
          "text": [
            "Enter number : 27\n",
            "\n",
            "Using while loop :\n",
            "Sum of odd factors of 27 is : 40\n",
            "\n",
            "Using for loop :\n",
            "Sum of odd factors of 27 is : 40\n"
          ]
        }
      ]
    },
    {
      "cell_type": "code",
      "source": [
        "# 3.) (i) Illustrate different write functions available in files\n",
        "\n",
        "file1 = open(\"write.txt\",\"w\")\n",
        "file1.write(\"Hi We need to prepare for semister and lab exams too\")\n",
        "file1.close()\n",
        "\n",
        "file2 = open(\"writelines.txt\",\"w\")\n",
        "file2.writelines([\"We need to prepare for\\n\",\"Semister\",\" and\",\" Lab exams\"])\n",
        "file2.close()\n",
        "\n",
        "fileo1 = open(\"write.txt\",\"r\")\n",
        "print(\"write() :\\n\"+fileo1.read(),\"\\n\")\n",
        "\n",
        "fileo2 = open(\"writelines.txt\",\"r\")\n",
        "print(\"writelines() :\\n\"+fileo2.read())\n",
        "\n",
        "fileo1.close()\n",
        "fileo2.close()"
      ],
      "metadata": {
        "colab": {
          "base_uri": "https://localhost:8080/"
        },
        "id": "kMJvy8VZ-_vK",
        "outputId": "59c64d1b-9095-4de2-bb82-7e0a113391dc"
      },
      "execution_count": null,
      "outputs": [
        {
          "output_type": "stream",
          "name": "stdout",
          "text": [
            "write() :\n",
            "Hi We need to prepare for semister and lab exams too \n",
            "\n",
            "writelines() :\n",
            "We need to prepare for\n",
            "Semister and Lab exams\n"
          ]
        }
      ]
    },
    {
      "cell_type": "code",
      "source": [
        "# 3) (ii) Find the sum of all elements of a 2D array\n",
        "\n",
        "array_2d = [[10,0,3],[2,4,-6],[1,-9,23]]\n",
        "sum = 0\n",
        "for row in array_2d :\n",
        "  for num in row :\n",
        "    sum += num\n",
        "print(\"2d array is :\",array_2d,\"\\n\")\n",
        "print(\"Sum of all elements of a 2d array is :\",sum)\n"
      ],
      "metadata": {
        "colab": {
          "base_uri": "https://localhost:8080/"
        },
        "id": "IJZ4WWhYCh2r",
        "outputId": "0af63f0b-e084-4e75-c1b9-7dc7fd22a815"
      },
      "execution_count": null,
      "outputs": [
        {
          "output_type": "stream",
          "name": "stdout",
          "text": [
            "2d array is : [[10, 0, 3], [2, 4, -6], [1, -9, 23]] \n",
            "\n",
            "Sum of all elements of a 2d array is : 28\n"
          ]
        }
      ]
    },
    {
      "cell_type": "code",
      "source": [
        "# 4) (i) Find whether a number is Armstrong\n",
        "\n",
        "number = int(input(\"Enter number : \"))\n",
        "copy = number\n",
        "soc = 0\n",
        "while number > 0 :\n",
        "  a = number % 10\n",
        "  soc += a**3\n",
        "  number //= 10\n",
        "print(\"Sum of cubes :\",soc)\n",
        "if copy == soc :\n",
        "  print(\"It is an Armstrong number\") \n",
        "else:\n",
        "  print(\"It is not an Armstrong number\")"
      ],
      "metadata": {
        "colab": {
          "base_uri": "https://localhost:8080/"
        },
        "id": "WMh14X7ZEwT8",
        "outputId": "476d1c70-28aa-4c98-8a22-4fb300ca0303"
      },
      "execution_count": null,
      "outputs": [
        {
          "output_type": "stream",
          "name": "stdout",
          "text": [
            "Enter number : 371\n",
            "Sum of cubes : 371\n",
            "It is an Armstrong number\n"
          ]
        }
      ]
    },
    {
      "cell_type": "code",
      "source": [
        "# 4) (ii) Write a program to convert Celsius to Fahrenheit. F = (9/5) *C+32 using functions; \n",
        "#         C must be sent as argument to function and inturn function should return the Fahrenheit to caller\n",
        "\n",
        "def temp(C) :\n",
        "  F = ((9/5) * C) + 32\n",
        "  return F\n",
        "print(temp(float(input(\"Enter temperature (in celsius) : \"))))\n"
      ],
      "metadata": {
        "colab": {
          "base_uri": "https://localhost:8080/"
        },
        "id": "E88Mcjs6Gmev",
        "outputId": "32a3b587-66ae-4df9-bee7-f33e7caef578"
      },
      "execution_count": null,
      "outputs": [
        {
          "output_type": "stream",
          "name": "stdout",
          "text": [
            "Enter temperature (in celsius) : 37.5\n",
            "99.5\n"
          ]
        }
      ]
    },
    {
      "cell_type": "code",
      "source": [
        "# 5) (i) Illustrate List: \n",
        "#        insertion, appending, removing, Indexing, Slicing, Mutability, predefined operations\n",
        "\n",
        "#Answer :-\n",
        "\n",
        "# List : The ordered sequence of items enclosed in square brackets.\n",
        "# (i) insertion : Inserts the item at given position.\n",
        "# (ii) appending : Adds the item at end of list.\n",
        "# (iii) removing : Removes the first occurance of element.\n",
        "# (iv) indexing : Returns the position of first ocuurance of item.\n",
        "# (v) slicing : A method which allows you to extract a part of a list.\n",
        "\n",
        "# code :\n",
        "l = [\"apple\",1,\"psp\",2022,True]\n",
        "l.insert(1,\"banana\")\n",
        "print(\"insert() :\",l)\n",
        "\n",
        "l = [\"apple\",1,\"psp\",2022,True]\n",
        "l.append(False)\n",
        "print(\"append() :\",l)\n",
        "\n",
        "l = [\"apple\",1,\"psp\",\"apple\",2022,True]\n",
        "l.remove(\"apple\")\n",
        "print(\"remove() :\",l)\n",
        "\n",
        "l = [\"apple\",1,\"psp\",2022,True]\n",
        "a = l.index(2022)\n",
        "print(\"index()  :\",a)\n",
        "\n",
        "l = [\"apple\",1,\"psp\",2022,True]\n",
        "a = l[1:4]\n",
        "print(\"slice    :\",a)\n",
        "\n",
        "# Mutability :\n",
        "# code :\n",
        "\n",
        "l = [1,\"psp\",2,True,2023]\n",
        "l[2] = \"lab\"\n",
        "print(\"\\nMutability :\",l)\n",
        "\n",
        "# Predefined operators :\n",
        "# (i) Creating a list\n",
        "# (ii) Accessing elements\n",
        "# (iii) Modifying elements\n",
        "# (iv) Adding elements\n",
        "# (v) Removing elements\n",
        "# (vi) Slicing list\n",
        "# (vii) Length of list\n",
        "# (viii) Sorting list\n",
        "# (ix) Revering list\n",
        "\n",
        "# code :-\n",
        "print(\"\\nPredefined operators :\")\n",
        "l = list([1,2,3,True])\n",
        "print(\"List creation :\",l)\n",
        "\n",
        "l = [1,2,3,True]\n",
        "print(\"Accesing element :\",l[1])\n",
        "\n",
        "l = [1,2,3,True]\n",
        "l[1] = 2023\n",
        "print(\"Modifying list :\",l)\n",
        "\n",
        "l = [1,2,3,True]\n",
        "l.append(\"I am added\")\n",
        "print(\"Adding an element :\",l)\n",
        "\n",
        "l = [1,2,3,True]\n",
        "l.remove(2)\n",
        "print(\"Removing an element :\",l)\n",
        "\n",
        "l = [1,2,3,True]\n",
        "print(\"Slicing elements :\",l[::-1])\n",
        "\n",
        "l = [1,2,3,True]\n",
        "print(\"Length of list :\",len(l))\n",
        "\n",
        "l = [8,4,-1,3,20,17]\n",
        "l.sort()\n",
        "print(\"Sorting a list :\",l)\n",
        "\n",
        "l = [1,2,3,True]\n",
        "l.reverse()\n",
        "print(\"Reversing of list :\",l)\n",
        "\n"
      ],
      "metadata": {
        "colab": {
          "base_uri": "https://localhost:8080/"
        },
        "id": "kEW2srv1IlE9",
        "outputId": "41239d4d-51c0-4138-dc9f-79daff519023"
      },
      "execution_count": null,
      "outputs": [
        {
          "output_type": "stream",
          "name": "stdout",
          "text": [
            "insert() : ['apple', 'banana', 1, 'psp', 2022, True]\n",
            "append() : ['apple', 1, 'psp', 2022, True, False]\n",
            "remove() : [1, 'psp', 'apple', 2022, True]\n",
            "index()  : 3\n",
            "slice    : [1, 'psp', 2022]\n",
            "\n",
            "Mutability : [1, 'psp', 'lab', True, 2023]\n",
            "\n",
            "Predefined operators :\n",
            "List creation : [1, 2, 3, True]\n",
            "Accesing element : 2\n",
            "Modifying list : [1, 2023, 3, True]\n",
            "Adding an element : [1, 2, 3, True, 'I am added']\n",
            "Removing an element : [1, 3, True]\n",
            "Slicing elements : [True, 3, 2, 1]\n",
            "Length of list : 4\n",
            "Sorting a list : [-1, 3, 4, 8, 17, 20]\n",
            "Reversing of list : [True, 3, 2, 1]\n"
          ]
        }
      ]
    },
    {
      "cell_type": "code",
      "source": [
        "# 5) (ii) Write a program in Python to compute GCD of given numbers using recursion\n",
        "\n",
        "def gcd(num1 , num2) :\n",
        "  if num1 % num2 == 0 :\n",
        "    return num2\n",
        "  else:\n",
        "    return gcd(num2 , num1 % num2)\n",
        "num1 = int(input(\"Enter num1 : \"))\n",
        "num2 = int(input(\"Enter num2 : \"))\n",
        "print(\"GCD is :\",gcd(num1,num2))"
      ],
      "metadata": {
        "colab": {
          "base_uri": "https://localhost:8080/"
        },
        "id": "FlboqL2jO0ff",
        "outputId": "d09dff12-0dc0-4894-f32e-de404cd0ac88"
      },
      "execution_count": null,
      "outputs": [
        {
          "output_type": "stream",
          "name": "stdout",
          "text": [
            "Enter num1 : 10\n",
            "Enter num2 : 15\n",
            "GCD is : 5\n"
          ]
        }
      ]
    },
    {
      "cell_type": "code",
      "source": [
        "# 6) (i) Illustrate Tuple: Indexing, Slicing, Immutability, predefined operations\n",
        "\n",
        "#Answer :-\n",
        "\n",
        "# Tuple : The ordered sequence of items enclosed in parenthesis.\n",
        "# (i) Indexing : Returns the position of first ocuurance of element.\n",
        "# (ii) Slicing : A method which allows you to extract a part of a Tuple.\n",
        "\n",
        "# code:\n",
        "t = (\"hi\",1,2,\"psp\",True) \n",
        "print(\"index() :\",t[3])\n",
        "\n",
        "t = (1,2,3,4,5,6)\n",
        "print(\"slice  :\",t[1:5:2])\n",
        "\n",
        "# Immutability :\n",
        "# code :\n",
        "\n",
        "im = '''t = (1,\"psp\",True)\n",
        "t[1] = \"hello\"\n",
        "print(t)'''          # TypeError: 'tuple' object does not support item assignment\n",
        "\n",
        "print(\"\\nImmutaility : TypeError: 'tuple' object does not support item assignment\")\n",
        "# Predefined operators :\n",
        "# (i) Indexing\n",
        "# (ii) Slicing\n",
        "# (iii) Concatenation\n",
        "# (iv) Repetition\n",
        "# (v) length\n",
        "# (vi) Membership\n",
        "\n",
        "# Code :\n",
        "print(\"\\nPredefined operators :\")\n",
        "t = (\"cbit\",2023,True)\n",
        "print(\"indexing :\",t[1])\n",
        "\n",
        "t = (\"cbit\",2023,True)\n",
        "print(\"Slicing :\",t[::-1])\n",
        "\n",
        "t = (1,2,3)\n",
        "t1 = (4,5,6)\n",
        "print(\"Concatenation :\",t+t1)\n",
        "\n",
        "t = (2,2,4)\n",
        "print(\"Repetition :\",t*3)\n",
        "\n",
        "t = (\"cbit\",1,4,5,True,\"hello\")\n",
        "print(\"Length :\",len(t))\n",
        "\n",
        "t = (1,2023,\"psp\",False,\"hi\")\n",
        "print(\"Membership :\",\"psp\" in t)"
      ],
      "metadata": {
        "colab": {
          "base_uri": "https://localhost:8080/"
        },
        "id": "Y1daZmiKWTFr",
        "outputId": "4fa646b1-f680-42c1-ed8b-7432b8fc3939"
      },
      "execution_count": null,
      "outputs": [
        {
          "output_type": "stream",
          "name": "stdout",
          "text": [
            "index() : psp\n",
            "slice  : (2, 4)\n",
            "\n",
            "Immutaility : TypeError: 'tuple' object does not support item assignment\n",
            "\n",
            "Predefined operators :\n",
            "indexing : 2023\n",
            "Slicing : (True, 2023, 'cbit')\n",
            "Concatenation : (1, 2, 3, 4, 5, 6)\n",
            "Repetition : (2, 2, 4, 2, 2, 4, 2, 2, 4)\n",
            "Length : 6\n",
            "Membership : True\n"
          ]
        }
      ]
    },
    {
      "cell_type": "code",
      "source": [
        "# 6) (ii) Write a program in Python to compute LCM of given numbers using recursion\n",
        "\n",
        "def lcm(num1 , num2) :\n",
        "  \n",
        "  per = num1 % num2\n",
        "  if per == 0 :\n",
        "    return num1\n",
        "  else:\n",
        "    return (num1 * lcm(num2 , per) / per)\n",
        "\n",
        "num1 = int(input(\"Enter number : \"))\n",
        "num2 = int(input(\"Enter number : \"))\n",
        "print(lcm(num1 , num2))"
      ],
      "metadata": {
        "colab": {
          "base_uri": "https://localhost:8080/"
        },
        "id": "SdKyw99LYeEC",
        "outputId": "82c1f17c-787b-4099-e78e-4f7fdd195746"
      },
      "execution_count": null,
      "outputs": [
        {
          "output_type": "stream",
          "name": "stdout",
          "text": [
            "Enter number : 2\n",
            "Enter number : 4\n",
            "4.0\n"
          ]
        }
      ]
    },
    {
      "cell_type": "code",
      "source": [
        "# 7) (i) Illustrate Dictionary: \n",
        "#        insertion, appending, removing, Key, values, retrieving, predefined operations\n",
        "\n",
        "# Dictionary : An unordered collection of key-value pairs represented in flower brackets.\n",
        "# Predefined operators :\n",
        "print(\"Predefined operators :-\\n\")\n",
        "\n",
        "# (i) Accesing elements\n",
        "# (ii) Updating values\n",
        "# (iii) Adding key-value pairs\n",
        "# (iv) Removing key-value pairs\n",
        "# (v) Checking Membership\n",
        "# (vi) keys , values , items\n",
        "\n",
        "d = {1:\"a\",2:\"b\",3:\"c\"}\n",
        "print(\"Accesing :\",d[1])\n",
        "\n",
        "d = {1:\"a\",2:\"b\",3:\"c\"}\n",
        "d[2] = \"d\"\n",
        "print(\"Updating/inserting :\",d)\n",
        "\n",
        "d = {1:\"a\",2:\"b\",3:\"c\"}\n",
        "d[4] = \"d\"\n",
        "print(\"Adding/appending :\",d)\n",
        "\n",
        "d = {1:\"a\",2:\"b\",3:\"c\"}\n",
        "del d[2]\n",
        "print(\"Removing :\",d)\n",
        "\n",
        "d = {1:\"a\",2:\"b\",3:\"c\"}\n",
        "print(\"Membership :\",1 in d)\n",
        "\n",
        "d = {1:\"a\",2:\"b\",3:\"c\"}\n",
        "print(\"Keys :\",d.keys())\n",
        "print(\"values :\",d.values())\n",
        "print(\"items :\",d.items())"
      ],
      "metadata": {
        "colab": {
          "base_uri": "https://localhost:8080/"
        },
        "id": "jmKxmSv9h80s",
        "outputId": "0dc00f13-1fbc-494a-d2d5-322044ae7ee5"
      },
      "execution_count": null,
      "outputs": [
        {
          "output_type": "stream",
          "name": "stdout",
          "text": [
            "Predefined operators :-\n",
            "\n",
            "Accesing : a\n",
            "Updating/inserting : {1: 'a', 2: 'd', 3: 'c'}\n",
            "Adding/appending : {1: 'a', 2: 'b', 3: 'c', 4: 'd'}\n",
            "Removing : {1: 'a', 3: 'c'}\n",
            "Membership : True\n",
            "Keys : dict_keys([1, 2, 3])\n",
            "values : dict_values(['a', 'b', 'c'])\n",
            "items : dict_items([(1, 'a'), (2, 'b'), (3, 'c')])\n"
          ]
        }
      ]
    },
    {
      "cell_type": "code",
      "source": [
        "# 7) (ii) Find the factorial of a given number using iteration, \n",
        "#         return both no and the factorial to the caller\n",
        "\n",
        "def factorial(num) :\n",
        "  fact = 1\n",
        "  for i in range(1,num+1):\n",
        "    fact *= i\n",
        "  return num,fact \n",
        "num = int(input(\"Enter number : \"))\n",
        "print(\"Number :\",factorial(num)[0])\n",
        "print(\"Factorial :\",factorial(num)[1])"
      ],
      "metadata": {
        "colab": {
          "base_uri": "https://localhost:8080/"
        },
        "id": "cnk_lN7Jpt8P",
        "outputId": "09c75d56-09ee-45a7-84f8-47e453ecc899"
      },
      "execution_count": null,
      "outputs": [
        {
          "output_type": "stream",
          "name": "stdout",
          "text": [
            "Enter number : 5\n",
            "Number : 5\n",
            "Factorial : 120\n"
          ]
        }
      ]
    },
    {
      "cell_type": "code",
      "source": [
        "# 8) (i) Illustrate String: Indexing, Slicing, Immutability, predefined operations\n",
        "\n",
        "# String : Sequence of characters represented in quotes.\n",
        "\n",
        "# Predefined operators :\n",
        "# (i) Concatenation \n",
        "# (ii) Length\n",
        "# (iii) uppercase\n",
        "# (iv) lowercase\n",
        "# (v) Substring\n",
        "# (vi) Reverse\n",
        "\n",
        "# code :\n",
        "s = \"program\"\n",
        "b = \"code\"\n",
        "print(\"Concatenation :\",s+b)\n",
        "\n",
        "s = \"program\"\n",
        "print(\"length :\",len(s))\n",
        "\n",
        "s = \"pROgraM\"\n",
        "print(\"uppercase :\",s.upper())\n",
        "\n",
        "s = \"pROgraM\"\n",
        "print(\"lowercase :\",s.lower())\n",
        "\n",
        "s = \"program\"\n",
        "print(\"Substring :\",s[1:6:2])\n",
        "\n",
        "s = \"program\"\n",
        "print(\"Reverse :\",s[::-1])\n"
      ],
      "metadata": {
        "colab": {
          "base_uri": "https://localhost:8080/"
        },
        "id": "K047lj4isLZw",
        "outputId": "932b9a0f-9de6-4a43-979a-e1ecb3b47e5c"
      },
      "execution_count": null,
      "outputs": [
        {
          "output_type": "stream",
          "name": "stdout",
          "text": [
            "Concatenation : programcode\n",
            "length : 7\n",
            "uppercase : PROGRAM\n",
            "lowercase : program\n",
            "Substring : rga\n",
            "Reverse : margorp\n"
          ]
        }
      ]
    },
    {
      "cell_type": "code",
      "source": [
        "# 8) (ii) Find factorial of a given number using recursion\n",
        "\n",
        "def fact(num) :\n",
        "  if num <= 1 :\n",
        "    return 1\n",
        "  else :\n",
        "    return num*fact(num-1)\n",
        "print(fact(int(input(\"Enter number : \"))))\n",
        "\n"
      ],
      "metadata": {
        "colab": {
          "base_uri": "https://localhost:8080/"
        },
        "id": "ZFbglPnR9W9E",
        "outputId": "4be4075b-00b1-4975-fd89-09c876219fed"
      },
      "execution_count": null,
      "outputs": [
        {
          "output_type": "stream",
          "name": "stdout",
          "text": [
            "Enter number : 5\n",
            "120\n"
          ]
        }
      ]
    },
    {
      "cell_type": "code",
      "source": [
        "# 9) (i) Write a program to find whether a string is palindrome\n",
        "\n",
        "def palindrome(str):            #Function header\n",
        "  length = 0\n",
        "  for i in str :\n",
        "    length = length + 1         #To find out the length of string\n",
        "  for i in range(0,length) :\n",
        "    if str[i] == str[-(i+1)] :  #Checking first and last terms of string\n",
        "      continue\n",
        "    else:\n",
        "      return \"Not polindrome\"\n",
        "  return \"Palindrome\"\n",
        "str = input(\"Enter string : \")\n",
        "print(palindrome(str))          #Function caller"
      ],
      "metadata": {
        "colab": {
          "base_uri": "https://localhost:8080/"
        },
        "id": "B5o7mrHW9XQq",
        "outputId": "a4031cfb-4420-4278-a89d-5dd31b6abaf1"
      },
      "execution_count": null,
      "outputs": [
        {
          "output_type": "stream",
          "name": "stdout",
          "text": [
            "Enter string : abcdedcba\n",
            "Palindrome\n"
          ]
        }
      ]
    },
    {
      "cell_type": "code",
      "source": [
        "# 9) (ii) Demonstrate accumulation on a list\n",
        "\n",
        "list = [3,2,1,5,4]\n",
        "sum = 0\n",
        "prod = 1\n",
        "a = list[0]\n",
        "b = list[0]\n",
        "length = 0\n",
        "for num in list :\n",
        "  sum += num\n",
        "  prod *= num\n",
        "  if num < a :\n",
        "    a = num\n",
        "  if num > b :\n",
        "    b = num\n",
        "  length += 1\n",
        "\n",
        "print(\"Sum :\",sum)\n",
        "print(\"Product :\",prod)\n",
        "print(\"Minimum :\",a)\n",
        "print(\"Maximum :\",b)\n",
        "print(\"Average :\",sum/length)"
      ],
      "metadata": {
        "colab": {
          "base_uri": "https://localhost:8080/"
        },
        "id": "GstGZ2i_vIfn",
        "outputId": "eff2649e-8473-4b4e-a27e-1496005e2c82"
      },
      "execution_count": null,
      "outputs": [
        {
          "output_type": "stream",
          "name": "stdout",
          "text": [
            "Sum : 15\n",
            "Product : 120\n",
            "Minimum : 1\n",
            "Maximum : 5\n",
            "Average : 3.0\n"
          ]
        }
      ]
    },
    {
      "cell_type": "code",
      "source": [
        "# 10) (i) Implement recursive Linear Search\n",
        "\n",
        "def lin(l , x , i = 0):\n",
        "  if l[i] == x :\n",
        "    return \"Element found\"\n",
        "  else :\n",
        "    if i < len(l) - 1 :\n",
        "      return lin(l , x , i+1)\n",
        "    else :\n",
        "      return \"Element not found\"\n",
        "l = [3,6,12,-2,-5,0,22]\n",
        "x = int(input(\"Enter element : \"))\n",
        "print(lin(l , x))"
      ],
      "metadata": {
        "colab": {
          "base_uri": "https://localhost:8080/"
        },
        "id": "mKCH1bFNvmxS",
        "outputId": "a93b1105-8da3-48ca-ae4a-f5819136e35a"
      },
      "execution_count": null,
      "outputs": [
        {
          "output_type": "stream",
          "name": "stdout",
          "text": [
            "Enter element : 22\n",
            "Element found\n"
          ]
        }
      ]
    },
    {
      "cell_type": "code",
      "source": [
        "# 10) (ii) Implement Matrix Addition create matrices using nested lists\n",
        "\n",
        "print(\"Matrix 1: \")\n",
        "mat1 = [] \n",
        "for i in range(3):\n",
        "  r = []\n",
        "  for j in range(3):\n",
        "    r.append(i)\n",
        "  mat1.append(r)\n",
        "\n",
        "for i in range(3):\n",
        "  print(mat1[i])\n",
        "\n",
        "print(\"\\nMatrix 2: \")\n",
        "mat2 = [] \n",
        "for i in range(3):\n",
        "  r = []\n",
        "  for j in range(3):\n",
        "    r.append(i)\n",
        "  mat2.append(r)\n",
        "\n",
        "for i in range(3):\n",
        "  print(mat2[i])\n",
        "\n",
        "som = [] \n",
        "for i in range(3):\n",
        "  r = []\n",
        "  for j in range(3):\n",
        "    r.append(0)\n",
        "  som.append(r)\n",
        "\n",
        "\n",
        "for i in range(0,len(mat1)):\n",
        "  for j in range(0,len(mat1[i])):\n",
        "    som[i][j] = mat1[i][j] + mat2[i][j]\n",
        "print(\"\\nSum of matrix :\")\n",
        "for rows in som:\n",
        "  print(rows)\n"
      ],
      "metadata": {
        "colab": {
          "base_uri": "https://localhost:8080/"
        },
        "id": "8Lo5JK3gftsO",
        "outputId": "8d4cf0d0-3edc-42bd-b473-55e4c33b3573"
      },
      "execution_count": null,
      "outputs": [
        {
          "output_type": "stream",
          "name": "stdout",
          "text": [
            "Matrix 1: \n",
            "[0, 0, 0]\n",
            "[1, 1, 1]\n",
            "[2, 2, 2]\n",
            "\n",
            "Matrix 2: \n",
            "[0, 0, 0]\n",
            "[1, 1, 1]\n",
            "[2, 2, 2]\n",
            "\n",
            "Sum of matrix :\n",
            "[0, 0, 0]\n",
            "[2, 2, 2]\n",
            "[4, 4, 4]\n"
          ]
        }
      ]
    },
    {
      "cell_type": "code",
      "source": [
        "# 11) (i) Implement iterative Linear Search\n",
        "\n",
        "def lin(l , x , i = 0) :\n",
        "  while i <= len(l) - 1 :\n",
        "    if l[i] == x :\n",
        "      print(\"Element found\")\n",
        "      return\n",
        "    else :\n",
        "      i += 1\n",
        "  else :\n",
        "    print(\"Element not found\")\n",
        "    return\n",
        "l = [3,6,12,-2,-5,0,22]\n",
        "x = int(input(\"Enter element : \"))     \n",
        "lin(l , x)\n",
        "\n"
      ],
      "metadata": {
        "id": "Yo9cW7A9iGAb",
        "colab": {
          "base_uri": "https://localhost:8080/"
        },
        "outputId": "f36c657c-8ee8-4c03-dff6-700cfd2d339e"
      },
      "execution_count": null,
      "outputs": [
        {
          "output_type": "stream",
          "name": "stdout",
          "text": [
            "Enter element : -5\n",
            "Element found\n"
          ]
        }
      ]
    },
    {
      "cell_type": "code",
      "source": [
        "# 11) (ii) Implement Matrix Multiplication\n",
        "\n",
        "print(\"Matrix 1: \")\n",
        "mat1 = [] \n",
        "for i in range(3):\n",
        "  r = []\n",
        "  for j in range(3):\n",
        "    r.append(i)\n",
        "  mat1.append(r)\n",
        "\n",
        "for i in range(3):\n",
        "  print(mat1[i])\n",
        "\n",
        "print(\"\\nMatrix 2: \")\n",
        "mat2 = [] \n",
        "for i in range(3):\n",
        "  r = []\n",
        "  for j in range(3):\n",
        "    r.append(i)\n",
        "  mat2.append(r)\n",
        "\n",
        "for i in range(3):\n",
        "  print(mat2[i])\n",
        "\n",
        "mom = [] \n",
        "for i in range(3):\n",
        "  r = []\n",
        "  for j in range(3):\n",
        "    r.append(0)\n",
        "  mom.append(r)\n",
        "\n",
        "for i in range(0,len(mat1)) :\n",
        "  for j in range(0,len(mat2[0])) :\n",
        "    for k in range(0,len(mat2)) :\n",
        "      mom[i][j] += mat1[i][k] * mat2[k][j]\n",
        "print(\"\\nMultiplication of matrices :\")\n",
        "for rows in mom :\n",
        "  print(rows)"
      ],
      "metadata": {
        "colab": {
          "base_uri": "https://localhost:8080/"
        },
        "id": "mQ9rTO1YWW2G",
        "outputId": "5fdbd333-221b-433d-fb64-9c4e6837df77"
      },
      "execution_count": null,
      "outputs": [
        {
          "output_type": "stream",
          "name": "stdout",
          "text": [
            "Matrix 1: \n",
            "[0, 0, 0]\n",
            "[1, 1, 1]\n",
            "[2, 2, 2]\n",
            "\n",
            "Matrix 2: \n",
            "[0, 0, 0]\n",
            "[1, 1, 1]\n",
            "[2, 2, 2]\n",
            "\n",
            "Multiplication of matrices :\n",
            "[0, 0, 0]\n",
            "[3, 3, 3]\n",
            "[6, 6, 6]\n"
          ]
        }
      ]
    },
    {
      "cell_type": "code",
      "source": [
        "# 12) (i) Implement recursive Binary Search\n",
        "\n",
        "def bin(l , x , ll = 0 , ul = len(l)-1) :\n",
        "  middle = (ll + ul)//2\n",
        "  if ll <= ul :\n",
        "    if l[middle] == x :\n",
        "      return \"Element found at index\",middle\n",
        "    elif l[middle] < x :\n",
        "      return bin(l , x , ll+1 , ul)\n",
        "    else :\n",
        "      return bin(l , x , ll , ul-1)\n",
        "  else :\n",
        "    return \"Element not found\"\n",
        "l = [3,6,12,-2,-5,0,22]             # In binary search list must be sorted \n",
        "l.sort()                            # if not sorted then sort it using sort predefined function\n",
        "print(l)                            # To check whether list sorted or not          \n",
        "x = int(input(\"Enter element : \"))\n",
        "print(bin(l , x))\n",
        "\n",
        "\n"
      ],
      "metadata": {
        "colab": {
          "base_uri": "https://localhost:8080/"
        },
        "id": "6I0VxMW8YA3v",
        "outputId": "78f6aae5-9e77-4587-92a3-f32a0e1009ca"
      },
      "execution_count": null,
      "outputs": [
        {
          "output_type": "stream",
          "name": "stdout",
          "text": [
            "[-5, -2, 0, 3, 6, 12, 22]\n",
            "Enter element : 3\n",
            "('Element found at index', 3)\n"
          ]
        }
      ]
    },
    {
      "cell_type": "code",
      "source": [
        "# 12) (ii) Illustrate the usage of tell() and seek() functions\n",
        "\n",
        "# tell() : It is a function, which returns the pointer location as byte number in the file handling.\n",
        "#          It returns the exact location of pointer location in a file to get awared by the user.\n",
        "\n",
        "# seek() : It takes two arguements in the function parenthesis\n",
        "#       (i) offset distance : The distance in which the pointer has to move in bytes i.e..,\n",
        "#                             \"+\" for forward direction (and) \"-\" for backward direction.\n",
        "#       \n",
        "#       (ii) position : The position from which the offset distance must implement, it means\n",
        "#                       '0' for starting, '1' for current, '2' for ending of file pointer position.\n",
        "\n",
        "# code :\n",
        "\n",
        "file = open(\"tellseek.txt\",\"w\")           # Creating a file and writing\n",
        "file.write(\"abcdefghijklmnopqrstuvwxyz\")\n",
        "file.close() \n",
        "\n",
        "file = open(\"tellseek.txt\",\"r\")           # reading file\n",
        "text = file.read(14)\n",
        "print(text)\n",
        "\n",
        "position = file.tell()\n",
        "print(\"Current position :\",position)\n",
        "\n",
        "file.seek(0,2)\n",
        "print(\"Current position (at end) :\",file.tell())"
      ],
      "metadata": {
        "colab": {
          "base_uri": "https://localhost:8080/"
        },
        "id": "q0XIH-qzYtFn",
        "outputId": "bd6740ae-8329-45dc-b427-a5f99b6a6bc3"
      },
      "execution_count": null,
      "outputs": [
        {
          "output_type": "stream",
          "name": "stdout",
          "text": [
            "abcdefghijklmn\n",
            "Current position : 14\n",
            "Current position (at end) : 26\n"
          ]
        }
      ]
    },
    {
      "cell_type": "code",
      "source": [
        "# 13) (i) Implement iterative Binary Search using functions\n",
        "\n",
        "def bin(l , x , ll = 0, ul = len(l)-1) :\n",
        "  while ll <= ul :\n",
        "    middle = (ll + ul)//2\n",
        "    if l[middle] == x :\n",
        "      print(\"Element found at index :\",middle)\n",
        "      return\n",
        "    elif l[middle] < x :\n",
        "      ll += 1\n",
        "    else :\n",
        "      ul -= 1\n",
        "  else :\n",
        "    print(\"Element not found\")\n",
        "    return\n",
        "l = [3,6,12,-2,-5,0,22]             # In binary search list must be sorted \n",
        "l.sort()                            # if not sorted then sort it using sort predefined function\n",
        "print(l)                            # To check whether list sorted or not \n",
        "x = int(input(\"Enter element : \"))\n",
        "bin(l , x)\n"
      ],
      "metadata": {
        "colab": {
          "base_uri": "https://localhost:8080/"
        },
        "id": "jvqVws1uerU5",
        "outputId": "a6829297-6734-4dc0-824b-6fd20b7e4dbb"
      },
      "execution_count": null,
      "outputs": [
        {
          "output_type": "stream",
          "name": "stdout",
          "text": [
            "[-5, -2, 0, 3, 6, 12, 22]\n",
            "Enter element : 6\n",
            "Element found at index : 4\n"
          ]
        }
      ]
    },
    {
      "cell_type": "code",
      "source": [
        "# 13) (ii) Find nth Fibonacci number using recursion\n",
        "\n",
        "def fibo(num) :\n",
        "  if num <= 1 :\n",
        "    return num\n",
        "  else :\n",
        "    return (fibo(num-1) + fibo(num-2))\n",
        "num = int(input(\"Enter number : \"))\n",
        "print(num,\"th fibonacii number is\",fibo(num))\n"
      ],
      "metadata": {
        "colab": {
          "base_uri": "https://localhost:8080/"
        },
        "id": "OL9naxF1gfZ_",
        "outputId": "892d1f12-1cc9-4eb7-e235-3afff2132e10"
      },
      "execution_count": null,
      "outputs": [
        {
          "output_type": "stream",
          "name": "stdout",
          "text": [
            "Enter number : 6\n",
            "6 th fibonacii number is 8\n"
          ]
        }
      ]
    },
    {
      "cell_type": "code",
      "source": [
        "# 14) (i) Implement Bubble Sort using functions\n",
        "\n",
        "def bubble(list) :\n",
        "  for i in range(0,len(list)-1) :\n",
        "    for j in range(0,len(list)-1-i):\n",
        "      if list[j] > list[j+1] :\n",
        "        list[j] , list[j+1] = list[j+1] , list[j]\n",
        "  return list\n",
        "list = [5,31,65,-2,56,0,16,-4]\n",
        "print(bubble(list))\n",
        "\n"
      ],
      "metadata": {
        "colab": {
          "base_uri": "https://localhost:8080/"
        },
        "id": "t9X6nYxohVXb",
        "outputId": "9755eef6-6be9-4fd4-bbb3-4959cfcd8100"
      },
      "execution_count": null,
      "outputs": [
        {
          "output_type": "stream",
          "name": "stdout",
          "text": [
            "[-4, -2, 0, 5, 16, 31, 56, 65]\n"
          ]
        }
      ]
    },
    {
      "cell_type": "code",
      "source": [
        "# 14) (ii) Write a program in python to determine the unique words and their frequency in a given string.\n",
        "\n",
        "string = \"it is a good book , it is cheaper and a nice one\"\n",
        "a = {}\n",
        "s = string.split()\n",
        "for i in s :\n",
        "  if i in a :\n",
        "    a[i] += 1\n",
        "  else :\n",
        "    a[i] = 1\n",
        "print(a)"
      ],
      "metadata": {
        "colab": {
          "base_uri": "https://localhost:8080/"
        },
        "id": "3TZ8Cz23izgg",
        "outputId": "00e65717-ecdc-4c8e-f520-7bd17a115f27"
      },
      "execution_count": null,
      "outputs": [
        {
          "output_type": "stream",
          "name": "stdout",
          "text": [
            "{'it': 2, 'is': 2, 'a': 2, 'good': 1, 'book': 1, ',': 1, 'cheaper': 1, 'and': 1, 'nice': 1, 'one': 1}\n"
          ]
        }
      ]
    },
    {
      "cell_type": "code",
      "source": [
        "# 15) (i) Write a program to find the size of a text file\n",
        "\n",
        "file = open(\"size.txt\",\"w\")                   # Creating file\n",
        "file.write(\"To check the size of file\")\n",
        "file.close()\n",
        "\n",
        "file = open(\"size.txt\",\"r\")                   # reading file\n",
        "file.seek(-0,2)\n",
        "size = file.tell()\n",
        "print(\"File size :\",size,\"bytes\")\n",
        "file.close()"
      ],
      "metadata": {
        "colab": {
          "base_uri": "https://localhost:8080/"
        },
        "id": "TQd0VXSQqagE",
        "outputId": "997e6622-150c-4032-a23a-ab0eb5ee2119"
      },
      "execution_count": null,
      "outputs": [
        {
          "output_type": "stream",
          "name": "stdout",
          "text": [
            "File size : 25 bytes\n"
          ]
        }
      ]
    },
    {
      "cell_type": "code",
      "source": [
        "# 15) (ii) Implement Selection Sort using functions\n",
        "\n",
        "def selection(list) :\n",
        "  for i in range(0,len(list)-1) :\n",
        "    for j in range(i+1,len(list)) :\n",
        "      if list[i] > list[j] :\n",
        "        list[i] , list[j] = list[j] , list[i]\n",
        "  return list\n",
        "list = [5,31,65,-2,56,0,16,-4]\n",
        "print(selection(list))\n"
      ],
      "metadata": {
        "colab": {
          "base_uri": "https://localhost:8080/"
        },
        "id": "X0FNRosAsQTW",
        "outputId": "e27d6a6d-afd5-490d-c390-18038a50d356"
      },
      "execution_count": null,
      "outputs": [
        {
          "output_type": "stream",
          "name": "stdout",
          "text": [
            "[-4, -2, 0, 5, 16, 31, 56, 65]\n"
          ]
        }
      ]
    },
    {
      "cell_type": "code",
      "source": [
        "# 16) (i) Write a program to read the contents of a file and count the unique characters\n",
        "\n",
        "file = open(\"content.txt\",\"w\")\n",
        "file.write(\"Hello! this is psp\")\n",
        "file.close()\n",
        "\n",
        "file = open(\"content.txt\",\"r\")\n",
        "text = file.read()\n",
        "frequency = {}\n",
        "for char in text :\n",
        "  if char in frequency :\n",
        "    frequency[char] += 1\n",
        "  else :\n",
        "    frequency[char] = 1\n",
        "print(frequency)\n",
        "file.close()"
      ],
      "metadata": {
        "colab": {
          "base_uri": "https://localhost:8080/"
        },
        "id": "4eCsavMUtSNf",
        "outputId": "2cd69f8e-6a00-460a-9918-b91bba7f1c3c"
      },
      "execution_count": null,
      "outputs": [
        {
          "output_type": "stream",
          "name": "stdout",
          "text": [
            "{'H': 1, 'e': 1, 'l': 2, 'o': 1, '!': 1, ' ': 3, 't': 1, 'h': 1, 'i': 2, 's': 3, 'p': 2}\n"
          ]
        }
      ]
    },
    {
      "cell_type": "code",
      "source": [
        "# 16) (ii) Demonstrate List accumulation\n",
        "\n",
        "list = [3,2,1,5,4]\n",
        "sum = 0\n",
        "prod = 1\n",
        "a = list[0]\n",
        "b = list[0]\n",
        "length = 0\n",
        "for num in list :\n",
        "  sum += num\n",
        "  prod *= num\n",
        "  if num < a :\n",
        "    a = num\n",
        "  if num > b :\n",
        "    b = num\n",
        "  length += 1\n",
        "\n",
        "print(\"Sum :\",sum)\n",
        "print(\"Product :\",prod)\n",
        "print(\"Minimum :\",a)\n",
        "print(\"Maximum :\",b)\n",
        "print(\"Average :\",sum/length)"
      ],
      "metadata": {
        "colab": {
          "base_uri": "https://localhost:8080/"
        },
        "id": "sIkH3Wv0uox-",
        "outputId": "4b80f41a-182a-4af6-eb4d-f79b6f630532"
      },
      "execution_count": null,
      "outputs": [
        {
          "output_type": "stream",
          "name": "stdout",
          "text": [
            "Sum : 15\n",
            "Product : 120\n",
            "Minimum : 1\n",
            "Maximum : 5\n",
            "Average : 3.0\n"
          ]
        }
      ]
    },
    {
      "cell_type": "code",
      "source": [
        "# 17) (i) Write a program to copy the contents source file to destination file line by line\n",
        "\n",
        "source_file = input(\"Enter file name : \")           # give source.txt\n",
        "destination_file = input(\"Enter file name : \")      # give destination.txt  \n",
        "                                                    # for easy recognition\n",
        "source = open(source_file,\"w\")\n",
        "source.write(\"Hello everyone This is question 17\")    # created sourcefile and written\n",
        "source.close()\n",
        "\n",
        "source = open(source_file,\"r\")                        # read sourcefile\n",
        "a = source.read()\n",
        "print(\"Source file content :\",a)\n",
        "\n",
        "destination = open(destination_file,\"w\")              # created destinationfile and written\n",
        "for text in a :                                       # text from sourcefile reading    \n",
        "  destination.write(text)\n",
        "source.close()\n",
        "destination.close()\n",
        "\n",
        "destination = open(destination_file,\"r\")              # read destinationfile      \n",
        "b = destination.read()\n",
        "print(\"Destination file content :\",b)\n",
        "destination.close()"
      ],
      "metadata": {
        "colab": {
          "base_uri": "https://localhost:8080/"
        },
        "id": "lETjhUx0z2Pa",
        "outputId": "c94beff9-fcbd-41c2-d8ab-34f64a2520e4"
      },
      "execution_count": null,
      "outputs": [
        {
          "output_type": "stream",
          "name": "stdout",
          "text": [
            "Enter file name : source.txt\n",
            "Enter file name : destination.txt\n",
            "Source file content : Hello everyone This is question 17\n",
            "Destination file content : Hello everyone This is question 17\n"
          ]
        }
      ]
    },
    {
      "cell_type": "code",
      "source": [
        "# 17) (ii) Build a dictionary with name and phone nos. Search whether a given mobile no. is \n",
        "#          present in the dictionary, it is present display the mobile no and name \n",
        "#          otherwise report entry missing.\n",
        "\n",
        "phone = {9124860043 : \"Roshan\", 8819240653 : \"Amelia\", 9923846116 : \"Joseph\"}\n",
        "numbers = phone.keys()\n",
        "search_number = int(input(\"Enter number : \"))\n",
        "for number in numbers :\n",
        "  if number == search_number :\n",
        "    print(\"The number :\",search_number,\"\\nbelongs to :\",phone.get(search_number))\n",
        "    break\n",
        "else:\n",
        "  print(\"Entry is missing\")\n",
        "\n"
      ],
      "metadata": {
        "colab": {
          "base_uri": "https://localhost:8080/"
        },
        "id": "oKeincoO1_NN",
        "outputId": "bcb446fc-15c4-4d02-daf3-47dac66aefe0"
      },
      "execution_count": null,
      "outputs": [
        {
          "output_type": "stream",
          "name": "stdout",
          "text": [
            "Enter number : 9923846116\n",
            "The number : 9923846116 \n",
            "belongs to : Joseph\n"
          ]
        }
      ]
    },
    {
      "cell_type": "code",
      "source": [
        "# 18) (i) Demonstrate positional arguments and key word arguments used in functions\n",
        "\n",
        "def function(arg1=None , arg2=None , arg3 = None , arg4 = None) :\n",
        "  print(\"arg1 :\",arg1)\n",
        "  print(\"arg2 :\",arg2)\n",
        "  print(\"arg3 :\",arg3)\n",
        "  print(\"arg4 :\",arg4,\"\\n------------------\")\n",
        "function(\"positional\",\"positional\")                         # Only positional arguements\n",
        "function(\"positional\",arg3 = \"keyword\")                     # one position & one keyword argument      \n",
        "function(arg1 = \"keyword\",arg2 = \"keyword\",arg3 = \"keyword\",arg4 = \"keyword\") # Only keyword arguments\n",
        "function(\"positional\",\"positional\",arg3=\"keyword\",arg4=\"keyword\")   #Mix of position and keyword arguments"
      ],
      "metadata": {
        "colab": {
          "base_uri": "https://localhost:8080/"
        },
        "id": "OeQli-YD7cDo",
        "outputId": "3ca37c1c-a9ed-4d33-f5df-e544a33ad823"
      },
      "execution_count": null,
      "outputs": [
        {
          "output_type": "stream",
          "name": "stdout",
          "text": [
            "arg1 : position\n",
            "arg2 : position\n",
            "arg3 : None\n",
            "arg4 : None \n",
            "------------------\n",
            "arg1 : position\n",
            "arg2 : None\n",
            "arg3 : keyword\n",
            "arg4 : None \n",
            "------------------\n",
            "arg1 : keyword\n",
            "arg2 : keyword\n",
            "arg3 : keyword\n",
            "arg4 : keyword \n",
            "------------------\n",
            "arg1 : position\n",
            "arg2 : position\n",
            "arg3 : keyword\n",
            "arg4 : keyword \n",
            "------------------\n"
          ]
        }
      ]
    },
    {
      "cell_type": "code",
      "source": [
        "# 18) (ii) Demonstrate Dictionary accumulation\n",
        "\n",
        "string = \"it is a good book\"\n",
        "a = {}\n",
        "for i in string :\n",
        "  if i in a :\n",
        "    a[i] += 1\n",
        "  else :\n",
        "    a[i] = 1\n",
        "print(a)\n",
        "\n",
        "list = [\"apple\",\"psp\",\"banana\",\"apple\",\"lab\",\"hi\",\"internal\",\"hi\"]\n",
        "b = {}\n",
        "for i in list :\n",
        "  if i in b :\n",
        "    b[i] += 1\n",
        "  else :\n",
        "    b[i] = 1\n",
        "print(b)"
      ],
      "metadata": {
        "colab": {
          "base_uri": "https://localhost:8080/"
        },
        "id": "D67JZ1eeAX1O",
        "outputId": "d6b2935f-9dff-4e0e-a0cd-702d75f6e58f"
      },
      "execution_count": null,
      "outputs": [
        {
          "output_type": "stream",
          "name": "stdout",
          "text": [
            "{'i': 2, 't': 1, ' ': 4, 's': 1, 'a': 1, 'g': 1, 'o': 4, 'd': 1, 'b': 1, 'k': 1}\n",
            "{'apple': 2, 'psp': 1, 'banana': 1, 'lab': 1, 'hi': 2, 'internal': 1}\n"
          ]
        }
      ]
    },
    {
      "cell_type": "code",
      "source": [
        "# 19) (i) Write the details of ‘n’ students into a .csv file. Details include RNo, Name, Branch, EAMCET rank\n",
        "\n",
        "import csv\n",
        "\n",
        "def details(n) :\n",
        "  with open(\"student_details.csv\",\"w\") as file :            # Creating csv file and writing\n",
        "    writer = csv.writer(file)\n",
        "    writer.writerow([\"Roll_number\",\"Name\",\"Branch\",\"Eamcet_rank\"])\n",
        "    \n",
        "    for i in range(n) :\n",
        "      Roll_number = int(input(\"Enter roll number : \"))\n",
        "      Name = input(\"Enter name : \")                         # inputting details\n",
        "      Branch = input(\"Enter branch name : \")\n",
        "      Eamcet_rank = int(input(\"Enter eamcet rank : \"))\n",
        "      print()\n",
        "      writer.writerow([Roll_number,Name,Branch,Eamcet_rank])\n",
        "\n",
        "details(int(input(\"Enter how many students details you want : \")))\n",
        "file.close()\n",
        "\n",
        "print(\"\\n\\n\")\n",
        "\n",
        "with open(\"student_details.csv\",\"r\") as file:               # Reading csv file\n",
        "    reader = csv.reader(file)\n",
        "    for row in reader:\n",
        "        print(row)\n",
        "file.close()\n"
      ],
      "metadata": {
        "colab": {
          "base_uri": "https://localhost:8080/"
        },
        "id": "PAjhIv5nCalx",
        "outputId": "96980a8b-73b5-4fe1-ea13-a93834b4ce3c"
      },
      "execution_count": null,
      "outputs": [
        {
          "output_type": "stream",
          "name": "stdout",
          "text": [
            "Enter how many students details you want : 5\n",
            "Enter roll number : 2214111\n",
            "Enter name : person1\n",
            "Enter branch name : cse\n",
            "Enter eamcet rank : 186\n",
            "\n",
            "Enter roll number : 2214222\n",
            "Enter name : person2\n",
            "Enter branch name : csm\n",
            "Enter eamcet rank : 256\n",
            "\n",
            "Enter roll number : 2214333\n",
            "Enter name : person3\n",
            "Enter branch name : cse(iot)\n",
            "Enter eamcet rank : 345\n",
            "\n",
            "Enter roll number : 2214444\n",
            "Enter name : person4\n",
            "Enter branch name : it\n",
            "Enter eamcet rank : 287\n",
            "\n",
            "Enter roll number : 2214555\n",
            "Enter name : person5\n",
            "Enter branch name : aids\n",
            "Enter eamcet rank : 376\n",
            "\n",
            "\n",
            "\n",
            "\n",
            "['Roll_number', 'Name', 'Branch', 'Eamcet_rank']\n",
            "['2214111', 'person1', 'cse', '186']\n",
            "['2214222', 'person2', 'csm', '256']\n",
            "['2214333', 'person3', 'cse(iot)', '345']\n",
            "['2214444', 'person4', 'it', '287']\n",
            "['2214555', 'person5', 'aids', '376']\n"
          ]
        }
      ]
    },
    {
      "cell_type": "code",
      "source": [
        "# 19) (ii) Write a function to read ‘n’ elements and \n",
        "#          return minimum, maximum,average of the list of elements.\n",
        "\n",
        "def mam(n) :\n",
        "  list = []\n",
        "  for i in range(1,n+1) :\n",
        "    l = int(input(\"Enter element : \"))        # Inputting elements to list \n",
        "    list.append(l)\n",
        "  \n",
        "  sum = 0\n",
        "  a = list[0]\n",
        "  b = list[0]\n",
        "  length = 0\n",
        "  for num in list :\n",
        "    sum += num                                # Calculates sum of list\n",
        "    if num < a :                              # Calculates min of list\n",
        "      a = num\n",
        "    if num > b :                              # Calculates max of list  \n",
        "      b = num\n",
        "    length += 1                               # Calculates length of list\n",
        "  avg = sum/length                            # Calculates average of list\n",
        "\n",
        "  return \"min :\",a,\"max :\",b,\"average :\",avg \n",
        "\n",
        "n = int(input(\"Enter no of element : \"))   \n",
        "print(mam(n))  "
      ],
      "metadata": {
        "colab": {
          "base_uri": "https://localhost:8080/"
        },
        "id": "lGEQZUCxSM_R",
        "outputId": "a560fa4a-c611-41d0-c320-db71e5782405"
      },
      "execution_count": null,
      "outputs": [
        {
          "output_type": "stream",
          "name": "stdout",
          "text": [
            "Enter no of element : 5\n",
            "Enter element : 3\n",
            "Enter element : 1\n",
            "Enter element : 5\n",
            "Enter element : 4\n",
            "Enter element : 2\n",
            "('min :', 1, 'max :', 5, 'average :', 3.0)\n"
          ]
        }
      ]
    },
    {
      "cell_type": "code",
      "source": [
        "# 20) (i) Write a program to reverse the number using . Input: 123 output: 321; i/p:4534 o/p: 4354\n",
        "\n",
        "num = int(input(\"Input : \"))\n",
        "reverse = 0\n",
        "while num > 0 :\n",
        "  reverse = reverse * 10\n",
        "  reverse = reverse + num % 10\n",
        "  num = num // 10\n",
        "print(\"Output :\",reverse)"
      ],
      "metadata": {
        "colab": {
          "base_uri": "https://localhost:8080/"
        },
        "id": "R6bB2Ms7L5ws",
        "outputId": "8b969d09-80a2-4b24-a828-450d230f568b"
      },
      "execution_count": null,
      "outputs": [
        {
          "output_type": "stream",
          "name": "stdout",
          "text": [
            "Input : 123\n",
            "Output : 321\n"
          ]
        }
      ]
    },
    {
      "cell_type": "code",
      "source": [
        "# 20) (ii) Write a program to display the below pattern, for n=4:\n",
        "#          1 2 3 4\n",
        "#          1 2 3\n",
        "#          1 2\n",
        "#          1\n",
        "\n",
        "n = int(input(\"n=\"))\n",
        "\n",
        "print(\"\\nUsing for loop :\")\n",
        "for i in range(1,n+1):\n",
        "  for j in range(1,n+2-i):\n",
        "    print(j,end=\" \")\n",
        "  print()\n",
        "\n",
        "#           (or)\n",
        "\n",
        "print(\"\\nUsing while loop :\")\n",
        "i = 1\n",
        "while i <= n :\n",
        "  j = 1\n",
        "  while j <= n+1-i :\n",
        "    print(j,end=\" \")\n",
        "    j+=1\n",
        "  print()\n",
        "  i+=1 "
      ],
      "metadata": {
        "colab": {
          "base_uri": "https://localhost:8080/"
        },
        "id": "f6p6t8F8ZAKa",
        "outputId": "5d16741a-ca9d-489e-cc90-51323c967b86"
      },
      "execution_count": null,
      "outputs": [
        {
          "output_type": "stream",
          "name": "stdout",
          "text": [
            "n=4\n",
            "\n",
            "Using for loop :\n",
            "1 2 3 4 \n",
            "1 2 3 \n",
            "1 2 \n",
            "1 \n",
            "\n",
            "Using while loop :\n",
            "1 2 3 4 \n",
            "1 2 3 \n",
            "1 2 \n",
            "1 \n"
          ]
        }
      ]
    },
    {
      "cell_type": "code",
      "source": [
        "# 21) (i) Implement stack and basic operations\n",
        "\n",
        "##Stack\n",
        "stack = ['CBIT', 'MGIT', 'OUCE']\n",
        "print(\"Stack elements: \", stack)\n",
        "\n",
        "# pushing elements\n",
        "stack.append('VASAVI')\n",
        "stack.append('MVSREC')\n",
        "print(\"Stack after 2 pushes: \", stack)\n",
        "\n",
        "# printing top\n",
        "n = len(stack)\n",
        "print(\"Top element: \", stack[n-1])\n",
        "print()\n",
        "\n",
        "# popping element\n",
        "stack.pop()\n",
        "print(\"Stack after pop(): \", stack)\n",
        "     "
      ],
      "metadata": {
        "colab": {
          "base_uri": "https://localhost:8080/"
        },
        "id": "1pcLS0IXkDH7",
        "outputId": "16ef2a58-72ea-4ff7-9211-f0db5ff4c78c"
      },
      "execution_count": null,
      "outputs": [
        {
          "output_type": "stream",
          "name": "stdout",
          "text": [
            "Stack elements:  ['CBIT', 'MGIT', 'OUCE']\n",
            "Stack after 2 pushes:  ['CBIT', 'MGIT', 'OUCE', 'VASAVI', 'MVSREC']\n",
            "Top element:  MVSREC\n",
            "\n",
            "Stack after pop():  ['CBIT', 'MGIT', 'OUCE', 'VASAVI']\n"
          ]
        }
      ]
    },
    {
      "cell_type": "code",
      "source": [
        "# 21) (ii) Illustrate math: sqrt(), ceil(), floor(), pow(), fabs(), sin(), cos(), tan()\n",
        "\n",
        "import math\n",
        "\n",
        "m1 = math.sqrt(4)         # finds square root\n",
        "m2 = math.ceil(4.5)       # finds upper approximate value \n",
        "m3 = math.floor(4.5)      # finds lower approximate value\n",
        "m4 = math.pow(2,3)        # finds power of first index having exponentiation of second index\n",
        "m5 = math.fabs(-2)        # gives positive integer/float value\n",
        "m6 = math.sin(math.pi/2)  # gives sin value\n",
        "m7 = math.cos(0)          # gives cos value\n",
        "m8 = math.tan(math.pi/2)  # gives tan value\n",
        "\n",
        "print(m1)\n",
        "print(m2)\n",
        "print(m3)\n",
        "print(m4)\n",
        "print(m5)\n",
        "print(m6)\n",
        "print(m7)\n",
        "print(m8)"
      ],
      "metadata": {
        "colab": {
          "base_uri": "https://localhost:8080/"
        },
        "id": "Skur2goKwnDv",
        "outputId": "2dfbfa3c-b67c-481c-a530-498981627146"
      },
      "execution_count": null,
      "outputs": [
        {
          "output_type": "stream",
          "name": "stdout",
          "text": [
            "2.0\n",
            "5\n",
            "4\n",
            "8.0\n",
            "2.0\n",
            "1.0\n",
            "1.0\n",
            "1.633123935319537e+16\n"
          ]
        }
      ]
    },
    {
      "cell_type": "code",
      "source": [
        "# 22) (i) Implement queue and basic operations\n",
        "\n",
        "queue = ['CBIT', 'MGIT', 'OUCE']\n",
        "print(\"Queue: \", queue)\n",
        "\n",
        "# pushing elements\n",
        "queue.append('MVSR')\n",
        "queue.append('JNTUH')\n",
        "print(\"Queue after inserting two elements: \", queue)\n",
        "\n",
        "# printing head\n",
        "print(\"1st element: \", queue[0])\n",
        "\n",
        "# printing tail\n",
        "n = len(queue)\n",
        "print(\"Last element in the queue: \", queue[n-1])\n",
        "\n",
        "# popping element\n",
        "queue.remove(queue[0])\n",
        "print(\"Queue after remove operation: \", queue)\n",
        "     "
      ],
      "metadata": {
        "colab": {
          "base_uri": "https://localhost:8080/"
        },
        "id": "J2dy6idiwpzg",
        "outputId": "9ddcdaa1-e5da-4f8d-8e07-b670ea3c38ec"
      },
      "execution_count": null,
      "outputs": [
        {
          "output_type": "stream",
          "name": "stdout",
          "text": [
            "Queue:  ['CBIT', 'MGIT', 'OUCE']\n",
            "Queue after inserting two elements:  ['CBIT', 'MGIT', 'OUCE', 'MVSR', 'JNTUH']\n",
            "1st element:  CBIT\n",
            "Last element in the queue:  JNTUH\n",
            "Queue after remove operation:  ['MGIT', 'OUCE', 'MVSR', 'JNTUH']\n"
          ]
        }
      ]
    },
    {
      "cell_type": "code",
      "source": [
        "# 22) (ii) Illustrate Identity Operators\n",
        "\n",
        "x = 10\n",
        "y = 11\n",
        "print(x is y)\n",
        "print(x is not y)\n",
        "\n",
        "print(\"--------\")\n",
        "\n",
        "x = 5\n",
        "y = 5\n",
        "print(x is y)\n",
        "print(x is not y)"
      ],
      "metadata": {
        "colab": {
          "base_uri": "https://localhost:8080/"
        },
        "id": "QAS0Vwzw0dB4",
        "outputId": "987d13df-10da-41ef-be89-f9d772c98437"
      },
      "execution_count": null,
      "outputs": [
        {
          "output_type": "stream",
          "name": "stdout",
          "text": [
            "False\n",
            "True\n",
            "--------\n",
            "True\n",
            "False\n"
          ]
        }
      ]
    },
    {
      "cell_type": "code",
      "source": [
        "# 23) (i) Write a Python Program to find sum of digits of a positive number\n",
        "\n",
        "a = int(input(\"Enter number : \"))\n",
        "sod = 0\n",
        "while a > 0 :\n",
        "  per = a % 10\n",
        "  sod = sod + per\n",
        "  a = a // 10\n",
        "print(\"Sum of digits :\",sod)"
      ],
      "metadata": {
        "colab": {
          "base_uri": "https://localhost:8080/"
        },
        "id": "Ax89DOdY0c2F",
        "outputId": "1567a489-75a3-4157-bac2-4b068ee989c6"
      },
      "execution_count": null,
      "outputs": [
        {
          "output_type": "stream",
          "name": "stdout",
          "text": [
            "Enter number : 12345\n",
            "Sum of digits : 15\n"
          ]
        }
      ]
    },
    {
      "cell_type": "code",
      "source": [
        "# 23) (ii) Illustrate membership operators\n",
        "\n",
        "x = [\"apple\",1,\"psp\",2023,\"sem\"]\n",
        "print(\"psp\" in x)\n",
        "print(\"banana\" in x)\n",
        "print(\"sem\" not in x)"
      ],
      "metadata": {
        "colab": {
          "base_uri": "https://localhost:8080/"
        },
        "id": "jJB46ddp1Kil",
        "outputId": "90484e51-86a0-421f-e561-15608e8e6bd5"
      },
      "execution_count": null,
      "outputs": [
        {
          "output_type": "stream",
          "name": "stdout",
          "text": [
            "True\n",
            "False\n",
            "False\n"
          ]
        }
      ]
    },
    {
      "cell_type": "code",
      "source": [
        "# 24) (i) Write a program to reverse the number. Input: 123 output: 321\n",
        "\n",
        "\n",
        "print(\"Using while loop :\")\n",
        "num = int(input(\"Input : \"))\n",
        "reverse = 0\n",
        "while num > 0 :\n",
        "  reverse = reverse * 10\n",
        "  reverse = reverse + num % 10\n",
        "  num = num // 10\n",
        "print(\"Output :\",reverse)\n",
        "\n",
        "print(\"\\nUsing for loop :\")\n",
        "\n",
        "num = int(input(\"Input : \"))\n",
        "reverse = 0\n",
        "for i in range(num):\n",
        "  if num > 0 :\n",
        "    reverse = reverse * 10\n",
        "    reverse = reverse + num % 10\n",
        "    num = num // 10\n",
        "    continue\n",
        "  else:\n",
        "    break\n",
        "print(\"Output :\",reverse)\n"
      ],
      "metadata": {
        "colab": {
          "base_uri": "https://localhost:8080/"
        },
        "id": "wLLjsEpE5aJS",
        "outputId": "4c32c78f-1d4b-48fa-99a3-8604d34b29de"
      },
      "execution_count": null,
      "outputs": [
        {
          "output_type": "stream",
          "name": "stdout",
          "text": [
            "Using while loop :\n",
            "Input : 123\n",
            "Output : 321\n",
            "\n",
            "Using for loop :\n",
            "Input : 123\n",
            "Output : 321\n"
          ]
        }
      ]
    },
    {
      "cell_type": "code",
      "source": [
        "# 24) (ii) Write a program in Python to find smallest of three nos\n",
        "\n",
        "\n",
        "a = int(input(\"Enter number : \"))\n",
        "b = int(input(\"Enter number : \"))\n",
        "c = int(input(\"Enter number : \"))\n",
        "if a < b :\n",
        "  if a < c :\n",
        "    print(a,\"is smaller\")\n",
        "  else :\n",
        "    print(c,\"is smaller\")\n",
        "else :\n",
        "  if b < c :\n",
        "    print(b,\"is smaller\")\n",
        "  else :\n",
        "    print(c,\"is smaller\")\n",
        "\n",
        "#          (or)\n",
        "\n",
        "print(\"\\n\\nUsing function :-\")\n",
        "def small(a,b,c) :\n",
        "  if a < b :\n",
        "    if a < c :\n",
        "      print(a,\"is smaller\")\n",
        "    else :\n",
        "      print(c,\"is smaller\")\n",
        "  else :\n",
        "    if b < c :\n",
        "      print(b,\"is smaller\")\n",
        "    else :\n",
        "      print(c,\"is smaller\")\n",
        "a = int(input(\"Enter number : \"))\n",
        "b = int(input(\"Enter number : \"))\n",
        "c = int(input(\"Enter number : \"))\n",
        "small(a,b,c)"
      ],
      "metadata": {
        "colab": {
          "base_uri": "https://localhost:8080/"
        },
        "id": "L6nX1vrU51hs",
        "outputId": "5f26ac42-f41c-44d1-ab8e-87a47000aa89"
      },
      "execution_count": null,
      "outputs": [
        {
          "output_type": "stream",
          "name": "stdout",
          "text": [
            "Enter number : 5\n",
            "Enter number : 3\n",
            "Enter number : 7\n",
            "3 is smaller\n",
            "\n",
            "\n",
            "Using fucntion :\n",
            "\n",
            "Enter number : 2\n",
            "Enter number : 3\n",
            "Enter number : 1\n",
            "1 is smaller\n"
          ]
        }
      ]
    },
    {
      "cell_type": "code",
      "source": [
        "# 25) (i) Write a program to find whether a no. is prime or not\n",
        "\n",
        "# using for loop\n",
        "n = int(input(\"Enter number : \"))\n",
        "nof = 0\n",
        "for i in range(2,n+1) :\n",
        "  if n % i == 0 :\n",
        "    nof = nof + 1\n",
        "    break\n",
        "  else :\n",
        "    continue\n",
        "if nof == 1 :\n",
        "  print(\"\\nPrime number\\n\")\n",
        "else :\n",
        "  print(\"\\nNot prime number\\n\")\n",
        "\n",
        "#           (or)\n",
        "\n",
        "# using while loop\n",
        "nof = 0\n",
        "i = 2\n",
        "while i <= n :\n",
        "  if n % i == 0 :\n",
        "    nof = nof + 1\n",
        "    break\n",
        "  else :\n",
        "    i = i + 1\n",
        "    continue\n",
        "if nof == 1 :\n",
        "  print(\"Prime number\")\n",
        "else :\n",
        "  print(\"Not prime number\")"
      ],
      "metadata": {
        "colab": {
          "base_uri": "https://localhost:8080/"
        },
        "id": "TbRnn7Jo5e3k",
        "outputId": "05907cad-fbb6-4317-9618-7f84109a4841"
      },
      "execution_count": null,
      "outputs": [
        {
          "output_type": "stream",
          "name": "stdout",
          "text": [
            "Enter number : 31\n",
            "\n",
            "Prime number\n",
            "\n",
            "Prime number\n"
          ]
        }
      ]
    },
    {
      "cell_type": "code",
      "source": [
        "# 25) (ii) Illustrate statistics: mean(), median(), mode(), pstdev(), pvariabce(), stdev(), variance()\n",
        "\n",
        "import statistics\n",
        "\n",
        "x = [1,2,3,4,5]\n",
        "y = [1,2,3,1,5,4,7,2,4,3,2]\n",
        "\n",
        "a = statistics.mean(x)          # finds the mean - average of list\n",
        "b = statistics.median(x)        # finds the median - middle number of list\n",
        "c = statistics.mode(y)          # finds the mode - frequently ooccured number in list\n",
        "\n",
        "x = [1,2,3,4,5]\n",
        "y = [1,3,5]\n",
        "\n",
        "d = statistics.pstdev(x)        # Return the square root of the population variance.\n",
        "e = statistics.pvariance(x)     # Return the population variance of data\n",
        "f = statistics.stdev(y)         # Return the square root of the sample variance.\n",
        "g = statistics.variance(y)      # Return the sample variance of data\n",
        "\n",
        "print(a)\n",
        "print(b)\n",
        "print(c)\n",
        "print(d)\n",
        "print(e)\n",
        "print(f)\n",
        "print(g)\n",
        "\n"
      ],
      "metadata": {
        "colab": {
          "base_uri": "https://localhost:8080/"
        },
        "id": "PW-oVtnE90x7",
        "outputId": "ce76457c-b9c3-4dd4-9758-c32f30127b74"
      },
      "execution_count": null,
      "outputs": [
        {
          "output_type": "stream",
          "name": "stdout",
          "text": [
            "3\n",
            "3\n",
            "2\n",
            "1.4142135623730951\n",
            "2\n",
            "2.0\n",
            "4\n"
          ]
        }
      ]
    },
    {
      "cell_type": "code",
      "source": [
        "# 26) (i) Implement linked list and basic operations.\n",
        "\n",
        "llist = ['1. CBIT', '2. MGIT', '3. Vasavi ']\n",
        "print(llist)\n",
        "print(id(llist[0]), id(llist[1]), id(llist[2]))    # To know and observe the Address we can use id\n",
        "\n",
        "## adding elements\n",
        "llist.append('4. OUCE ')\n",
        "llist.append('5. MVSR')\n",
        "llist.insert(3, '6. JNTUH')\n",
        "\n",
        "print(llist)\n",
        "print(id(llist[0]), id(llist[1]), id(llist[2]), id(llist[3]), id(llist[4]),  id(llist[5]))\n",
        "print(id(llist[2]))\n",
        "\n",
        "llist.remove('6. JNTUH')\n",
        "\n",
        "print(llist)\n",
        "print(id(llist[0]), id(llist[1]), id(llist[2]), id(llist[3]), id(llist[4]))\n",
        "print()"
      ],
      "metadata": {
        "colab": {
          "base_uri": "https://localhost:8080/"
        },
        "id": "ouTWHRkdFcXG",
        "outputId": "a540aff4-8eb8-4c2c-8868-ece68a65b21e"
      },
      "execution_count": null,
      "outputs": [
        {
          "output_type": "stream",
          "name": "stdout",
          "text": [
            "['1. CBIT', '2. MGIT', '3. Vasavi ']\n",
            "140368577807728 140368577809584 140368577807408\n",
            "['1. CBIT', '2. MGIT', '3. Vasavi ', '6. JNTUH', '4. OUCE ', '5. MVSR']\n",
            "140368577807728 140368577809584 140368577807408 140368578283888 140368577808880 140368578282480\n",
            "140368577807408\n",
            "['1. CBIT', '2. MGIT', '3. Vasavi ', '4. OUCE ', '5. MVSR']\n",
            "140368577807728 140368577809584 140368577807408 140368577808880 140368578282480\n",
            "\n"
          ]
        }
      ]
    },
    {
      "cell_type": "code",
      "source": [
        "# 26) (ii) Illustrate random: random(), randint(), randrange()\n",
        "\n",
        "import random\n",
        "\n",
        "a = random.random()         # Reveals random value from int/float\n",
        "b = random.randint(1,10)    # Reveals random value from only int\n",
        "c = random.randrange(1,30)  # Reveals random value from the given range\n",
        "\n",
        "print(a)\n",
        "print(b)\n",
        "print(c)\n"
      ],
      "metadata": {
        "colab": {
          "base_uri": "https://localhost:8080/"
        },
        "id": "Srgjss9xJA1b",
        "outputId": "14b39ed6-8c24-4364-9c6d-f66c4c6fd0ab"
      },
      "execution_count": null,
      "outputs": [
        {
          "output_type": "stream",
          "name": "stdout",
          "text": [
            "0.7504053764522253\n",
            "6\n",
            "8\n"
          ]
        }
      ]
    },
    {
      "cell_type": "code",
      "source": [
        "# 27) (i) Write a program to find roots of a quadratic equation\n",
        "\n",
        "a = int(input(\"Enter coefficient of x**2 : \"))\n",
        "b = int(input(\"Enter coefficient of x : \"))\n",
        "c = int(input(\"Enter constant : \"))\n",
        "\n",
        "r1 = (-b+((b**2-4*a*c)**0.5))/(2*a)\n",
        "r2 = (-b-((b**2-4*a*c)**0.5))/(2*a)\n",
        "\n",
        "print(\"Roots are :\",r1,\"&\",r2)"
      ],
      "metadata": {
        "colab": {
          "base_uri": "https://localhost:8080/"
        },
        "id": "R0pTT14gKI2l",
        "outputId": "fefe1f25-652b-45a5-9c16-f3922f35de9f"
      },
      "execution_count": null,
      "outputs": [
        {
          "output_type": "stream",
          "name": "stdout",
          "text": [
            "Enter coefficient of x**2 : 2\n",
            "Enter coefficient of x : 7\n",
            "Enter constant : 6\n",
            "Roots are : -1.5 & -2.0\n"
          ]
        }
      ]
    },
    {
      "cell_type": "code",
      "source": [
        "# 27) (ii)Write a program to display the below pattern, when n=4\n",
        "#         4 3 2 1\n",
        "#         4 3 2\n",
        "#         4 3\n",
        "#         4\n",
        "\n",
        "n = int(input(\"n=\"))\n",
        "a = n\n",
        "print(\"\\nUsing for loop :\")\n",
        "for i in range(1,n+1):\n",
        "  a = n\n",
        "  for j in range(1,n+2-i):\n",
        "    print(a,end=\" \")\n",
        "    a -= 1\n",
        "  print()\n",
        "\n",
        "#           (or)\n",
        "\n",
        "print(\"\\nUsing while loop :\")\n",
        "i = 1\n",
        "while i <= n :\n",
        "  b = n\n",
        "  j = 1\n",
        "  while j <= n+1-i :\n",
        "    print(b,end=\" \")\n",
        "    b -= 1\n",
        "    j+=1\n",
        "  print()\n",
        "  i+=1 "
      ],
      "metadata": {
        "colab": {
          "base_uri": "https://localhost:8080/"
        },
        "id": "9sle--Q0Ktxr",
        "outputId": "46d301f1-c1ab-4f9f-cae8-9fc4a338bc09"
      },
      "execution_count": null,
      "outputs": [
        {
          "output_type": "stream",
          "name": "stdout",
          "text": [
            "n=4\n",
            "\n",
            "Using for loop :\n",
            "4 3 2 1 \n",
            "4 3 2 \n",
            "4 3 \n",
            "4 \n",
            "\n",
            "Using while loop :\n",
            "4 3 2 1 \n",
            "4 3 2 \n",
            "4 3 \n",
            "4 \n"
          ]
        }
      ]
    },
    {
      "cell_type": "code",
      "source": [
        "# 28) (i) Write a Python Program to find whether a number is Perfect Number\n",
        "\n",
        "# Using for loop\n",
        "num = int(input(\"Enter number : \"))\n",
        "sum = 0\n",
        "for i in range(1,num) :\n",
        "  if num % i == 0 :\n",
        "    sum += i\n",
        "    if sum > num :\n",
        "      break\n",
        "    continue\n",
        "if sum == num :\n",
        "  print(\"\\nPerfect number\\n\")\n",
        "else :\n",
        "  print(\"\\nNot perfect number\\n\")\n",
        "\n",
        "#          (or)\n",
        "\n",
        "# Using while loop\n",
        "sum = 0\n",
        "i = 1\n",
        "while i < num :\n",
        "  if num % i == 0 :\n",
        "    sum += i\n",
        "    if sum > num :\n",
        "      break\n",
        "  i+=1\n",
        "if sum == num :\n",
        "  print(\"Perfect number\")\n",
        "else :\n",
        "  print(\"Not perfect number\")  \n"
      ],
      "metadata": {
        "colab": {
          "base_uri": "https://localhost:8080/"
        },
        "id": "OhSzza_fMlNL",
        "outputId": "6985a3d6-7a7c-491b-c03b-49fa20758320"
      },
      "execution_count": null,
      "outputs": [
        {
          "output_type": "stream",
          "name": "stdout",
          "text": [
            "Enter number : 6\n",
            "\n",
            "Perfect number\n",
            "\n",
            "Perfect number\n"
          ]
        }
      ]
    },
    {
      "cell_type": "code",
      "source": [
        "# 28) (ii) Illustrate relational and bitwise operators\n",
        "\n",
        "# Relational operators :-\n",
        "print(\"Relational operators :\\n\")\n",
        "x = 3\n",
        "y = 4\n",
        "print(x == y)                     # Output :False\n",
        "print(x != y)                     # Output :True\n",
        "print(x > y)                      # Output :False\n",
        "print(x < y)                      # Output :True\n",
        "print(x >= y)                     # Output :False\n",
        "print(x <= y)                     # Output :True\n",
        "\n",
        "print(\"------------------------\")\n",
        "\n",
        "# Bitwise operators :-\n",
        "print(\"Bitwise operators :\\n\")\n",
        "a=0b1010\n",
        "b=0b1100\n",
        "print(bin(a & b))                 # Output :0b1000\n",
        "print(bin(a | b))                 # Output :0b1110\n",
        "print(bin(a ^ b))                 # Output :0b110      \n",
        "print(bin(~ a))                   # Output :-0b1011\n",
        "print(bin(a << 2))                # Output :0b101000\n",
        "print(bin(a >> 1))                # Output :0b101"
      ],
      "metadata": {
        "id": "BSAd3-h5SmmN"
      },
      "execution_count": null,
      "outputs": []
    },
    {
      "cell_type": "code",
      "source": [
        "# 29) (i) The program should display a message indicating whether the person is an infant,\n",
        "# a child, a teenager, or an adult.Following are the guidelines: If the person is 1 year old or less,\n",
        "# he or she is an infant; If the person is older than 1 year, but younger than 13 years, he or she \n",
        "# is a child; If the person is at least 13 years old, but less than 20 years old, he or she is a teenager;\n",
        "# If the person is at least 20 years old, he or she is an adult.\n",
        "\n",
        "a = int(input(\"Enter age (in years) : \"))\n",
        "if a <= 1 :\n",
        "  print(\"Infant\")\n",
        "else :\n",
        "  if a > 1 and a < 13 :\n",
        "    print(\"Child\")\n",
        "  else :\n",
        "    if a >= 13 and a < 20 :\n",
        "      print(\"Teenager\")\n",
        "    else :\n",
        "      if a >= 20 :\n",
        "        print(\"Adult\")"
      ],
      "metadata": {
        "colab": {
          "base_uri": "https://localhost:8080/"
        },
        "id": "a-Hlad7tTyTy",
        "outputId": "ea6467d8-1cce-4327-9b80-1f34ebd5e370"
      },
      "execution_count": null,
      "outputs": [
        {
          "output_type": "stream",
          "name": "stdout",
          "text": [
            "Enter age (in years) : 18\n",
            "Teenager\n"
          ]
        }
      ]
    },
    {
      "cell_type": "code",
      "source": [
        "# 29) (ii) Demonstrate List comprehension\n",
        "\n",
        "l = [x**2 for x in range(1,11)]\n",
        "l1 = [x for x in range(1,11) if x%2==0]\n",
        "l2 = [x for x in range(1,11) if x%2!=0]\n",
        "a = [\"apple\",\"banana\",\"Mango\",\"Orange\",\"Watermelon\"]\n",
        "l3 = [x for x in a if len(x)>5]\n",
        "l4 = [\"psp\" for i in range(1,6)]\n",
        "print(l)\n",
        "print(l1)\n",
        "print(l2)\n",
        "print(l3)\n",
        "print(l4)"
      ],
      "metadata": {
        "colab": {
          "base_uri": "https://localhost:8080/"
        },
        "id": "xmLY0roIcjuX",
        "outputId": "dfd2d8bd-4de2-4302-ce97-be5c902aff06"
      },
      "execution_count": null,
      "outputs": [
        {
          "output_type": "stream",
          "name": "stdout",
          "text": [
            "[1, 4, 9, 16, 25, 36, 49, 64, 81, 100]\n",
            "[2, 4, 6, 8, 10]\n",
            "[1, 3, 5, 7, 9]\n",
            "['banana', 'Orange', 'Watermelon']\n",
            "['psp', 'psp', 'psp', 'psp', 'psp']\n"
          ]
        }
      ]
    },
    {
      "cell_type": "code",
      "source": [
        "# 30) (i) Write a Python Program to find whether year is a leap year or not\n",
        "\n",
        "a = int(input(\"Enter year : \"))\n",
        "if a % 100 == 0 and a % 400 == 0 :\n",
        "  print(\"Leap year\")\n",
        "else:\n",
        "  if a % 100 != 0 and a % 4 == 0 :\n",
        "    print(\"Leap year\")\n",
        "  else :\n",
        "    print(\"Not Leap year\")"
      ],
      "metadata": {
        "colab": {
          "base_uri": "https://localhost:8080/"
        },
        "id": "a8T1oGGvcv2u",
        "outputId": "26b5b9a4-a601-4e7d-a282-54ba571e6b36"
      },
      "execution_count": null,
      "outputs": [
        {
          "output_type": "stream",
          "name": "stdout",
          "text": [
            "Enter year : 2023\n",
            "Not Leap year\n"
          ]
        }
      ]
    },
    {
      "cell_type": "code",
      "source": [
        "# 30) (ii) Illustrate associativity and Precedence of Operators\n",
        "\n",
        "# Associativity operators\n",
        "print(\"Associativity operators :\")\n",
        "x = 10\n",
        "y = 5\n",
        "z = 2\n",
        "sol1 = x-y-z\n",
        "sol2 = x/y*z\n",
        "sol3 = x**y**z\n",
        "sol4 = x = y != z\n",
        "\n",
        "print(sol1)\n",
        "print(sol2)\n",
        "print(sol3)\n",
        "print(sol4)\n",
        "\n",
        "# Precedence operators\n",
        "\n",
        "#|Precedence| Operator |                 Theory                         |\n",
        "#|  1       |   ()     | Parenthesis                                    |\n",
        "#|  2       |   **     | Exponentiation                                 |\n",
        "#|  3       | *,/,//,% | Multiplication,division,float division,modulus |\n",
        "#|  4       |   +,-    | Addition,Subtraction                           |\n",
        "#|  5       | <,>,<=,>=| Comparison/relational operator                 |  \n",
        "#|  6       |   not    | logical not                                    |\n",
        "#|  7       |   and    | logical and                                    |  \n",
        "#|  8       |   or     | logical or                                     |\n",
        "\n",
        "print(\"---------------------------\\nPrecendence operators :\")\n",
        "a = 10\n",
        "b = 5\n",
        "c = 2\n",
        "pre1 = a*b+c\n",
        "pre2 = a%(b-c)**2\n",
        "pre3 = a==b or b>c\n",
        "print(pre1)\n",
        "print(pre2)\n",
        "print(pre3)\n",
        "       "
      ],
      "metadata": {
        "colab": {
          "base_uri": "https://localhost:8080/"
        },
        "id": "Xwqdom1fk2fU",
        "outputId": "6f076306-8b16-4540-f7f2-bd6df597ae91"
      },
      "execution_count": null,
      "outputs": [
        {
          "output_type": "stream",
          "name": "stdout",
          "text": [
            "Associativity operators :\n",
            "3\n",
            "4.0\n",
            "10000000000000000000000000\n",
            "True\n",
            "---------------------------\n",
            "Precendence operators :\n",
            "52\n",
            "1\n",
            "True\n"
          ]
        }
      ]
    },
    {
      "cell_type": "code",
      "source": [
        "# 31) (i) Write a program to print a multiplication table for a given ‘n’\n",
        "\n",
        "n = int(input(\"Enter number : \"))\n",
        "m = int(input(\"Enter no of times : \"))\n",
        "#Using for loop\n",
        "for i in range(1,m+1) :\n",
        "  print(n,\"*\",i,\"=\",n*i)\n",
        "\n",
        "print(\"----------------\")\n",
        "#Using while loop\n",
        "i = 1\n",
        "while i <= m :\n",
        "  print(n,\"*\",i,\"=\",n*i)\n",
        "  i+=1"
      ],
      "metadata": {
        "colab": {
          "base_uri": "https://localhost:8080/"
        },
        "id": "NjkkNAISnp6k",
        "outputId": "68dc0f8b-0c22-4963-d96e-f007598524aa"
      },
      "execution_count": null,
      "outputs": [
        {
          "output_type": "stream",
          "name": "stdout",
          "text": [
            "Enter number : 7\n",
            "Enter no of times : 10\n",
            "7 * 1 = 7\n",
            "7 * 2 = 14\n",
            "7 * 3 = 21\n",
            "7 * 4 = 28\n",
            "7 * 5 = 35\n",
            "7 * 6 = 42\n",
            "7 * 7 = 49\n",
            "7 * 8 = 56\n",
            "7 * 9 = 63\n",
            "7 * 10 = 70\n",
            "----------------\n",
            "7 * 1 = 7\n",
            "7 * 2 = 14\n",
            "7 * 3 = 21\n",
            "7 * 4 = 28\n",
            "7 * 5 = 35\n",
            "7 * 6 = 42\n",
            "7 * 7 = 49\n",
            "7 * 8 = 56\n",
            "7 * 9 = 63\n",
            "7 * 10 = 70\n"
          ]
        }
      ]
    },
    {
      "cell_type": "code",
      "source": [
        "# 31) (ii) Illustrate Arithmetic Operators and bitwise operators\n",
        "\n",
        "x = 4\n",
        "y = 2\n",
        "print(x + y)                     # Output :6\n",
        "print(x - y)                     # Output :2\n",
        "print(x * y)                     # Output :8\n",
        "print(x / y)                     # Output :2.0 \n",
        "print(x % y)                     # Output :0 \n",
        "print(x ** y)                    # Output :16   \n",
        "\n",
        "print(\"------------------------\")\n",
        "\n",
        "# Bitwise operators :-\n",
        "print(\"Bitwise operators :\\n\")\n",
        "a=0b1010\n",
        "b=0b1100\n",
        "print(bin(a & b))                 # Output :0b1000\n",
        "print(bin(a | b))                 # Output :0b1110\n",
        "print(bin(a ^ b))                 # Output :0b110      \n",
        "print(bin(~ a))                   # Output :-0b1011\n",
        "print(bin(a << 2))                # Output :0b101000\n",
        "print(bin(a >> 1))                # Output :0b101"
      ],
      "metadata": {
        "id": "VHom78Mlr-En"
      },
      "execution_count": null,
      "outputs": []
    },
    {
      "cell_type": "code",
      "source": [
        "# 32) (i) Write a Python Program to find whether year is a leap year or not\n",
        "\n",
        "a = int(input(\"Enter year : \"))\n",
        "if a % 100 == 0 and a % 400 == 0 :\n",
        "  print(\"Leap year\")\n",
        "else:\n",
        "  if a % 100 != 0 and a % 4 == 0 :\n",
        "    print(\"Leap year\")\n",
        "  else :\n",
        "    print(\"Not Leap year\")"
      ],
      "metadata": {
        "colab": {
          "base_uri": "https://localhost:8080/"
        },
        "id": "3xMJNTpmt83o",
        "outputId": "dc22f5ec-dedf-498d-fc62-ce3743fd7add"
      },
      "execution_count": null,
      "outputs": [
        {
          "output_type": "stream",
          "name": "stdout",
          "text": [
            "Enter year : 2023\n",
            "Not Leap year\n"
          ]
        }
      ]
    },
    {
      "cell_type": "code",
      "source": [
        "# 32) (ii) Illustrate statistics:\n",
        "#          mean(), median(), mode(), pstdev(), pvariabce(), stdev(), variance()\n",
        "\n",
        "import statistics\n",
        "\n",
        "x = [1,2,3,4,5]\n",
        "y = [1,2,3,1,5,4,7,2,4,3,2]\n",
        "\n",
        "a = statistics.mean(x)          # finds the mean - average of list\n",
        "b = statistics.median(x)        # finds the median - middle number of list\n",
        "c = statistics.mode(y)          # finds the mode - frequently ooccured number in list\n",
        "\n",
        "x = [1,2,3,4,5]\n",
        "y = [1,3,5]\n",
        "\n",
        "d = statistics.pstdev(x)        # Return the square root of the population variance.\n",
        "e = statistics.pvariance(x)     # Return the population variance of data\n",
        "f = statistics.stdev(y)         # Return the square root of the sample variance.\n",
        "g = statistics.variance(y)      # Return the sample variance of data\n",
        "\n",
        "print(a)\n",
        "print(b)\n",
        "print(c)\n",
        "print(d)\n",
        "print(e)\n",
        "print(f)\n",
        "print(g)"
      ],
      "metadata": {
        "colab": {
          "base_uri": "https://localhost:8080/"
        },
        "id": "qZvKxEXtt9rN",
        "outputId": "a284fc74-394f-41a4-80c9-93b8e8ee88ca"
      },
      "execution_count": null,
      "outputs": [
        {
          "output_type": "stream",
          "name": "stdout",
          "text": [
            "3\n",
            "3\n",
            "2\n",
            "1.4142135623730951\n",
            "2\n",
            "2.0\n",
            "4\n"
          ]
        }
      ]
    },
    {
      "cell_type": "code",
      "source": [
        "# 33) (i) Demonstrate the usage of break, continue and pass\n",
        "\n",
        "# break : The break statement is used to exit a loop prematurely.\n",
        "print(\"break :\")\n",
        "for i in range(10):\n",
        "  if i == 5:\n",
        "    break\n",
        "  print(i)\n",
        "\n",
        "# continue : The continue statement is used to skip over an iteration of a loop.\n",
        "print(\"\\ncontinue :\")\n",
        "for i in range(10):\n",
        "  if i % 2 == 0:\n",
        "    continue\n",
        "  print(i)\n",
        "# pass : The pass statement is used as a placeholder when you don't want to do anything \n",
        "#        inside a loop or a conditional block.\n",
        "print(\"\\npass :\")\n",
        "for i in range(10):\n",
        "  if i % 2 == 0:\n",
        "    pass\n",
        "  else:\n",
        "    print(i)"
      ],
      "metadata": {
        "colab": {
          "base_uri": "https://localhost:8080/"
        },
        "id": "tY9Sqnvsu2B0",
        "outputId": "0bcc21d8-4f28-4a80-c167-ce4b8eb51ae8"
      },
      "execution_count": null,
      "outputs": [
        {
          "output_type": "stream",
          "name": "stdout",
          "text": [
            "break :\n",
            "0\n",
            "1\n",
            "2\n",
            "3\n",
            "4\n",
            "\n",
            "continue :\n",
            "1\n",
            "3\n",
            "5\n",
            "7\n",
            "9\n",
            "\n",
            "pass :\n",
            "1\n",
            "3\n",
            "5\n",
            "7\n",
            "9\n"
          ]
        }
      ]
    },
    {
      "cell_type": "code",
      "source": [
        "# 33) (ii) Write a program to display the below pattern, for n=4:\n",
        "#          1\n",
        "#          1 2\n",
        "#          1 2 3\n",
        "#          1 2 3 4\n",
        "\n",
        "n = int(input(\"n=\"))\n",
        "\n",
        "print(\"\\nUsing for loop :\")\n",
        "for i in range(1,n+1):\n",
        "  for j in range(1,i+1):\n",
        "    print(j,end=\" \")\n",
        "  print()\n",
        "\n",
        "#           (or)\n",
        "\n",
        "print(\"\\nUsing while loop :\")\n",
        "i = 1\n",
        "while i <= n :\n",
        "  j = 1\n",
        "  while j <= i :\n",
        "    print(j,end=\" \")\n",
        "    j+=1\n",
        "  print()\n",
        "  i+=1 "
      ],
      "metadata": {
        "colab": {
          "base_uri": "https://localhost:8080/"
        },
        "id": "RJjwOeL_u124",
        "outputId": "3bae0443-e814-4273-ae3b-9446e0990e47"
      },
      "execution_count": null,
      "outputs": [
        {
          "output_type": "stream",
          "name": "stdout",
          "text": [
            "n=4\n",
            "\n",
            "Using for loop :\n",
            "1 \n",
            "1 2 \n",
            "1 2 3 \n",
            "1 2 3 4 \n",
            "\n",
            "Using while loop :\n",
            "1 \n",
            "1 2 \n",
            "1 2 3 \n",
            "1 2 3 4 \n"
          ]
        }
      ]
    },
    {
      "cell_type": "code",
      "source": [
        "# 34) (i) Write a program to demonstrate + and * operators on top of sequences\n",
        "\n",
        "l = [1,2,3]\n",
        "m = [4,5,6]\n",
        "print(type(l),type(m))\n",
        "print(l+m)\n",
        "print(l*3)\n",
        "\n",
        "t = (0,2,4)\n",
        "p = (1,3,5)\n",
        "print(type(t),type(p))\n",
        "print(t+p)\n",
        "print(t*3)\n",
        "\n",
        "s = \"Lab\"\n",
        "r = \"internal\"\n",
        "print(type(s),type(r))\n",
        "print(s+r)\n",
        "print(s*3)"
      ],
      "metadata": {
        "colab": {
          "base_uri": "https://localhost:8080/"
        },
        "id": "HPD-5gcPxYI_",
        "outputId": "d3fd88ad-5c9f-4a07-f802-c2f1267cfbe7"
      },
      "execution_count": null,
      "outputs": [
        {
          "output_type": "stream",
          "name": "stdout",
          "text": [
            "<class 'list'> <class 'list'>\n",
            "[1, 2, 3, 4, 5, 6]\n",
            "[1, 2, 3, 1, 2, 3, 1, 2, 3]\n",
            "<class 'tuple'> <class 'tuple'>\n",
            "(0, 2, 4, 1, 3, 5)\n",
            "(0, 2, 4, 0, 2, 4, 0, 2, 4)\n",
            "<class 'str'> <class 'str'>\n",
            "Labinternal\n",
            "LabLabLab\n"
          ]
        }
      ]
    },
    {
      "cell_type": "code",
      "source": [
        "# 34) (ii) Perform 2D matrix addition; create matrices using functions of Numpy\n",
        "\n",
        "import numpy as np\n",
        "\n",
        "print(\"Matrix 1 :\")\n",
        "matrix1 = np.array([[1, 2], [3, 4]])\n",
        "for rows in matrix1 :\n",
        "  print(rows)\n",
        "\n",
        "print(\"\\nMatrix 2 :\")\n",
        "matrix2 = np.array([[5, 6], [7, 8]])\n",
        "for rows in matrix2 :\n",
        "  print(rows)\n",
        "\n",
        "print(\"\\nSum of matrices :\")\n",
        "result_matrix = np.add(matrix1, matrix2)\n",
        "for rows in result_matrix :\n",
        "  print(rows)\n",
        "\n"
      ],
      "metadata": {
        "colab": {
          "base_uri": "https://localhost:8080/"
        },
        "id": "-jENRdzByqix",
        "outputId": "c4da33a1-2216-49fb-dd8b-8ac3c95c6fdb"
      },
      "execution_count": null,
      "outputs": [
        {
          "output_type": "stream",
          "name": "stdout",
          "text": [
            "Matrix 1 :\n",
            "[1 2]\n",
            "[3 4]\n",
            "\n",
            "Matrix 2 :\n",
            "[5 6]\n",
            "[7 8]\n",
            "\n",
            "Sum of matrices :\n",
            "[6 8]\n",
            "[10 12]\n"
          ]
        }
      ]
    }
  ]
}