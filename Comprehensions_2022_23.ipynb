{
  "nbformat": 4,
  "nbformat_minor": 0,
  "metadata": {
    "colab": {
      "provenance": []
    },
    "kernelspec": {
      "name": "python3",
      "display_name": "Python 3"
    },
    "language_info": {
      "name": "python"
    }
  },
  "cells": [
    {
      "cell_type": "code",
      "source": [
        "#https://www.w3schools.com/python/python_lists_comprehension.asp\n",
        "#https://medium.com/dsc-ghrce/python-list-comprehension-vs-generator-expression-db1a66dc7e69\n",
        "#https://www.geeksforgeeks.org/python-list-comprehension/\n",
        "#https://www.programiz.com/python-programming/list-comprehension\n",
        "#https://towardsdatascience.com/11-examples-to-master-python-list-comprehensions-33c681b56212"
      ],
      "metadata": {
        "id": "6sJlcF_9L227"
      },
      "execution_count": null,
      "outputs": []
    },
    {
      "cell_type": "markdown",
      "source": [
        "**List Comprehension:** offers a shorter syntax when you want to create a new list based on the values of an existing list.\n",
        "Without list comprehension you will have to write a for statement with a conditional test inside"
      ],
      "metadata": {
        "id": "XBUz8QpkKQH1"
      }
    },
    {
      "cell_type": "markdown",
      "source": [
        "**Key Points to Remember**\n",
        "*  List comprehension is an elegant way to define and create lists based on existing lists.\n",
        "*   List comprehension is generally more compact and faster than normal functions and loops for creating list.\n",
        "*   Avoid writing very long list comprehensions in one line to ensure that code is user-friendly.\n",
        "*   Every list comprehension can be rewritten in for loop, but every for loop can’t be rewritten in the form of list comprehension.\n",
        "\n",
        "\n",
        "\n"
      ],
      "metadata": {
        "id": "4OPi0od5J5Mh"
      }
    },
    {
      "cell_type": "markdown",
      "source": [
        "**The Syntax**\n",
        "newlist = [expression for item in iterable if condition == True]\n",
        "\n",
        "The return value is a new list, leaving the old list unchanged.\n",
        "\n",
        "**Condition**\n",
        "The condition is like a filter that only accepts the items that valuate to True."
      ],
      "metadata": {
        "id": "8V_Ma5rDKuYl"
      }
    },
    {
      "cell_type": "code",
      "source": [
        "#using for loop\n",
        "fruits = [\"apple\", \"banana\", \"cherry\", \"kiwi\", \"mango\"]\n",
        "newlist = []\n",
        "for x in fruits:\n",
        "  if \"a\" in x:\n",
        "    newlist.append(x)\n",
        "print(newlist)"
      ],
      "metadata": {
        "id": "xXiy39exKfvl"
      },
      "execution_count": null,
      "outputs": []
    },
    {
      "cell_type": "code",
      "source": [
        "#With list comprehension you can do all that with only one line of code\n",
        "fruits = [\"apple\", \"banana\", \"cherry\", \"kiwi\", \"mango\"]\n",
        "newlist = [x for x in fruits if \"a\" in x]\n",
        "print(newlist)"
      ],
      "metadata": {
        "colab": {
          "base_uri": "https://localhost:8080/"
        },
        "id": "PYObULAJKm7J",
        "outputId": "4b77d859-dfec-4d13-b75a-e93b0cb42f40"
      },
      "execution_count": null,
      "outputs": [
        {
          "output_type": "stream",
          "name": "stdout",
          "text": [
            "['apple', 'banana', 'mango']\n"
          ]
        }
      ]
    },
    {
      "cell_type": "code",
      "source": [
        "#Example: Only accept items that are not \"apple\":\n",
        "\n",
        "newlist = [x for x in fruits if x != \"apple\"]\n",
        "\n",
        "#The condition if x != \"apple\"  will return True for all elements other than \"apple\", \n",
        "#making the new list contain all fruits except \"apple\".\n",
        "\n",
        "#The condition is optional and can be omitted With no if statement:\n",
        "newlist = [x for x in fruits]\n",
        "print(newlist)"
      ],
      "metadata": {
        "colab": {
          "base_uri": "https://localhost:8080/"
        },
        "id": "vhUBJ60HKill",
        "outputId": "fc81ca1c-abf2-4af5-de20-f5c00e183acf"
      },
      "execution_count": null,
      "outputs": [
        {
          "output_type": "stream",
          "name": "stdout",
          "text": [
            "['apple', 'banana', 'cherry', 'kiwi', 'mango']\n"
          ]
        }
      ]
    },
    {
      "cell_type": "code",
      "source": [
        "#Iterable: The iterable can be any iterable object, like a list, tuple, set etc.\n",
        "\n",
        "#Example: You can use the range() function to create an iterable:\n",
        "\n",
        "newlist = [x for x in range(10)]\n",
        "print(newlist)"
      ],
      "metadata": {
        "colab": {
          "base_uri": "https://localhost:8080/"
        },
        "id": "evM0WUlYLI4T",
        "outputId": "30812e19-e94f-4ca3-bd3e-7a9390a3d5c6"
      },
      "execution_count": null,
      "outputs": [
        {
          "output_type": "stream",
          "name": "stdout",
          "text": [
            "[0, 1, 2, 3, 4, 5, 6, 7, 8, 9]\n"
          ]
        }
      ]
    },
    {
      "cell_type": "code",
      "source": [
        "#with a condition: Accept only numbers lower than 5:\n",
        "\n",
        "newlist = [x for x in range(10) if x < 5]\n",
        "print(newlist)"
      ],
      "metadata": {
        "colab": {
          "base_uri": "https://localhost:8080/"
        },
        "id": "CIb_TB81LR5k",
        "outputId": "0130dd4c-5441-40d9-9a0b-9d502bf9cc5d"
      },
      "execution_count": null,
      "outputs": [
        {
          "output_type": "stream",
          "name": "stdout",
          "text": [
            "[0, 1, 2, 3, 4]\n"
          ]
        }
      ]
    },
    {
      "cell_type": "code",
      "source": [
        "#Expression - The expression is the current item in the iteration, but it is also the outcome, \n",
        "#which you can manipulate before it ends up like a list item in the new list:\n",
        "\n",
        "#Example - Set the values in the new list to upper case:\n",
        "\n",
        "newlist = [x.upper() for x in fruits]\n",
        "print(newlist)"
      ],
      "metadata": {
        "colab": {
          "base_uri": "https://localhost:8080/"
        },
        "id": "1c65xPEkLY1C",
        "outputId": "b7d5e661-059c-4e39-b512-446821b4946c"
      },
      "execution_count": null,
      "outputs": [
        {
          "output_type": "stream",
          "name": "stdout",
          "text": [
            "['APPLE', 'BANANA', 'CHERRY', 'KIWI', 'MANGO']\n"
          ]
        }
      ]
    },
    {
      "cell_type": "code",
      "source": [
        "#You can set the outcome to whatever you like:\n",
        "#Example - Set all values in the new list to 'hello':\n",
        "\n",
        "newlist = ['hello' for x in fruits]\n",
        "print(newlist)"
      ],
      "metadata": {
        "colab": {
          "base_uri": "https://localhost:8080/"
        },
        "id": "MUkgi2jhLhhp",
        "outputId": "44a37020-9d2b-419a-8599-936fc0134546"
      },
      "execution_count": null,
      "outputs": [
        {
          "output_type": "stream",
          "name": "stdout",
          "text": [
            "['hello', 'hello', 'hello', 'hello', 'hello']\n"
          ]
        }
      ]
    },
    {
      "cell_type": "code",
      "source": [
        "#The expression can also contain conditions, not like a filter, but as a way to manipulate the outcome:\n",
        "# Example -Return \"orange\" instead of \"banana\":\n",
        "print(fruits)\n",
        "newlist = [x if x != \"banana\" else \"orange\" for x in fruits]\n",
        "print(newlist)\n",
        "\n",
        "#The expression in the example above says:\n",
        "#\"Return the item if it is not banana, if it is banana return orange\"."
      ],
      "metadata": {
        "colab": {
          "base_uri": "https://localhost:8080/"
        },
        "id": "6ACK5OlaLo0A",
        "outputId": "9b143d27-5959-48ea-a8e0-3ea9ac057fdc"
      },
      "execution_count": null,
      "outputs": [
        {
          "output_type": "stream",
          "name": "stdout",
          "text": [
            "['apple', 'banana', 'cherry', 'kiwi', 'mango']\n",
            "['apple', 'orange', 'cherry', 'kiwi', 'mango']\n"
          ]
        }
      ]
    },
    {
      "cell_type": "code",
      "execution_count": null,
      "metadata": {
        "colab": {
          "base_uri": "https://localhost:8080/"
        },
        "id": "FD9ZuPpYFH7g",
        "outputId": "dcc17896-1ea1-4bb9-a286-c43574a702cb"
      },
      "outputs": [
        {
          "output_type": "execute_result",
          "data": {
            "text/plain": [
              "['vidhanshu', 'vidit']"
            ]
          },
          "metadata": {},
          "execution_count": 2
        }
      ],
      "source": [
        "names = [\"vidhanshu\",\"vidit\",\"sobhan\",\"laksh\"]\n",
        "[name for name in names if name[0] == 'v']"
      ]
    },
    {
      "cell_type": "code",
      "source": [
        "eemp = []\n",
        "for num in range(10):\n",
        "  if num < 6:\n",
        "    eemp.append(num)\n",
        "print(eemp)\n",
        "\n",
        "#[0, 1, 2, 3, 4, 5]"
      ],
      "metadata": {
        "id": "DtepMTB3GDsr"
      },
      "execution_count": null,
      "outputs": []
    },
    {
      "cell_type": "code",
      "source": [
        "#Write a program that prints numbers less than 6 when we pass in numbers 1–10.\n",
        "eemp = [num for num in range(10) if num <6]\n",
        "print(eemp)\n",
        "#[0, 1, 2, 3, 4, 5]"
      ],
      "metadata": {
        "id": "OXKbR6xHHx6A"
      },
      "execution_count": null,
      "outputs": []
    },
    {
      "cell_type": "code",
      "source": [
        "#Using List comprehensions we can even get output as boolean values. \n",
        "#This might beused for a few built-in functions or if we need to access boolean values elsewhere in ourprogram.\n",
        "emp = [num < 6 for num in range(10)]\n",
        "print(emp)\n",
        "\n",
        "names = [\"vidhanshu\",\"vidit\",\"sobhan\",\"laksh\"]\n",
        "empty = [name[0] == 'v' for name in names]\n",
        "print(empty)"
      ],
      "metadata": {
        "id": "AXAiXcA-H5l_"
      },
      "execution_count": null,
      "outputs": []
    },
    {
      "cell_type": "code",
      "source": [
        "#two built-in functions where the boolean values from listcomprehension can be used.\n",
        "#1. ALL\n",
        "#2. ANY\n",
        "#ALL: It is a build-in function that will return True if all the iterables are Truth. \n",
        "#It will return True even if the iterable is empty.\n",
        "print(all([num for num in [0,1,2,3]]))\n",
        "# 0 is always considered False. Since we have a single False element the whole list becomes False.\n",
        "#<False>\n",
        "print(all([]))\n",
        "# As mentioned above, an empty list will return True. (list is iterable)\n",
        "#<True>\n",
        "print(all([num < 6 for num in range(6)]))\n",
        "# Range(6) means all the numbers from 0–5. And all these numbers are less than 6, thus True.\n",
        "#<True>\n",
        "print(all([num < 6 for num in range(10)]))\n",
        "# Range(10) means all the numbers from 0–9. This even includes numbers greater than 6 which is False, thus False.\n",
        "#<False>"
      ],
      "metadata": {
        "colab": {
          "base_uri": "https://localhost:8080/"
        },
        "id": "v3Xzw77SIWbt",
        "outputId": "12ef0205-93c3-464f-afe6-373e282984ba"
      },
      "execution_count": null,
      "outputs": [
        {
          "output_type": "execute_result",
          "data": {
            "text/plain": [
              "False"
            ]
          },
          "metadata": {},
          "execution_count": 1
        }
      ]
    },
    {
      "cell_type": "code",
      "source": [
        "#ANY is again another build-in function that gives an output True if “any-one” of theelements of the list is Truthy. Here it returns False when we send an empty iterable.\n",
        "print(any([num for num in [0,1,2,3]]))\n",
        "# Here 0 is falsy but doesn't matter, 1 is the truth so it'll return True only. - #<True>\n",
        "\n",
        "print(any([]))\n",
        "# As mentioned above, empty iterable will be False. - <False>\n",
        "\n",
        "print(any([num < 6 for num in range(10)]))\n",
        "# range(10) is from 0–9. Up to 5 It's True, hence the output will be True. - <True>\n",
        "\n",
        "print(any([num % 2 == 0 for num in [10,2,16,18,21]]))\n",
        "# 10,2,16,18 are divisible by 2 gives remainder 0, hence True (doesn't matter if 21 is divisible or not.) - <True>\n",
        "\n",
        "print(any([num % 2 == 1 for num in [10,2,16,18,21]]))\n",
        "# 21, when divided by 2, gives 1 as remainder. Hence True - <True>\n",
        "\n",
        "print(any([num % 2 == 2 for num in [10,2,16,18,21]]))\n",
        "# None of those divided by 2 will give the remainder as 2. Hence False - <False>\n"
      ],
      "metadata": {
        "id": "lOeLpfBQIpjJ"
      },
      "execution_count": null,
      "outputs": []
    },
    {
      "cell_type": "code",
      "source": [
        "#Matrix using List comprehension\n",
        "matrix = [[j for j in range(3)] for i in range(3)]\n",
        "\n",
        "print(matrix)\n"
      ],
      "metadata": {
        "id": "Ffqv5b8OM18N"
      },
      "execution_count": null,
      "outputs": []
    },
    {
      "cell_type": "code",
      "source": [
        "#Time Analysis in List Comprehensions and Loop\n",
        "#The list comprehensions are more efficient both computationally and in terms of \n",
        "#coding space and time than a for a loop. Typically, they are written in a single line of code. \n",
        "#The below program depicts the difference between for loops and list comprehension based on performance.\n",
        "\n",
        "# Import required module\n",
        "import time\n",
        "\n",
        "# define function to implement for loop\n",
        "def for_loop(n):\n",
        "\tresult = []\n",
        "\tfor i in range(n):\n",
        "\t\tresult.append(i**2)\n",
        "\treturn result\n",
        "\n",
        "\n",
        "# define function to implement list comprehension\n",
        "def list_comprehension(n):\n",
        "\treturn [i**2 for i in range(n)]\n",
        "\n",
        "\n",
        "# Driver Code\n",
        "\n",
        "# Calculate time taken by for_loop()\n",
        "begin = time.time()\n",
        "for_loop(10**6)\n",
        "end = time.time()\n",
        "\n",
        "# Display time taken by for_loop()\n",
        "print('Time taken for_loop:', round(end-begin, 2))\n",
        "\n",
        "# Calculate time takens by list_comprehension()\n",
        "begin = time.time()\n",
        "list_comprehension(10**6)\n",
        "end = time.time()\n",
        "\n",
        "# Display time taken by for_loop()\n",
        "print('Time taken for list_comprehension:', round(end-begin, 2))\n"
      ],
      "metadata": {
        "id": "wlFA99IjM_tZ"
      },
      "execution_count": null,
      "outputs": []
    },
    {
      "cell_type": "code",
      "source": [
        "rp1=[(i**2) for i in range(10)]\n",
        "print(rp1)\n",
        "rp2 = [str(i**2)*2 for i in range(10)]\n",
        "print(rp2)"
      ],
      "metadata": {
        "colab": {
          "base_uri": "https://localhost:8080/"
        },
        "id": "nVWQ4cPr4RHo",
        "outputId": "d5c68b73-99c7-406a-b570-e5948b753625"
      },
      "execution_count": null,
      "outputs": [
        {
          "output_type": "stream",
          "name": "stdout",
          "text": [
            "[0, 1, 4, 9, 16, 25, 36, 49, 64, 81]\n",
            "['00', '11', '44', '99', '1616', '2525', '3636', '4949', '6464', '8181']\n"
          ]
        }
      ]
    },
    {
      "cell_type": "code",
      "source": [
        "#Nested List Comprehensions\n",
        "#Nested List Comprehensions are nothing but a list comprehension within another list comprehension \n",
        "#which is quite similar to nested for loops. Below is the program which implements nested loop:\n",
        "matrix = []\n",
        "\n",
        "for i in range(3):\n",
        "\n",
        "\t# Append an empty sublist inside the list\n",
        "\tmatrix.append([])\n",
        "\n",
        "\tfor j in range(5):\n",
        "\t\tmatrix[i].append(j)\n",
        "\n",
        "print(matrix)\n"
      ],
      "metadata": {
        "id": "TCPBXP3GNaai"
      },
      "execution_count": null,
      "outputs": []
    },
    {
      "cell_type": "code",
      "source": [
        "#Now by using nested list comprehensions same output can be generated in fewer lines of code.\n",
        "# Nested list comprehension\n",
        "matrix = [[j for j in range(5)] for i in range(3)]\n",
        "\n",
        "print(matrix)\n"
      ],
      "metadata": {
        "id": "zFdcoefdNjOt"
      },
      "execution_count": null,
      "outputs": []
    },
    {
      "cell_type": "markdown",
      "source": [
        "**Conditionals in List Comprehension**\n",
        "We can also add conditional statements to the list comprehension. We can create a list using range(), operators, etc. and cal also apply some conditions to the list using the if statement.\n",
        "\n",
        "**Key Points**\n",
        "Comprehension of the list is an effective means of describing and constructing lists based on current lists.\n",
        "Generally, list comprehension is more lightweight and simpler than standard list formation functions and loops.\n",
        "We should not write long codes for list comprehensions in order to ensure user-friendly code.\n",
        "Every comprehension of the list can be rewritten in for loop, but in the context of list interpretation, every for loop can not be rewritten."
      ],
      "metadata": {
        "id": "1mf6NFQhOyYb"
      }
    },
    {
      "cell_type": "code",
      "source": [
        "#Example 1: Python List Comprehension Using If-else\n",
        "lis = [\"Even number\" if i % 2 == 0\n",
        "       else \"Odd number\" for i in range(8)]\n",
        "print(lis)"
      ],
      "metadata": {
        "id": "hO3ripBpOEiU"
      },
      "execution_count": null,
      "outputs": []
    },
    {
      "cell_type": "code",
      "source": [
        "#Example 2: Nested IF with List Comprehension\n",
        "lis = [num for num in range(100)\n",
        "       if num % 5 == 0 if num % 10 == 0]\n",
        "print(lis)"
      ],
      "metadata": {
        "id": "6LXv_Ka9OEsu"
      },
      "execution_count": null,
      "outputs": []
    },
    {
      "cell_type": "code",
      "source": [
        "#Example 3: Display square of numbers from 1 to 10.\n",
        "# Getting square of from 1 to 10\n",
        "squares = [n**2 for n in range(1, 11)]\n",
        " \n",
        "# Display square of even numbers\n",
        "print(squares)"
      ],
      "metadata": {
        "id": "Qhw3zRx-OEzi"
      },
      "execution_count": null,
      "outputs": []
    },
    {
      "cell_type": "code",
      "source": [
        "#Example 4: Display Transpose of 2D- Matrix.\n",
        "# Assign matrix\n",
        "twoDMatrix = [[10, 20, 30],\n",
        "              [40, 50, 60],\n",
        "              [70, 80, 90]]\n",
        " \n",
        "# Generate transpose\n",
        "trans = [[i[j] for i in twoDMatrix] for j in range(len(twoDMatrix[0]))]\n",
        " \n",
        "print(trans)"
      ],
      "metadata": {
        "id": "J4zI7v0mOR4l"
      },
      "execution_count": null,
      "outputs": []
    },
    {
      "cell_type": "code",
      "source": [
        "#Example 5: Toggle the case of each character in a string.\n",
        "# Initializing string\n",
        "string = 'Geeks4Geeks'\n",
        " \n",
        "# Toggle case of each character\n",
        "List = list(map(lambda i: chr(ord(i) ^ 32), string))\n",
        " \n",
        "# Display list\n",
        "print(List)"
      ],
      "metadata": {
        "id": "QFOvd_uROX5q"
      },
      "execution_count": null,
      "outputs": []
    },
    {
      "cell_type": "code",
      "source": [
        "#Example 6: Reverse each string in a tuple.\n",
        "# Reverse each string in tuple\n",
        "List = [string[::-1] for string in ('Geeks', 'for', 'Geeks')]\n",
        " \n",
        "# Display list\n",
        "print(List)"
      ],
      "metadata": {
        "id": "NHjENLWROcIc"
      },
      "execution_count": null,
      "outputs": []
    },
    {
      "cell_type": "code",
      "source": [
        "#Example 7: Display the sum of digits of all the odd elements in a list.\n",
        "# Explicit function\n",
        "def digitSum(n):\n",
        "    dsum = 0\n",
        "    for ele in str(n):\n",
        "        dsum += int(ele)\n",
        "    return dsum\n",
        " \n",
        " \n",
        "# Initializing list\n",
        "List = [367, 111, 562, 945, 6726, 873]\n",
        " \n",
        "# Using the function on odd elements of the list\n",
        "newList = [digitSum(i) for i in List if i & 1]\n",
        " \n",
        "# Displaying new list\n",
        "print(newList)"
      ],
      "metadata": {
        "id": "3C6eRR7hOiNK"
      },
      "execution_count": null,
      "outputs": []
    },
    {
      "cell_type": "code",
      "source": [
        "#List Comprehensions and Lambda\n",
        "#Lambda Expressions are nothing but shorthand representations of Python functions. \n",
        "#Using list comprehensions with lambda creates an efficient combination. Let us look at the below examples:\n",
        "\n",
        "# using lambda to print table of 10\n",
        "numbers = []\n",
        "\n",
        "for i in range(1, 6):\n",
        "\tnumbers.append(i*10)\n",
        "\n",
        "print(numbers)\n"
      ],
      "metadata": {
        "id": "GDSqPI7UNrn2"
      },
      "execution_count": null,
      "outputs": []
    },
    {
      "cell_type": "code",
      "source": [
        "#for loop to print a table of 10.\n",
        "\n",
        "numbers = [i*10 for i in range(1, 6)]\n",
        " \n",
        "print(numbers)"
      ],
      "metadata": {
        "id": "oLMFrn93N0cb"
      },
      "execution_count": null,
      "outputs": []
    },
    {
      "cell_type": "code",
      "source": [
        "#list comprehension to display a table of 10.\n",
        "\n",
        "# using lambda to print table of 10\n",
        "numbers = list(map(lambda i: i*10, [i for i in range(1, 6)]))\n",
        " \n",
        "print(numbers)"
      ],
      "metadata": {
        "id": "3waBafi5N4j6"
      },
      "execution_count": null,
      "outputs": []
    }
  ]
}