{
  "nbformat": 4,
  "nbformat_minor": 0,
  "metadata": {
    "colab": {
      "provenance": [],
      "authorship_tag": "ABX9TyO80Uu9PnzHt92nedk5IOcq",
      "include_colab_link": true
    },
    "kernelspec": {
      "name": "python3",
      "display_name": "Python 3"
    },
    "language_info": {
      "name": "python"
    }
  },
  "cells": [
    {
      "cell_type": "markdown",
      "metadata": {
        "id": "view-in-github",
        "colab_type": "text"
      },
      "source": [
        "<a href=\"https://colab.research.google.com/github/Prathima-tr/Problem-Solving-and-Programming/blob/main/Arrays_and_User_Defined_Data_Types_2022_23.ipynb\" target=\"_parent\"><img src=\"https://colab.research.google.com/assets/colab-badge.svg\" alt=\"Open In Colab\"/></a>"
      ]
    },
    {
      "cell_type": "markdown",
      "source": [
        "Shared by Prof. Swamy Das, Dept. of CSE, CBIT"
      ],
      "metadata": {
        "id": "wBv1GywIobMh"
      }
    },
    {
      "cell_type": "code",
      "execution_count": null,
      "metadata": {
        "id": "qp850DSAXaNp",
        "colab": {
          "base_uri": "https://localhost:8080/"
        },
        "outputId": "e1e18149-274a-4698-8576-8ce7efd52441"
      },
      "outputs": [
        {
          "output_type": "stream",
          "name": "stdout",
          "text": [
            "Enter s string: cbit\n",
            "Length of the given string {} is:  cbit 4\n"
          ]
        }
      ],
      "source": [
        "#program to compute the length of a given string\n",
        "s = input(\"Enter s string: \") # read a string\n",
        "count = 0\n",
        "for char in s: #loop on until the list is exhausted\n",
        "  count += 1 # increment the count for each element\n",
        "print(\"Length of the given string {} is: \", s, count)"
      ]
    },
    {
      "cell_type": "code",
      "source": [
        "## An array is a collection of items stored at contiguous memory locations. \n",
        "#In Python a list (Dynamic Array treated as an array)\n",
        "##ways to create arrays\n",
        "\n",
        "a = [] #creates an empty list\n",
        "print(\"Empty array : \", a)\n",
        "b = [0] * 10 #create a 1D array with size 10 and initializes with 0\n",
        "print(\"\\n1D array : \",b)\n",
        "\n",
        "c = [None] * 10 #create a 1D array with size 10 and initializes with None\n",
        "print(\"\\nArray with None: \", c)\n",
        "\n",
        "#creates a 2D (4x3) array with 3 columns and 4 rows and initializes the elements with 1\n",
        "d = [[1] * 3] * 4\n",
        "\n",
        "##direct dispaly\n",
        "print(\"\\n2D array : \", d)\n",
        "\n",
        "#printing the matrix with loops\n",
        "print(\"2D array displayed with loops:\")\n",
        "for i in range(len(d)):\n",
        "  for j in range(len(d[0])):\n",
        "    print(d[i][j], end=\" \")\n",
        "\n",
        "print()\n",
        "\n",
        "#creates an arrray and initializes with the i value\n",
        "arr = [] #create an empty list - 1D\n",
        "for i in range(10):\n",
        "  arr.append(i) #append i value in each iteration\n",
        "print(\"\\nArray created with append(): \", a)\n",
        "\n",
        "## creating arrays with iterator\n",
        "a1 = [0 for i in range(10)] #create 1D array and initialize each element with 0\n",
        "print(\"\\n1D array created with iterator with 0 values: \",a1)\n",
        "\n",
        "a2 = [None for i in range(10)] #create 1D array and initialize each element with None\n",
        "print(\"\\n1D array created with iterator with None: \",a2)"
      ],
      "metadata": {
        "id": "2-682KGaXp0m",
        "colab": {
          "base_uri": "https://localhost:8080/"
        },
        "outputId": "e2713bdd-3899-4d1a-e9ef-ad4a806ef2ce"
      },
      "execution_count": null,
      "outputs": [
        {
          "output_type": "stream",
          "name": "stdout",
          "text": [
            "Empty array :  []\n",
            "\n",
            "1D array :  [0, 0, 0, 0, 0, 0, 0, 0, 0, 0]\n",
            "\n",
            "Array with None:  [None, None, None, None, None, None, None, None, None, None]\n",
            "\n",
            "2D array :  [[1, 1, 1], [1, 1, 1], [1, 1, 1], [1, 1, 1]]\n",
            "2D array displayed with loops:\n",
            "1 1 1 1 1 1 1 1 1 1 1 1 \n",
            "\n",
            "Array created with append():  []\n",
            "\n",
            "1D array created with iterator with 0 values:  [0, 0, 0, 0, 0, 0, 0, 0, 0, 0]\n",
            "\n",
            "1D array created with iterator with None:  [None, None, None, None, None, None, None, None, None, None]\n"
          ]
        }
      ]
    },
    {
      "cell_type": "code",
      "source": [
        "#Repetition operator on a nested list\n",
        "#Items in the sequences are not copied, they are referenced multiple times.\n",
        "l1=[[2]]\n",
        "l2=l1*2\n",
        "#Elements in list l2 are referring to the same element in list l1. \n",
        "#So, modifying any of the elements of list l1 will modify list l2 as well.\n",
        "l1=[[2]]\n",
        "l2=l1*2\n",
        "print (\"L2 is \", l2, \"id  of L2 is \",id(l2))#Output:[[2], [2]]\n",
        "l1[0][0]=99\n",
        "print (\"L1 is \", l1, \"\\tid  of L1 is \",id(l1))#Output:[[99]]\n",
        "print (\"L2 is \", l2, \"id  of L2 is \",id(l2))#Output:[[99], [99]]"
      ],
      "metadata": {
        "id": "MPyM4PEemEnZ"
      },
      "execution_count": null,
      "outputs": []
    },
    {
      "cell_type": "code",
      "source": [
        "#Repetition operator on a nested tuple\n",
        "\n",
        "t1=((2,))\n",
        "t2=t1*2\n",
        "\n",
        "t1=((2,))\n",
        "t2=t1*2\n",
        "print (\"t2 is \", t2, \"id  of t2 is \",id(t2))\n",
        "print (\"t1 is \", t1, \"  id  of t1 is \",id(t1))\n",
        "print (\"t2 is \", t2, \"id  of t2 is \",id(t2))\n"
      ],
      "metadata": {
        "id": "NUn3SMEomKWQ"
      },
      "execution_count": null,
      "outputs": []
    },
    {
      "cell_type": "code",
      "source": [
        "## creating arrays with iterator\n",
        "a1 = [i**2 for i in range(2,10,3)] #create 1D array and initialize each element with 0\n",
        "print(\"\\n1D array created with iterator with 0 values: \",a1)"
      ],
      "metadata": {
        "colab": {
          "base_uri": "https://localhost:8080/"
        },
        "id": "sEvDS7UOJT5Q",
        "outputId": "f55afb5b-0b1f-4653-9a2e-e5d2d14d91bc"
      },
      "execution_count": null,
      "outputs": [
        {
          "output_type": "stream",
          "name": "stdout",
          "text": [
            "\n",
            "1D array created with iterator with 0 values:  [4, 25, 64]\n"
          ]
        }
      ]
    },
    {
      "cell_type": "code",
      "source": [
        "d = [[1] * 3] * 4\n",
        "print(d)"
      ],
      "metadata": {
        "colab": {
          "base_uri": "https://localhost:8080/"
        },
        "id": "5KgCg9OBQ3oT",
        "outputId": "8cb886c7-58c0-45fe-c0d6-431624028297"
      },
      "execution_count": null,
      "outputs": [
        {
          "output_type": "stream",
          "name": "stdout",
          "text": [
            "[[1, 1, 1], [1, 1, 1], [1, 1, 1], [1, 1, 1]]\n"
          ]
        }
      ]
    },
    {
      "cell_type": "code",
      "source": [
        "## arrays using Numpy\n",
        "import numpy as np\n",
        "# create a simple array with Numpy\n",
        "a = np.empty(10, dtype=object)\n",
        "print(a)\n",
        "# create multi-dimensional array by providing shape\n",
        "matrix = np.empty(shape=(3, 4), dtype='object')\n",
        "print(matrix)\n",
        "print(type(a),type(matrix))"
      ],
      "metadata": {
        "id": "mQu_bYofYPKB",
        "colab": {
          "base_uri": "https://localhost:8080/"
        },
        "outputId": "aec398b6-cfe2-4441-d015-a4e4079891c4"
      },
      "execution_count": null,
      "outputs": [
        {
          "output_type": "stream",
          "name": "stdout",
          "text": [
            "[None None None None None None None None None None]\n",
            "[[None None None None]\n",
            " [None None None None]\n",
            " [None None None None]]\n",
            "<class 'numpy.ndarray'> <class 'numpy.ndarray'>\n"
          ]
        }
      ]
    },
    {
      "cell_type": "code",
      "source": [
        "##program to add two vectors\n",
        "v1 = [10,20,30,40] #create a vector V1 with the values of 10, 20, 30, and 40\n",
        "v2 = [11,12,13,14] #create a vector V2 with the values of 11, 12, 13, and 14\n",
        "\n",
        "v = [0 for i in range(4)] #create a vector V and initialize with 0\n",
        "\n",
        "## print(v1+v2) #concatenates\n",
        "for i in range(len(v1)):\n",
        "  v[i] = v1[i] + v2[i] #adds with the respective values in V1 and V2\n",
        "\n",
        "print(v1)\n",
        "print(v2)\n",
        "print(v)"
      ],
      "metadata": {
        "id": "JeMzgLUIYVYg",
        "colab": {
          "base_uri": "https://localhost:8080/"
        },
        "outputId": "170958b1-665b-47f5-ff76-7f708557ed7f"
      },
      "execution_count": null,
      "outputs": [
        {
          "output_type": "stream",
          "name": "stdout",
          "text": [
            "[10, 20, 30, 40]\n",
            "[11, 12, 13, 14]\n",
            "[21, 32, 43, 54]\n"
          ]
        }
      ]
    },
    {
      "cell_type": "code",
      "source": [
        "## 2D Arrays/matrices Method - 1\n",
        "m1 = [[1,2,3], [4,5,6], [7,8,9], [0, -1, 2]] #initialize matrix 1\n",
        "m2 = [[5,6,7], [1,2,3], [7,8,9], [1, 4, 2]] #initialize matrix 2\n",
        "print(\"Matrix 1: \", m1)\n",
        "print(\"Matrix 2: \", m2)\n",
        "\n",
        "#print(m1+m2) #concatenates the elements in both matrices\n",
        "m3 = [[0,0,0], [0,0,0], [0,0,0], [0,0,0]]\n",
        "print(\"Matrix 3: \",m3) #display the matrix\n",
        "\n",
        "#addition\n",
        "for i in range(len(m1)): # iterate through rows\n",
        "  for j in range(len(m1[i])): # iterate through columns\n",
        "    m3[i][j] = m1[i][j] + m2[i][j] # add the respective elements\n",
        "print(\"Resultant:\", m3)\n",
        "\n",
        "#printing the matirx with one loop\n",
        "for i in range(len(m3)): #print one row at a time\n",
        "  print(m3[i])\n",
        "print()\n",
        "\n",
        "#printing the matrix with two loops\n",
        "for i in range(len(m3)):\n",
        "  for j in range(len(m1[1])): #for each row, create for all columns\n",
        "    print(m3[i][j], end=\" \") #print one element at a time\n",
        "  print()"
      ],
      "metadata": {
        "id": "PkqC_gn2Ym_F",
        "colab": {
          "base_uri": "https://localhost:8080/"
        },
        "outputId": "603df5bb-513f-4528-90cc-f06e9f905a71"
      },
      "execution_count": null,
      "outputs": [
        {
          "output_type": "stream",
          "name": "stdout",
          "text": [
            "Matrix 1:  [[1, 2, 3], [4, 5, 6], [7, 8, 9], [0, -1, 2]]\n",
            "Matrix 2:  [[5, 6, 7], [1, 2, 3], [7, 8, 9], [1, 4, 2]]\n",
            "Matrix 3:  [[0, 0, 0], [0, 0, 0], [0, 0, 0], [0, 0, 0]]\n",
            "Resultant: [[6, 8, 10], [5, 7, 9], [14, 16, 18], [1, 3, 4]]\n",
            "[6, 8, 10]\n",
            "[5, 7, 9]\n",
            "[14, 16, 18]\n",
            "[1, 3, 4]\n",
            "\n",
            "10 9 18 \n",
            "10 9 18 \n",
            "10 9 18 \n",
            "10 9 18 \n"
          ]
        }
      ]
    },
    {
      "cell_type": "code",
      "source": [
        "##Matrix Addition Method-2\n",
        "#use of nested loop to iterate through each row and column. \n",
        "#At each point add  the corresponding elements and store in Result\n",
        "m1 = [[1,2,3], [4,5,6], [7,8,9], [0, -1, 2]]\n",
        "m2 = [[5,6,7], [1,2,3], [7,8,9], [1, 4, 2]]\n",
        "print(\"Matrix 1: \", m1)\n",
        "print(\"Matrix 2: \", m2)\n",
        "\n",
        "#print(\"m1+m2\",m1+m2)\n",
        "\n",
        "#m3 = [[None,None,None], [None,None,None], [None,None,None], [None,None,None]]\n",
        "\n",
        "#addition\n",
        "result = [[m1[i][j] +m2[i][j] for j in range(len(m1[0]))] for i in range(len(m1))]\n",
        "print(\"Result is:\", result)\n",
        "print()\n",
        "\n",
        "for i in result:\n",
        "  print(i)"
      ],
      "metadata": {
        "id": "Cge3fp0QYstp",
        "colab": {
          "base_uri": "https://localhost:8080/"
        },
        "outputId": "7a19095b-6028-4dc3-ac85-c45d946b4728"
      },
      "execution_count": 5,
      "outputs": [
        {
          "output_type": "stream",
          "name": "stdout",
          "text": [
            "Matrix 1:  [[1, 2, 3], [4, 5, 6], [7, 8, 9], [0, -1, 2]]\n",
            "Matrix 2:  [[5, 6, 7], [1, 2, 3], [7, 8, 9], [1, 4, 2]]\n",
            "Result is: [[6, 8, 10], [5, 7, 9], [14, 16, 18], [1, 3, 4]]\n",
            "\n",
            "[6, 8, 10]\n",
            "[5, 7, 9]\n",
            "[14, 16, 18]\n",
            "[1, 3, 4]\n"
          ]
        }
      ]
    },
    {
      "cell_type": "code",
      "source": [
        "##Matrix addition Method - 3\n",
        "import numpy as np\n",
        "m1 = [[1,2,3], [4,5,6], [7,8,9], [0, -1, 2]]\n",
        "m2 = [[5,6,7], [1,2,3], [7,8,9], [1, 4, 2]]\n",
        "print(\"Matrix 1: \", m1)\n",
        "print(\"Matrix 2: \", m2)\n",
        "result = np.array(m1) + np.array(m2)\n",
        "print(result)"
      ],
      "metadata": {
        "id": "2HfhzSXrYwHV",
        "colab": {
          "base_uri": "https://localhost:8080/"
        },
        "outputId": "11a12e37-3d09-426f-cf78-ff4a2d718230"
      },
      "execution_count": 6,
      "outputs": [
        {
          "output_type": "stream",
          "name": "stdout",
          "text": [
            "Matrix 1:  [[1, 2, 3], [4, 5, 6], [7, 8, 9], [0, -1, 2]]\n",
            "Matrix 2:  [[5, 6, 7], [1, 2, 3], [7, 8, 9], [1, 4, 2]]\n",
            "[[ 6  8 10]\n",
            " [ 5  7  9]\n",
            " [14 16 18]\n",
            " [ 1  3  4]]\n"
          ]
        }
      ]
    },
    {
      "cell_type": "code",
      "source": [
        "## Matrix addition Method - 4 use of sympy library\n",
        "from sympy import Matrix\n",
        "m1 = [[1,2,3], [4,5,6], [7,8,9], [0, -1, 2]]\n",
        "m2 = [[5,6,7], [1,2,3], [7,8,9], [1, 4, 2]]\n",
        "mat_x = Matrix(m1)\n",
        "mat_y = Matrix(m2)\n",
        "print(\"Matrix 1: \", m1)\n",
        "print(\"Matrix 2: \", m2)\n",
        "result = mat_x + mat_y\n",
        "print(result)\n",
        "for i in range(len(m1)):\n",
        "  for j in range(len(m1[0])):\n",
        "    print(m1[i][j], end=\" \")\n",
        "print()"
      ],
      "metadata": {
        "id": "5vuXVSqQYyqM",
        "colab": {
          "base_uri": "https://localhost:8080/"
        },
        "outputId": "cffbe5c1-c309-4e86-f887-5cfcb4ebbfc5"
      },
      "execution_count": 7,
      "outputs": [
        {
          "output_type": "stream",
          "name": "stdout",
          "text": [
            "Matrix 1:  [[1, 2, 3], [4, 5, 6], [7, 8, 9], [0, -1, 2]]\n",
            "Matrix 2:  [[5, 6, 7], [1, 2, 3], [7, 8, 9], [1, 4, 2]]\n",
            "Matrix([[6, 8, 10], [5, 7, 9], [14, 16, 18], [1, 3, 4]])\n",
            "1 2 3 4 5 6 7 8 9 0 -1 2 \n"
          ]
        }
      ]
    },
    {
      "cell_type": "code",
      "source": [
        "## Matrix Addition\n",
        "# Method - 4. use of nested list comprehension to iterate through each element in the matrix.\n",
        "# List comprehension allows to write concise codes and must try to use them frequently in Python.\n",
        "# zip() function accepts iterator i of each element (list) of matrix, mapping \n",
        "#them, adding them using sum and storing them in map form\n",
        "m1 = [[1,2,3], [4,5,6], [7,8,9], [0, -1, 2]]\n",
        "m2 = [[5,6,7], [1,2,3], [7,8,9], [1, 4, 2]]\n",
        "print(\"Matrix 1: \", m1)\n",
        "print(\"Matrix 2: \", m2)\n",
        "result = [map(sum, zip(*t)) for t in zip(m1,m2)]\n",
        "print(\"Result: \", result)"
      ],
      "metadata": {
        "id": "dkCadlxkY1Ew"
      },
      "execution_count": null,
      "outputs": []
    },
    {
      "cell_type": "code",
      "source": [
        "#### Write a Python program to find the largest number from a given list of elements.\n",
        "## array as a list\n",
        "n =int(input(\"How many numbers: \"))\n",
        "l = []\n",
        "max = -9999\n",
        "print(\"Enter the Numbers:\")\n",
        "for i in range(n):\n",
        "  a = int(input(\"Enter the next item: \"))\n",
        "  l.append(a)\n",
        "  if a>max:\n",
        "    max = a\n",
        "print(\"Given list: \",l)\n",
        "print(\"Largest is: \", max)"
      ],
      "metadata": {
        "id": "rZKdg_0NY7bT",
        "colab": {
          "base_uri": "https://localhost:8080/"
        },
        "outputId": "e97eebdc-8a99-453e-8f68-3fc73b83dd40"
      },
      "execution_count": 8,
      "outputs": [
        {
          "output_type": "stream",
          "name": "stdout",
          "text": [
            "How many numbers: 5\n",
            "Enter the Numbers:\n",
            "Enter the next item: 12\n",
            "Enter the next item: 45\n",
            "Enter the next item: -9\n",
            "Enter the next item: 23\n",
            "Enter the next item: 67\n",
            "Given list:  [12, 45, -9, 23, 67]\n",
            "Largest is:  67\n"
          ]
        }
      ]
    },
    {
      "cell_type": "code",
      "source": [
        "## linear search version 1\n",
        "import array as ar\n",
        "n=int(input(\"How many numbers: \")) # Read the size of list\n",
        "a=ar.array('i',[0 for i in range(n)]) #create an array with 'n' zeros\n",
        "\n",
        "print(\"Enter \",n, \"elements: \")\n",
        "for i in range(len(a)): # loop to get 'n' elements\n",
        "  a[i]=int(input())\n",
        "\n",
        "x=int(input(\"Enter the element to be searched: \"))\n",
        "print(\"Given elements: \", a)\n",
        "flag=0 #set the flag to 0, assuming the  element is not there in the list\n",
        "for i in a: #iterate the loop until 'x' is found or the list exhausted\n",
        "  if x==i:\n",
        "    flag=1 # if found, set the flag to 1 and break the loop\n",
        "    break\n",
        "if flag==1:\n",
        "  print(x, \"is there in the list.......\")\n",
        "else:\n",
        "  print(x, \"is NOT there in the list !!!!!!!!!!!\")"
      ],
      "metadata": {
        "id": "mqPFG-MqZC_4"
      },
      "execution_count": null,
      "outputs": []
    },
    {
      "cell_type": "code",
      "source": [
        "## linear search version 2\n",
        "import array as ar\n",
        "n=int(input(\"How many numbers: \"))\n",
        "a=ar.array('i',[0 for i in range(n)]) #create an array with 'n' zeros\n",
        "print(\"Enter \",n, \"elements: \")\n",
        "for i in range(len(a)):\n",
        "  a[i]=int(input())\n",
        "\n",
        "x=int(input(\"Enter the element to be searched: \"))\n",
        "print(\"Given elements: \", a)\n",
        "flag=0\n",
        "for i in range(len(a)):\n",
        "  if a[i]==x:\n",
        "    flag=1\n",
        "    break\n",
        "if flag==1:\n",
        "  print(x, \"is there in the list at position \", i)\n",
        "else:\n",
        "  print(x, \"is NOT there in the list !!!!!!!!!!!\")"
      ],
      "metadata": {
        "id": "oEnsmmRGZGxy"
      },
      "execution_count": null,
      "outputs": []
    },
    {
      "cell_type": "code",
      "source": [
        "## linear search version 3\n",
        "import array as ar\n",
        "\n",
        "n=int(input(\"How many numbers: \")) # Read the size of list\n",
        "a=ar.array('i',[0 for i in range(n)]) #create an array with 'n' zeros\n",
        "print(\"Enter \",n, \"elements: \")\n",
        "\n",
        "for i in range(len(a)): #loop to read n elements\n",
        "  a[i]=int(input())\n",
        "\n",
        "x=int(input(\"Enter the element to be searched: \"))\n",
        "print(\"Given elements: \", a)\n",
        "flag=0\n",
        "\n",
        "if x in a: # 'in' operator here searches the list for x. If found it returs TRUE\n",
        "  print(x, \"is there in the list.......\")\n",
        "else:\n",
        "  print(x, \"is NOT there in the list !!!!!!!!\")"
      ],
      "metadata": {
        "id": "G6Ztr1LoZI5t"
      },
      "execution_count": null,
      "outputs": []
    },
    {
      "cell_type": "code",
      "source": [
        "## linear search version 4\n",
        "## using a function\n",
        "import array as ar\n",
        "def linear_search(a,n,x): # function definition\n",
        "  for i in range(n):\n",
        "    if a[i] == x: # check whether 'x' is there in the list\n",
        "      return i # return the position 'i' if 'x' is found\n",
        "  return -1 # function returns -1 if the list is exhausted\n",
        "\n",
        "n=int(input(\"How many numbers: \"))\n",
        "a=ar.array('i',[0 for i in range(n)]) #create an array with 'n' zeros\n",
        "print(\"Enter \",n, \"elements: \")\n",
        "\n",
        "for i in range(len(a)): #read n elements\n",
        "  a[i]=int(input())\n",
        "\n",
        "x=int(input(\"Enter the element to be searched: \"))\n",
        "print(\"Given elements: \", a)\n",
        "\n",
        "s = linear_search(a,n,x) #call the function linear_search()\n",
        "\n",
        "if (s!=-1): #if the value retured by the function call is not -1 ,print 'x' is at position 's'\n",
        "  print(x, \"is there in the list at position \",s)\n",
        "else:\n",
        "  print(x, \"is NOT there in the list !!!!!!!!!!!\")"
      ],
      "metadata": {
        "id": "_s4445JrZLub"
      },
      "execution_count": null,
      "outputs": []
    },
    {
      "cell_type": "code",
      "source": [
        "##binary search\n",
        "n =int(input(\"How many elements: \"))\n",
        "a=[0]*n\n",
        "print(\"Enter \", n, \"numbers: \")\n",
        "for i in range(n): #read 'n' elements from the user\n",
        "  a[i] = int(input())\n",
        "\n",
        "x= int(input(\"Enter the element to be searched: \"))\n",
        "low = 0\n",
        "high = n-1\n",
        "found = 0\n",
        "while (low <= high): #repeat until the lower bound exceeds of item is found\n",
        "  mid = (low +high)//2 # find the middle position\n",
        "  if(a[mid] == x): # if the middle element is 'x' then terminate the loop by changing the found as 1\n",
        "    found = 1\n",
        "    break\n",
        "  elif a[mid] < x: # if middle element is less than 'x', then change the lower bound to mid+1\n",
        "    low = mid +1\n",
        "  else: # if midle element is greater than 'x' then change the upper bound to mid-1\n",
        "    high = mid-1\n",
        "print(\"Given list is: \", a)\n",
        "\n",
        "if (found == 1): #if the loop terminated by changing the found value a 1, then the element is there\n",
        "  print(x, \"is there in the list at \", mid)\n",
        "else:\n",
        "  print(x, \"is NOT there in the list\")\n",
        "## Write a Python program to count the number of"
      ],
      "metadata": {
        "id": "4r6QqSIUZOBC"
      },
      "execution_count": null,
      "outputs": []
    },
    {
      "cell_type": "code",
      "source": [
        "## Write a Python program to count the number of characters (character frequency) in a string.\n",
        "arr=input(\"Enter a string:\")\n",
        "fr = [0]*len(arr) #create a frequency vector of size 'arr' and \n",
        "initialize with 0\n",
        "visited = -1;\n",
        "for i in range(len(arr)):\n",
        "  count=1\n",
        "for j in range(i+1, len(arr)):\n",
        "  if(arr[i] == arr[j]):\n",
        "    count = count +1 #To avoid counting same element again\n",
        "    fr[j] = visited\n",
        "    if(fr[i] == visited):\n",
        "      fr[i] = count\n",
        "#Displays the frequency of each element present in array\n",
        "print(fr)\n",
        "print(\"---------------------\");\n",
        "print(\"|Element | Frequency|\");\n",
        "print(\"---------------------\");\n",
        "\n",
        "for i in range(0, len(fr)):\n",
        "  if (fr[i] != visited):\n",
        "print(\"|\",arr[i], \" | \", fr[i], \" |\")\n",
        "print(\"---------------------\")"
      ],
      "metadata": {
        "id": "WyihiPBzZQXz"
      },
      "execution_count": null,
      "outputs": []
    },
    {
      "cell_type": "code",
      "source": [
        "def add_string(str1):\n",
        "  length = len(str1)\n",
        "  if length > 2:\n",
        "    if str1[-3:] == 'ing':\n",
        "      str1 += 'ly'\n",
        "    else:\n",
        "      str1 += 'ing'\n",
        "  return str1\n",
        "\n",
        "print(add_string('ab'))\n",
        "print(add_string('abc'))\n",
        "print(add_string('string'))"
      ],
      "metadata": {
        "id": "BI80VU_EZS3q"
      },
      "execution_count": null,
      "outputs": []
    },
    {
      "cell_type": "code",
      "source": [
        "def word_count(str):\n",
        "  counts = dict()\n",
        "  words = str.split()\n",
        "  for word in words:\n",
        "    if word in counts:\n",
        "      counts[word] += 1\n",
        "    else:\n",
        "      counts[word] = 1\n",
        "  return counts\n",
        "\n",
        "print(word_count(\"Chaitanya Bharathi Chaitanya Bharathi Hyderabad, Gandipt.\"))"
      ],
      "metadata": {
        "id": "uKHitwLOZUa5"
      },
      "execution_count": null,
      "outputs": []
    },
    {
      "cell_type": "code",
      "source": [
        "##build a substring with the characters at even positions\n",
        "str= input(\"Enter a string: \")\n",
        "result=\"\"\n",
        "for i in range(len(str)):\n",
        "  if i%2==0:\n",
        "    result = result + str[i]\n",
        "\n",
        "print(\"Geven string: \", str)\n",
        "print(\"New string:\", result)"
      ],
      "metadata": {
        "id": "KA-9d60fZZDe"
      },
      "execution_count": null,
      "outputs": []
    },
    {
      "cell_type": "code",
      "source": [
        "##Matrix addition using lists\n",
        "a=[] #construction of matrix A\n",
        "for i in range(5):\n",
        "  r=[]\n",
        "  for j in range(4):\n",
        "    r.append(i)\n",
        "  a.append(r)\n",
        "print(\"\\nMatrix A: \")\n",
        "\n",
        "for i in range(5):\n",
        "  print(a[i])\n",
        "\n",
        "b=[] #construction of matrix B\n",
        "for i in range(5):\n",
        "  r=[]\n",
        "  for j in range(4):\n",
        "    r.append(i)\n",
        "b.append(r)\n",
        "print(\"\\nMatrix B: \")\n",
        "for i in range(5):\n",
        "  print(b[i])\n",
        "\n",
        "c=[] #construction of matrix C by adding A and B\n",
        "for i in range(5):\n",
        "  r=[]\n",
        "  for j in range(4):\n",
        "    r.append(a[i][j]+b[i][j])\n",
        "  c.append(r)\n",
        "print(\"\\nResultant matrix: \")\n",
        "\n",
        "for i in range(5):\n",
        "  for j in range(4):\n",
        "    print(c[i][j], end=\" \")\n",
        "\n",
        "print(\"\")"
      ],
      "metadata": {
        "id": "zrx9e8ZjZcJp"
      },
      "execution_count": null,
      "outputs": []
    },
    {
      "cell_type": "code",
      "source": [
        "##User defined data types\n",
        "#Linked List\n",
        "llist = ['1. CBIT', '2. MGIT', '3. Vasavi ']\n",
        "print(llist)\n",
        "# print(id(llist[0]), id(llist[1]), id(llist[2]))\n",
        "\n",
        "## adding elements\n",
        "llist.append('4. OUCE ')\n",
        "llist.append('5. MVSR')\n",
        "llist.insert(3, '6. JNTUH')\n",
        "print(llist)\n",
        "#print(id(llist[0]), id(llist[1]), id(llist[2]), id(llist[3]), id(llist[4]),  id(llist[5]))\n",
        "#print(id(llist[2]))\n",
        "llist.remove('6. JNTUH')\n",
        "print(llist)\n",
        "#print(id(llist[0]), id(llist[1]), id(llist[2]), id(llist[3]), id(llist[4]))\n",
        "print()"
      ],
      "metadata": {
        "id": "RkX-0YTKZfD1"
      },
      "execution_count": null,
      "outputs": []
    },
    {
      "cell_type": "code",
      "source": [
        "##Stack\n",
        "stack = ['CBIT', 'MGIT', 'OUCE']\n",
        "print(\"Stack elements: \", stack)\n",
        "\n",
        "# pushing elements\n",
        "stack.append('VASAVI')\n",
        "stack.append('MVSREC')\n",
        "print(\"Stack after 2 pushes: \", stack)\n",
        "\n",
        "# printing top\n",
        "n = len(stack)\n",
        "print(\"Top element: \", stack[n-1])\n",
        "print()\n",
        "\n",
        "# popping element\n",
        "stack.pop()\n",
        "print(\"Stack after pop(): \", stack)"
      ],
      "metadata": {
        "id": "YmLEbQQ1Zglr"
      },
      "execution_count": null,
      "outputs": []
    },
    {
      "cell_type": "code",
      "source": [
        "## Queues\n",
        "queue = ['CBIT', 'MGIT', 'OUCE']\n",
        "print(\"Queue: \", queue)\n",
        "\n",
        "# pushing elements\n",
        "queue.append('MVSR')\n",
        "queue.append('JNTUH')\n",
        "\n",
        "print(\"Queue after inserting two elements: \", queue)\n",
        "# printing head\n",
        "print(\"1st element: \", queue[0])\n",
        "# printing tail\n",
        "n = len(queue)\n",
        "print(\"Last element in the queue: \", queue[n-1])\n",
        "# popping element\n",
        "queue.remove(queue[0])\n",
        "print(\"Queue after remove operation: \", queue)"
      ],
      "metadata": {
        "id": "EJMZzyGqZiyS"
      },
      "execution_count": null,
      "outputs": []
    },
    {
      "cell_type": "code",
      "source": [
        "def printdict(d):\n",
        "  for key in d:\n",
        "    print(key, \"->\", d[key])\n",
        "\n",
        "hm = {1: 'CBIT', 2:'MGIT', 3:'VASAVI'}\n",
        "\n",
        "printdict(hm)\n",
        "print()\n",
        "\n",
        "hm[3] = \"OUCE\"\n",
        "printdict(hm)\n",
        "print()\n",
        "\n",
        "hm.popitem()\n",
        "printdict(hm)"
      ],
      "metadata": {
        "id": "sIBGeJx6ZoyZ"
      },
      "execution_count": null,
      "outputs": []
    },
    {
      "cell_type": "code",
      "source": [
        "hrs = int(input(\"Enter the browsing hours: \"))\n",
        "mts = int(input(\"Enter the browsing minutes: \"))\n",
        "mhrs = hrs // 5 # multiples of 5 hours\n",
        "rhr= hrs % 5 # remaing hours\n",
        "Bill = mhrs * 200 + rhr * 50 + mts * 1\n",
        "print(\"Total bill amount: \", Bill)\n",
        "##as per your interpretation this will work correctly up to the hours is less than 10\n",
        "if (hrs > 5):\n",
        "  bill = 200 + (hrs-5) * 50 + mts * 1\n",
        "elif (hrs<5 and hrs>1):\n",
        "  bill = hrs * 50 + mts *1\n",
        "else:\n",
        "  bill = mts *1\n",
        "print(\"Bill amount: \", bill)"
      ],
      "metadata": {
        "id": "KqLL6C04Zqt0"
      },
      "execution_count": null,
      "outputs": []
    },
    {
      "cell_type": "code",
      "source": [
        "# Program to check Armstrong numbers in a certain interval i.e. 1 to 2000\n",
        "lower = 1\n",
        "upper = 2000\n",
        "for num in range(lower, upper + 1): #take a number\n",
        "  temp = num\n",
        "  order = 0\n",
        "  while temp: #compute the length of the number\n",
        "    temp = temp//10\n",
        "    order = order + 1\n",
        "\n",
        "  #print(\"order of\", num)\n",
        "  sum = 0 # initialize sum\n",
        "  temp = num\n",
        "  while temp:\n",
        "    digit = temp % 10\n",
        "    sum += digit ** order #add the digit raised to the power of the number of digits in a given number\n",
        "\n",
        "  #print(digit, end=\" \")\n",
        "  temp = temp // 10\n",
        "  if (sum == num):\n",
        "    print(num, end = \" \")"
      ],
      "metadata": {
        "id": "dQCi2ItdZtvC"
      },
      "execution_count": null,
      "outputs": []
    },
    {
      "cell_type": "code",
      "source": [
        "##Graphs\n",
        "class node:\n",
        "    def __init__(self, ele):\n",
        "      self.ele = ele\n",
        "      self.left = None\n",
        "      self.right= None\n",
        "\n",
        "def preorder(self):\n",
        "  if self:\n",
        "    print(self.ele)\n",
        "    preorder(self.left)\n",
        "    preorder(self.right)\n",
        "\n",
        "n = node('first')\n",
        "n.left = node('second')\n",
        "n.right = node('third')\n",
        "\n",
        "preorder(n)"
      ],
      "metadata": {
        "id": "rEIt5wqGZl1m"
      },
      "execution_count": null,
      "outputs": []
    }
  ]
}