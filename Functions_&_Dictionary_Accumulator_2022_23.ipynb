{
  "nbformat": 4,
  "nbformat_minor": 0,
  "metadata": {
    "colab": {
      "provenance": [],
      "authorship_tag": "ABX9TyNFxYjOmrD7+dHujBWORNtT",
      "include_colab_link": true
    },
    "kernelspec": {
      "name": "python3",
      "display_name": "Python 3"
    },
    "language_info": {
      "name": "python"
    }
  },
  "cells": [
    {
      "cell_type": "markdown",
      "metadata": {
        "id": "view-in-github",
        "colab_type": "text"
      },
      "source": [
        "<a href=\"https://colab.research.google.com/github/Prathima-tr/Problem-Solving-and-Programming/blob/main/Functions_%26_Dictionary_Accumulator_2022_23.ipynb\" target=\"_parent\"><img src=\"https://colab.research.google.com/assets/colab-badge.svg\" alt=\"Open In Colab\"/></a>"
      ]
    },
    {
      "cell_type": "markdown",
      "source": [
        "Tony Gaddis, Starting out with python"
      ],
      "metadata": {
        "id": "2qeyos6Cn6WS"
      }
    },
    {
      "cell_type": "markdown",
      "metadata": {
        "id": "nGtxoOWp8oLa"
      },
      "source": [
        "\n",
        "\n",
        "```\n",
        "# This is formatted as code\n",
        "```\n",
        "\n",
        "This notebook is for illustrating function related concepts in python"
      ]
    },
    {
      "cell_type": "code",
      "metadata": {
        "colab": {
          "base_uri": "https://localhost:8080/"
        },
        "id": "rcfnlExesjj6",
        "outputId": "3079e984-81e5-47e7-bf41-dcf887a88672"
      },
      "source": [
        "### Passing arguments to functions ###\n",
        "\n",
        "\n",
        "\n",
        "def show_double(number):    # function definition - Parameter\n",
        "  result = number * 2\n",
        "  print(\"id of parameter number is\",id(number))         #id function returns the id of object \n",
        "  number**=2\n",
        "  print(\"id of parameter number after modification is\",id(number))\n",
        "  print(result)\n",
        "\n",
        "main()\n",
        "\n",
        "def main():                 # Calling function\n",
        "  value = 5\n",
        "  print(\"id of argument value is\",id(value))\n",
        "  show_double(value)        #Function call - Called Function - argument"
      ],
      "execution_count": null,
      "outputs": [
        {
          "output_type": "stream",
          "name": "stdout",
          "text": [
            "id of argument value is 9793216\n",
            "id of parameter number is 9793216\n",
            "id of parameter number after modification is 9793856\n",
            "10\n"
          ]
        }
      ]
    },
    {
      "cell_type": "code",
      "metadata": {
        "colab": {
          "base_uri": "https://localhost:8080/"
        },
        "id": "HVYvfv22tLla",
        "outputId": "20e54565-7236-4d66-c9e1-87982ac1db41"
      },
      "source": [
        "### Passing Multiple Arguments ###\n",
        "# This program demonstrates a function that accepts two arguments.\n",
        "\n",
        "def main():\n",
        "  #print('The sum of 12 and 45 is')\n",
        "  show_sum(\"B\", \"A\")\n",
        "\n",
        "# The show_sum function accepts two arguments and displays their sum.\n",
        "def show_sum(num1, num2):\n",
        "  result = num1 + num2\n",
        "  print(result)\n",
        "\n",
        "# Call the main function.\n",
        "main()"
      ],
      "execution_count": null,
      "outputs": [
        {
          "output_type": "stream",
          "name": "stdout",
          "text": [
            "BA\n"
          ]
        }
      ]
    },
    {
      "cell_type": "code",
      "metadata": {
        "colab": {
          "base_uri": "https://localhost:8080/"
        },
        "id": "0DM9TOext9RG",
        "outputId": "a78f03a8-9839-40dc-c3e6-4976d92bb351"
      },
      "source": [
        "# This program demonstrates passing two string\n",
        "# arguments to a function.\n",
        "\n",
        "def main():\n",
        "  first_name = input('Enter your first name: ')\n",
        "  last_name = input('Enter your last name: ')\n",
        "  print('Your name reversed is')\n",
        "  reverse_name(first_name, last_name)\n",
        "\n",
        "def reverse_name(first, last):\n",
        "  print(last, first)\n",
        "\n",
        "# Call the main function.\n",
        "main()"
      ],
      "execution_count": null,
      "outputs": [
        {
          "output_type": "stream",
          "name": "stdout",
          "text": [
            "Enter your first name: Sir\n",
            "Enter your last name: CRRP\n",
            "Your name reversed is\n",
            "CRRP Sir\n"
          ]
        }
      ]
    },
    {
      "cell_type": "code",
      "metadata": {
        "colab": {
          "base_uri": "https://localhost:8080/"
        },
        "id": "HnaS8oUDuF0I",
        "outputId": "42fd082b-566d-4ebd-d246-32d066527274"
      },
      "source": [
        "### Making Changes to Parameters ###\n",
        "#When an argument is passed to a function in Python, the function parameter variable will\n",
        "#reference the argument’s value. However, any changes that are made to the parameter variable\n",
        "#will not affect the argument.\n",
        "def main():\n",
        "  value = 99\n",
        "  print('The value is', value)\n",
        "  change_me(value)\n",
        "  print('Back in main the value is', value)\n",
        "\n",
        "def change_me(arg):\n",
        "  print('value received into arg parameter',arg)\n",
        "  print('I am changing the value.')\n",
        "  arg = 0\n",
        "  print('Now the value is', arg)\n",
        "\n",
        "# Call the main function.\n",
        "main()"
      ],
      "execution_count": null,
      "outputs": [
        {
          "output_type": "stream",
          "name": "stdout",
          "text": [
            "The value is 99\n",
            "value received into arg parameter 99\n",
            "I am changing the value.\n",
            "Now the value is 0\n",
            "Back in main the value is 99\n"
          ]
        }
      ]
    },
    {
      "cell_type": "code",
      "metadata": {
        "colab": {
          "base_uri": "https://localhost:8080/"
        },
        "id": "Z--GljCIuvgp",
        "outputId": "2a5c08bf-c123-4e21-b939-015c6e9c90bc"
      },
      "source": [
        "#In addition to this conventional form of argument passing, the Python\n",
        "#language allows you to write an argument in the following format, to specify which parameter\n",
        "#variable the argument should be passed to:     parameter_name=value\n",
        "#In this format, parameter_name is the name of a parameter variable and value is the value\n",
        "#being passed to that parameter. An argument that is written in accordance with this syntax\n",
        "#is known as a keyword argument.\n",
        "\n",
        "def main():\n",
        "# Show the amount of simple interest, using 0.01 as\n",
        "# interest rate per period, 10 as the number of periods,\n",
        "# and $10,000 as the principal.\n",
        "  show_interest(rate=0.01, periods=10, principal=10000.0)\n",
        "\n",
        "# The show_interest function displays the amount of\n",
        "# simple interest for a given principal, interest rate\n",
        "# per period, and number of periods.\n",
        "\n",
        "def show_interest(principal, rate, periods):\n",
        "  interest = principal * rate * periods\n",
        "  print('The simple interest will be $', interest)\n",
        "\n",
        "# Call the main function.\n",
        "main()"
      ],
      "execution_count": null,
      "outputs": [
        {
          "output_type": "stream",
          "name": "stdout",
          "text": [
            "The simple interest will be $ 1000.0\n"
          ]
        }
      ]
    },
    {
      "cell_type": "code",
      "metadata": {
        "colab": {
          "base_uri": "https://localhost:8080/"
        },
        "id": "pBasXt9-vTXP",
        "outputId": "8d03d220-9926-42b8-be71-e6cdae2185e8"
      },
      "source": [
        "#Global Variables and Global Constants\n",
        "# A global variable is accessible to all the functions in a program file.\n",
        "\n",
        "# Create a global variable.\n",
        "my_value = 10\n",
        "\n",
        "# The show_value function prints the value of the global variable.\n",
        "def show_value():\n",
        "  print(my_value)\n",
        "\n",
        "# Call the show_value function.\n",
        "show_value()"
      ],
      "execution_count": null,
      "outputs": [
        {
          "output_type": "stream",
          "text": [
            "10\n"
          ],
          "name": "stdout"
        }
      ]
    },
    {
      "cell_type": "code",
      "metadata": {
        "colab": {
          "base_uri": "https://localhost:8080/"
        },
        "id": "mNO6NJyVvzC3",
        "outputId": "747b0497-0100-4122-e66a-a81b252a023e"
      },
      "source": [
        "#An additional step is required if you want a statement in a function to \n",
        "#assign a value to a global variable. In the function you must declare the \n",
        "#global variable,\n",
        "# Create a global variable.\n",
        "number = 0\n",
        "\n",
        "\n",
        "def main():\n",
        "  global number\n",
        "  print(\"id of global variable number before updation is\", id(number))\n",
        "  print(\"value of global variable number before updation is\", number)\n",
        "  number = int(input('Enter a number: '))\n",
        "  show_number()\n",
        "\n",
        "def show_number():\n",
        "  print(\"id of global variable number after updation is\", id(number))\n",
        "  print('The number you entered is', number)\n",
        "\n",
        "# Call the main function.\n",
        "main()"
      ],
      "execution_count": null,
      "outputs": [
        {
          "output_type": "stream",
          "name": "stdout",
          "text": [
            "id of global variable number before updation is 9793056\n",
            "value of global variable number before updation is 0\n",
            "Enter a number: 12\n",
            "id of global variable number before updation is 9793440\n",
            "The number you entered is 12\n"
          ]
        }
      ]
    },
    {
      "cell_type": "code",
      "source": [
        "c = 1 # global variable\n",
        "\n",
        "def add():\n",
        "    print(c)\n",
        "\n",
        "add()\n",
        "\n",
        "# Output: 1"
      ],
      "metadata": {
        "colab": {
          "base_uri": "https://localhost:8080/"
        },
        "id": "lRJLbIuD2KLa",
        "outputId": "18661bff-152f-4f7e-d398-67cbfebd6ea1"
      },
      "execution_count": null,
      "outputs": [
        {
          "output_type": "stream",
          "name": "stdout",
          "text": [
            "1\n"
          ]
        }
      ]
    },
    {
      "cell_type": "code",
      "source": [
        "# global variable\n",
        "c = 1 \n",
        "\n",
        "def add():\n",
        "    global c\n",
        "    c=c*10\n",
        "    print(c)\n",
        "\n",
        "add()"
      ],
      "metadata": {
        "colab": {
          "base_uri": "https://localhost:8080/"
        },
        "id": "Kle8MTS12NOG",
        "outputId": "25d89294-ad73-4a8d-cc54-b08c048a2e1d"
      },
      "execution_count": null,
      "outputs": [
        {
          "output_type": "stream",
          "name": "stdout",
          "text": [
            "10\n"
          ]
        }
      ]
    },
    {
      "cell_type": "code",
      "source": [
        "# global variable\n",
        "c = 1 \n",
        "\n",
        "def add():\n",
        "\n",
        "    # use of global keyword\n",
        "    global c\n",
        "\n",
        "    # increment c by 2\n",
        "    c = c + 2 \n",
        "\n",
        "    print(c)\n",
        "\n",
        "add()\n",
        "\n",
        "# Output: 3 "
      ],
      "metadata": {
        "colab": {
          "base_uri": "https://localhost:8080/"
        },
        "id": "_gHvhKU62RXG",
        "outputId": "d15406cb-8a94-4be2-b3b1-8be397d49880"
      },
      "execution_count": null,
      "outputs": [
        {
          "output_type": "stream",
          "name": "stdout",
          "text": [
            "3\n"
          ]
        }
      ]
    },
    {
      "cell_type": "code",
      "source": [
        "#Global in nested functions\n",
        "def outer_function():\n",
        "    num = 20\n",
        "\n",
        "    def inner_function():\n",
        "        global num\n",
        "        num = 25\n",
        "    \n",
        "    print(\"Before calling inner_function(): \", num)\n",
        "    inner_function()\n",
        "    print(\"After calling inner_function(): \", num)\n",
        "\n",
        "outer_function()\n",
        "print(\"Outside both function: \", num)"
      ],
      "metadata": {
        "colab": {
          "base_uri": "https://localhost:8080/"
        },
        "id": "YigQRoG02WTd",
        "outputId": "7a632986-dec4-481f-9f1e-0d4d0bac0bc7"
      },
      "execution_count": null,
      "outputs": [
        {
          "output_type": "stream",
          "name": "stdout",
          "text": [
            "Before calling inner_function():  20\n",
            "After calling inner_function():  20\n",
            "Outside both function:  25\n"
          ]
        }
      ]
    },
    {
      "cell_type": "markdown",
      "source": [
        "Rules of global Keyword\n",
        "The basic rules for global keyword in Python are:\n",
        "\n",
        "When we create a variable inside a function, it is local by default.\n",
        "\n",
        "When we define a variable outside of a function, it is global by default. You don't have to use the global keyword.\n",
        "\n",
        "We use the global keyword to read and write a global variable inside a function.\n",
        "\n",
        "Use of the global keyword outside a function has no effect."
      ],
      "metadata": {
        "id": "x4Twxbay2dq6"
      }
    },
    {
      "cell_type": "code",
      "metadata": {
        "colab": {
          "base_uri": "https://localhost:8080/"
        },
        "id": "TclV3GQuwBVB",
        "outputId": "928c8605-d13d-4915-a29d-2cc55e0ea08a"
      },
      "source": [
        "### Value-Returning Functions ###\n",
        "#A value-returning function has a return statement that returns a value\n",
        "#back to the part of the program that called it.\n",
        "\n",
        "def sum(num1, num2):\n",
        "  result = num1 + num2\n",
        "  return result   #control goes back to the calling fn\n",
        "  print('Hai all')\n",
        "\n",
        "print(sum(10, 20))\n",
        "\n",
        "#print(30)\n"
      ],
      "execution_count": null,
      "outputs": [
        {
          "output_type": "stream",
          "name": "stdout",
          "text": [
            "30\n"
          ]
        }
      ]
    },
    {
      "cell_type": "code",
      "metadata": {
        "colab": {
          "base_uri": "https://localhost:8080/",
          "height": 52
        },
        "id": "7-tBrA7Fw40C",
        "outputId": "ed23e555-ee8d-43a5-d789-4fedb455664a"
      },
      "source": [
        "def get_name():\n",
        "  # Get the user's name.\n",
        "  name = input('Enter your name: ')\n",
        "  # Return the name.\n",
        "  return name\n",
        "\n",
        "get_name()"
      ],
      "execution_count": null,
      "outputs": [
        {
          "output_type": "stream",
          "text": [
            "Enter your name: cbit\n"
          ],
          "name": "stdout"
        },
        {
          "output_type": "execute_result",
          "data": {
            "application/vnd.google.colaboratory.intrinsic+json": {
              "type": "string"
            },
            "text/plain": [
              "'cbit'"
            ]
          },
          "metadata": {
            "tags": []
          },
          "execution_count": 15
        }
      ]
    },
    {
      "cell_type": "code",
      "metadata": {
        "colab": {
          "base_uri": "https://localhost:8080/"
        },
        "id": "m_k1ug1WxEps",
        "outputId": "a05cce38-bc16-4e4d-f168-6bdaad89e788"
      },
      "source": [
        "### Returning Multiple values ###\n",
        "def get_name():\n",
        "  # Get the user's first and last names.\n",
        "  first = input('Enter your first name: ')\n",
        "  last = input('Enter your last name: ')\n",
        "  # Return both names.\n",
        "  print(first, last)\n",
        "  return last, first\n",
        "\n",
        "#ln,fn = get_name()\n",
        "fn=get_name()\n",
        "print(type(fn))\n",
        "print(fn)\n",
        "\n",
        "#=get_name()\n",
        "#print(fn,ln)\n",
        "#print(type(fn),type(ln))"
      ],
      "execution_count": null,
      "outputs": [
        {
          "output_type": "stream",
          "name": "stdout",
          "text": [
            "Enter your first name: CBIT\n",
            "Enter your last name: Hyd\n",
            "CBIT Hyd\n",
            "<class 'tuple'>\n",
            "('Hyd', 'CBIT')\n"
          ]
        }
      ]
    },
    {
      "cell_type": "code",
      "source": [
        "h=print(20)\n",
        "print(h)"
      ],
      "metadata": {
        "colab": {
          "base_uri": "https://localhost:8080/"
        },
        "id": "OCsy_NMo23OP",
        "outputId": "928d1e50-1383-45bb-d1b3-6b081f46f12b"
      },
      "execution_count": null,
      "outputs": [
        {
          "output_type": "stream",
          "name": "stdout",
          "text": [
            "20\n",
            "None\n"
          ]
        }
      ]
    },
    {
      "cell_type": "code",
      "source": [
        "#Keyword only arguments\n",
        "def nameAge(name, age):\n",
        "\tprint(\"Hi, I am\", name)\n",
        "\tprint(\"My age is \", age)\n",
        "\n",
        "nameAge(name=\"Prince\", age=20)\n",
        "\n",
        "nameAge(age=20, name=\"Prince\")\n"
      ],
      "metadata": {
        "id": "rYz9AGao4RWy"
      },
      "execution_count": null,
      "outputs": []
    },
    {
      "cell_type": "code",
      "source": [
        "#Position only arguments\n",
        "def nameAge(name, age):\n",
        "\tprint(\"Hi, I am\", name)\n",
        "\tprint(\"My age is \", age)\n",
        "\n",
        "# You will get correct output because argument is given in order\n",
        "print(\"Case-1:\")\n",
        "nameAge(\"Prince\", 20)\n",
        "# You will get incorrect output because argument is not in order\n",
        "print(\"\\nCase-2:\")\n",
        "nameAge(20, \"Prince\")\n",
        "\n",
        "print(\"\\nCase-3 - First positional arguments followed by keyword arguments\")\n",
        "nameAge(\"Prince\",age=30)\n",
        "\n",
        "print(\"\\nCase-4 - keyword arguments followed by positional will report error\")\n",
        "nameAge(age=30,\"Prince\")"
      ],
      "metadata": {
        "id": "RBb3PcfN4YHz",
        "colab": {
          "base_uri": "https://localhost:8080/",
          "height": 131
        },
        "outputId": "0a2a7440-267e-4da5-97a8-8e07cceb910b"
      },
      "execution_count": null,
      "outputs": [
        {
          "output_type": "error",
          "ename": "SyntaxError",
          "evalue": "ignored",
          "traceback": [
            "\u001b[0;36m  File \u001b[0;32m\"<ipython-input-4-20e0de7e5556>\"\u001b[0;36m, line \u001b[0;32m17\u001b[0m\n\u001b[0;31m    nameAge(age=30,\"Prince\")\u001b[0m\n\u001b[0m                   ^\u001b[0m\n\u001b[0;31mSyntaxError\u001b[0m\u001b[0;31m:\u001b[0m positional argument follows keyword argument\n"
          ]
        }
      ]
    },
    {
      "cell_type": "markdown",
      "source": [
        "Default Arguments\n",
        " Values filled in for missing Actual Arguments\n",
        "• They should appear at the end of argument list\n",
        "• All the default arguments should appear continuously\n",
        "• The Dictionary Values are all the Actual Arguments\n",
        "• Evaluated only once when def statement is evaluated\n",
        "• If mutable objects are default values, then the previous state is\n",
        "retained."
      ],
      "metadata": {
        "id": "LyuNi4Xi5eUI"
      }
    },
    {
      "cell_type": "code",
      "source": [
        "#Default arguments\n",
        "def myAdd(a=15, b=2, c=3):\n",
        "  print(\"Value of a=\",a,\"Value of b=\",b,\"Value of c= \",c)\n",
        "  return a + b + c\n",
        "print(myAdd())\n",
        "print(myAdd(11))\n",
        "print(myAdd(11,22))\n",
        "print(myAdd(11,22,33))"
      ],
      "metadata": {
        "id": "KVSZbW6v5T8J",
        "colab": {
          "base_uri": "https://localhost:8080/"
        },
        "outputId": "4d7986f9-2ebc-4632-dacf-0957e6442d4f"
      },
      "execution_count": null,
      "outputs": [
        {
          "output_type": "stream",
          "name": "stdout",
          "text": [
            "Value of a= 15 Value of b= 2 Value of c=  3\n",
            "20\n",
            "Value of a= 11 Value of b= 2 Value of c=  3\n",
            "16\n",
            "Value of a= 11 Value of b= 22 Value of c=  3\n",
            "36\n",
            "Value of a= 11 Value of b= 22 Value of c=  33\n",
            "66\n"
          ]
        }
      ]
    },
    {
      "cell_type": "code",
      "source": [
        "#Default arguments\n",
        "def myAdd(a, b, c):\n",
        "  print(\"Value of a=\",a,\"Value of b=\",b,\"Value of c= \",c)\n",
        "  return a + b + c\n",
        "#print(myAdd())\n",
        "#print(myAdd(11))\n",
        "print(myAdd(11,22,55,66))\n",
        "print(myAdd(11,22))\n",
        "print(myAdd(11,22,33))"
      ],
      "metadata": {
        "colab": {
          "base_uri": "https://localhost:8080/",
          "height": 235
        },
        "id": "DeEibZ7lHYwv",
        "outputId": "5b5cfd3b-3570-4045-a97e-10e20522f038"
      },
      "execution_count": null,
      "outputs": [
        {
          "output_type": "error",
          "ename": "TypeError",
          "evalue": "ignored",
          "traceback": [
            "\u001b[0;31m---------------------------------------------------------------------------\u001b[0m",
            "\u001b[0;31mTypeError\u001b[0m                                 Traceback (most recent call last)",
            "\u001b[0;32m<ipython-input-6-ad61d55ddc86>\u001b[0m in \u001b[0;36m<module>\u001b[0;34m\u001b[0m\n\u001b[1;32m      5\u001b[0m \u001b[0;31m#print(myAdd())\u001b[0m\u001b[0;34m\u001b[0m\u001b[0;34m\u001b[0m\u001b[0;34m\u001b[0m\u001b[0m\n\u001b[1;32m      6\u001b[0m \u001b[0;31m#print(myAdd(11))\u001b[0m\u001b[0;34m\u001b[0m\u001b[0;34m\u001b[0m\u001b[0;34m\u001b[0m\u001b[0m\n\u001b[0;32m----> 7\u001b[0;31m \u001b[0mprint\u001b[0m\u001b[0;34m(\u001b[0m\u001b[0mmyAdd\u001b[0m\u001b[0;34m(\u001b[0m\u001b[0;36m11\u001b[0m\u001b[0;34m,\u001b[0m\u001b[0;36m22\u001b[0m\u001b[0;34m,\u001b[0m\u001b[0;36m55\u001b[0m\u001b[0;34m,\u001b[0m\u001b[0;36m66\u001b[0m\u001b[0;34m)\u001b[0m\u001b[0;34m)\u001b[0m\u001b[0;34m\u001b[0m\u001b[0;34m\u001b[0m\u001b[0m\n\u001b[0m\u001b[1;32m      8\u001b[0m \u001b[0mprint\u001b[0m\u001b[0;34m(\u001b[0m\u001b[0mmyAdd\u001b[0m\u001b[0;34m(\u001b[0m\u001b[0;36m11\u001b[0m\u001b[0;34m,\u001b[0m\u001b[0;36m22\u001b[0m\u001b[0;34m)\u001b[0m\u001b[0;34m)\u001b[0m\u001b[0;34m\u001b[0m\u001b[0;34m\u001b[0m\u001b[0m\n\u001b[1;32m      9\u001b[0m \u001b[0mprint\u001b[0m\u001b[0;34m(\u001b[0m\u001b[0mmyAdd\u001b[0m\u001b[0;34m(\u001b[0m\u001b[0;36m11\u001b[0m\u001b[0;34m,\u001b[0m\u001b[0;36m22\u001b[0m\u001b[0;34m,\u001b[0m\u001b[0;36m33\u001b[0m\u001b[0;34m)\u001b[0m\u001b[0;34m)\u001b[0m\u001b[0;34m\u001b[0m\u001b[0;34m\u001b[0m\u001b[0m\n",
            "\u001b[0;31mTypeError\u001b[0m: myAdd() takes 3 positional arguments but 4 were given"
          ]
        }
      ]
    },
    {
      "cell_type": "code",
      "source": [
        "l=[1,2,3,4,5]\n",
        "print(l[:2])\n",
        "print(l[::2])"
      ],
      "metadata": {
        "id": "3FAkbrF0F9e5"
      },
      "execution_count": null,
      "outputs": []
    },
    {
      "cell_type": "code",
      "source": [
        "#Function Argument with Default Values\n",
        "def add_numbers( a = 7,  b = 8):\n",
        "    sum = a + b\n",
        "    print('Sum:', sum)\n",
        "\n",
        "\n",
        "# function call with two arguments\n",
        "add_numbers(2, 3)\n",
        "\n",
        "#  function call with one argument\n",
        "add_numbers(a = 2)\n",
        "\n",
        "# function call with no arguments\n",
        "add_numbers()"
      ],
      "metadata": {
        "id": "ezToEIDS1Ptn",
        "colab": {
          "base_uri": "https://localhost:8080/"
        },
        "outputId": "1916d435-0576-4436-f902-d554affe2d71"
      },
      "execution_count": null,
      "outputs": [
        {
          "output_type": "stream",
          "name": "stdout",
          "text": [
            "Sum: 5\n",
            "Sum: 10\n",
            "Sum: 15\n"
          ]
        }
      ]
    },
    {
      "cell_type": "code",
      "source": [
        "def add(a,b=5,c=10):\n",
        "    return (a+b+c)\n",
        "\n",
        "#Giving only the mandatory argument\n",
        "print(add(3))\n",
        "\n",
        "#Giving one of the optional arguments.\n",
        "#3 is assigned to a, 4 is assigned to b.\n",
        "print(add(3,4))\n",
        "\n",
        "#Giving all the arguments\n",
        "print(add(2,3,4))\n",
        "\n",
        "#All parameters are given as keyword arguments, so no need to maintain the same order.\n",
        "print (add(b=10,c=15,a=20))\n",
        "\n",
        "#During a function call, only giving mandatory argument as a keyword argument. Optional default arguments are skipped.\n",
        "print (add(a=10))\n",
        "\n",
        "#Giving a mix of positional and keyword arguments, keyword arguments should always follow positional arguments\n",
        "print (add(10,c=30,b=20))\n",
        "\n",
        "'''\n",
        "1. default arguments should follow non-default arguments\n",
        "def add(a=5,b,c):\n",
        "    return (a+b+c)\n",
        "\n",
        "#Output:SyntaxError: non-default argument follows default argument\n",
        "\n",
        "2. keyword arguments should follow positional arguments\n",
        "\n",
        "def add(a,b,c):\n",
        "    return (a+b+c)\n",
        "\n",
        "print (add(a=10,3,4))\n",
        "#Output:SyntaxError: positional argument follows keyword argument\n",
        "\n",
        "3. All the keyword arguments passed must match one of the arguments accepted by the function and their order is not important.\n",
        "\n",
        "def add(a,b,c):\n",
        "    return (a+b+c)\n",
        "\n",
        "print (add(a=10,b1=5,c=12))\n",
        "#Output:TypeError: add() got an unexpected keyword argument 'b1'\n",
        "\n",
        "4. No argument should receive a value more than once\n",
        "\n",
        "def add(a,b,c):\n",
        "    return (a+b+c)\n",
        "\n",
        "print (add(a=10,b=5,b=10,c=12))\n",
        "#Output:SyntaxError: keyword argument repeated\n",
        "'''"
      ],
      "metadata": {
        "colab": {
          "base_uri": "https://localhost:8080/"
        },
        "id": "P4jT55ZDZRcD",
        "outputId": "65b751dd-2f36-49a8-848f-af96544d5324"
      },
      "execution_count": null,
      "outputs": [
        {
          "output_type": "stream",
          "name": "stdout",
          "text": [
            "18\n",
            "17\n",
            "9\n",
            "45\n",
            "25\n",
            "60\n"
          ]
        }
      ]
    },
    {
      "cell_type": "code",
      "source": [
        "#Variable-length arguments\n",
        "\n",
        "#Variable-length arguments are also known as arbitrary arguments. \n",
        "#If we don’t know the number of arguments needed for the function in advance, we can use arbitrary arguments\n",
        "\n",
        "#Two types of arbitrary arguments\n",
        "#arbitrary positional arguments\n",
        "#arbitrary keyword arguments\n",
        "\n",
        "#arbitrary positional arguments:\n",
        "\n",
        "#For arbitrary positional argument, an asterisk (*) is placed before a parameter\n",
        "#in function definition which can hold non-keyword variable-length arguments. \n",
        "#These arguments will be wrapped up in a tuple. \n",
        "#Before the variable number of arguments, zero or more normal arguments may occur.\n",
        "\n",
        "def add(*b):\n",
        "    result=0\n",
        "    for i in b:\n",
        "         result=result+i\n",
        "    return result\n",
        "\n",
        "print (add(1,2,3,4,5,True, 90.99))\n",
        "print (add(1,2))\n",
        "print (add())\n",
        "#Output:15print (add(10,20))\n",
        "#Output:30"
      ],
      "metadata": {
        "colab": {
          "base_uri": "https://localhost:8080/"
        },
        "id": "5bsJp9RMcxiU",
        "outputId": "e4759b8c-5566-453f-a321-be572cab4eba"
      },
      "execution_count": null,
      "outputs": [
        {
          "output_type": "stream",
          "name": "stdout",
          "text": [
            "106.99\n",
            "3\n",
            "0\n"
          ]
        }
      ]
    },
    {
      "cell_type": "code",
      "source": [
        "#arbitrary keyword arguments:\n",
        "\n",
        "#For arbitrary positional argument, a double asterisk (**) is placed before a \n",
        "#parameter in a function which can hold keyword variable-length arguments.\n",
        "\n",
        "def fn(**a):\n",
        "    for i in a.items():\n",
        "        print (i)\n",
        "fn(numbers=5,colors=\"blue\",fruits=\"apple\")\n",
        "\n",
        "'''\n",
        "Output:\n",
        "('numbers', 5)\n",
        "('colors', 'blue')\n",
        "('fruits', 'apple')\n",
        "'''"
      ],
      "metadata": {
        "id": "J-gIAaQcdFTr"
      },
      "execution_count": null,
      "outputs": []
    },
    {
      "cell_type": "code",
      "source": [
        "#passing arrays to functions in python\n",
        "def print_animals(animals):\n",
        "\tfor a in animals:\n",
        "\t\tprint(a)\n",
        "\n",
        "# Created a list of type string\n",
        "animals = [\"Cat\", \"Dog\", \"Tiger\",\t\t\"Giraffe\", \"Wolf\"]\n",
        "\n",
        "# passing the entire list as a parameter\n",
        "print(animals)\n"
      ],
      "metadata": {
        "colab": {
          "base_uri": "https://localhost:8080/"
        },
        "id": "3XvBeAw_drp2",
        "outputId": "93e05416-a93c-413d-b7b0-41be452ec0b6"
      },
      "execution_count": null,
      "outputs": [
        {
          "output_type": "stream",
          "name": "stdout",
          "text": [
            "['Cat', 'Dog', 'Tiger', 'Giraffe', 'Wolf']\n"
          ]
        }
      ]
    },
    {
      "cell_type": "code",
      "source": [
        "#Passing arrays to functions\n",
        "def Product(nums):\n",
        "\tp = 1\n",
        "\tfor i in nums:\n",
        "\t\t\n",
        "\t\t# Multiplication of every element\n",
        "\t\t# of nums with each other\n",
        "\t\tp *= i\n",
        "\tprint(\"Product: \", p)\n",
        "\n",
        "# Created a list of integers\n",
        "nums = [4, 5, 6]\n",
        "\n",
        "# Passed the entire list as a parameter\n",
        "Product(nums)\n"
      ],
      "metadata": {
        "colab": {
          "base_uri": "https://localhost:8080/"
        },
        "id": "FRp6XEtFeAYK",
        "outputId": "83b0fad6-a3ec-4877-a238-d9ac2aba2df3"
      },
      "execution_count": null,
      "outputs": [
        {
          "output_type": "stream",
          "name": "stdout",
          "text": [
            "Product:  120\n"
          ]
        }
      ]
    },
    {
      "cell_type": "code",
      "source": [
        "#Passing array to functions\n",
        "from array import *\n",
        "\n",
        "def Product(arr):\n",
        "\tp = 1\n",
        "\tfor i in arr:\n",
        "\t\tp *= i\n",
        "\tprint(\"Product: \", p)\n",
        "\n",
        "arr = array('f', [4.1, 5.2, 6.3])\n",
        "Product(arr)\n"
      ],
      "metadata": {
        "colab": {
          "base_uri": "https://localhost:8080/"
        },
        "id": "bh8IsRx9eKsd",
        "outputId": "0ddf85c1-05c3-4ef4-af27-158b8c320274"
      },
      "execution_count": null,
      "outputs": [
        {
          "output_type": "stream",
          "name": "stdout",
          "text": [
            "Product:  134.31599601554856\n"
          ]
        }
      ]
    },
    {
      "cell_type": "code",
      "source": [
        "#Recursive function example\n",
        "\n",
        "def factorial(x):\n",
        "    \"\"\"This is a recursive function\n",
        "    to find the factorial of an integer\"\"\"\n",
        "\n",
        "    if x == 1:\n",
        "        return 1\n",
        "    else:\n",
        "        return (x * factorial(x-1))\n",
        "\n",
        "\n",
        "num = 3\n",
        "print(\"The factorial of\", num, \"is\", factorial(num))"
      ],
      "metadata": {
        "id": "K41D3X8s22Ka"
      },
      "execution_count": null,
      "outputs": []
    },
    {
      "cell_type": "markdown",
      "source": [
        "**Advantages of Recursion**\n",
        "Recursive functions make the code look clean and elegant.\n",
        "A complex task can be broken down into simpler sub-problems using recursion.\n",
        "Sequence generation is easier with recursion than using some nested iteration.\n",
        "**Disadvantages of Recursion**\n",
        "Sometimes the logic behind recursion is hard to follow through.\n",
        "Recursive calls are expensive (inefficient) as they take up a lot of memory and time.\n",
        "Recursive functions are hard to debug."
      ],
      "metadata": {
        "id": "m-5FMKdG3KMf"
      }
    },
    {
      "cell_type": "code",
      "source": [
        "#Demonstration of recursion\n",
        "def fact(n):\n",
        "  if n==1: \n",
        "    return 1\n",
        "  else:\n",
        "    return n*fact(n-1)\n",
        "\n",
        "res=fact(5)\n",
        "print(\"factorial of 5 is\", res)"
      ],
      "metadata": {
        "colab": {
          "base_uri": "https://localhost:8080/"
        },
        "id": "1BB46Y_bmfwg",
        "outputId": "392f8ca4-149a-4644-85d9-a11b42f989af"
      },
      "execution_count": null,
      "outputs": [
        {
          "output_type": "stream",
          "name": "stdout",
          "text": [
            "factorial of 5 is 120\n"
          ]
        }
      ]
    },
    {
      "cell_type": "code",
      "source": [
        "# Python program to display the Fibonacci sequence\n",
        "\n",
        "def rFibo(n):\n",
        "   if n <= 1 :\n",
        "       return n\n",
        "   else:\n",
        "       return(rFibo(n-1) + rFibo(n-2))\n",
        "\n",
        "nt = int(input(\"Enter no. of terms\"))\n",
        "\n",
        "# check if the number of terms is valid\n",
        "if nt <0:\n",
        "   print(\"Plese enter a positive integer\")\n",
        "else:\n",
        "   print(\"Fibonacci sequence:\")\n",
        "   for i in range(nt):\n",
        "       print(rFibo(i))\n"
      ],
      "metadata": {
        "colab": {
          "base_uri": "https://localhost:8080/"
        },
        "id": "LGUpqsuTyOyk",
        "outputId": "31df6cf6-399e-4b8f-a7ab-449e1964afbb"
      },
      "execution_count": null,
      "outputs": [
        {
          "output_type": "stream",
          "name": "stdout",
          "text": [
            "Enter no. of terms3\n",
            "Fibonacci sequence:\n",
            "0\n",
            "1\n",
            "1\n"
          ]
        }
      ]
    },
    {
      "cell_type": "code",
      "source": [
        "#Dictionary Accumulation example\n",
        "\n",
        "txt=\"Magic Quadrant (MQ) is a series of market research reports published by IT consulting firm Gartner that rely on proprietary qualitative data analysis methods to demonstrate market trends, such as direction, maturity and participants.[1] Their analyses are conducted for several specific technology industries and are updated every 1–2 years: once an updated report has been published its predecessor is retired.[2]\"\n",
        "letter_counts = {} # start with an empty dictionary\n",
        "for c in txt:\n",
        "    if c not in letter_counts:\n",
        "        # we have not seen this character before, so initialize a counter for it\n",
        "        letter_counts[c] = 1\n",
        "    else: \n",
        "      #whether we've seen it before or not, increment its counter\n",
        "      letter_counts[c] = letter_counts[c] + 1\n",
        "\n",
        "#letter_values = {'a': 1, 'b': 3, 'c': 3, 'd': 2, 'e': 1, 'f':4, 'g': 2, 'h':4, 'i':1, 'j':8, 'k':5, 'l':1, 'm':3, 'n':1, 'o':1, 'p':3, 'q':10, 'r':1, 's':1, 't':1, 'u':1, 'v':4, 'w':4, 'x':8, 'y':4, 'z':10}\n",
        "\n",
        "print(letter_counts)\n",
        "\n",
        "tot = 0\n",
        "for letter in letter_counts:\n",
        "    if letter in letter_values:\n",
        "        tot = tot + letter_values[letter] * letter_counts[letter]\n",
        "\n",
        "print(tot)"
      ],
      "metadata": {
        "colab": {
          "base_uri": "https://localhost:8080/"
        },
        "id": "NgRWUbLH-Bv1",
        "outputId": "b5ecb6af-64c7-407d-cfa6-de1646430979"
      },
      "execution_count": null,
      "outputs": [
        {
          "output_type": "stream",
          "name": "stdout",
          "text": [
            "{'M': 2, 'a': 33, 'g': 3, 'i': 24, 'c': 13, ' ': 59, 'Q': 2, 'u': 11, 'd': 19, 'r': 34, 'n': 19, 't': 30, '(': 1, ')': 1, 's': 28, 'e': 42, 'o': 16, 'f': 4, 'm': 6, 'k': 2, 'h': 9, 'p': 12, 'b': 4, 'l': 9, 'y': 9, 'I': 1, 'T': 2, 'G': 1, 'q': 1, 'v': 3, ',': 2, '.': 2, '[': 2, '1': 2, ']': 2, '–': 1, '2': 2, ':': 1}\n",
            "515\n"
          ]
        }
      ]
    },
    {
      "cell_type": "code",
      "source": [
        "#List accumulation example\n",
        "container=list(range(1,5,1))\n",
        "sum=0\n",
        "for i in container:\n",
        "  sum+=i\n",
        "\n",
        "print(\"Sum of elements of container \",sum)"
      ],
      "metadata": {
        "id": "Y1eepK_KGtZA"
      },
      "execution_count": null,
      "outputs": []
    },
    {
      "cell_type": "code",
      "source": [
        "#References\n",
        "#https://www.programiz.com/python-programming/recursion\n",
        "#https://www.geeksforgeeks.org/keyword-and-positional-argument-in-python/\n",
        "#https://levelup.gitconnected.com/5-types-of-arguments-in-python-function-definition-e0e2a2cafd29\n",
        "#https://betterprogramming.pub/everything-you-ever-wanted-to-know-about-python-return-statements-c14f6c749ff2"
      ],
      "metadata": {
        "id": "osb-UNrI25Kq"
      },
      "execution_count": null,
      "outputs": []
    },
    {
      "cell_type": "code",
      "source": [],
      "metadata": {
        "id": "Nc4v8hkHmyfn"
      },
      "execution_count": null,
      "outputs": []
    }
  ]
}