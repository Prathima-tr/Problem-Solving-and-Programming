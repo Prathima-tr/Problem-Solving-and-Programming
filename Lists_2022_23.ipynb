{
  "nbformat": 4,
  "nbformat_minor": 0,
  "metadata": {
    "colab": {
      "provenance": []
    },
    "kernelspec": {
      "name": "python3",
      "display_name": "Python 3"
    },
    "language_info": {
      "name": "python"
    }
  },
  "cells": [
    {
      "cell_type": "markdown",
      "source": [
        "R.S. Salaria, Khanna , “Programming for Problem Solving”, Book Publishing Co., Delhi."
      ],
      "metadata": {
        "id": "jHiLETVuoPwQ"
      }
    },
    {
      "cell_type": "code",
      "source": [
        "# A list is an ordered sequence of items enclosed in square brackets '[]'\n",
        "#List is one of the most used data types in Python\n",
        "#The items in a list can be of different data types\n",
        "#Theya re defined as list class in Python"
      ],
      "metadata": {
        "id": "1GQonZOxCzR2"
      },
      "execution_count": null,
      "outputs": []
    },
    {
      "cell_type": "code",
      "execution_count": null,
      "metadata": {
        "id": "VhRvSGpdB2qB"
      },
      "outputs": [],
      "source": [
        "#Learning Objectives\n",
        "#Define a List\n",
        "#Explain key characteristics of Lists\n",
        "#Create Lists in different ways\n",
        "#Demonstrate the usage of various methods of list class\n",
        "#Explain and use various functions that can operate on a list\n",
        "#Write programs to manipulate lists"
      ]
    },
    {
      "cell_type": "code",
      "source": [
        "#Important Characteristics of lists\n",
        "#Lists are ordered\n",
        "#Can contain any arbitrary objects\n",
        "#List elements can be accessed by index\n",
        "#Lists can be nested to arbitrary depth\n",
        "#Lists are mutable\n",
        "#Lists are dynamic"
      ],
      "metadata": {
        "id": "7FpSb-FMDFkC"
      },
      "execution_count": null,
      "outputs": []
    },
    {
      "cell_type": "code",
      "source": [
        "#Creating a list\n",
        "#An empty list\n",
        "#List created using set of elements\n",
        "#List from another sequence such as a string, tuple"
      ],
      "metadata": {
        "id": "oL1sbzn2DSlY"
      },
      "execution_count": null,
      "outputs": []
    },
    {
      "cell_type": "code",
      "source": [
        "#Creating an Empty list\n",
        "a=[]\n",
        "print(a)\n",
        "print(type(a))"
      ],
      "metadata": {
        "id": "RsUb1-2PDgDk",
        "colab": {
          "base_uri": "https://localhost:8080/"
        },
        "outputId": "af37985e-dbf2-4739-cd9d-f8274c32858b"
      },
      "execution_count": null,
      "outputs": [
        {
          "output_type": "stream",
          "name": "stdout",
          "text": [
            "[]\n",
            "<class 'list'>\n"
          ]
        }
      ]
    },
    {
      "cell_type": "code",
      "source": [
        "#Creating list with given elements\n",
        "#To create a list with given elements, just enclose the comma separated list of items in square brackets\n",
        "b=[1,2,3,4,5,6]\n",
        "print(b)\n",
        "\n",
        "c=[1,'one',2,'two',3,'three']\n",
        "print(c)"
      ],
      "metadata": {
        "id": "9AZseDts8Jyw",
        "colab": {
          "base_uri": "https://localhost:8080/"
        },
        "outputId": "90980e24-ccaa-4220-935c-935ab8590884"
      },
      "execution_count": null,
      "outputs": [
        {
          "output_type": "stream",
          "name": "stdout",
          "text": [
            "[1, 2, 3, 4, 5, 6]\n",
            "[1, 'one', 2, 'two', 3, 'three']\n"
          ]
        }
      ]
    },
    {
      "cell_type": "code",
      "source": [
        "#Creating list from another sequence\n",
        "#To create a list from another sequence, we use list() function, which is constructor of list class, with sequence as its argument\n",
        "\n",
        "a=list(\"Python\")\n",
        "print(a)\n",
        "\n",
        "b=[1,2,3,4,5,6]\n",
        "c=list(b)\n",
        "print(id(b))\n",
        "print(id(c))\n",
        "print(c)"
      ],
      "metadata": {
        "id": "dylvm7_68J-L",
        "colab": {
          "base_uri": "https://localhost:8080/"
        },
        "outputId": "a456bbc3-4ac9-4d04-c24d-a706e061ccff"
      },
      "execution_count": null,
      "outputs": [
        {
          "output_type": "stream",
          "name": "stdout",
          "text": [
            "['P', 'y', 't', 'h', 'o', 'n']\n",
            "139851351919744\n",
            "139851352463552\n",
            "[1, 2, 3, 4, 5, 6]\n"
          ]
        }
      ]
    },
    {
      "cell_type": "code",
      "source": [
        "#Accessing elements of a list\n",
        "#To access inidividual elements of alist, we use index in square brackets."
      ],
      "metadata": {
        "id": "eozVToYc8KBR"
      },
      "execution_count": null,
      "outputs": []
    },
    {
      "cell_type": "markdown",
      "source": [
        "![image.png](data:image/png;base64,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)"
      ],
      "metadata": {
        "id": "_L0W-JSD9ftQ"
      }
    },
    {
      "cell_type": "code",
      "source": [
        "#Can access any individual element using appropriate index value\n",
        "a=['Phy',\t'Chem',\t'eng'\t'math',\t'bio',\t'psp']\n",
        "print(a[1])\n",
        "print(a[3])\n",
        "print(a[-1])\n",
        "print(a[-5])\n",
        "\n",
        "#If we try to access index out of the range or use float no. as index, we will get errors\n",
        "#Slicng also works iwth lists as with strings. If b is a list, the expression b[m:n] returns theportion fo the lsit b from index m to n-1"
      ],
      "metadata": {
        "id": "341io_Tn8KEZ"
      },
      "execution_count": null,
      "outputs": []
    },
    {
      "cell_type": "code",
      "source": [
        "my_list=['p','y','t','h','o','n']\n",
        "for a in my_list:\n",
        "  print(a,end='')\n",
        "  "
      ],
      "metadata": {
        "colab": {
          "base_uri": "https://localhost:8080/"
        },
        "id": "Q1-zvIpaEZXb",
        "outputId": "6fc99c70-271e-4135-a34f-4a92907700f1"
      },
      "execution_count": null,
      "outputs": [
        {
          "output_type": "stream",
          "name": "stdout",
          "text": [
            "python"
          ]
        }
      ]
    },
    {
      "cell_type": "code",
      "source": [
        "n=4\n",
        "i=1\n",
        "while i<=n:\n",
        "  j=1\n",
        "  while j<=i:\n",
        "    print(j,end='')\n",
        "    j+=1\n",
        "  i+=1\n",
        "  print(\"\\n\")"
      ],
      "metadata": {
        "colab": {
          "base_uri": "https://localhost:8080/"
        },
        "id": "mJnVsTfNEnF7",
        "outputId": "9bc8f36a-0932-4fcd-da2c-f66375cb5f0a"
      },
      "execution_count": null,
      "outputs": [
        {
          "output_type": "stream",
          "name": "stdout",
          "text": [
            "1\n",
            "\n",
            "12\n",
            "\n",
            "123\n",
            "\n",
            "1234\n",
            "\n"
          ]
        }
      ]
    },
    {
      "cell_type": "code",
      "source": [
        "#traversing a list\n",
        "#Traversing a list means accessing each element exactly once in order to process it\n",
        "#Traversal as looping over a sequence\n",
        "\n",
        "#for <var> in <list>:\n",
        "  #process each item here\n",
        "\n",
        "my_list=['p','y','t','h','o','n']\n",
        "for _ in my_list:\n",
        "  print(_)\n",
        "\n",
        "n=len(my_list)\n",
        "for i in range(n):\n",
        "  print(my_list[i])\n",
        "\n",
        "#Traversing a list using for loop is convenient and efficient as compared to a while loopo"
      ],
      "metadata": {
        "id": "-H1g9L7U8KHk"
      },
      "execution_count": null,
      "outputs": []
    },
    {
      "cell_type": "code",
      "source": [
        "#Updating/Modifying an element of a list\n",
        "\n",
        "x=[1,2,3,4,5,6,7,8,9]\n",
        "print(\"Given List: \",x)\n",
        "n=len(x)\n",
        "for i in range(n):\n",
        "  x[i]=x[i]+11\n",
        "\n",
        "print(\"Updated List:\",x)\n"
      ],
      "metadata": {
        "id": "oiDE06JFGUKh",
        "colab": {
          "base_uri": "https://localhost:8080/"
        },
        "outputId": "259c6118-d1ee-42fd-8121-7d2aba94361a"
      },
      "execution_count": null,
      "outputs": [
        {
          "output_type": "stream",
          "name": "stdout",
          "text": [
            "Given List:  [1, 2, 3, 4, 5, 6, 7, 8, 9]\n",
            "Updated List: [12, 13, 14, 15, 16, 17, 18, 19, 20]\n"
          ]
        }
      ]
    },
    {
      "cell_type": "code",
      "source": [
        "#Operations on Lists\n",
        "#Concatenation of two or more lists\n",
        "\n",
        "#Joining of two or more lists into a single one is called concatenation. The '+' operator does this in Python\n",
        "a=[1,2,3,4]\n",
        "b=['a','b','c']\n",
        "\n",
        "d=a+b\n",
        "c=['Phy',\t'Chem',\t'eng'\t'math',\t'bio',\t'psp']\n",
        "print(d)\n",
        "\n",
        "e=a+b+c\n",
        "print(e)"
      ],
      "metadata": {
        "id": "8Uf8wpPyGUOR",
        "colab": {
          "base_uri": "https://localhost:8080/"
        },
        "outputId": "f9c66396-056d-43ff-b44c-b48188d500d7"
      },
      "execution_count": null,
      "outputs": [
        {
          "output_type": "stream",
          "name": "stdout",
          "text": [
            "[1, 2, 3, 4, 'a', 'b', 'c']\n",
            "[1, 2, 3, 4, 'a', 'b', 'c', 'Phy', 'Chem', 'engmath', 'bio', 'psp']\n"
          ]
        }
      ]
    },
    {
      "cell_type": "code",
      "source": [
        "#Repetition of a List\n",
        "#The * operator can be used to repeat the elements of a list for a given no. of times\n",
        "\n",
        "x=['a','b','c']\n",
        "y = x*3\n",
        "\n",
        "print(y)"
      ],
      "metadata": {
        "id": "gZu8NvxCGURY",
        "colab": {
          "base_uri": "https://localhost:8080/"
        },
        "outputId": "6525c30b-e787-4f72-9e8f-c00cc34f65e7"
      },
      "execution_count": null,
      "outputs": [
        {
          "output_type": "stream",
          "name": "stdout",
          "text": [
            "['a', 'b', 'c', 'a', 'b', 'c', 'a', 'b', 'c']\n"
          ]
        }
      ]
    },
    {
      "cell_type": "code",
      "source": [
        "#Slicing the list\n",
        "#List slices are the sub part of a list extracted out\n",
        "#x[start:stop:step]\n",
        "\n",
        "#The above statement will create a list slice having elements of list x on indexes from start to stop-1, in steps of stel\n",
        "\n",
        "#Note:\n",
        "#i. If start is omitted, it is taken as the beginning of the lsit\n",
        "#ii. If stop is omitted, it is taken as the end of the list\n",
        "#iii. If step is omitted, it is taken as +1 by default\n",
        "\n",
        "x= [0,1,2,3,4,5,6,7,8,9]\n",
        "\n",
        "print(x)\n",
        "\n",
        "print(x[::])\n",
        "\n",
        "print(x[:3])\n",
        "\n",
        "print(x[3:])\n",
        "\n",
        "print(x[::2])\n",
        "\n",
        "print(x[-2:-7:-2])\n",
        "\n",
        "print(x[::-1])\n"
      ],
      "metadata": {
        "id": "VxfTtwoTGUTw"
      },
      "execution_count": null,
      "outputs": []
    },
    {
      "cell_type": "code",
      "source": [
        "#Program to extract two list-slices, one at even indexed and another at odd indexed. \n",
        "#Program also prints the sum of these elements\n",
        "\n",
        "my_list=[1,2,3,4,5,6,7,8,9,10,11,12,13,14]\n",
        "\n",
        "eSlice=my_list[0::2]\n",
        "oSlice=my_list[1::2]\n",
        "\n",
        "sEven=sOdd=0\n",
        "\n",
        "for i in eSlice:\n",
        "  sEven+=i\n",
        "\n",
        "for i in oSlice:\n",
        "  sOdd+=i\n",
        "\n",
        "print(\"Given list:\",my_list)\n",
        "print(\"List of even indexed element in list\",eSlice)\n",
        "print(\"List of odd indexed element in list\",oSlice)\n",
        "\n",
        "print(\"Sum of even indexed element in list\",sEven)\n",
        "print(\"Sum of odd indexed element in list\",sOdd)"
      ],
      "metadata": {
        "id": "z8OUhOPeJyr5"
      },
      "execution_count": null,
      "outputs": []
    },
    {
      "cell_type": "code",
      "source": [
        "#Membership Test on Lists\n",
        "#We can test if an element exists in a given list or not, using membership operator in and not in\n",
        "\n",
        "fruits = [\"banana\",\"apple\",\"mango\",\"grapes\",\"guava\"]\n",
        "\n",
        "#print(\"Apple\" in fruits)\n",
        "#print(\"Apple\" not in fruits)\n",
        "print('p' in fruits)\n",
        "print('p' in fruits[1])\n",
        "#print(\"grapes\" in fruits)\n",
        "#print(\"gava\" not in fruits)"
      ],
      "metadata": {
        "id": "ngcfUEGZLO5D",
        "colab": {
          "base_uri": "https://localhost:8080/"
        },
        "outputId": "3e5f8841-26b5-4374-9432-29f9b84f8e75"
      },
      "execution_count": null,
      "outputs": [
        {
          "output_type": "stream",
          "name": "stdout",
          "text": [
            "False\n",
            "True\n"
          ]
        }
      ]
    },
    {
      "cell_type": "code",
      "source": [
        "#List methods and functions\n",
        "#Python library provides methods of list class and another set of functions that take lists as its arguments and operate on them\n",
        "\n",
        "#List methods:\n",
        "#append() - adds an item to the end of the list\n",
        "a=[\"bee\",\"moth\"]\n",
        "a.append(\"ant\")\n",
        "print(a)\n",
        "\n",
        "#extend() - extends the list by appending all the items from another list\n",
        "a=[\"bee\",\"moth\"]\n",
        "b=[\"ant\",\"fly\"]\n",
        "a.extend(b)\n",
        "print(a)\n",
        "\n",
        "#insert() - inserts an item at a given position\n",
        "a=[\"bee\",\"moth\"]\n",
        "a.insert(0,\"ant\")\n",
        "print(a)\n",
        "\n",
        "a.insert(2,\"fly\")\n",
        "print(a)\n",
        "\n",
        "#remove()- removes first occurrence of the given item from the list\n",
        "a=[\"bee\",\"moth\",\"ant\"]\n",
        "a.remove(\"moth\")\n",
        "print(a)\n",
        "\n",
        "#pop() - removes the item at the given position in the list, and returns it\n",
        "#if no index is specified, pop() removes and returns the last item in the list\n",
        "a=[\"bee\",\"moth\",\"ant\"]\n",
        "print(a.pop())\n",
        "print(a.pop(1))\n",
        "print(a)"
      ],
      "metadata": {
        "colab": {
          "base_uri": "https://localhost:8080/"
        },
        "id": "lI0w1LBjLvTn",
        "outputId": "a7a99d27-1133-4b98-f0c4-948ff074364c"
      },
      "execution_count": null,
      "outputs": [
        {
          "output_type": "stream",
          "name": "stdout",
          "text": [
            "['bee', 'moth', 'ant']\n",
            "['bee', 'moth', 'ant', 'fly']\n",
            "['ant', 'bee', 'moth']\n",
            "['ant', 'bee', 'fly', 'moth']\n"
          ]
        }
      ]
    },
    {
      "cell_type": "code",
      "source": [
        "#index() - returns the position of the first occurrence of the given item\n",
        "#It raises a ValueError exception if there is no such item in the list\n",
        "\n",
        "a=[\"bee\",\"ant\",\"moth\",\"ant\",]\n",
        "print(a.index(\"ant\"))\n",
        "\n",
        "#count()-returns the no. of times a given items appears in the list\n",
        "print(a.count(\"ant\"))\n",
        "\n",
        "#sort()- sorts the items of the list\n",
        "s=[3,2,5,4,1,8]\n",
        "s.sort()\n",
        "print(s)\n",
        "s=[3,2,5,4,1,8]\n",
        "s.sort(reverse=True)\n",
        "print(s)\n",
        "\n",
        "#reverse() - reverses the order of elements of the list\n",
        "a=[6,5,4,3,2,1]\n",
        "print(a.reverse())\n"
      ],
      "metadata": {
        "id": "bh8q23vEGUbF"
      },
      "execution_count": null,
      "outputs": []
    },
    {
      "cell_type": "code",
      "source": [
        "#List Functions\n",
        "#list() - is a constructor of list class that returns a mutable sequence list of elements\n",
        "#It can take an optional iterable object, which can be a sequence or collection of such as a string, list, tuple\n",
        "\n",
        "print(list([\"bee\",\"moth\",\"ant\"]))\n",
        "\n",
        "a=(\"I\",\"am\",\"a\",\"sequence- tuple\")\n",
        "\n",
        "b=list(a)\n",
        "print(b)"
      ],
      "metadata": {
        "id": "fEaknt9wRB2K"
      },
      "execution_count": null,
      "outputs": []
    },
    {
      "cell_type": "code",
      "source": [
        "#len() - returns the no. of items in the list\n",
        "print(len(b))\n",
        "\n",
        "#max() - returns largest item in a list\n",
        "c=[10,34,1,90,-89]\n",
        "print(\"Maximum element is\",max(c))\n",
        "\n",
        "#min()-returns smallest item in a list\n",
        "print(\"Minimum element is\",min(c))\n",
        "\n",
        "#range() - represents an immutable sequence of numbers and is commonly used for looping a specific no. of times in for loops\n",
        "#can also be used along with list() to return a list of items between a given range\n",
        "\n",
        "print(list(range(10)))\n",
        "\n",
        "print(list(range(1,11)))\n",
        "\n",
        "print(list(range(56, 60)))\n",
        "\n",
        "print(list(range(1:11:3)))\n",
        "\n"
      ],
      "metadata": {
        "id": "Qo9cR7AR_4Th"
      },
      "execution_count": null,
      "outputs": []
    },
    {
      "cell_type": "code",
      "source": [
        "#Illustrative programming examples\n",
        "#Program to find minimum element and its index from a list\n",
        "\n",
        "mlist=list()  #Create an empty list\n",
        "n=int(input(\"Enter size of list\"))\n",
        "\n",
        "for i in range(n):\n",
        "  print(\"Enter \" + str(i+1) + \" Element = \",end=\"\")\n",
        "  ele=int(input())\n",
        "  mlist.append(ele)\n",
        "\n",
        "mele=mlist[0]\n",
        "mind=0\n",
        "\n",
        "for i in range(1,n):\n",
        "  if mlist[i]<mele:\n",
        "    mele=mlist[i]\n",
        "    mind=i\n",
        "\n",
        "print(\"List is \",mlist)\n",
        "print(\"Min elemen is \",mele, end=\"\")\n",
        "print(\" index of min ele is \",mind)\n"
      ],
      "metadata": {
        "colab": {
          "base_uri": "https://localhost:8080/"
        },
        "id": "JcJLk_A7An0A",
        "outputId": "dd24ed46-6aa1-49e6-85e1-2fa1b1fffdbc"
      },
      "execution_count": null,
      "outputs": [
        {
          "output_type": "stream",
          "name": "stdout",
          "text": [
            "Enter size of list5\n",
            "Enter 1 Element = 23\n",
            "Enter 2 Element = 45\n",
            "Enter 3 Element = -9\n",
            "Enter 4 Element = 34\n",
            "Enter 5 Element = 12\n",
            "List is  [23, 45, -9, 34, 12]\n",
            "Min elemen is  -9index of min ele is  2\n"
          ]
        }
      ]
    },
    {
      "cell_type": "code",
      "source": [
        "#program to find the mean of given list. \n",
        "mlist=list()\n",
        "n=int(input(\"Enter the no. of elements\"))\n",
        "\n",
        "for i in range(n):\n",
        "  print(\"Enter \" + str(i+1) + \" Element = \",end=\"\")\n",
        "  ele=int(input())\n",
        "  mlist.append(ele)\n",
        "\n",
        "sum=0\n",
        "\n",
        "for i in range(n):\n",
        "  sum+=mlist[i];\n",
        "\n",
        "mean=sum/n\n",
        "\n",
        "print(\"List is \",mlist)\n",
        "print(\"Mean of list is =%0.2f\",mean)"
      ],
      "metadata": {
        "colab": {
          "base_uri": "https://localhost:8080/"
        },
        "id": "494FtFcfE--5",
        "outputId": "a6b87c3d-663d-4e3e-c1e8-0c45f699a83f"
      },
      "execution_count": null,
      "outputs": [
        {
          "output_type": "stream",
          "name": "stdout",
          "text": [
            "Enter the no. of elements2\n",
            "Enter 1 Element = 12\n",
            "Enter 2 Element = 10\n",
            "List is  [12, 10]\n",
            "Mean of list is =%0.2f 11.0\n"
          ]
        }
      ]
    },
    {
      "cell_type": "code",
      "source": [
        "#Program to search a given element in  a list\n",
        "#program to find the mean of given list. \n",
        "mlist=list()\n",
        "n=int(input(\"Enter the no. of elements\"))\n",
        "\n",
        "for i in range(n):\n",
        "  print(\"Enter \" + str(i+1) + \" Element = \",end=\"\")\n",
        "  ele=int(input())\n",
        "  mlist.append(ele)\n",
        "\n",
        "item=int(input(\"Enter the element to search\"))\n",
        "for i in range(n):\n",
        "  if item == mlist[i]:\n",
        "    print(item, \" found at index \",i)\n",
        "    break\n",
        "else:\n",
        "  print(item, \" not found\")"
      ],
      "metadata": {
        "colab": {
          "base_uri": "https://localhost:8080/"
        },
        "id": "vfOMZ0b5Mhmm",
        "outputId": "42f5ec37-a936-44a5-a088-91e10e3e7da9"
      },
      "execution_count": null,
      "outputs": [
        {
          "output_type": "stream",
          "name": "stdout",
          "text": [
            "Enter the no. of elements2\n",
            "Enter 1 Element = 12\n",
            "Enter 2 Element = 34\n",
            "Enter the element to search35\n",
            "35  not found\n"
          ]
        }
      ]
    },
    {
      "cell_type": "code",
      "source": [
        "#Program to count frequency of a given element in a given list\n",
        "mlist=list()\n",
        "n=int(input(\"Enter length of list\"))\n",
        "for i in range(n):\n",
        "  print(\"enter element\" + \" #\" +str(i+1)+ \" =\", end='')\n",
        "  item=int(input())\n",
        "  mlist.append(item)\n",
        "\n",
        "item=int(input(\"Enter given element: \"))\n",
        "count=0\n",
        "for i in range(n):\n",
        "  if(item==mlist[i]):\n",
        "    count+=1\n",
        "\n",
        "if count==0:\n",
        "  print(item, \" is not found in list\")\n",
        "else:\n",
        "  print(item, \" is present \", count, \" no. of time\")\n"
      ],
      "metadata": {
        "id": "8vEBQKcrOG28"
      },
      "execution_count": null,
      "outputs": []
    },
    {
      "cell_type": "code",
      "source": [
        "#program to count frequence of unique element in a given list\n",
        "mlist=list()\n",
        "ulist=list()\n",
        "dlist=list()\n",
        "n=int(input(\"Enter length of list\"))\n",
        "for i in range(n):\n",
        "  print(\"enter element\" + \" #\" +str(i+1)+ \" =\", end='')\n",
        "  item=int(input())\n",
        "  mlist.append(item)\n",
        "\n",
        "print(\"Inputted list is\", mlist)\n",
        "\n",
        "i=0\n",
        "while i< n:\n",
        "  item=mlist[i]\n",
        "  count=0\n",
        "  if ((item not in ulist) and (item not in dlist)):\n",
        "    i+=1\n",
        "    for j in range (0,n):\n",
        "      if item == mlist[j]:\n",
        "        count+=1\n",
        "    print(\"Frequency of element\", item, \"=\", count)\n",
        "    if count==1:\n",
        "      ulist.append(item)\n",
        "    else:\n",
        "      dlist.append(item)\n",
        "  else:\n",
        "    i+=1\n",
        "print(\"Unique list is \", ulist)\n",
        "print(\"Duplicate list is \", dlist)"
      ],
      "metadata": {
        "colab": {
          "base_uri": "https://localhost:8080/"
        },
        "id": "udgTVOuv9TcP",
        "outputId": "7c8fff7d-18bc-47c3-ec13-d69560d8d7b1"
      },
      "execution_count": null,
      "outputs": [
        {
          "output_type": "stream",
          "name": "stdout",
          "text": [
            "Enter length of list7\n",
            "enter element #1 =1\n",
            "enter element #2 =1\n",
            "enter element #3 =2\n",
            "enter element #4 =2\n",
            "enter element #5 =3\n",
            "enter element #6 =3\n",
            "enter element #7 =1\n",
            "Inputted list is [1, 1, 2, 2, 3, 3, 1]\n",
            "Frequency of element 1 = 3\n",
            "Frequency of element 2 = 2\n",
            "Frequency of element 3 = 2\n",
            "Unique list is  []\n",
            "Duplicate list is  [1, 2, 3]\n"
          ]
        }
      ]
    },
    {
      "cell_type": "code",
      "source": [
        "#Program to find the third largest in a list\n",
        "#mlist=list()\n",
        "#n=int(input(\"Enter length of list\"))\n",
        "#mlist=[90, 89, 1,2,3,78,4,5,6,7,8,9]\n",
        "#n=12\n",
        "mlist=[1,2,3,4,5,6,7,8,9]\n",
        "n=9\n",
        "#for i in range(n):\n",
        "#  print(\"enter element\" + \" #\" +str(i+1)+ \" =\", end='')\n",
        "#  item=int(input())\n",
        "#  mlist.append(item)\n",
        "#l1=l2=l3=mlist[0]\n",
        "l1=mlist[0]\n",
        "l2=mlist[1]\n",
        "l3=mlist[2]\n",
        "\n",
        "\n",
        "for i in range(1,n):\n",
        "  if mlist[i] > l1:\n",
        "    #l3=l2\n",
        "    #l2=l1\n",
        "    l1=mlist[i]\n",
        "  #elif mlist[i] > l2 and mlist[i]<l1:\n",
        "l2=l1\n",
        "for i in range(1,n):\n",
        "    if mlist[i] > l2 and mlist[i]<l1:\n",
        "      l2=mlist[i]\n",
        "  #elif mlist[i] > l3 and mlist[i]<l2:\n",
        "    l3=mlist[i]\n",
        "print(\"List is \", mlist)\n",
        "print(\"Largest element is \", l1)\n",
        "print(\"2nd Largest element is \", l2)\n",
        "print(\"3rd Largest element is \", l3)\n",
        "\n"
      ],
      "metadata": {
        "colab": {
          "base_uri": "https://localhost:8080/"
        },
        "id": "M4iWmBTo-05L",
        "outputId": "8687cafb-c242-41e4-e1fc-c519671c09a4"
      },
      "execution_count": null,
      "outputs": [
        {
          "output_type": "stream",
          "name": "stdout",
          "text": [
            "List is  [1, 2, 3, 4, 5, 6, 7, 8, 9]\n",
            "Largest element is  9\n",
            "2nd Largest element is  9\n",
            "3rd Largest element is  9\n"
          ]
        }
      ]
    },
    {
      "cell_type": "code",
      "source": [
        "l=[1, 2, 3, 4, 5, 3,3,6, 7, 8, 9,3,3,5,[3,6]]\n",
        "print(l.count(10))\n",
        "print(l.count([3,6]))"
      ],
      "metadata": {
        "colab": {
          "base_uri": "https://localhost:8080/"
        },
        "id": "6z7nLYchIdTz",
        "outputId": "ee53f02d-b790-49c7-ac43-1a38c2382190"
      },
      "execution_count": null,
      "outputs": [
        {
          "output_type": "stream",
          "name": "stdout",
          "text": [
            "0\n",
            "1\n"
          ]
        }
      ]
    },
    {
      "cell_type": "code",
      "source": [
        "l1=[11,1000,9000]\n",
        "l2=[200,20]\n",
        "print(l1>l2)"
      ],
      "metadata": {
        "colab": {
          "base_uri": "https://localhost:8080/"
        },
        "id": "e23i-T6QZh-H",
        "outputId": "fab81a8b-6643-4b83-8da2-000cb9aa2551"
      },
      "execution_count": null,
      "outputs": [
        {
          "output_type": "stream",
          "name": "stdout",
          "text": [
            "False\n"
          ]
        }
      ]
    },
    {
      "cell_type": "code",
      "source": [
        "l1=[100,10,20,30,True,1,False,0,22/7,90.999]\n",
        "l1.sort()\n",
        "print(l1)"
      ],
      "metadata": {
        "colab": {
          "base_uri": "https://localhost:8080/"
        },
        "id": "Bxpdap5sjNKJ",
        "outputId": "67d523a0-9573-4ce3-915b-9fa352a50281"
      },
      "execution_count": null,
      "outputs": [
        {
          "output_type": "stream",
          "name": "stdout",
          "text": [
            "[False, 0, True, 1, 3.142857142857143, 10, 20, 30, 90.999, 100]\n"
          ]
        }
      ]
    },
    {
      "cell_type": "code",
      "source": [
        "print( False == 0)"
      ],
      "metadata": {
        "colab": {
          "base_uri": "https://localhost:8080/"
        },
        "id": "qheq9WBlja6D",
        "outputId": "6302958a-9dfa-4df8-9673-fa7c2e775dd4"
      },
      "execution_count": null,
      "outputs": [
        {
          "output_type": "stream",
          "name": "stdout",
          "text": [
            "True\n"
          ]
        }
      ]
    },
    {
      "cell_type": "code",
      "source": [
        "l=[1,2,3,4,True,\"Red\"]\n",
        "max(l)"
      ],
      "metadata": {
        "id": "j6b97lgxjm2u",
        "outputId": "8dc93499-e4f5-44b4-d947-c42b6ff4fbb5",
        "colab": {
          "base_uri": "https://localhost:8080/",
          "height": 183
        }
      },
      "execution_count": null,
      "outputs": [
        {
          "output_type": "error",
          "ename": "TypeError",
          "evalue": "ignored",
          "traceback": [
            "\u001b[0;31m---------------------------------------------------------------------------\u001b[0m",
            "\u001b[0;31mTypeError\u001b[0m                                 Traceback (most recent call last)",
            "\u001b[0;32m<ipython-input-43-30d2f2a4bc3e>\u001b[0m in \u001b[0;36m<module>\u001b[0;34m\u001b[0m\n\u001b[1;32m      1\u001b[0m \u001b[0ml\u001b[0m\u001b[0;34m=\u001b[0m\u001b[0;34m[\u001b[0m\u001b[0;36m1\u001b[0m\u001b[0;34m,\u001b[0m\u001b[0;36m2\u001b[0m\u001b[0;34m,\u001b[0m\u001b[0;36m3\u001b[0m\u001b[0;34m,\u001b[0m\u001b[0;36m4\u001b[0m\u001b[0;34m,\u001b[0m\u001b[0;32mTrue\u001b[0m\u001b[0;34m,\u001b[0m\u001b[0;34m\"Red\"\u001b[0m\u001b[0;34m]\u001b[0m\u001b[0;34m\u001b[0m\u001b[0;34m\u001b[0m\u001b[0m\n\u001b[0;32m----> 2\u001b[0;31m \u001b[0mmax\u001b[0m\u001b[0;34m(\u001b[0m\u001b[0ml\u001b[0m\u001b[0;34m)\u001b[0m\u001b[0;34m\u001b[0m\u001b[0;34m\u001b[0m\u001b[0m\n\u001b[0m",
            "\u001b[0;31mTypeError\u001b[0m: '>' not supported between instances of 'str' and 'int'"
          ]
        }
      ]
    },
    {
      "cell_type": "code",
      "source": [
        "#create an array\n",
        "# 2 9\n",
        "# 3 10\n",
        "twoDL=[[2,9],[3,10]]\n",
        "print(twoDL[0][0])"
      ],
      "metadata": {
        "id": "_tZbe8ynql3J"
      },
      "execution_count": null,
      "outputs": []
    },
    {
      "cell_type": "code",
      "source": [
        "t = (\"abc\",'def','pqr','xyz')\n",
        "print(t)\n",
        "print(hex(id(t)))"
      ],
      "metadata": {
        "id": "FIUnWwnUHF_y"
      },
      "execution_count": null,
      "outputs": []
    },
    {
      "cell_type": "code",
      "source": [
        "list1 = []\n",
        "list2=[]\n",
        "Number = int(input(\"Enter the Total Number of List Elements: \"))\n",
        "for i in range(1, Number + 1):\n",
        "    values = int(input(\"Please enter the Value of %d Element : \" %i))\n",
        "    list1.append(values)\n",
        "print(list1)\n",
        "while list1 :\n",
        "  min=list1[0]\n",
        "  for x in list1:\n",
        "    if x < min:\n",
        "      min=x\n",
        "  list2.append(min)\n",
        "  list1.remove(min)\n",
        "\n",
        "print(list2)"
      ],
      "metadata": {
        "colab": {
          "base_uri": "https://localhost:8080/"
        },
        "id": "m5Dhc9OXQE4Z",
        "outputId": "c8b37af3-574b-4824-af3e-5cb7c05b053a"
      },
      "execution_count": null,
      "outputs": [
        {
          "output_type": "stream",
          "name": "stdout",
          "text": [
            "Enter the Total Number of List Elements: 5\n",
            "Please enter the Value of 1 Element : 1\n",
            "Please enter the Value of 2 Element : 2\n",
            "Please enter the Value of 3 Element : 45\n",
            "Please enter the Value of 4 Element : -9\n",
            "Please enter the Value of 5 Element : 2\n",
            "[1, 2, 45, -9, 2]\n",
            "[-9, 1, 2, 2, 45]\n"
          ]
        }
      ]
    },
    {
      "cell_type": "code",
      "source": [],
      "metadata": {
        "id": "VBOT4KQfQKN-"
      },
      "execution_count": null,
      "outputs": []
    }
  ]
}