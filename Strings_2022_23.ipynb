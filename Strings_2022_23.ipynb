{
  "nbformat": 4,
  "nbformat_minor": 0,
  "metadata": {
    "colab": {
      "provenance": []
    },
    "kernelspec": {
      "name": "python3",
      "display_name": "Python 3"
    },
    "language_info": {
      "name": "python"
    }
  },
  "cells": [
    {
      "cell_type": "markdown",
      "source": [
        "R.S. Salaria, Khanna , “Programming for Problem Solving”, Book Publishing Co., Delhi."
      ],
      "metadata": {
        "id": "OPL5oG41oNsP"
      }
    },
    {
      "cell_type": "code",
      "execution_count": null,
      "metadata": {
        "id": "V0BxaZqzau7A"
      },
      "outputs": [],
      "source": [
        "#A string is an ordered sequence of characters, where a character is simply a symbol.\n",
        "#The conversion of a character to a number is called encoding, and the reverse process is decoding. ASCII code and Unicode are some fo the popular encoding used\n",
        "#Strings in Python are immutable, i.e., they cannot be modified"
      ]
    },
    {
      "cell_type": "code",
      "source": [
        "#Learning Objectives\n",
        "#Define a String\n",
        "#Explain key characteristics of Strings\n",
        "#Create Strings in different ways\n",
        "#Demonstrate the usage of various predefined methods on strings\n",
        "#Write programs to manipulate strings"
      ],
      "metadata": {
        "id": "-t3d6-1KCXph"
      },
      "execution_count": null,
      "outputs": []
    },
    {
      "cell_type": "code",
      "source": [
        "s=\"Welcome\"\n",
        "#s[1]='x'\n",
        "x=s\n",
        "print(id(x))\n",
        "print(id(s))\n",
        "\n",
        "l1=[1,2,3,4]\n",
        "l2=l1\n",
        "print(id(l1))\n",
        "print(id(l2))"
      ],
      "metadata": {
        "colab": {
          "base_uri": "https://localhost:8080/"
        },
        "id": "DVgs6SXucR6Q",
        "outputId": "f4e2079c-69a7-4525-dc96-107974642631"
      },
      "execution_count": null,
      "outputs": [
        {
          "output_type": "stream",
          "name": "stdout",
          "text": [
            "139639456384688\n",
            "139639456384688\n",
            "139639468115840\n",
            "139639468115840\n"
          ]
        }
      ]
    },
    {
      "cell_type": "code",
      "source": [
        "#Creating Strings\n",
        "#Strings in Python are created by enclosing characters inside a single quotes or double quotes. Triple quotes are used to represent multiple line strings\n",
        "\n",
        "#Creating string using single quotes\n",
        "str1='Hello'\n",
        "print(str1)\n",
        "\n",
        "#Creating string using double quotes\n",
        "str2=\"Hello\"\n",
        "print(str2)\n",
        "\n",
        "#Creating string using Triple quotes\n",
        "str3='''Í love \n",
        "Programming \n",
        "in Python'''\n",
        "print(str3)\n",
        "\n",
        "#Creating multiple lines string using triple quotes\n",
        "str4=\"\"\"Hello, \n",
        "Welcome to \n",
        "the world of Python!\"\"\"\n",
        "print(str4)\n",
        "\n",
        "#Python allows both negative and positive indexing for its individual characters\n",
        "#n - length of the string = no. of characters in a string\n",
        "#in terms of positive index, 0 is the index of the first character and n-1 is the index of the last haracter and\n",
        "#in terms of the negative inex, -n is the index o fhte first character and -1 is the index of the last character\n"
      ],
      "metadata": {
        "id": "3ZEVfhDFbQcn",
        "colab": {
          "base_uri": "https://localhost:8080/"
        },
        "outputId": "8065e78c-cbee-4278-babf-1658923fbf86"
      },
      "execution_count": null,
      "outputs": [
        {
          "output_type": "stream",
          "name": "stdout",
          "text": [
            "Hello\n",
            "Hello\n",
            "Í love \n",
            "Programming \n",
            "in Python\n",
            "Hello, \n",
            "Welcome to \n",
            "the world of Python!\n"
          ]
        }
      ]
    },
    {
      "cell_type": "markdown",
      "source": [
        "![image.png](data:image/png;base64,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)"
      ],
      "metadata": {
        "id": "PCn8XxnAhPf9"
      }
    },
    {
      "cell_type": "code",
      "source": [
        "#Accessing individual characters in a string\n",
        "#Using positive index, we can access the individual characters in the forward direction while using a -ve index we can access the individual characters in the backward direction\n",
        "\n",
        "#We can access\n",
        "#Individual character using specific index, and \n",
        "#a group of contiguous characters using a range of indices (slicing)\n",
        "\n",
        "txt=\"Hello\"\n",
        "print(\"First character= \", txt[0])\n",
        "\n",
        "print(\"Last character=\",txt[-1])\n",
        "\n",
        "print(\"First three characters = \",txt[0:3])\n",
        "\n",
        "print(\"1st to 3rd characters =\",txt[1:4])\n",
        "\n",
        "#If we access index out of the range or use float no. as index, we will get errors\n",
        "\n",
        "#print(txt[8])\n",
        "\n",
        "print(txt[1.5])\n",
        "\n"
      ],
      "metadata": {
        "id": "zWnKB6hLhRz0",
        "colab": {
          "base_uri": "https://localhost:8080/",
          "height": 287
        },
        "outputId": "fae3a709-4016-441a-ff96-2f12a2715e04"
      },
      "execution_count": null,
      "outputs": [
        {
          "output_type": "stream",
          "name": "stdout",
          "text": [
            "First character=  H\n",
            "Last character= o\n",
            "First three characters =  Hel\n",
            "1st to 3rd characters = ell\n"
          ]
        },
        {
          "output_type": "error",
          "ename": "TypeError",
          "evalue": "ignored",
          "traceback": [
            "\u001b[0;31m---------------------------------------------------------------------------\u001b[0m",
            "\u001b[0;31mTypeError\u001b[0m                                 Traceback (most recent call last)",
            "\u001b[0;32m<ipython-input-9-3786dccff7da>\u001b[0m in \u001b[0;36m<module>\u001b[0;34m\u001b[0m\n\u001b[1;32m     19\u001b[0m \u001b[0;31m#print(txt[8])\u001b[0m\u001b[0;34m\u001b[0m\u001b[0;34m\u001b[0m\u001b[0;34m\u001b[0m\u001b[0m\n\u001b[1;32m     20\u001b[0m \u001b[0;34m\u001b[0m\u001b[0m\n\u001b[0;32m---> 21\u001b[0;31m \u001b[0mprint\u001b[0m\u001b[0;34m(\u001b[0m\u001b[0mtxt\u001b[0m\u001b[0;34m[\u001b[0m\u001b[0;36m1.5\u001b[0m\u001b[0;34m]\u001b[0m\u001b[0;34m)\u001b[0m\u001b[0;34m\u001b[0m\u001b[0;34m\u001b[0m\u001b[0m\n\u001b[0m\u001b[1;32m     22\u001b[0m \u001b[0;34m\u001b[0m\u001b[0m\n",
            "\u001b[0;31mTypeError\u001b[0m: string indices must be integers"
          ]
        }
      ]
    },
    {
      "cell_type": "code",
      "source": [
        "#Modifying and deleting a string\n",
        "\n",
        "txt=\"Welcome\"\n",
        "\n",
        "#txt[2]='a'\n",
        "\n",
        "txt=\"Python\"\n",
        "\n",
        "#We cannot delete individual characters from a string, however, we can delete the entire string by using the keyword del\n",
        "\n",
        "txt=\"Welcome\"\n",
        "#del txt[2]\n",
        "\n",
        "del txt\n",
        "print(txt)"
      ],
      "metadata": {
        "id": "GoZSqG4Pibn7",
        "colab": {
          "base_uri": "https://localhost:8080/",
          "height": 200
        },
        "outputId": "ec412259-0595-4d14-d4a0-8802071dcf48"
      },
      "execution_count": null,
      "outputs": [
        {
          "output_type": "error",
          "ename": "NameError",
          "evalue": "ignored",
          "traceback": [
            "\u001b[0;31m---------------------------------------------------------------------------\u001b[0m",
            "\u001b[0;31mNameError\u001b[0m                                 Traceback (most recent call last)",
            "\u001b[0;32m<ipython-input-12-57b2d592d870>\u001b[0m in \u001b[0;36m<module>\u001b[0;34m\u001b[0m\n\u001b[1;32m     13\u001b[0m \u001b[0;34m\u001b[0m\u001b[0m\n\u001b[1;32m     14\u001b[0m \u001b[0;32mdel\u001b[0m \u001b[0mtxt\u001b[0m\u001b[0;34m\u001b[0m\u001b[0;34m\u001b[0m\u001b[0m\n\u001b[0;32m---> 15\u001b[0;31m \u001b[0mprint\u001b[0m\u001b[0;34m(\u001b[0m\u001b[0mtxt\u001b[0m\u001b[0;34m)\u001b[0m\u001b[0;34m\u001b[0m\u001b[0;34m\u001b[0m\u001b[0m\n\u001b[0m",
            "\u001b[0;31mNameError\u001b[0m: name 'txt' is not defined"
          ]
        }
      ]
    },
    {
      "cell_type": "code",
      "source": [
        "#Operations on strings\n",
        "\n",
        "#Concatenation of two or more strings\n",
        "\n",
        "#Joining of two or more strings into a single one is called concatenation. The '+'operator does this in python\n",
        "\n",
        "txt1=\"Hello, \"\n",
        "txt2=\"World!\"\n",
        "\n",
        "txt3=txt1+txt2\n",
        "print(txt3)\n"
      ],
      "metadata": {
        "id": "TIwheDVAi0vS"
      },
      "execution_count": null,
      "outputs": []
    },
    {
      "cell_type": "code",
      "source": [
        "#Repetition of a string\n",
        "\n",
        "#The * operator can be used to repeat the string for a given no. of times\n",
        "\n",
        "txt1=\"Hello\"\n",
        "text2=txt1*3\n",
        "print(text2)"
      ],
      "metadata": {
        "id": "GM2XyCrEjFft",
        "colab": {
          "base_uri": "https://localhost:8080/"
        },
        "outputId": "baa2bb28-e970-476a-95df-e2096553730e"
      },
      "execution_count": null,
      "outputs": [
        {
          "output_type": "stream",
          "name": "stdout",
          "text": [
            "HelloHelloHello\n"
          ]
        }
      ]
    },
    {
      "cell_type": "code",
      "source": [
        "text=\"India\"\n",
        "for _ in text:\n",
        "  print(_,end=' ')"
      ],
      "metadata": {
        "colab": {
          "base_uri": "https://localhost:8080/"
        },
        "id": "G-l1MSpPeu8c",
        "outputId": "e4069317-f444-46a1-930b-69234a083577"
      },
      "execution_count": null,
      "outputs": [
        {
          "output_type": "stream",
          "name": "stdout",
          "text": [
            "I n d i a "
          ]
        }
      ]
    },
    {
      "cell_type": "code",
      "source": [
        "#Iterating through a string\n",
        "#Using for loop we can iterate through a string to access its individual characters\n",
        "\n",
        "#Program to count the no. of vowels in a given string\n",
        "\n",
        "txt=input(\"Enter a given string\")\n",
        "vCount = 0\n",
        "\n",
        "for ch in txt:\n",
        "  if (ch in ['a','e','i','o','u']):\n",
        "    vCount+=1\n",
        "\n",
        "print(\"Total vowels found in \", txt, \"=\",vCount)"
      ],
      "metadata": {
        "colab": {
          "base_uri": "https://localhost:8080/"
        },
        "id": "1k5kkZqEjNoq",
        "outputId": "a2492619-0b66-4e28-f5f3-222f7b2e2dd5"
      },
      "execution_count": null,
      "outputs": [
        {
          "output_type": "stream",
          "name": "stdout",
          "text": [
            "Enter a given stringSir C R Reddy Polytechnic\n",
            "Total vowels found in  Sir C R Reddy Polytechnic = 5\n"
          ]
        }
      ]
    },
    {
      "cell_type": "code",
      "source": [
        "#Count the no. of characters in a string\n",
        "txt=input(\"Enter a string\")\n",
        "count=0\n",
        "\n",
        "for ch in txt:\n",
        "  count+=1\n",
        "\n",
        "print(\"Length of the given string is =\",count)"
      ],
      "metadata": {
        "id": "RWQUaSFuj5uU"
      },
      "execution_count": null,
      "outputs": []
    },
    {
      "cell_type": "code",
      "source": [
        "#Membership test on strings: usage of in and not it\n",
        "#Test whether a character or sub-string exists within a given string or not\n",
        "\n",
        "txt=\"Programs\"\n",
        "print('a' in txt)\n",
        "\n",
        "print('gr' in txt)\n",
        "\n",
        "print(\"program\" in txt)"
      ],
      "metadata": {
        "colab": {
          "base_uri": "https://localhost:8080/"
        },
        "id": "_v48mCFhuKxT",
        "outputId": "63ea6a85-e6b6-43c9-b8bc-10b6328ccfe4"
      },
      "execution_count": null,
      "outputs": [
        {
          "output_type": "stream",
          "name": "stdout",
          "text": [
            "True\n",
            "True\n",
            "False\n"
          ]
        }
      ]
    },
    {
      "cell_type": "code",
      "source": [
        "#Comparing string\n",
        "#Any two strings can be compared using relational operators (<, <=, >, >=, ==, !=)\n",
        "#The comparison is based on character-by-character comparison for Unicode, i.e., dictionary order\n",
        "#For most of the common characters such as alphabets, digits, punctuation characters etc., ASCII and Unicode are same\n",
        "\n",
        "a=\"abc\"\n",
        "b=\"abc\"\n",
        "c=\"def\"\n",
        "\n",
        "print(a==b)\n",
        "\n",
        "print(a==c)\n",
        "\n",
        "print(a!=c)\n",
        "\n",
        "print(a<=c)\n",
        "\n",
        "print(c>=a)\n",
        "\n",
        "print(\"a\">=\"A\")\n",
        "\n",
        "print(\"rst\">\"uvw\")"
      ],
      "metadata": {
        "id": "QDViU-faj6GC"
      },
      "execution_count": null,
      "outputs": []
    },
    {
      "cell_type": "code",
      "source": [
        "print(\"feb\">\"jan\")"
      ],
      "metadata": {
        "colab": {
          "base_uri": "https://localhost:8080/"
        },
        "id": "qYLEki9vf_8a",
        "outputId": "07dcabd9-285a-4303-baf8-20c331333e25"
      },
      "execution_count": null,
      "outputs": [
        {
          "output_type": "stream",
          "name": "stdout",
          "text": [
            "False\n"
          ]
        }
      ]
    },
    {
      "cell_type": "code",
      "source": [
        "#String methods and functions\n",
        "#Python library provides large number of methods of string str class and another set of fucntions that take strings as its arguments and operate on them\n",
        "\n",
        "#String Methods\n",
        "\n",
        "#Capitalise - converts the first character of the string to uppercase\n",
        "txt=\"hello World\"\n",
        "print(txt.capitalize())\n",
        "\n",
        "#count - returns the no. of times a specified value occurs in a string\n",
        "txt=\"I am practicng Python\"\n",
        "print(txt.count(\"p\"))\n",
        "\n",
        "#endswith() - Returns true if the string ends with the specified character or substring\n",
        "txt=\"Welcome to world of Python.\"\n",
        "print(txt.endswith(\".\"))\n",
        "\n",
        "#find() - Searches the string for a specified value and returns the position of where it was found\n",
        "txt=\"Welcome to world of Python.\"\n",
        "print(txt.find(\"come\"))\n",
        "\n",
        "#index() - Searches the string for a specified value and returns the position of wehre it was found\n",
        "txt=\"Welcome to world of Python.\"\n",
        "print(txt.index(\"world\"))\n",
        "\n",
        "#isalnum() - Returns True if all characters in the string are alphanumeric\n",
        "txt=\"Welcome to world of Python 2023.\"\n",
        "print(txt.isalnum())\n",
        "\n",
        "#isalpha() - Returns True if  all characters in teh string are in the alphabet\n",
        "txt=\"abcdefghi\"\n",
        "print(txt.isalpha())\n",
        "\n",
        "#isdecimal() - Returns True if all characters in the string are decimals\n",
        "txt=\"123124148890.90\"\n",
        "print(txt.isdecimal())\n",
        "\n",
        "#isdigit() - Returns True if all characters in the string are digits\n",
        "txt=\"789098\"\n",
        "print(txt.isdigit())\n",
        "\n",
        "#isnumeric() - Returns True if all cahracters in the string are numeric\n",
        "txt=('3456')\n",
        "print(txt.isnumeric())\n",
        "#str.isdecimal('1') - #True\n",
        "#str.isdigit('1') - #True\n",
        "#str.isdecimal('1.0') - #False\n",
        "#str.isdigit('1.0') - #False\n",
        "#str.isdecimal('1/2') - #False\n",
        "#str.isdigit('1/2') - #False\n",
        "\n",
        "#isprintable() - Returns True if all characters in teh string are printable\n",
        "txt = \"Hello, how are you\"\n",
        "print(txt.isprintable())\n",
        "\n",
        "#isspace() - Returns True if all characters in the string are white spaces\n",
        "txt = \" \"\n",
        "print(txt.isspace())\n",
        "\n",
        "\n",
        "#istitle() - Returns True if the string follows the rules of a title, i.e., first letter of every word is in uppercase\n",
        "txt=\"Welcome to World of Python\"\n",
        "print(txt.istitle())\n",
        "\n",
        "#isupper() - Returnes True if all characters in teh string are upper case\n",
        "txt=\"HELLO\"\n",
        "print(txt.isupper())\n",
        "\n",
        "#lower() - Converts a string into lower case\n",
        "txt=\"Hello\"\n",
        "print(txt.lower())\n",
        "\n",
        "#partition - Returns a tuple where the string is parted into three parts\n",
        "txt1=\" could eat bananas all day\"\n",
        "txt2=txt.partition(\"bananas\")\n",
        "print(txt2)\n",
        "\n",
        "#replace() - Returns a string where a specified value is replaced with a specified value\n",
        "txt=\"I like C Programming\"\n",
        "txt.replace(\"C\", \"Python\")\n",
        "print(txt)\n",
        "\n",
        "#rindex() - Searches the string for a specified value and returns the last position of where it was found\n",
        "txt=\"wel come home\"\n",
        "print(txt.rindex(\"ome\"))\n",
        "\n",
        "#split() - Split the string at the specified separator, and returns a list\n",
        "txt=\"Welcome to the city\"\n",
        "print(txt.split())\n",
        "\n",
        "#startswith() - Returns true if the string starts with the specified value\n",
        "txt=\"Welcome to the world of Python\"\n",
        "print(txt.startswith(\"Welcome\"))\n",
        "\n",
        "#swapcase() - Swaps cases, lower case becomes upper case and vice versa\n",
        "txt=\"Welcome to World of Python\"\n",
        "print(txt.swapcase())\n",
        "\n",
        "#title() - Converts the first character of each word to upper case\n",
        "txt=\"welcome to world of python\"\n",
        "print(txt.istitle())\n",
        "\n",
        "#upper() - converts a string into upper case\n",
        "txt=\"HeLLo\"\n",
        "print(txt.upper())"
      ],
      "metadata": {
        "colab": {
          "base_uri": "https://localhost:8080/"
        },
        "id": "kEoL-BY7ypwr",
        "outputId": "224f4bf4-0296-476e-89c4-e0388bdff8a5"
      },
      "execution_count": null,
      "outputs": [
        {
          "output_type": "stream",
          "name": "stdout",
          "text": [
            "Hello world\n",
            "1\n",
            "True\n",
            "3\n",
            "11\n",
            "False\n",
            "True\n",
            "False\n",
            "True\n",
            "True\n",
            "True\n",
            "True\n",
            "False\n",
            "True\n",
            "hello\n",
            "('Hello', '', '')\n",
            "I like C Programming\n",
            "10\n",
            "['Welcome', 'to', 'the', 'city']\n",
            "True\n",
            "wELCOME TO wORLD OF pYTHON\n",
            "False\n",
            "HELLO\n"
          ]
        }
      ]
    },
    {
      "cell_type": "code",
      "source": [
        "#String Functions\n",
        "\n",
        "#chr() - Converts an integer to a character\n",
        "print(chr(65))\n",
        "\n",
        "#ord() - Converts a character to an integer\n",
        "print(ord('A'))\n",
        "\n",
        "#len() - Returns the no. of characters in a string i.e., length of the string\n",
        "txt=\"hello, world\"\n",
        "print(len(txt))\n",
        "\n",
        "#str() - Returns a string representation of an object \n",
        "print(str(49.2))\n",
        "print(str(3+4j))\n"
      ],
      "metadata": {
        "id": "jOTvN5sCKLZH"
      },
      "execution_count": null,
      "outputs": []
    },
    {
      "cell_type": "code",
      "source": [
        "a=4+9J\n",
        "print(type(a))"
      ],
      "metadata": {
        "colab": {
          "base_uri": "https://localhost:8080/"
        },
        "id": "e6ln3LogiZe7",
        "outputId": "f4d2982c-a3ec-4676-d725-7831e8fc0046"
      },
      "execution_count": null,
      "outputs": [
        {
          "output_type": "stream",
          "name": "stdout",
          "text": [
            "<class 'complex'>\n"
          ]
        }
      ]
    },
    {
      "cell_type": "code",
      "source": [
        "#Program to find wehther the given word is palindrome or not\n",
        "word=input(\"Enter any word \")\n",
        "n=len(word)\n",
        "i=0\n",
        "j=n-1\n",
        "\n",
        "while i<= j:\n",
        "  if word[i]!=word[j]:\n",
        "    print(\"Word is not a palindrome\")\n",
        "  else:\n",
        "      i+=1\n",
        "      j-=1\n",
        "else:\n",
        "    print(\"\\n\", word, \"is a palindrome\")\n",
        "\n",
        "print(\"\\nProgram executed successfully....\")"
      ],
      "metadata": {
        "id": "XMxB0ZfO4tq1",
        "colab": {
          "base_uri": "https://localhost:8080/"
        },
        "outputId": "290d6d19-9dd9-45b0-fcfe-26c8ff058151"
      },
      "execution_count": null,
      "outputs": [
        {
          "output_type": "stream",
          "name": "stdout",
          "text": [
            "Enter any wordmaam\n",
            "\n",
            " maam is a palindrome\n",
            "\n",
            "Program executed successfully....\n"
          ]
        }
      ]
    },
    {
      "cell_type": "code",
      "source": [
        "#Program to count no. of lines of text and prints the no. of uppercase letters, lowercase letters, digits, spaces\n",
        "txt=input(\"Enter a line of text\")\n",
        "\n",
        "cUCletters = 0\n",
        "cLCletters = 0\n",
        "cDigits = 0\n",
        "cSpaces = 0\n",
        "for ch in txt:\n",
        "  if ch.isupper():\n",
        "    cUCletters+=1\n",
        "  elif ch.islower():\n",
        "    cLCletters+=1\n",
        "  elif ch.isdigit():\n",
        "    cDigits+=1\n",
        "  elif ch.isspace():\n",
        "    cSpaces+=1\n",
        "  \n",
        "\n",
        "print(\"No. of Upper case letters = \",cUCletters)\n",
        "print(\"No. of Lower case letters = \",cLCletters)\n",
        "print(\"No. of digits are = \", cDigits)\n",
        "print(\"No. of spaces are = \", cSpaces)"
      ],
      "metadata": {
        "id": "x6Nui252QhcK",
        "colab": {
          "base_uri": "https://localhost:8080/"
        },
        "outputId": "cad4a815-5a5b-40f1-826d-66a76e51727e"
      },
      "execution_count": null,
      "outputs": [
        {
          "output_type": "stream",
          "name": "stdout",
          "text": [
            "Enter a line of text14yr old dies of cardiac arrest after spraying deodorant in her room, doctors explain what happened\n",
            "No. of Upper case letters =  0\n",
            "No. of Lower case letters =  81\n",
            "No. of digits are =  2\n",
            "No. of spaces are =  15\n"
          ]
        }
      ]
    },
    {
      "cell_type": "code",
      "source": [
        "#Program that counts the no. of occurrences of a sub string in a given line of text\n",
        "txt1=input(\"Enter line of text: \")\n",
        "txt2 = input(\"Enter given word: \")\n",
        "\n",
        "n1=len(txt1)\n",
        "n2=len(txt2)\n",
        "\n",
        "start=0\n",
        "end=n1\n",
        "count=0\n",
        "while True:\n",
        "  pos=txt1.find(txt2, start, end)\n",
        "  if pos==-1:\n",
        "    break\n",
        "  else:\n",
        "    count+=1\n",
        "    start = pos+n2\n",
        "  \n",
        "print(\"No. of occurrence of \",txt2 , \"=\", count)\n",
        "print(\"Program executed successfully\")"
      ],
      "metadata": {
        "colab": {
          "base_uri": "https://localhost:8080/"
        },
        "id": "UbXBI_lhk8u7",
        "outputId": "8a02e345-c3d8-4c6f-9135-9194a689302f"
      },
      "execution_count": null,
      "outputs": [
        {
          "output_type": "stream",
          "name": "stdout",
          "text": [
            "Enter line of text: Break Continue Formatting using print function\n",
            "Enter given word: in\n",
            "No. of occurrence of  in = 4\n",
            "Program executed successfully\n"
          ]
        }
      ]
    },
    {
      "cell_type": "code",
      "source": [
        "#Program that capitalises every first letter of words in a given line of text\n",
        "\n",
        "txt1=input(\"Enter line of text:\")\n",
        "\n",
        "n=len(txt1)\n",
        "i=0\n",
        "\n",
        "txt2=\"\"\n",
        "while i< n:\n",
        "  if i==0:\n",
        "    txt2+=txt1[0].upper()\n",
        "    i+=1\n",
        "  elif txt1[i]==\" \" and txt1[i+1] !=\" \":\n",
        "      txt2+=txt1[i]\n",
        "      txt2+=txt1[i+1].upper()\n",
        "      i+=2\n",
        "  else:\n",
        "      txt2+=txt1[i]\n",
        "      i+=1\n",
        "\n",
        "print(\"Inputted text is\", txt1)\n",
        "print(\"Capitalised text is\", txt2)\n",
        "print(\"End of program\")"
      ],
      "metadata": {
        "colab": {
          "base_uri": "https://localhost:8080/"
        },
        "id": "j_6rOZ_ymS5v",
        "outputId": "3cd53737-0d84-4834-e165-32312043e60e"
      },
      "execution_count": null,
      "outputs": [
        {
          "output_type": "stream",
          "name": "stdout",
          "text": [
            "Enter line of text:hi hello welcome to hyd\n",
            "Inputted text is hi hello welcome to hyd\n",
            "Capitalised text is Hi Hello Welcome To Hyd\n",
            "End of program\n"
          ]
        }
      ]
    },
    {
      "cell_type": "code",
      "source": [
        "#Program that reads a word in lowercase and capitalise its alternate letters\n",
        "txt1=input(\"Enter a line\")\n",
        "txt2=\"\"\n",
        "n=len(txt1)\n",
        "i=0\n",
        "flag=True\n",
        "while i<n:\n",
        "  if flag == True:\n",
        "    txt2+=txt1[i].upper()\n",
        "    flag=False\n",
        "  else:\n",
        "    txt2+=txt1[i]\n",
        "    flag=True\n",
        "  i+=1\n",
        "\n",
        "print(\"Original word\", txt1)\n",
        "print(\"output after capitalising\", txt2)"
      ],
      "metadata": {
        "colab": {
          "base_uri": "https://localhost:8080/"
        },
        "id": "8HGVnFbXnM-p",
        "outputId": "90fc6111-b662-401c-f23e-2e16175cfc28"
      },
      "execution_count": null,
      "outputs": [
        {
          "output_type": "stream",
          "name": "stdout",
          "text": [
            "Enter a linehi hello welcome to hyd\n",
            "Original word hi hello welcome to hyd\n",
            "output after capitalising Hi hElLo wElCoMe tO HyD\n"
          ]
        }
      ]
    },
    {
      "cell_type": "markdown",
      "source": [
        "#Practice problems"
      ],
      "metadata": {
        "id": "P7al9Ddmt3Hp"
      }
    },
    {
      "cell_type": "code",
      "source": [
        "#Given a string: txt = \"abcdefghi\"\n",
        "#Write a program to extract the following substrings:\n",
        "#i. 'abc', ii. 'ihg', iii. 'ace'\n"
      ],
      "metadata": {
        "id": "OKOPG6diosjT"
      },
      "execution_count": null,
      "outputs": []
    },
    {
      "cell_type": "code",
      "source": [
        "#Given a string with txt = 'abcdefghi' with length n = 12. What would the following return?\n",
        "#a. txt[0:n]\n",
        "#b. txt[:3]+txt[3:]\n",
        "#c. txt[-1:-5:-1]\n",
        "#d. txt[::] \n",
        "#e. txt[::-1]\n",
        "#f. txt[n%2:n%2]\n",
        "\n",
        "\n"
      ],
      "metadata": {
        "id": "cgQnNB8yuDpt",
        "colab": {
          "base_uri": "https://localhost:8080/"
        },
        "outputId": "350a9708-3216-485d-d22d-8ea184670a80"
      },
      "execution_count": null,
      "outputs": [
        {
          "output_type": "stream",
          "name": "stdout",
          "text": [
            "sa\n"
          ]
        }
      ]
    },
    {
      "cell_type": "code",
      "source": [
        "#Write a program to display the individual words of an inputted string\n",
        "\n"
      ],
      "metadata": {
        "id": "so4KSdzTuot-"
      },
      "execution_count": null,
      "outputs": []
    },
    {
      "cell_type": "code",
      "source": [
        "#Name the methods to perform the following tasks:\n",
        "#a. To convert the first letter of a string to uppercase\n",
        "#b. To check whether all letters in a string are uppercase\n",
        "#c. To check whether the string contains only digits\n",
        "#d. To toggle the letters of the string\n",
        "#e. To check whether the streing begins with a specified word\n",
        "\n",
        "\n"
      ],
      "metadata": {
        "id": "LIMzhJWJuvSy"
      },
      "execution_count": null,
      "outputs": []
    },
    {
      "cell_type": "code",
      "source": [
        "#Write a program that reads a sentence and prints every 2 letters in a new line"
      ],
      "metadata": {
        "id": "C8H0tYp0vTGy"
      },
      "execution_count": null,
      "outputs": []
    },
    {
      "cell_type": "code",
      "source": [
        "#Write programs to produce the following patterns:\n",
        "#"
      ],
      "metadata": {
        "id": "WmYUZEA4wHo2"
      },
      "execution_count": null,
      "outputs": []
    },
    {
      "cell_type": "markdown",
      "source": [
        "![image.png](data:image/png;base64,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)"
      ],
      "metadata": {
        "id": "w-w_Y9lQzCNB"
      }
    }
  ]
}